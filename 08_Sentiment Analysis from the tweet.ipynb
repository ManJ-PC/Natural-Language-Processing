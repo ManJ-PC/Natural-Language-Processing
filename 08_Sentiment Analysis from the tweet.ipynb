{
 "cells": [
  {
   "cell_type": "markdown",
   "metadata": {},
   "source": [
    "## Sentiment Analysis from the reviews"
   ]
  },
  {
   "cell_type": "markdown",
   "metadata": {},
   "source": [
    "Dataset Link: https://datahack.analyticsvidhya.com/contest/linguipedia-codefest-natural-language-processing-1/"
   ]
  },
  {
   "cell_type": "markdown",
   "metadata": {},
   "source": [
    "#### Importing Necessary Libraries"
   ]
  },
  {
   "cell_type": "code",
   "execution_count": null,
   "metadata": {
    "id": "9b7azbW-tpZi"
   },
   "outputs": [],
   "source": [
    "import pandas as pd\n",
    "import numpy as np\n",
    "import wordninja #to split the words \n",
    "import tensorflow as tf\n",
    "from tensorflow.keras.models import Sequential\n",
    "from tensorflow.keras.layers import Dense, RNN, LSTM, GRU, Bidirectional, Embedding\n",
    "from tensorflow.keras.callbacks import EarlyStopping\n",
    "from google.colab import files"
   ]
  },
  {
   "cell_type": "code",
   "execution_count": null,
   "metadata": {
    "id": "09_mBs-xtyFk"
   },
   "outputs": [],
   "source": [
    "train_df = pd.read_csv('/content/drive/MyDrive/Datasets/Sentiment Analysis - Analytics Vidya/train_2kmZucJ.csv')\n",
    "test_df = pd.read_csv('/content/drive/MyDrive/Datasets/Sentiment Analysis - Analytics Vidya/test_oJQbWVk.csv')\n",
    "sample_df = pd.read_csv('/content/drive/MyDrive/Datasets/Sentiment Analysis - Analytics Vidya/sample_submission_LnhVWA4.csv')"
   ]
  },
  {
   "cell_type": "code",
   "execution_count": null,
   "metadata": {
    "colab": {
     "base_uri": "https://localhost:8080/",
     "height": 204
    },
    "id": "I70OrRqmuFgX",
    "outputId": "598956e0-86f5-43a9-e934-93438538745a"
   },
   "outputs": [
    {
     "data": {
      "text/html": [
       "<div>\n",
       "<style scoped>\n",
       "    .dataframe tbody tr th:only-of-type {\n",
       "        vertical-align: middle;\n",
       "    }\n",
       "\n",
       "    .dataframe tbody tr th {\n",
       "        vertical-align: top;\n",
       "    }\n",
       "\n",
       "    .dataframe thead th {\n",
       "        text-align: right;\n",
       "    }\n",
       "</style>\n",
       "<table border=\"1\" class=\"dataframe\">\n",
       "  <thead>\n",
       "    <tr style=\"text-align: right;\">\n",
       "      <th></th>\n",
       "      <th>id</th>\n",
       "      <th>label</th>\n",
       "      <th>tweet</th>\n",
       "    </tr>\n",
       "  </thead>\n",
       "  <tbody>\n",
       "    <tr>\n",
       "      <th>0</th>\n",
       "      <td>1</td>\n",
       "      <td>0</td>\n",
       "      <td>#fingerprint #Pregnancy Test https://goo.gl/h1...</td>\n",
       "    </tr>\n",
       "    <tr>\n",
       "      <th>1</th>\n",
       "      <td>2</td>\n",
       "      <td>0</td>\n",
       "      <td>Finally a transparant silicon case ^^ Thanks t...</td>\n",
       "    </tr>\n",
       "    <tr>\n",
       "      <th>2</th>\n",
       "      <td>3</td>\n",
       "      <td>0</td>\n",
       "      <td>We love this! Would you go? #talk #makememorie...</td>\n",
       "    </tr>\n",
       "    <tr>\n",
       "      <th>3</th>\n",
       "      <td>4</td>\n",
       "      <td>0</td>\n",
       "      <td>I'm wired I know I'm George I was made that wa...</td>\n",
       "    </tr>\n",
       "    <tr>\n",
       "      <th>4</th>\n",
       "      <td>5</td>\n",
       "      <td>1</td>\n",
       "      <td>What amazing service! Apple won't even talk to...</td>\n",
       "    </tr>\n",
       "  </tbody>\n",
       "</table>\n",
       "</div>"
      ],
      "text/plain": [
       "   id  label                                              tweet\n",
       "0   1      0  #fingerprint #Pregnancy Test https://goo.gl/h1...\n",
       "1   2      0  Finally a transparant silicon case ^^ Thanks t...\n",
       "2   3      0  We love this! Would you go? #talk #makememorie...\n",
       "3   4      0  I'm wired I know I'm George I was made that wa...\n",
       "4   5      1  What amazing service! Apple won't even talk to..."
      ]
     },
     "execution_count": 3,
     "metadata": {
      "tags": []
     },
     "output_type": "execute_result"
    }
   ],
   "source": [
    "train_df.head()"
   ]
  },
  {
   "cell_type": "code",
   "execution_count": null,
   "metadata": {
    "colab": {
     "base_uri": "https://localhost:8080/"
    },
    "id": "0Sqh0j5Rugbh",
    "outputId": "1711720b-964b-4134-840c-84f73faded8a"
   },
   "outputs": [
    {
     "name": "stdout",
     "output_type": "stream",
     "text": [
      "[nltk_data] Downloading package punkt to /root/nltk_data...\n",
      "[nltk_data]   Package punkt is already up-to-date!\n"
     ]
    }
   ],
   "source": [
    "import nltk\n",
    "nltk.download('punkt')\n",
    "import tqdm\n",
    "from preprocess_engine import preprocessor_engine\n",
    "#from preprocess_engine_colab import preprocessor_engine\n"
   ]
  },
  {
   "cell_type": "code",
   "execution_count": null,
   "metadata": {
    "id": "4uKQPlUFuoU4"
   },
   "outputs": [],
   "source": [
    "def corpus_pre_processor(corpus):\n",
    "    norm_corpus = []\n",
    "    for doc in tqdm.tqdm(corpus):\n",
    "        #print(type(doc))\n",
    "        norm_corpus.append(preprocessor_engine(doc, html_strip=False, accent_characters=False, fix_contract=True, remove_stop_words=True , remove_digits=True, lower=False))\n",
    "        \n",
    "    return norm_corpus"
   ]
  },
  {
   "cell_type": "code",
   "execution_count": null,
   "metadata": {
    "colab": {
     "base_uri": "https://localhost:8080/"
    },
    "id": "SibSEeOmuyco",
    "outputId": "d3deb53a-de95-4fe9-8e57-d13cf9a35af7"
   },
   "outputs": [
    {
     "name": "stderr",
     "output_type": "stream",
     "text": [
      "100%|██████████| 7920/7920 [01:04<00:00, 122.53it/s]\n"
     ]
    }
   ],
   "source": [
    "train_data = corpus_pre_processor(train_df['tweet'])"
   ]
  },
  {
   "cell_type": "code",
   "execution_count": null,
   "metadata": {
    "colab": {
     "base_uri": "https://localhost:8080/"
    },
    "id": "g_etzQauu18Y",
    "outputId": "bb453a06-47f5-4541-8459-0aec055bf0f5"
   },
   "outputs": [
    {
     "data": {
      "text/plain": [
       "['fingerprint pregnancy test android app beautiful cute health iger iphoneonly iphonesia iphone',\n",
       " 'finally transparant silicon case thank uncle yay sony xperia sonyexperia',\n",
       " 'love talk makememorie unplug relax iphone smartphone wifi connect',\n",
       " 'wire know george way iphone cute daventry home',\n",
       " 'amazing service apple talk question pay stupid support',\n",
       " 'iphone software update fuck phone big time stupid iphones',\n",
       " 'happy instapic instadaily sony xperia xperiaz',\n",
       " 'new type charger cable uk bay amazon etsy new year rob cross toby young evemun mcmafia taylor spectre newyear starting recipe technology samsunggalaxys iphonex',\n",
       " 'bout shop listen music iphone justme music likeforlike followforfollow',\n",
       " 'photo fun selfie pool water sony camera sun instagood boy cute outdoor']"
      ]
     },
     "execution_count": 8,
     "metadata": {
      "tags": []
     },
     "output_type": "execute_result"
    }
   ],
   "source": [
    "train_data[:10]"
   ]
  },
  {
   "cell_type": "code",
   "execution_count": null,
   "metadata": {
    "colab": {
     "base_uri": "https://localhost:8080/"
    },
    "id": "L59b2gmHvY4w",
    "outputId": "de7f8a87-0945-466b-cabd-798eb7754315"
   },
   "outputs": [
    {
     "name": "stderr",
     "output_type": "stream",
     "text": [
      "100%|██████████| 1953/1953 [00:16<00:00, 115.90it/s]\n"
     ]
    }
   ],
   "source": [
    "test_data = corpus_pre_processor(test_df['tweet'])"
   ]
  },
  {
   "cell_type": "code",
   "execution_count": null,
   "metadata": {
    "id": "utyTUf3fSKoC"
   },
   "outputs": [],
   "source": [
    "def preprocess_wordninja(sentence):  \n",
    "  def split_words(x):\n",
    "    x=wordninja.split(x) # split the whatisthis --> what is this\n",
    "    x= [word for word in x if len(word)>1]\n",
    "    return x\n",
    "  new_sentence=[ ' '.join(split_words(word)) for word in sentence.split() ]\n",
    "  return ' '.join(new_sentence)\n",
    "    \n",
    "\n",
    "#text=preprocess_wordninja(train_data)"
   ]
  },
  {
   "cell_type": "code",
   "execution_count": null,
   "metadata": {
    "id": "TXCZmX2RSoKB"
   },
   "outputs": [],
   "source": [
    "def split_the_data(text):\n",
    "  process_data = []\n",
    "  for sent in tqdm.tqdm(text):\n",
    "    process_data.append(preprocess_wordninja(sent))\n",
    "  return process_data"
   ]
  },
  {
   "cell_type": "code",
   "execution_count": null,
   "metadata": {
    "colab": {
     "base_uri": "https://localhost:8080/"
    },
    "id": "jEvVYsoCS8EK",
    "outputId": "2315e33f-ffe8-40a3-dda0-37b7f64026a7"
   },
   "outputs": [
    {
     "name": "stderr",
     "output_type": "stream",
     "text": [
      "100%|██████████| 7920/7920 [00:02<00:00, 3078.28it/s]\n",
      "100%|██████████| 1953/1953 [00:00<00:00, 3026.93it/s]\n"
     ]
    }
   ],
   "source": [
    "train_data_split = split_the_data(train_data)\n",
    "test_data_split = split_the_data(test_data)"
   ]
  },
  {
   "cell_type": "code",
   "execution_count": null,
   "metadata": {
    "colab": {
     "base_uri": "https://localhost:8080/"
    },
    "id": "2m4vHGMeS3S8",
    "outputId": "3f1796ee-5a45-4cb9-cfa3-41587e68e81e"
   },
   "outputs": [
    {
     "data": {
      "text/plain": [
       "['fingerprint pregnancy test android app beautiful cute health iger iphone only iphones iphone',\n",
       " 'finally trans paran silicon case thank uncle yay sony peri sony ex peri',\n",
       " 'love talk make memo rie unplug relax iphone smartphone wi fi connect',\n",
       " 'wire know george way iphone cute daventry home',\n",
       " 'amazing service apple talk question pay stupid support',\n",
       " 'iphone software update fuck phone big time stupid iphones',\n",
       " 'happy insta pic insta daily sony peri xp riaz',\n",
       " 'new type charger cable uk bay amazon ets new year rob cross to by young eve mun mc mafia taylor spectre new year starting recipe technology samsung galaxy iphone',\n",
       " 'bout shop listen music iphone just me music like for like follow for follow',\n",
       " 'photo fun self ie pool water sony camera sun insta good boy cute outdoor']"
      ]
     },
     "execution_count": 15,
     "metadata": {
      "tags": []
     },
     "output_type": "execute_result"
    }
   ],
   "source": [
    "train_data_split[:10]"
   ]
  },
  {
   "cell_type": "code",
   "execution_count": null,
   "metadata": {
    "colab": {
     "base_uri": "https://localhost:8080/"
    },
    "id": "wm35Xc7Y2Qmx",
    "outputId": "01421bbd-06c1-49e8-8942-d2d280895585"
   },
   "outputs": [
    {
     "data": {
      "text/plain": [
       "0    5894\n",
       "1    2026\n",
       "Name: label, dtype: int64"
      ]
     },
     "execution_count": 16,
     "metadata": {
      "tags": []
     },
     "output_type": "execute_result"
    }
   ],
   "source": [
    "train_df['label'].value_counts()"
   ]
  },
  {
   "cell_type": "code",
   "execution_count": null,
   "metadata": {
    "colab": {
     "base_uri": "https://localhost:8080/"
    },
    "id": "vSJEyTWnT4wN",
    "outputId": "62215e7e-bbbe-4545-dd17-17da8c7d81e3"
   },
   "outputs": [
    {
     "name": "stdout",
     "output_type": "stream",
     "text": [
      "Vocabulary size =10117\n",
      "Number of Documents=7920\n"
     ]
    }
   ],
   "source": [
    "tokenzer_sp = tf.keras.preprocessing.text.Tokenizer(oov_token = '<UNK>')\n",
    "tokenzer_sp.fit_on_texts(train_data_split)\n",
    "\n",
    "train_sequences_sp = tokenzer_sp.texts_to_sequences(train_data_split)\n",
    "test_sequences_sp = tokenzer_sp.texts_to_sequences(test_data_split)\n",
    "\n",
    "print(\"Vocabulary size ={}\".format(len(tokenzer_sp.word_index)))\n",
    "print(\"Number of Documents={}\".format(tokenzer_sp.document_count))"
   ]
  },
  {
   "cell_type": "code",
   "execution_count": null,
   "metadata": {
    "colab": {
     "base_uri": "https://localhost:8080/"
    },
    "id": "jbjaibHlUM_U",
    "outputId": "ff9b8d37-47e2-4b01-e8f2-b074e0ffef58"
   },
   "outputs": [
    {
     "data": {
      "text/plain": [
       "47"
      ]
     },
     "execution_count": 34,
     "metadata": {
      "tags": []
     },
     "output_type": "execute_result"
    }
   ],
   "source": [
    "pd.Series(train_data_split).apply(lambda x : len(x.split())).max()"
   ]
  },
  {
   "cell_type": "code",
   "execution_count": null,
   "metadata": {
    "id": "AeRU7Y2RUPYF"
   },
   "outputs": [],
   "source": [
    "MAX_SEQUENCE_LENGTH = 47\n",
    "\n",
    "train_pad_sequences_sp = tf.keras.preprocessing.sequence.pad_sequences(train_sequences_sp, maxlen = MAX_SEQUENCE_LENGTH, padding='post')\n",
    "test_pad_sequneces_sp = tf.keras.preprocessing.sequence.pad_sequences(test_sequences_sp, maxlen = MAX_SEQUENCE_LENGTH, padding='post')"
   ]
  },
  {
   "cell_type": "code",
   "execution_count": null,
   "metadata": {
    "colab": {
     "base_uri": "https://localhost:8080/"
    },
    "id": "xCnqjrtP2xVU",
    "outputId": "712912f9-94ce-49ae-97f6-957ed3e1c8cb"
   },
   "outputs": [
    {
     "name": "stdout",
     "output_type": "stream",
     "text": [
      "Computed class weights:  {0: 0.671869697997964, 1: 1.9545903257650543}\n"
     ]
    }
   ],
   "source": [
    "y = train_df['label']\n",
    "\n",
    "###Computing class weights\n",
    "from sklearn.utils import class_weight\n",
    "\n",
    "weights = class_weight.compute_class_weight('balanced', np.unique(y), y)\n",
    "\n",
    "class_weights = dict(zip(np.unique(y), weights))\n",
    "print(\"Computed class weights: \", class_weights)"
   ]
  },
  {
   "cell_type": "code",
   "execution_count": null,
   "metadata": {
    "id": "XoOGcNad23Yj"
   },
   "outputs": [],
   "source": [
    "def deep_model(layer_name, filename=None, epochs=50, final_pred = True, class_weight= False):\n",
    "    SEED = 42\n",
    "    np.random.seed(SEED)\n",
    "    tf.random.set_seed(SEED)\n",
    "\n",
    "    EMBEDDING_DIM = 300 #Dimension for dense embedding for each token\n",
    "    VOCAB_SIZE = len(tokenzer.word_index)\n",
    "    model = Sequential()\n",
    "    model.add((Embedding(input_dim =VOCAB_SIZE+1,output_dim = EMBEDDING_DIM,input_length = MAX_SEQUENCE_LENGTH)))\n",
    "    model.add((layer_name(128)))\n",
    "    model.add((Dense(128,activation = 'relu')))\n",
    "    model.add(Dense(1,activation = 'sigmoid'))\n",
    "\n",
    "    model.compile(loss = tf.keras.losses.BinaryCrossentropy(),optimizer=\"adam\",metrics =['accuracy'])\n",
    "    model.summary()\n",
    "    fit_the_model(model, filename=filename, epochs=epochs, verbose=1, final_pred = final_pred, class_weight=class_weight)"
   ]
  },
  {
   "cell_type": "code",
   "execution_count": null,
   "metadata": {
    "id": "mtSZisYc27yK"
   },
   "outputs": [],
   "source": [
    "def predictions(model, file_name):\n",
    "    test_pred = model.predict_classes(test_pad_sequneces_sp)\n",
    "    sample_df['label'] = test_pred\n",
    "    print(file_name)\n",
    "    sample_df.to_csv(f'{file_name}pred.csv', index = False)\n",
    "    files.download(f'{file_name}pred.csv') \n",
    "\n",
    "def fit_the_model(model, filename, epochs=50, verbose=1, final_pred = True, class_weight=class_weight):\n",
    "    early_stop = EarlyStopping(monitor='val_loss', patience=5, mode='min')\n",
    "    if class_weight:\n",
    "      model.fit(train_pad_sequences_sp, y, epochs=epochs, validation_split=0.1, callbacks=[early_stop],verbose=verbose, class_weight = class_weights)\n",
    "    else:\n",
    "      model.fit(train_pad_sequences_sp, y, epochs=epochs, validation_split=0.1, callbacks=[early_stop],verbose=verbose)\n",
    "    if final_pred:\n",
    "      predictions(model, filename)\n",
    "    else:\n",
    "      pass"
   ]
  },
  {
   "cell_type": "code",
   "execution_count": null,
   "metadata": {
    "colab": {
     "base_uri": "https://localhost:8080/",
     "height": 598
    },
    "id": "_ALzlkMH28en",
    "outputId": "3755f6b4-9f2b-4b87-a963-e58f2dd222bd"
   },
   "outputs": [
    {
     "name": "stdout",
     "output_type": "stream",
     "text": [
      "Model: \"sequential_1\"\n",
      "_________________________________________________________________\n",
      "Layer (type)                 Output Shape              Param #   \n",
      "=================================================================\n",
      "embedding_1 (Embedding)      (None, 37, 300)           4376700   \n",
      "_________________________________________________________________\n",
      "lstm_1 (LSTM)                (None, 128)               219648    \n",
      "_________________________________________________________________\n",
      "dense_2 (Dense)              (None, 128)               16512     \n",
      "_________________________________________________________________\n",
      "dense_3 (Dense)              (None, 1)                 129       \n",
      "=================================================================\n",
      "Total params: 4,612,989\n",
      "Trainable params: 4,612,989\n",
      "Non-trainable params: 0\n",
      "_________________________________________________________________\n",
      "Epoch 1/50\n",
      "223/223 [==============================] - 22s 65ms/step - loss: 0.4958 - accuracy: 0.7768 - val_loss: 0.4146 - val_accuracy: 0.8422\n",
      "Epoch 2/50\n",
      "223/223 [==============================] - 14s 62ms/step - loss: 0.3261 - accuracy: 0.8631 - val_loss: 0.2777 - val_accuracy: 0.8775\n",
      "Epoch 3/50\n",
      "223/223 [==============================] - 14s 62ms/step - loss: 0.2061 - accuracy: 0.9205 - val_loss: 0.2779 - val_accuracy: 0.8864\n",
      "Epoch 4/50\n",
      "223/223 [==============================] - 14s 61ms/step - loss: 0.1396 - accuracy: 0.9516 - val_loss: 0.2969 - val_accuracy: 0.8737\n",
      "Epoch 5/50\n",
      "223/223 [==============================] - 14s 62ms/step - loss: 0.0978 - accuracy: 0.9679 - val_loss: 0.3715 - val_accuracy: 0.8775\n",
      "Epoch 6/50\n",
      "223/223 [==============================] - 14s 63ms/step - loss: 0.0649 - accuracy: 0.9762 - val_loss: 0.4865 - val_accuracy: 0.8737\n",
      "Epoch 7/50\n",
      "223/223 [==============================] - 14s 61ms/step - loss: 0.0430 - accuracy: 0.9798 - val_loss: 0.5244 - val_accuracy: 0.8636\n"
     ]
    },
    {
     "name": "stderr",
     "output_type": "stream",
     "text": [
      "/usr/local/lib/python3.7/dist-packages/tensorflow/python/keras/engine/sequential.py:455: UserWarning: `model.predict_classes()` is deprecated and will be removed after 2021-01-01. Please use instead:* `np.argmax(model.predict(x), axis=-1)`,   if your model does multi-class classification   (e.g. if it uses a `softmax` last-layer activation).* `(model.predict(x) > 0.5).astype(\"int32\")`,   if your model does binary classification   (e.g. if it uses a `sigmoid` last-layer activation).\n",
      "  warnings.warn('`model.predict_classes()` is deprecated and '\n"
     ]
    },
    {
     "name": "stdout",
     "output_type": "stream",
     "text": [
      "LSTM \n"
     ]
    },
    {
     "data": {
      "application/javascript": [
       "\n",
       "    async function download(id, filename, size) {\n",
       "      if (!google.colab.kernel.accessAllowed) {\n",
       "        return;\n",
       "      }\n",
       "      const div = document.createElement('div');\n",
       "      const label = document.createElement('label');\n",
       "      label.textContent = `Downloading \"${filename}\": `;\n",
       "      div.appendChild(label);\n",
       "      const progress = document.createElement('progress');\n",
       "      progress.max = size;\n",
       "      div.appendChild(progress);\n",
       "      document.body.appendChild(div);\n",
       "\n",
       "      const buffers = [];\n",
       "      let downloaded = 0;\n",
       "\n",
       "      const channel = await google.colab.kernel.comms.open(id);\n",
       "      // Send a message to notify the kernel that we're ready.\n",
       "      channel.send({})\n",
       "\n",
       "      for await (const message of channel.messages) {\n",
       "        // Send a message to notify the kernel that we're ready.\n",
       "        channel.send({})\n",
       "        if (message.buffers) {\n",
       "          for (const buffer of message.buffers) {\n",
       "            buffers.push(buffer);\n",
       "            downloaded += buffer.byteLength;\n",
       "            progress.value = downloaded;\n",
       "          }\n",
       "        }\n",
       "      }\n",
       "      const blob = new Blob(buffers, {type: 'application/binary'});\n",
       "      const a = document.createElement('a');\n",
       "      a.href = window.URL.createObjectURL(blob);\n",
       "      a.download = filename;\n",
       "      div.appendChild(a);\n",
       "      a.click();\n",
       "      div.remove();\n",
       "    }\n",
       "  "
      ],
      "text/plain": [
       "<IPython.core.display.Javascript object>"
      ]
     },
     "metadata": {
      "tags": []
     },
     "output_type": "display_data"
    },
    {
     "data": {
      "application/javascript": [
       "download(\"download_fbd931e0-f45a-487a-bf8c-f9274ae13de8\", \"LSTM pred.csv\", 26250)"
      ],
      "text/plain": [
       "<IPython.core.display.Javascript object>"
      ]
     },
     "metadata": {
      "tags": []
     },
     "output_type": "display_data"
    }
   ],
   "source": [
    "deep_model(LSTM, filename='LSTM ',)"
   ]
  },
  {
   "cell_type": "code",
   "execution_count": null,
   "metadata": {
    "colab": {
     "base_uri": "https://localhost:8080/",
     "height": 785
    },
    "id": "SbyAFyIT3Mau",
    "outputId": "b00c90c7-e84e-4f66-f799-2e3025ad5cb4"
   },
   "outputs": [
    {
     "name": "stdout",
     "output_type": "stream",
     "text": [
      "Model: \"sequential_2\"\n",
      "_________________________________________________________________\n",
      "Layer (type)                 Output Shape              Param #   \n",
      "=================================================================\n",
      "embedding_2 (Embedding)      (None, 37, 300)           4376700   \n",
      "_________________________________________________________________\n",
      "lstm_2 (LSTM)                (None, 128)               219648    \n",
      "_________________________________________________________________\n",
      "dense_4 (Dense)              (None, 128)               16512     \n",
      "_________________________________________________________________\n",
      "dense_5 (Dense)              (None, 1)                 129       \n",
      "=================================================================\n",
      "Total params: 4,612,989\n",
      "Trainable params: 4,612,989\n",
      "Non-trainable params: 0\n",
      "_________________________________________________________________\n",
      "WARNING:tensorflow:From /usr/local/lib/python3.7/dist-packages/tensorflow/python/ops/array_ops.py:5049: calling gather (from tensorflow.python.ops.array_ops) with validate_indices is deprecated and will be removed in a future version.\n",
      "Instructions for updating:\n",
      "The `validate_indices` argument has no effect. Indices are always validated on CPU and never validated on GPU.\n",
      "Epoch 1/50\n",
      "223/223 [==============================] - 17s 65ms/step - loss: 0.6282 - accuracy: 0.6521 - val_loss: 0.5866 - val_accuracy: 0.7487\n",
      "Epoch 2/50\n",
      "223/223 [==============================] - 14s 61ms/step - loss: 0.4982 - accuracy: 0.8552 - val_loss: 0.5153 - val_accuracy: 0.8371\n",
      "Epoch 3/50\n",
      "223/223 [==============================] - 14s 62ms/step - loss: 0.4200 - accuracy: 0.8924 - val_loss: 0.4799 - val_accuracy: 0.8434\n",
      "Epoch 4/50\n",
      "223/223 [==============================] - 14s 62ms/step - loss: 0.3473 - accuracy: 0.9104 - val_loss: 0.4002 - val_accuracy: 0.8598\n",
      "Epoch 5/50\n",
      "223/223 [==============================] - 14s 63ms/step - loss: 0.2398 - accuracy: 0.9059 - val_loss: 0.5002 - val_accuracy: 0.7753\n",
      "Epoch 6/50\n",
      "223/223 [==============================] - 14s 61ms/step - loss: 0.2390 - accuracy: 0.8965 - val_loss: 0.3668 - val_accuracy: 0.8598\n",
      "Epoch 7/50\n",
      "223/223 [==============================] - 14s 62ms/step - loss: 0.1675 - accuracy: 0.9331 - val_loss: 0.3742 - val_accuracy: 0.8321\n",
      "Epoch 8/50\n",
      "223/223 [==============================] - 14s 61ms/step - loss: 0.1398 - accuracy: 0.9439 - val_loss: 0.4633 - val_accuracy: 0.8460\n",
      "Epoch 9/50\n",
      "223/223 [==============================] - 14s 62ms/step - loss: 0.1336 - accuracy: 0.9488 - val_loss: 0.3933 - val_accuracy: 0.8586\n",
      "Epoch 10/50\n",
      "223/223 [==============================] - 14s 61ms/step - loss: 0.1165 - accuracy: 0.9547 - val_loss: 0.4080 - val_accuracy: 0.8611\n",
      "Epoch 11/50\n",
      "223/223 [==============================] - 14s 62ms/step - loss: 0.1094 - accuracy: 0.9604 - val_loss: 0.3932 - val_accuracy: 0.8636\n"
     ]
    },
    {
     "name": "stderr",
     "output_type": "stream",
     "text": [
      "/usr/local/lib/python3.7/dist-packages/tensorflow/python/keras/engine/sequential.py:455: UserWarning: `model.predict_classes()` is deprecated and will be removed after 2021-01-01. Please use instead:* `np.argmax(model.predict(x), axis=-1)`,   if your model does multi-class classification   (e.g. if it uses a `softmax` last-layer activation).* `(model.predict(x) > 0.5).astype(\"int32\")`,   if your model does binary classification   (e.g. if it uses a `sigmoid` last-layer activation).\n",
      "  warnings.warn('`model.predict_classes()` is deprecated and '\n"
     ]
    },
    {
     "name": "stdout",
     "output_type": "stream",
     "text": [
      "LSTM \n"
     ]
    },
    {
     "data": {
      "application/javascript": [
       "\n",
       "    async function download(id, filename, size) {\n",
       "      if (!google.colab.kernel.accessAllowed) {\n",
       "        return;\n",
       "      }\n",
       "      const div = document.createElement('div');\n",
       "      const label = document.createElement('label');\n",
       "      label.textContent = `Downloading \"${filename}\": `;\n",
       "      div.appendChild(label);\n",
       "      const progress = document.createElement('progress');\n",
       "      progress.max = size;\n",
       "      div.appendChild(progress);\n",
       "      document.body.appendChild(div);\n",
       "\n",
       "      const buffers = [];\n",
       "      let downloaded = 0;\n",
       "\n",
       "      const channel = await google.colab.kernel.comms.open(id);\n",
       "      // Send a message to notify the kernel that we're ready.\n",
       "      channel.send({})\n",
       "\n",
       "      for await (const message of channel.messages) {\n",
       "        // Send a message to notify the kernel that we're ready.\n",
       "        channel.send({})\n",
       "        if (message.buffers) {\n",
       "          for (const buffer of message.buffers) {\n",
       "            buffers.push(buffer);\n",
       "            downloaded += buffer.byteLength;\n",
       "            progress.value = downloaded;\n",
       "          }\n",
       "        }\n",
       "      }\n",
       "      const blob = new Blob(buffers, {type: 'application/binary'});\n",
       "      const a = document.createElement('a');\n",
       "      a.href = window.URL.createObjectURL(blob);\n",
       "      a.download = filename;\n",
       "      div.appendChild(a);\n",
       "      a.click();\n",
       "      div.remove();\n",
       "    }\n",
       "  "
      ],
      "text/plain": [
       "<IPython.core.display.Javascript object>"
      ]
     },
     "metadata": {
      "tags": []
     },
     "output_type": "display_data"
    },
    {
     "data": {
      "application/javascript": [
       "download(\"download_d40c6ed0-b8a6-4588-9b8e-8aca0b439028\", \"LSTM pred.csv\", 22336)"
      ],
      "text/plain": [
       "<IPython.core.display.Javascript object>"
      ]
     },
     "metadata": {
      "tags": []
     },
     "output_type": "display_data"
    }
   ],
   "source": [
    "deep_model(LSTM, filename='LSTM ',)"
   ]
  },
  {
   "cell_type": "code",
   "execution_count": null,
   "metadata": {
    "colab": {
     "base_uri": "https://localhost:8080/",
     "height": 632
    },
    "id": "KqeNn7Wi4ja2",
    "outputId": "2429a42d-2c45-46ed-ee0e-b04f4fdbda48"
   },
   "outputs": [
    {
     "name": "stdout",
     "output_type": "stream",
     "text": [
      "Model: \"sequential_7\"\n",
      "_________________________________________________________________\n",
      "Layer (type)                 Output Shape              Param #   \n",
      "=================================================================\n",
      "embedding_7 (Embedding)      (None, 37, 300)           4376700   \n",
      "_________________________________________________________________\n",
      "gru_3 (GRU)                  (None, 128)               165120    \n",
      "_________________________________________________________________\n",
      "dense_14 (Dense)             (None, 128)               16512     \n",
      "_________________________________________________________________\n",
      "dense_15 (Dense)             (None, 1)                 129       \n",
      "=================================================================\n",
      "Total params: 4,558,461\n",
      "Trainable params: 4,558,461\n",
      "Non-trainable params: 0\n",
      "_________________________________________________________________\n",
      "Epoch 1/50\n",
      "223/223 [==============================] - 17s 65ms/step - loss: 0.5737 - accuracy: 0.7455 - val_loss: 0.5836 - val_accuracy: 0.7323\n",
      "Epoch 2/50\n",
      "223/223 [==============================] - 14s 61ms/step - loss: 0.5105 - accuracy: 0.7712 - val_loss: 0.2873 - val_accuracy: 0.8737\n",
      "Epoch 3/50\n",
      "223/223 [==============================] - 13s 60ms/step - loss: 0.2287 - accuracy: 0.9085 - val_loss: 0.2666 - val_accuracy: 0.8725\n",
      "Epoch 4/50\n",
      "223/223 [==============================] - 13s 60ms/step - loss: 0.1053 - accuracy: 0.9663 - val_loss: 0.3500 - val_accuracy: 0.8712\n",
      "Epoch 5/50\n",
      "223/223 [==============================] - 13s 60ms/step - loss: 0.0569 - accuracy: 0.9830 - val_loss: 0.3933 - val_accuracy: 0.8624\n",
      "Epoch 6/50\n",
      "223/223 [==============================] - 14s 61ms/step - loss: 0.0340 - accuracy: 0.9891 - val_loss: 0.5040 - val_accuracy: 0.8598\n",
      "Epoch 7/50\n",
      "223/223 [==============================] - 13s 60ms/step - loss: 0.0248 - accuracy: 0.9924 - val_loss: 0.5505 - val_accuracy: 0.8472\n",
      "Epoch 8/50\n",
      "223/223 [==============================] - 14s 61ms/step - loss: 0.0162 - accuracy: 0.9951 - val_loss: 0.6254 - val_accuracy: 0.8523\n"
     ]
    },
    {
     "name": "stderr",
     "output_type": "stream",
     "text": [
      "/usr/local/lib/python3.7/dist-packages/tensorflow/python/keras/engine/sequential.py:455: UserWarning: `model.predict_classes()` is deprecated and will be removed after 2021-01-01. Please use instead:* `np.argmax(model.predict(x), axis=-1)`,   if your model does multi-class classification   (e.g. if it uses a `softmax` last-layer activation).* `(model.predict(x) > 0.5).astype(\"int32\")`,   if your model does binary classification   (e.g. if it uses a `sigmoid` last-layer activation).\n",
      "  warnings.warn('`model.predict_classes()` is deprecated and '\n"
     ]
    },
    {
     "name": "stdout",
     "output_type": "stream",
     "text": [
      "GRU_wh \n"
     ]
    },
    {
     "data": {
      "application/javascript": [
       "\n",
       "    async function download(id, filename, size) {\n",
       "      if (!google.colab.kernel.accessAllowed) {\n",
       "        return;\n",
       "      }\n",
       "      const div = document.createElement('div');\n",
       "      const label = document.createElement('label');\n",
       "      label.textContent = `Downloading \"${filename}\": `;\n",
       "      div.appendChild(label);\n",
       "      const progress = document.createElement('progress');\n",
       "      progress.max = size;\n",
       "      div.appendChild(progress);\n",
       "      document.body.appendChild(div);\n",
       "\n",
       "      const buffers = [];\n",
       "      let downloaded = 0;\n",
       "\n",
       "      const channel = await google.colab.kernel.comms.open(id);\n",
       "      // Send a message to notify the kernel that we're ready.\n",
       "      channel.send({})\n",
       "\n",
       "      for await (const message of channel.messages) {\n",
       "        // Send a message to notify the kernel that we're ready.\n",
       "        channel.send({})\n",
       "        if (message.buffers) {\n",
       "          for (const buffer of message.buffers) {\n",
       "            buffers.push(buffer);\n",
       "            downloaded += buffer.byteLength;\n",
       "            progress.value = downloaded;\n",
       "          }\n",
       "        }\n",
       "      }\n",
       "      const blob = new Blob(buffers, {type: 'application/binary'});\n",
       "      const a = document.createElement('a');\n",
       "      a.href = window.URL.createObjectURL(blob);\n",
       "      a.download = filename;\n",
       "      div.appendChild(a);\n",
       "      a.click();\n",
       "      div.remove();\n",
       "    }\n",
       "  "
      ],
      "text/plain": [
       "<IPython.core.display.Javascript object>"
      ]
     },
     "metadata": {
      "tags": []
     },
     "output_type": "display_data"
    },
    {
     "data": {
      "application/javascript": [
       "download(\"download_f7049db5-6feb-4fd0-980d-338e394933ab\", \"GRU_wh pred.csv\", 13680)"
      ],
      "text/plain": [
       "<IPython.core.display.Javascript object>"
      ]
     },
     "metadata": {
      "tags": []
     },
     "output_type": "display_data"
    }
   ],
   "source": [
    "deep_model(GRU, filename='GRU_wh ',)"
   ]
  },
  {
   "cell_type": "code",
   "execution_count": null,
   "metadata": {
    "colab": {
     "base_uri": "https://localhost:8080/",
     "height": 700
    },
    "id": "sV4Nqu-16rTq",
    "outputId": "b256e389-0a16-47b9-dd61-6b5ff2bffa3a"
   },
   "outputs": [
    {
     "name": "stdout",
     "output_type": "stream",
     "text": [
      "Model: \"sequential_6\"\n",
      "_________________________________________________________________\n",
      "Layer (type)                 Output Shape              Param #   \n",
      "=================================================================\n",
      "embedding_6 (Embedding)      (None, 37, 300)           4376700   \n",
      "_________________________________________________________________\n",
      "gru_2 (GRU)                  (None, 128)               165120    \n",
      "_________________________________________________________________\n",
      "dense_12 (Dense)             (None, 128)               16512     \n",
      "_________________________________________________________________\n",
      "dense_13 (Dense)             (None, 1)                 129       \n",
      "=================================================================\n",
      "Total params: 4,558,461\n",
      "Trainable params: 4,558,461\n",
      "Non-trainable params: 0\n",
      "_________________________________________________________________\n",
      "Epoch 1/10\n",
      "223/223 [==============================] - 16s 63ms/step - loss: 0.6934 - accuracy: 0.5157 - val_loss: 0.6922 - val_accuracy: 0.7323\n",
      "Epoch 2/10\n",
      "223/223 [==============================] - 14s 61ms/step - loss: 0.6927 - accuracy: 0.5951 - val_loss: 0.6956 - val_accuracy: 0.2677\n",
      "Epoch 3/10\n",
      "223/223 [==============================] - 13s 60ms/step - loss: 0.6926 - accuracy: 0.5448 - val_loss: 0.7082 - val_accuracy: 0.2677\n",
      "Epoch 4/10\n",
      "223/223 [==============================] - 13s 60ms/step - loss: 0.6928 - accuracy: 0.5311 - val_loss: 0.6920 - val_accuracy: 0.7323\n",
      "Epoch 5/10\n",
      "223/223 [==============================] - 14s 61ms/step - loss: 0.6924 - accuracy: 0.5641 - val_loss: 0.6877 - val_accuracy: 0.7323\n",
      "Epoch 6/10\n",
      "223/223 [==============================] - 14s 61ms/step - loss: 0.6924 - accuracy: 0.5626 - val_loss: 0.6902 - val_accuracy: 0.7323\n",
      "Epoch 7/10\n",
      "223/223 [==============================] - 14s 61ms/step - loss: 0.6922 - accuracy: 0.5657 - val_loss: 0.6908 - val_accuracy: 0.7323\n",
      "Epoch 8/10\n",
      "223/223 [==============================] - 13s 60ms/step - loss: 0.3939 - accuracy: 0.8374 - val_loss: 0.3219 - val_accuracy: 0.8662\n",
      "Epoch 9/10\n",
      "223/223 [==============================] - 13s 60ms/step - loss: 0.1678 - accuracy: 0.9301 - val_loss: 0.2741 - val_accuracy: 0.8737\n",
      "Epoch 10/10\n",
      "223/223 [==============================] - 13s 60ms/step - loss: 0.0828 - accuracy: 0.9675 - val_loss: 0.3560 - val_accuracy: 0.8737\n"
     ]
    },
    {
     "name": "stderr",
     "output_type": "stream",
     "text": [
      "/usr/local/lib/python3.7/dist-packages/tensorflow/python/keras/engine/sequential.py:455: UserWarning: `model.predict_classes()` is deprecated and will be removed after 2021-01-01. Please use instead:* `np.argmax(model.predict(x), axis=-1)`,   if your model does multi-class classification   (e.g. if it uses a `softmax` last-layer activation).* `(model.predict(x) > 0.5).astype(\"int32\")`,   if your model does binary classification   (e.g. if it uses a `sigmoid` last-layer activation).\n",
      "  warnings.warn('`model.predict_classes()` is deprecated and '\n"
     ]
    },
    {
     "name": "stdout",
     "output_type": "stream",
     "text": [
      "GRU_new \n"
     ]
    },
    {
     "data": {
      "application/javascript": [
       "\n",
       "    async function download(id, filename, size) {\n",
       "      if (!google.colab.kernel.accessAllowed) {\n",
       "        return;\n",
       "      }\n",
       "      const div = document.createElement('div');\n",
       "      const label = document.createElement('label');\n",
       "      label.textContent = `Downloading \"${filename}\": `;\n",
       "      div.appendChild(label);\n",
       "      const progress = document.createElement('progress');\n",
       "      progress.max = size;\n",
       "      div.appendChild(progress);\n",
       "      document.body.appendChild(div);\n",
       "\n",
       "      const buffers = [];\n",
       "      let downloaded = 0;\n",
       "\n",
       "      const channel = await google.colab.kernel.comms.open(id);\n",
       "      // Send a message to notify the kernel that we're ready.\n",
       "      channel.send({})\n",
       "\n",
       "      for await (const message of channel.messages) {\n",
       "        // Send a message to notify the kernel that we're ready.\n",
       "        channel.send({})\n",
       "        if (message.buffers) {\n",
       "          for (const buffer of message.buffers) {\n",
       "            buffers.push(buffer);\n",
       "            downloaded += buffer.byteLength;\n",
       "            progress.value = downloaded;\n",
       "          }\n",
       "        }\n",
       "      }\n",
       "      const blob = new Blob(buffers, {type: 'application/binary'});\n",
       "      const a = document.createElement('a');\n",
       "      a.href = window.URL.createObjectURL(blob);\n",
       "      a.download = filename;\n",
       "      div.appendChild(a);\n",
       "      a.click();\n",
       "      div.remove();\n",
       "    }\n",
       "  "
      ],
      "text/plain": [
       "<IPython.core.display.Javascript object>"
      ]
     },
     "metadata": {
      "tags": []
     },
     "output_type": "display_data"
    },
    {
     "data": {
      "application/javascript": [
       "download(\"download_edff0390-603a-42ff-9c23-9969729a2c6d\", \"GRU_new pred.csv\", 13680)"
      ],
      "text/plain": [
       "<IPython.core.display.Javascript object>"
      ]
     },
     "metadata": {
      "tags": []
     },
     "output_type": "display_data"
    }
   ],
   "source": [
    "deep_model(GRU, filename='GRU_new ', epochs=10)"
   ]
  },
  {
   "cell_type": "code",
   "execution_count": null,
   "metadata": {
    "id": "ReibJBOB5saR"
   },
   "outputs": [],
   "source": [
    "def stack_model(layer_name, filename, epochs=50, class_weight=False):\n",
    "    SEED = 42\n",
    "    np.random.seed(SEED)\n",
    "    tf.random.set_seed(SEED)\n",
    "\n",
    "    EMBEDDING_DIM = 300 #Dimension for dense embedding for each token\n",
    "    VOCAB_SIZE = len(tokenzer.word_index)\n",
    "    model = Sequential()\n",
    "    model.add((Embedding(input_dim =VOCAB_SIZE+1,output_dim = EMBEDDING_DIM,input_length = MAX_SEQUENCE_LENGTH)))\n",
    "    model.add((layer_name(256, return_sequences = True)))\n",
    "    model.add((layer_name(128, return_sequences = False)))\n",
    "    model.add((Dense(128,activation = 'relu')))\n",
    "    model.add(Dense(1,activation = 'sigmoid'))\n",
    "\n",
    "    model.compile(loss = tf.keras.losses.BinaryCrossentropy(),optimizer=\"adam\",metrics =['accuracy'])\n",
    "    model.summary()\n",
    "    fit_the_model(model, filename, epochs=epochs, verbose=1, class_weight=class_weight)"
   ]
  },
  {
   "cell_type": "code",
   "execution_count": null,
   "metadata": {
    "colab": {
     "base_uri": "https://localhost:8080/",
     "height": 836
    },
    "id": "IlSgnRtH8L9m",
    "outputId": "4729ceb0-c60b-46fd-d898-34964ebfc04f"
   },
   "outputs": [
    {
     "name": "stdout",
     "output_type": "stream",
     "text": [
      "Model: \"sequential_11\"\n",
      "_________________________________________________________________\n",
      "Layer (type)                 Output Shape              Param #   \n",
      "=================================================================\n",
      "embedding_10 (Embedding)     (None, 37, 300)           4376700   \n",
      "_________________________________________________________________\n",
      "lstm_4 (LSTM)                (None, 37, 256)           570368    \n",
      "_________________________________________________________________\n",
      "lstm_5 (LSTM)                (None, 128)               197120    \n",
      "_________________________________________________________________\n",
      "dense_16 (Dense)             (None, 128)               16512     \n",
      "_________________________________________________________________\n",
      "dense_17 (Dense)             (None, 1)                 129       \n",
      "=================================================================\n",
      "Total params: 5,160,829\n",
      "Trainable params: 5,160,829\n",
      "Non-trainable params: 0\n",
      "_________________________________________________________________\n",
      "Epoch 1/50\n",
      "223/223 [==============================] - 22s 80ms/step - loss: 0.5523 - accuracy: 0.7426 - val_loss: 0.3949 - val_accuracy: 0.7323\n",
      "Epoch 2/50\n",
      "223/223 [==============================] - 17s 75ms/step - loss: 0.3843 - accuracy: 0.8481 - val_loss: 0.4079 - val_accuracy: 0.8207\n",
      "Epoch 3/50\n",
      "223/223 [==============================] - 17s 76ms/step - loss: 0.3438 - accuracy: 0.8746 - val_loss: 0.3989 - val_accuracy: 0.8460\n",
      "Epoch 4/50\n",
      "223/223 [==============================] - 17s 75ms/step - loss: 0.2946 - accuracy: 0.9106 - val_loss: 0.4197 - val_accuracy: 0.8460\n",
      "Epoch 5/50\n",
      "223/223 [==============================] - 17s 75ms/step - loss: 0.2700 - accuracy: 0.9153 - val_loss: 0.3771 - val_accuracy: 0.8611\n",
      "Epoch 6/50\n",
      "223/223 [==============================] - 17s 76ms/step - loss: 0.2405 - accuracy: 0.9234 - val_loss: 0.3709 - val_accuracy: 0.8497\n",
      "Epoch 7/50\n",
      "223/223 [==============================] - 17s 76ms/step - loss: 0.1933 - accuracy: 0.9457 - val_loss: 0.3674 - val_accuracy: 0.8649\n",
      "Epoch 8/50\n",
      "223/223 [==============================] - 17s 77ms/step - loss: 0.1593 - accuracy: 0.9582 - val_loss: 0.3625 - val_accuracy: 0.8725\n",
      "Epoch 9/50\n",
      "223/223 [==============================] - 17s 76ms/step - loss: 0.1382 - accuracy: 0.9639 - val_loss: 0.4145 - val_accuracy: 0.8510\n",
      "Epoch 10/50\n",
      "223/223 [==============================] - 17s 77ms/step - loss: 0.1162 - accuracy: 0.9707 - val_loss: 0.4073 - val_accuracy: 0.8573\n",
      "Epoch 11/50\n",
      "223/223 [==============================] - 17s 77ms/step - loss: 0.0942 - accuracy: 0.9763 - val_loss: 0.4890 - val_accuracy: 0.8548\n",
      "Epoch 12/50\n",
      "223/223 [==============================] - 17s 78ms/step - loss: 0.0822 - accuracy: 0.9801 - val_loss: 0.5134 - val_accuracy: 0.8523\n",
      "Epoch 13/50\n",
      "223/223 [==============================] - 17s 77ms/step - loss: 0.0660 - accuracy: 0.9819 - val_loss: 0.4796 - val_accuracy: 0.8636\n"
     ]
    },
    {
     "name": "stderr",
     "output_type": "stream",
     "text": [
      "/usr/local/lib/python3.7/dist-packages/tensorflow/python/keras/engine/sequential.py:455: UserWarning: `model.predict_classes()` is deprecated and will be removed after 2021-01-01. Please use instead:* `np.argmax(model.predict(x), axis=-1)`,   if your model does multi-class classification   (e.g. if it uses a `softmax` last-layer activation).* `(model.predict(x) > 0.5).astype(\"int32\")`,   if your model does binary classification   (e.g. if it uses a `sigmoid` last-layer activation).\n",
      "  warnings.warn('`model.predict_classes()` is deprecated and '\n"
     ]
    },
    {
     "name": "stdout",
     "output_type": "stream",
     "text": [
      "Stack \n"
     ]
    },
    {
     "data": {
      "application/javascript": [
       "\n",
       "    async function download(id, filename, size) {\n",
       "      if (!google.colab.kernel.accessAllowed) {\n",
       "        return;\n",
       "      }\n",
       "      const div = document.createElement('div');\n",
       "      const label = document.createElement('label');\n",
       "      label.textContent = `Downloading \"${filename}\": `;\n",
       "      div.appendChild(label);\n",
       "      const progress = document.createElement('progress');\n",
       "      progress.max = size;\n",
       "      div.appendChild(progress);\n",
       "      document.body.appendChild(div);\n",
       "\n",
       "      const buffers = [];\n",
       "      let downloaded = 0;\n",
       "\n",
       "      const channel = await google.colab.kernel.comms.open(id);\n",
       "      // Send a message to notify the kernel that we're ready.\n",
       "      channel.send({})\n",
       "\n",
       "      for await (const message of channel.messages) {\n",
       "        // Send a message to notify the kernel that we're ready.\n",
       "        channel.send({})\n",
       "        if (message.buffers) {\n",
       "          for (const buffer of message.buffers) {\n",
       "            buffers.push(buffer);\n",
       "            downloaded += buffer.byteLength;\n",
       "            progress.value = downloaded;\n",
       "          }\n",
       "        }\n",
       "      }\n",
       "      const blob = new Blob(buffers, {type: 'application/binary'});\n",
       "      const a = document.createElement('a');\n",
       "      a.href = window.URL.createObjectURL(blob);\n",
       "      a.download = filename;\n",
       "      div.appendChild(a);\n",
       "      a.click();\n",
       "      div.remove();\n",
       "    }\n",
       "  "
      ],
      "text/plain": [
       "<IPython.core.display.Javascript object>"
      ]
     },
     "metadata": {
      "tags": []
     },
     "output_type": "display_data"
    },
    {
     "data": {
      "application/javascript": [
       "download(\"download_8a30fb2a-8786-4288-a8a2-f6601e766fa7\", \"Stack pred.csv\", 13680)"
      ],
      "text/plain": [
       "<IPython.core.display.Javascript object>"
      ]
     },
     "metadata": {
      "tags": []
     },
     "output_type": "display_data"
    }
   ],
   "source": [
    "stack_model(LSTM, 'Stack ')"
   ]
  },
  {
   "cell_type": "code",
   "execution_count": null,
   "metadata": {
    "colab": {
     "base_uri": "https://localhost:8080/",
     "height": 598
    },
    "id": "XnhnyDkn8O_t",
    "outputId": "eedfbe29-e2f3-4fa4-e698-7023bdb2358d"
   },
   "outputs": [
    {
     "name": "stdout",
     "output_type": "stream",
     "text": [
      "Model: \"sequential_12\"\n",
      "_________________________________________________________________\n",
      "Layer (type)                 Output Shape              Param #   \n",
      "=================================================================\n",
      "embedding_11 (Embedding)     (None, 37, 300)           4376700   \n",
      "_________________________________________________________________\n",
      "lstm_6 (LSTM)                (None, 37, 256)           570368    \n",
      "_________________________________________________________________\n",
      "lstm_7 (LSTM)                (None, 128)               197120    \n",
      "_________________________________________________________________\n",
      "dense_18 (Dense)             (None, 128)               16512     \n",
      "_________________________________________________________________\n",
      "dense_19 (Dense)             (None, 1)                 129       \n",
      "=================================================================\n",
      "Total params: 5,160,829\n",
      "Trainable params: 5,160,829\n",
      "Non-trainable params: 0\n",
      "_________________________________________________________________\n",
      "Epoch 1/50\n",
      "223/223 [==============================] - 22s 81ms/step - loss: 0.5981 - accuracy: 0.7285 - val_loss: 0.5228 - val_accuracy: 0.8194\n",
      "Epoch 2/50\n",
      "223/223 [==============================] - 17s 78ms/step - loss: 0.5126 - accuracy: 0.8577 - val_loss: 0.5784 - val_accuracy: 0.8220\n",
      "Epoch 3/50\n",
      "223/223 [==============================] - 17s 77ms/step - loss: 0.5260 - accuracy: 0.8112 - val_loss: 0.5561 - val_accuracy: 0.7765\n",
      "Epoch 4/50\n",
      "223/223 [==============================] - 17s 77ms/step - loss: 0.4876 - accuracy: 0.8401 - val_loss: 0.5501 - val_accuracy: 0.7967\n",
      "Epoch 5/50\n",
      "223/223 [==============================] - 17s 74ms/step - loss: 0.5252 - accuracy: 0.8469 - val_loss: 0.5615 - val_accuracy: 0.7955\n",
      "Epoch 6/50\n",
      "223/223 [==============================] - 16s 74ms/step - loss: 0.5323 - accuracy: 0.8472 - val_loss: 0.5838 - val_accuracy: 0.7879\n"
     ]
    },
    {
     "name": "stderr",
     "output_type": "stream",
     "text": [
      "/usr/local/lib/python3.7/dist-packages/tensorflow/python/keras/engine/sequential.py:455: UserWarning: `model.predict_classes()` is deprecated and will be removed after 2021-01-01. Please use instead:* `np.argmax(model.predict(x), axis=-1)`,   if your model does multi-class classification   (e.g. if it uses a `softmax` last-layer activation).* `(model.predict(x) > 0.5).astype(\"int32\")`,   if your model does binary classification   (e.g. if it uses a `sigmoid` last-layer activation).\n",
      "  warnings.warn('`model.predict_classes()` is deprecated and '\n"
     ]
    },
    {
     "name": "stdout",
     "output_type": "stream",
     "text": [
      "Stack_class_LSTM \n"
     ]
    },
    {
     "data": {
      "application/javascript": [
       "\n",
       "    async function download(id, filename, size) {\n",
       "      if (!google.colab.kernel.accessAllowed) {\n",
       "        return;\n",
       "      }\n",
       "      const div = document.createElement('div');\n",
       "      const label = document.createElement('label');\n",
       "      label.textContent = `Downloading \"${filename}\": `;\n",
       "      div.appendChild(label);\n",
       "      const progress = document.createElement('progress');\n",
       "      progress.max = size;\n",
       "      div.appendChild(progress);\n",
       "      document.body.appendChild(div);\n",
       "\n",
       "      const buffers = [];\n",
       "      let downloaded = 0;\n",
       "\n",
       "      const channel = await google.colab.kernel.comms.open(id);\n",
       "      // Send a message to notify the kernel that we're ready.\n",
       "      channel.send({})\n",
       "\n",
       "      for await (const message of channel.messages) {\n",
       "        // Send a message to notify the kernel that we're ready.\n",
       "        channel.send({})\n",
       "        if (message.buffers) {\n",
       "          for (const buffer of message.buffers) {\n",
       "            buffers.push(buffer);\n",
       "            downloaded += buffer.byteLength;\n",
       "            progress.value = downloaded;\n",
       "          }\n",
       "        }\n",
       "      }\n",
       "      const blob = new Blob(buffers, {type: 'application/binary'});\n",
       "      const a = document.createElement('a');\n",
       "      a.href = window.URL.createObjectURL(blob);\n",
       "      a.download = filename;\n",
       "      div.appendChild(a);\n",
       "      a.click();\n",
       "      div.remove();\n",
       "    }\n",
       "  "
      ],
      "text/plain": [
       "<IPython.core.display.Javascript object>"
      ]
     },
     "metadata": {
      "tags": []
     },
     "output_type": "display_data"
    },
    {
     "data": {
      "application/javascript": [
       "download(\"download_80c75b92-0dd0-4455-b9f0-6576e720b3de\", \"Stack_class_LSTM pred.csv\", 13680)"
      ],
      "text/plain": [
       "<IPython.core.display.Javascript object>"
      ]
     },
     "metadata": {
      "tags": []
     },
     "output_type": "display_data"
    }
   ],
   "source": [
    "stack_model(LSTM, 'Stack_class_LSTM ', class_weight=True)"
   ]
  },
  {
   "cell_type": "code",
   "execution_count": null,
   "metadata": {
    "colab": {
     "base_uri": "https://localhost:8080/",
     "height": 666
    },
    "id": "Zx-O8NSx-3f8",
    "outputId": "5f76d8c2-bace-4430-8683-371d9d2707b7"
   },
   "outputs": [
    {
     "name": "stdout",
     "output_type": "stream",
     "text": [
      "Model: \"sequential_13\"\n",
      "_________________________________________________________________\n",
      "Layer (type)                 Output Shape              Param #   \n",
      "=================================================================\n",
      "embedding_12 (Embedding)     (None, 37, 300)           4376700   \n",
      "_________________________________________________________________\n",
      "gru_4 (GRU)                  (None, 37, 256)           428544    \n",
      "_________________________________________________________________\n",
      "gru_5 (GRU)                  (None, 128)               148224    \n",
      "_________________________________________________________________\n",
      "dense_20 (Dense)             (None, 128)               16512     \n",
      "_________________________________________________________________\n",
      "dense_21 (Dense)             (None, 1)                 129       \n",
      "=================================================================\n",
      "Total params: 4,970,109\n",
      "Trainable params: 4,970,109\n",
      "Non-trainable params: 0\n",
      "_________________________________________________________________\n",
      "Epoch 1/50\n",
      "223/223 [==============================] - 21s 76ms/step - loss: 0.5750 - accuracy: 0.7455 - val_loss: 0.5865 - val_accuracy: 0.7323\n",
      "Epoch 2/50\n",
      "223/223 [==============================] - 16s 73ms/step - loss: 0.4742 - accuracy: 0.7883 - val_loss: 0.2941 - val_accuracy: 0.8902\n",
      "Epoch 3/50\n",
      "223/223 [==============================] - 16s 73ms/step - loss: 0.2204 - accuracy: 0.9116 - val_loss: 0.2715 - val_accuracy: 0.8775\n",
      "Epoch 4/50\n",
      "223/223 [==============================] - 16s 72ms/step - loss: 0.1166 - accuracy: 0.9579 - val_loss: 0.3228 - val_accuracy: 0.8788\n",
      "Epoch 5/50\n",
      "223/223 [==============================] - 16s 72ms/step - loss: 0.0707 - accuracy: 0.9770 - val_loss: 0.4158 - val_accuracy: 0.8712\n",
      "Epoch 6/50\n",
      "223/223 [==============================] - 16s 72ms/step - loss: 0.0508 - accuracy: 0.9850 - val_loss: 0.4945 - val_accuracy: 0.8611\n",
      "Epoch 7/50\n",
      "223/223 [==============================] - 16s 70ms/step - loss: 0.0342 - accuracy: 0.9893 - val_loss: 0.5269 - val_accuracy: 0.8586\n",
      "Epoch 8/50\n",
      "223/223 [==============================] - 16s 71ms/step - loss: 0.0287 - accuracy: 0.9910 - val_loss: 0.5470 - val_accuracy: 0.8460\n"
     ]
    },
    {
     "name": "stderr",
     "output_type": "stream",
     "text": [
      "/usr/local/lib/python3.7/dist-packages/tensorflow/python/keras/engine/sequential.py:455: UserWarning: `model.predict_classes()` is deprecated and will be removed after 2021-01-01. Please use instead:* `np.argmax(model.predict(x), axis=-1)`,   if your model does multi-class classification   (e.g. if it uses a `softmax` last-layer activation).* `(model.predict(x) > 0.5).astype(\"int32\")`,   if your model does binary classification   (e.g. if it uses a `sigmoid` last-layer activation).\n",
      "  warnings.warn('`model.predict_classes()` is deprecated and '\n"
     ]
    },
    {
     "name": "stdout",
     "output_type": "stream",
     "text": [
      "Stack_GRU \n"
     ]
    },
    {
     "data": {
      "application/javascript": [
       "\n",
       "    async function download(id, filename, size) {\n",
       "      if (!google.colab.kernel.accessAllowed) {\n",
       "        return;\n",
       "      }\n",
       "      const div = document.createElement('div');\n",
       "      const label = document.createElement('label');\n",
       "      label.textContent = `Downloading \"${filename}\": `;\n",
       "      div.appendChild(label);\n",
       "      const progress = document.createElement('progress');\n",
       "      progress.max = size;\n",
       "      div.appendChild(progress);\n",
       "      document.body.appendChild(div);\n",
       "\n",
       "      const buffers = [];\n",
       "      let downloaded = 0;\n",
       "\n",
       "      const channel = await google.colab.kernel.comms.open(id);\n",
       "      // Send a message to notify the kernel that we're ready.\n",
       "      channel.send({})\n",
       "\n",
       "      for await (const message of channel.messages) {\n",
       "        // Send a message to notify the kernel that we're ready.\n",
       "        channel.send({})\n",
       "        if (message.buffers) {\n",
       "          for (const buffer of message.buffers) {\n",
       "            buffers.push(buffer);\n",
       "            downloaded += buffer.byteLength;\n",
       "            progress.value = downloaded;\n",
       "          }\n",
       "        }\n",
       "      }\n",
       "      const blob = new Blob(buffers, {type: 'application/binary'});\n",
       "      const a = document.createElement('a');\n",
       "      a.href = window.URL.createObjectURL(blob);\n",
       "      a.download = filename;\n",
       "      div.appendChild(a);\n",
       "      a.click();\n",
       "      div.remove();\n",
       "    }\n",
       "  "
      ],
      "text/plain": [
       "<IPython.core.display.Javascript object>"
      ]
     },
     "metadata": {
      "tags": []
     },
     "output_type": "display_data"
    },
    {
     "data": {
      "application/javascript": [
       "download(\"download_331a5f18-a7e3-4813-89b9-35c85ba3823c\", \"Stack_GRU pred.csv\", 13680)"
      ],
      "text/plain": [
       "<IPython.core.display.Javascript object>"
      ]
     },
     "metadata": {
      "tags": []
     },
     "output_type": "display_data"
    }
   ],
   "source": [
    "stack_model(GRU, 'Stack_GRU ', class_weight=False)"
   ]
  },
  {
   "cell_type": "code",
   "execution_count": null,
   "metadata": {
    "colab": {
     "base_uri": "https://localhost:8080/",
     "height": 462
    },
    "id": "_iTpyhi2_wTY",
    "outputId": "1bdd11b0-b882-468f-f242-7b48a329267e"
   },
   "outputs": [
    {
     "name": "stdout",
     "output_type": "stream",
     "text": [
      "Model: \"sequential_15\"\n",
      "_________________________________________________________________\n",
      "Layer (type)                 Output Shape              Param #   \n",
      "=================================================================\n",
      "embedding_14 (Embedding)     (None, 37, 300)           4376700   \n",
      "_________________________________________________________________\n",
      "gru_8 (GRU)                  (None, 37, 256)           428544    \n",
      "_________________________________________________________________\n",
      "gru_9 (GRU)                  (None, 128)               148224    \n",
      "_________________________________________________________________\n",
      "dense_24 (Dense)             (None, 128)               16512     \n",
      "_________________________________________________________________\n",
      "dense_25 (Dense)             (None, 1)                 129       \n",
      "=================================================================\n",
      "Total params: 4,970,109\n",
      "Trainable params: 4,970,109\n",
      "Non-trainable params: 0\n",
      "_________________________________________________________________\n",
      "Epoch 1/2\n",
      "223/223 [==============================] - 21s 76ms/step - loss: 0.5750 - accuracy: 0.7455 - val_loss: 0.5865 - val_accuracy: 0.7323\n",
      "Epoch 2/2\n",
      "223/223 [==============================] - 16s 73ms/step - loss: 0.4749 - accuracy: 0.7894 - val_loss: 0.2973 - val_accuracy: 0.8838\n"
     ]
    },
    {
     "name": "stderr",
     "output_type": "stream",
     "text": [
      "/usr/local/lib/python3.7/dist-packages/tensorflow/python/keras/engine/sequential.py:455: UserWarning: `model.predict_classes()` is deprecated and will be removed after 2021-01-01. Please use instead:* `np.argmax(model.predict(x), axis=-1)`,   if your model does multi-class classification   (e.g. if it uses a `softmax` last-layer activation).* `(model.predict(x) > 0.5).astype(\"int32\")`,   if your model does binary classification   (e.g. if it uses a `sigmoid` last-layer activation).\n",
      "  warnings.warn('`model.predict_classes()` is deprecated and '\n"
     ]
    },
    {
     "name": "stdout",
     "output_type": "stream",
     "text": [
      "Stack_GRU_2 \n"
     ]
    },
    {
     "data": {
      "application/javascript": [
       "\n",
       "    async function download(id, filename, size) {\n",
       "      if (!google.colab.kernel.accessAllowed) {\n",
       "        return;\n",
       "      }\n",
       "      const div = document.createElement('div');\n",
       "      const label = document.createElement('label');\n",
       "      label.textContent = `Downloading \"${filename}\": `;\n",
       "      div.appendChild(label);\n",
       "      const progress = document.createElement('progress');\n",
       "      progress.max = size;\n",
       "      div.appendChild(progress);\n",
       "      document.body.appendChild(div);\n",
       "\n",
       "      const buffers = [];\n",
       "      let downloaded = 0;\n",
       "\n",
       "      const channel = await google.colab.kernel.comms.open(id);\n",
       "      // Send a message to notify the kernel that we're ready.\n",
       "      channel.send({})\n",
       "\n",
       "      for await (const message of channel.messages) {\n",
       "        // Send a message to notify the kernel that we're ready.\n",
       "        channel.send({})\n",
       "        if (message.buffers) {\n",
       "          for (const buffer of message.buffers) {\n",
       "            buffers.push(buffer);\n",
       "            downloaded += buffer.byteLength;\n",
       "            progress.value = downloaded;\n",
       "          }\n",
       "        }\n",
       "      }\n",
       "      const blob = new Blob(buffers, {type: 'application/binary'});\n",
       "      const a = document.createElement('a');\n",
       "      a.href = window.URL.createObjectURL(blob);\n",
       "      a.download = filename;\n",
       "      div.appendChild(a);\n",
       "      a.click();\n",
       "      div.remove();\n",
       "    }\n",
       "  "
      ],
      "text/plain": [
       "<IPython.core.display.Javascript object>"
      ]
     },
     "metadata": {
      "tags": []
     },
     "output_type": "display_data"
    },
    {
     "data": {
      "application/javascript": [
       "download(\"download_df33743f-728b-49e3-851d-8c2e495f08e2\", \"Stack_GRU_2 pred.csv\", 13680)"
      ],
      "text/plain": [
       "<IPython.core.display.Javascript object>"
      ]
     },
     "metadata": {
      "tags": []
     },
     "output_type": "display_data"
    }
   ],
   "source": [
    "stack_model(GRU, 'Stack_GRU_2 ', epochs=2)"
   ]
  },
  {
   "cell_type": "code",
   "execution_count": null,
   "metadata": {
    "id": "N4ZF6B46Af85"
   },
   "outputs": [],
   "source": [
    "def bidirect_model(layer_name, filename, epochs=50, final_pred = True, class_weight=False):\n",
    "    SEED = 42\n",
    "    np.random.seed(SEED)\n",
    "    tf.random.set_seed(SEED)\n",
    "\n",
    "    EMBEDDING_DIM = 300 #Dimension for dense embedding for each token\n",
    "    VOCAB_SIZE = len(tokenzer_sp.word_index)\n",
    "    model = Sequential()\n",
    "    model.add((Embedding(input_dim =VOCAB_SIZE+1,output_dim = EMBEDDING_DIM,input_length = MAX_SEQUENCE_LENGTH)))\n",
    "    model.add(Bidirectional(layer_name(256, return_sequences= True)))\n",
    "    model.add(Bidirectional(layer_name(128, return_sequences= False)))\n",
    "    model.add((Dense(256,activation = 'relu')))\n",
    "    model.add(Dense(1,activation = 'sigmoid'))\n",
    "\n",
    "    model.compile(loss = tf.keras.losses.BinaryCrossentropy(),optimizer=\"adam\",metrics =['accuracy'])\n",
    "    model.summary()\n",
    "    fit_the_model(model, filename=filename, epochs=epochs, verbose=1, final_pred = final_pred, class_weight=class_weight)"
   ]
  },
  {
   "cell_type": "code",
   "execution_count": null,
   "metadata": {
    "colab": {
     "base_uri": "https://localhost:8080/",
     "height": 598
    },
    "id": "iAQsDbaTBgl4",
    "outputId": "01f02e5f-1188-4059-ca3b-e17ef6d596a4"
   },
   "outputs": [
    {
     "name": "stdout",
     "output_type": "stream",
     "text": [
      "Model: \"sequential_16\"\n",
      "_________________________________________________________________\n",
      "Layer (type)                 Output Shape              Param #   \n",
      "=================================================================\n",
      "embedding_15 (Embedding)     (None, 37, 300)           4376700   \n",
      "_________________________________________________________________\n",
      "bidirectional (Bidirectional (None, 37, 512)           1140736   \n",
      "_________________________________________________________________\n",
      "bidirectional_1 (Bidirection (None, 256)               656384    \n",
      "_________________________________________________________________\n",
      "dense_26 (Dense)             (None, 256)               65792     \n",
      "_________________________________________________________________\n",
      "dense_27 (Dense)             (None, 1)                 257       \n",
      "=================================================================\n",
      "Total params: 6,239,869\n",
      "Trainable params: 6,239,869\n",
      "Non-trainable params: 0\n",
      "_________________________________________________________________\n",
      "Epoch 1/50\n",
      "223/223 [==============================] - 32s 112ms/step - loss: 0.3377 - accuracy: 0.8517 - val_loss: 0.2556 - val_accuracy: 0.8838\n",
      "Epoch 2/50\n",
      "223/223 [==============================] - 23s 104ms/step - loss: 0.1554 - accuracy: 0.9402 - val_loss: 0.2655 - val_accuracy: 0.8763\n",
      "Epoch 3/50\n",
      "223/223 [==============================] - 23s 105ms/step - loss: 0.0829 - accuracy: 0.9711 - val_loss: 0.3175 - val_accuracy: 0.8662\n",
      "Epoch 4/50\n",
      "223/223 [==============================] - 23s 104ms/step - loss: 0.0495 - accuracy: 0.9837 - val_loss: 0.4827 - val_accuracy: 0.8687\n",
      "Epoch 5/50\n",
      "223/223 [==============================] - 24s 106ms/step - loss: 0.0344 - accuracy: 0.9870 - val_loss: 0.5545 - val_accuracy: 0.8611\n",
      "Epoch 6/50\n",
      "223/223 [==============================] - 23s 104ms/step - loss: 0.0229 - accuracy: 0.9923 - val_loss: 0.8155 - val_accuracy: 0.8548\n"
     ]
    },
    {
     "name": "stderr",
     "output_type": "stream",
     "text": [
      "/usr/local/lib/python3.7/dist-packages/tensorflow/python/keras/engine/sequential.py:455: UserWarning: `model.predict_classes()` is deprecated and will be removed after 2021-01-01. Please use instead:* `np.argmax(model.predict(x), axis=-1)`,   if your model does multi-class classification   (e.g. if it uses a `softmax` last-layer activation).* `(model.predict(x) > 0.5).astype(\"int32\")`,   if your model does binary classification   (e.g. if it uses a `sigmoid` last-layer activation).\n",
      "  warnings.warn('`model.predict_classes()` is deprecated and '\n"
     ]
    },
    {
     "name": "stdout",
     "output_type": "stream",
     "text": [
      "LSTM \n"
     ]
    },
    {
     "data": {
      "application/javascript": [
       "\n",
       "    async function download(id, filename, size) {\n",
       "      if (!google.colab.kernel.accessAllowed) {\n",
       "        return;\n",
       "      }\n",
       "      const div = document.createElement('div');\n",
       "      const label = document.createElement('label');\n",
       "      label.textContent = `Downloading \"${filename}\": `;\n",
       "      div.appendChild(label);\n",
       "      const progress = document.createElement('progress');\n",
       "      progress.max = size;\n",
       "      div.appendChild(progress);\n",
       "      document.body.appendChild(div);\n",
       "\n",
       "      const buffers = [];\n",
       "      let downloaded = 0;\n",
       "\n",
       "      const channel = await google.colab.kernel.comms.open(id);\n",
       "      // Send a message to notify the kernel that we're ready.\n",
       "      channel.send({})\n",
       "\n",
       "      for await (const message of channel.messages) {\n",
       "        // Send a message to notify the kernel that we're ready.\n",
       "        channel.send({})\n",
       "        if (message.buffers) {\n",
       "          for (const buffer of message.buffers) {\n",
       "            buffers.push(buffer);\n",
       "            downloaded += buffer.byteLength;\n",
       "            progress.value = downloaded;\n",
       "          }\n",
       "        }\n",
       "      }\n",
       "      const blob = new Blob(buffers, {type: 'application/binary'});\n",
       "      const a = document.createElement('a');\n",
       "      a.href = window.URL.createObjectURL(blob);\n",
       "      a.download = filename;\n",
       "      div.appendChild(a);\n",
       "      a.click();\n",
       "      div.remove();\n",
       "    }\n",
       "  "
      ],
      "text/plain": [
       "<IPython.core.display.Javascript object>"
      ]
     },
     "metadata": {
      "tags": []
     },
     "output_type": "display_data"
    },
    {
     "data": {
      "application/javascript": [
       "download(\"download_e490077d-8f36-476d-8133-63f1b12bc18c\", \"LSTM pred.csv\", 13680)"
      ],
      "text/plain": [
       "<IPython.core.display.Javascript object>"
      ]
     },
     "metadata": {
      "tags": []
     },
     "output_type": "display_data"
    }
   ],
   "source": [
    "bidirect_model(LSTM, 'LSTM ')"
   ]
  },
  {
   "cell_type": "code",
   "execution_count": null,
   "metadata": {
    "colab": {
     "base_uri": "https://localhost:8080/",
     "height": 411
    },
    "id": "awkXlmvoBnQF",
    "outputId": "9b48dab1-4497-42bd-c66e-41640d476f1e"
   },
   "outputs": [
    {
     "name": "stdout",
     "output_type": "stream",
     "text": [
      "Model: \"sequential_18\"\n",
      "_________________________________________________________________\n",
      "Layer (type)                 Output Shape              Param #   \n",
      "=================================================================\n",
      "embedding_17 (Embedding)     (None, 37, 300)           4376700   \n",
      "_________________________________________________________________\n",
      "bidirectional_4 (Bidirection (None, 37, 512)           1140736   \n",
      "_________________________________________________________________\n",
      "bidirectional_5 (Bidirection (None, 256)               656384    \n",
      "_________________________________________________________________\n",
      "dense_30 (Dense)             (None, 256)               65792     \n",
      "_________________________________________________________________\n",
      "dense_31 (Dense)             (None, 1)                 257       \n",
      "=================================================================\n",
      "Total params: 6,239,869\n",
      "Trainable params: 6,239,869\n",
      "Non-trainable params: 0\n",
      "_________________________________________________________________\n",
      "223/223 [==============================] - 33s 118ms/step - loss: 0.3377 - accuracy: 0.8517 - val_loss: 0.2556 - val_accuracy: 0.8838\n"
     ]
    },
    {
     "name": "stderr",
     "output_type": "stream",
     "text": [
      "/usr/local/lib/python3.7/dist-packages/tensorflow/python/keras/engine/sequential.py:455: UserWarning: `model.predict_classes()` is deprecated and will be removed after 2021-01-01. Please use instead:* `np.argmax(model.predict(x), axis=-1)`,   if your model does multi-class classification   (e.g. if it uses a `softmax` last-layer activation).* `(model.predict(x) > 0.5).astype(\"int32\")`,   if your model does binary classification   (e.g. if it uses a `sigmoid` last-layer activation).\n",
      "  warnings.warn('`model.predict_classes()` is deprecated and '\n"
     ]
    },
    {
     "name": "stdout",
     "output_type": "stream",
     "text": [
      "LSTM_1 \n"
     ]
    },
    {
     "data": {
      "application/javascript": [
       "\n",
       "    async function download(id, filename, size) {\n",
       "      if (!google.colab.kernel.accessAllowed) {\n",
       "        return;\n",
       "      }\n",
       "      const div = document.createElement('div');\n",
       "      const label = document.createElement('label');\n",
       "      label.textContent = `Downloading \"${filename}\": `;\n",
       "      div.appendChild(label);\n",
       "      const progress = document.createElement('progress');\n",
       "      progress.max = size;\n",
       "      div.appendChild(progress);\n",
       "      document.body.appendChild(div);\n",
       "\n",
       "      const buffers = [];\n",
       "      let downloaded = 0;\n",
       "\n",
       "      const channel = await google.colab.kernel.comms.open(id);\n",
       "      // Send a message to notify the kernel that we're ready.\n",
       "      channel.send({})\n",
       "\n",
       "      for await (const message of channel.messages) {\n",
       "        // Send a message to notify the kernel that we're ready.\n",
       "        channel.send({})\n",
       "        if (message.buffers) {\n",
       "          for (const buffer of message.buffers) {\n",
       "            buffers.push(buffer);\n",
       "            downloaded += buffer.byteLength;\n",
       "            progress.value = downloaded;\n",
       "          }\n",
       "        }\n",
       "      }\n",
       "      const blob = new Blob(buffers, {type: 'application/binary'});\n",
       "      const a = document.createElement('a');\n",
       "      a.href = window.URL.createObjectURL(blob);\n",
       "      a.download = filename;\n",
       "      div.appendChild(a);\n",
       "      a.click();\n",
       "      div.remove();\n",
       "    }\n",
       "  "
      ],
      "text/plain": [
       "<IPython.core.display.Javascript object>"
      ]
     },
     "metadata": {
      "tags": []
     },
     "output_type": "display_data"
    },
    {
     "data": {
      "application/javascript": [
       "download(\"download_9da4459c-15db-4409-9ff5-ab53c4193b8d\", \"LSTM_1 pred.csv\", 13680)"
      ],
      "text/plain": [
       "<IPython.core.display.Javascript object>"
      ]
     },
     "metadata": {
      "tags": []
     },
     "output_type": "display_data"
    }
   ],
   "source": [
    "bidirect_model(LSTM, 'LSTM_1 ', epochs=1)"
   ]
  },
  {
   "cell_type": "code",
   "execution_count": null,
   "metadata": {
    "colab": {
     "base_uri": "https://localhost:8080/",
     "height": 598
    },
    "id": "m4VEsss9Csdq",
    "outputId": "895d18c3-6b79-469e-e618-8acecc8f0688"
   },
   "outputs": [
    {
     "name": "stdout",
     "output_type": "stream",
     "text": [
      "Model: \"sequential_19\"\n",
      "_________________________________________________________________\n",
      "Layer (type)                 Output Shape              Param #   \n",
      "=================================================================\n",
      "embedding_18 (Embedding)     (None, 37, 300)           4376700   \n",
      "_________________________________________________________________\n",
      "bidirectional_6 (Bidirection (None, 37, 512)           857088    \n",
      "_________________________________________________________________\n",
      "bidirectional_7 (Bidirection (None, 256)               493056    \n",
      "_________________________________________________________________\n",
      "dense_32 (Dense)             (None, 256)               65792     \n",
      "_________________________________________________________________\n",
      "dense_33 (Dense)             (None, 1)                 257       \n",
      "=================================================================\n",
      "Total params: 5,792,893\n",
      "Trainable params: 5,792,893\n",
      "Non-trainable params: 0\n",
      "_________________________________________________________________\n",
      "Epoch 1/50\n",
      "223/223 [==============================] - 31s 108ms/step - loss: 0.3212 - accuracy: 0.8587 - val_loss: 0.2488 - val_accuracy: 0.8939\n",
      "Epoch 2/50\n",
      "223/223 [==============================] - 23s 102ms/step - loss: 0.1450 - accuracy: 0.9442 - val_loss: 0.2665 - val_accuracy: 0.8813\n",
      "Epoch 3/50\n",
      "223/223 [==============================] - 23s 102ms/step - loss: 0.0827 - accuracy: 0.9719 - val_loss: 0.4131 - val_accuracy: 0.8573\n",
      "Epoch 4/50\n",
      "223/223 [==============================] - 23s 102ms/step - loss: 0.0557 - accuracy: 0.9813 - val_loss: 0.4040 - val_accuracy: 0.8548\n",
      "Epoch 5/50\n",
      "223/223 [==============================] - 23s 101ms/step - loss: 0.0332 - accuracy: 0.9891 - val_loss: 0.5161 - val_accuracy: 0.8434\n",
      "Epoch 6/50\n",
      "223/223 [==============================] - 23s 102ms/step - loss: 0.0202 - accuracy: 0.9933 - val_loss: 0.6315 - val_accuracy: 0.8523\n"
     ]
    },
    {
     "name": "stderr",
     "output_type": "stream",
     "text": [
      "/usr/local/lib/python3.7/dist-packages/tensorflow/python/keras/engine/sequential.py:455: UserWarning: `model.predict_classes()` is deprecated and will be removed after 2021-01-01. Please use instead:* `np.argmax(model.predict(x), axis=-1)`,   if your model does multi-class classification   (e.g. if it uses a `softmax` last-layer activation).* `(model.predict(x) > 0.5).astype(\"int32\")`,   if your model does binary classification   (e.g. if it uses a `sigmoid` last-layer activation).\n",
      "  warnings.warn('`model.predict_classes()` is deprecated and '\n"
     ]
    },
    {
     "name": "stdout",
     "output_type": "stream",
     "text": [
      "GRU_BI \n"
     ]
    },
    {
     "data": {
      "application/javascript": [
       "\n",
       "    async function download(id, filename, size) {\n",
       "      if (!google.colab.kernel.accessAllowed) {\n",
       "        return;\n",
       "      }\n",
       "      const div = document.createElement('div');\n",
       "      const label = document.createElement('label');\n",
       "      label.textContent = `Downloading \"${filename}\": `;\n",
       "      div.appendChild(label);\n",
       "      const progress = document.createElement('progress');\n",
       "      progress.max = size;\n",
       "      div.appendChild(progress);\n",
       "      document.body.appendChild(div);\n",
       "\n",
       "      const buffers = [];\n",
       "      let downloaded = 0;\n",
       "\n",
       "      const channel = await google.colab.kernel.comms.open(id);\n",
       "      // Send a message to notify the kernel that we're ready.\n",
       "      channel.send({})\n",
       "\n",
       "      for await (const message of channel.messages) {\n",
       "        // Send a message to notify the kernel that we're ready.\n",
       "        channel.send({})\n",
       "        if (message.buffers) {\n",
       "          for (const buffer of message.buffers) {\n",
       "            buffers.push(buffer);\n",
       "            downloaded += buffer.byteLength;\n",
       "            progress.value = downloaded;\n",
       "          }\n",
       "        }\n",
       "      }\n",
       "      const blob = new Blob(buffers, {type: 'application/binary'});\n",
       "      const a = document.createElement('a');\n",
       "      a.href = window.URL.createObjectURL(blob);\n",
       "      a.download = filename;\n",
       "      div.appendChild(a);\n",
       "      a.click();\n",
       "      div.remove();\n",
       "    }\n",
       "  "
      ],
      "text/plain": [
       "<IPython.core.display.Javascript object>"
      ]
     },
     "metadata": {
      "tags": []
     },
     "output_type": "display_data"
    },
    {
     "data": {
      "application/javascript": [
       "download(\"download_2fd23bf4-eafc-4e70-b12f-f4dfe8d9abd3\", \"GRU_BI pred.csv\", 13680)"
      ],
      "text/plain": [
       "<IPython.core.display.Javascript object>"
      ]
     },
     "metadata": {
      "tags": []
     },
     "output_type": "display_data"
    }
   ],
   "source": [
    "bidirect_model(GRU, 'GRU_BI ',)"
   ]
  },
  {
   "cell_type": "code",
   "execution_count": null,
   "metadata": {
    "colab": {
     "base_uri": "https://localhost:8080/",
     "height": 411
    },
    "id": "KWtURgh1DSRz",
    "outputId": "35d609ff-ac4a-409d-efdb-e1183e571e36"
   },
   "outputs": [
    {
     "name": "stdout",
     "output_type": "stream",
     "text": [
      "Model: \"sequential_2\"\n",
      "_________________________________________________________________\n",
      "Layer (type)                 Output Shape              Param #   \n",
      "=================================================================\n",
      "embedding_2 (Embedding)      (None, 47, 300)           3035400   \n",
      "_________________________________________________________________\n",
      "bidirectional_4 (Bidirection (None, 47, 512)           857088    \n",
      "_________________________________________________________________\n",
      "bidirectional_5 (Bidirection (None, 256)               493056    \n",
      "_________________________________________________________________\n",
      "dense_4 (Dense)              (None, 256)               65792     \n",
      "_________________________________________________________________\n",
      "dense_5 (Dense)              (None, 1)                 257       \n",
      "=================================================================\n",
      "Total params: 4,451,593\n",
      "Trainable params: 4,451,593\n",
      "Non-trainable params: 0\n",
      "_________________________________________________________________\n",
      "223/223 [==============================] - 17s 51ms/step - loss: 0.3132 - accuracy: 0.8615 - val_loss: 0.2399 - val_accuracy: 0.8990\n"
     ]
    },
    {
     "name": "stderr",
     "output_type": "stream",
     "text": [
      "/usr/local/lib/python3.7/dist-packages/tensorflow/python/keras/engine/sequential.py:455: UserWarning: `model.predict_classes()` is deprecated and will be removed after 2021-01-01. Please use instead:* `np.argmax(model.predict(x), axis=-1)`,   if your model does multi-class classification   (e.g. if it uses a `softmax` last-layer activation).* `(model.predict(x) > 0.5).astype(\"int32\")`,   if your model does binary classification   (e.g. if it uses a `sigmoid` last-layer activation).\n",
      "  warnings.warn('`model.predict_classes()` is deprecated and '\n"
     ]
    },
    {
     "name": "stdout",
     "output_type": "stream",
     "text": [
      "GRU_BI_1 \n"
     ]
    },
    {
     "data": {
      "application/javascript": [
       "\n",
       "    async function download(id, filename, size) {\n",
       "      if (!google.colab.kernel.accessAllowed) {\n",
       "        return;\n",
       "      }\n",
       "      const div = document.createElement('div');\n",
       "      const label = document.createElement('label');\n",
       "      label.textContent = `Downloading \"${filename}\": `;\n",
       "      div.appendChild(label);\n",
       "      const progress = document.createElement('progress');\n",
       "      progress.max = size;\n",
       "      div.appendChild(progress);\n",
       "      document.body.appendChild(div);\n",
       "\n",
       "      const buffers = [];\n",
       "      let downloaded = 0;\n",
       "\n",
       "      const channel = await google.colab.kernel.comms.open(id);\n",
       "      // Send a message to notify the kernel that we're ready.\n",
       "      channel.send({})\n",
       "\n",
       "      for await (const message of channel.messages) {\n",
       "        // Send a message to notify the kernel that we're ready.\n",
       "        channel.send({})\n",
       "        if (message.buffers) {\n",
       "          for (const buffer of message.buffers) {\n",
       "            buffers.push(buffer);\n",
       "            downloaded += buffer.byteLength;\n",
       "            progress.value = downloaded;\n",
       "          }\n",
       "        }\n",
       "      }\n",
       "      const blob = new Blob(buffers, {type: 'application/binary'});\n",
       "      const a = document.createElement('a');\n",
       "      a.href = window.URL.createObjectURL(blob);\n",
       "      a.download = filename;\n",
       "      div.appendChild(a);\n",
       "      a.click();\n",
       "      div.remove();\n",
       "    }\n",
       "  "
      ],
      "text/plain": [
       "<IPython.core.display.Javascript object>"
      ]
     },
     "metadata": {
      "tags": []
     },
     "output_type": "display_data"
    },
    {
     "data": {
      "application/javascript": [
       "download(\"download_1f9f18da-28cb-444d-9151-84fd5edb3f5b\", \"GRU_BI_1 pred.csv\", 13680)"
      ],
      "text/plain": [
       "<IPython.core.display.Javascript object>"
      ]
     },
     "metadata": {
      "tags": []
     },
     "output_type": "display_data"
    }
   ],
   "source": [
    "bidirect_model(GRU, 'GRU_BI_1 ',epochs=1)"
   ]
  },
  {
   "cell_type": "code",
   "execution_count": null,
   "metadata": {
    "colab": {
     "base_uri": "https://localhost:8080/"
    },
    "id": "6qpdOeIvZj5Z",
    "outputId": "e561bf03-f25b-49d2-c40d-322282b72073"
   },
   "outputs": [
    {
     "name": "stdout",
     "output_type": "stream",
     "text": [
      "Collecting en_core_web_md==2.2.5\n",
      "  Downloading https://github.com/explosion/spacy-models/releases/download/en_core_web_md-2.2.5/en_core_web_md-2.2.5.tar.gz (96.4 MB)\n",
      "\u001b[K     |████████████████████████████████| 96.4 MB 1.2 MB/s \n",
      "\u001b[?25hRequirement already satisfied: spacy>=2.2.2 in /usr/local/lib/python3.7/dist-packages (from en_core_web_md==2.2.5) (2.2.4)\n",
      "Requirement already satisfied: murmurhash<1.1.0,>=0.28.0 in /usr/local/lib/python3.7/dist-packages (from spacy>=2.2.2->en_core_web_md==2.2.5) (1.0.5)\n",
      "Requirement already satisfied: numpy>=1.15.0 in /usr/local/lib/python3.7/dist-packages (from spacy>=2.2.2->en_core_web_md==2.2.5) (1.19.5)\n",
      "Requirement already satisfied: tqdm<5.0.0,>=4.38.0 in /usr/local/lib/python3.7/dist-packages (from spacy>=2.2.2->en_core_web_md==2.2.5) (4.62.0)\n",
      "Requirement already satisfied: catalogue<1.1.0,>=0.0.7 in /usr/local/lib/python3.7/dist-packages (from spacy>=2.2.2->en_core_web_md==2.2.5) (1.0.0)\n",
      "Requirement already satisfied: setuptools in /usr/local/lib/python3.7/dist-packages (from spacy>=2.2.2->en_core_web_md==2.2.5) (57.2.0)\n",
      "Requirement already satisfied: cymem<2.1.0,>=2.0.2 in /usr/local/lib/python3.7/dist-packages (from spacy>=2.2.2->en_core_web_md==2.2.5) (2.0.5)\n",
      "Requirement already satisfied: plac<1.2.0,>=0.9.6 in /usr/local/lib/python3.7/dist-packages (from spacy>=2.2.2->en_core_web_md==2.2.5) (1.1.3)\n",
      "Requirement already satisfied: requests<3.0.0,>=2.13.0 in /usr/local/lib/python3.7/dist-packages (from spacy>=2.2.2->en_core_web_md==2.2.5) (2.23.0)\n",
      "Requirement already satisfied: thinc==7.4.0 in /usr/local/lib/python3.7/dist-packages (from spacy>=2.2.2->en_core_web_md==2.2.5) (7.4.0)\n",
      "Requirement already satisfied: srsly<1.1.0,>=1.0.2 in /usr/local/lib/python3.7/dist-packages (from spacy>=2.2.2->en_core_web_md==2.2.5) (1.0.5)\n",
      "Requirement already satisfied: wasabi<1.1.0,>=0.4.0 in /usr/local/lib/python3.7/dist-packages (from spacy>=2.2.2->en_core_web_md==2.2.5) (0.8.2)\n",
      "Requirement already satisfied: preshed<3.1.0,>=3.0.2 in /usr/local/lib/python3.7/dist-packages (from spacy>=2.2.2->en_core_web_md==2.2.5) (3.0.5)\n",
      "Requirement already satisfied: blis<0.5.0,>=0.4.0 in /usr/local/lib/python3.7/dist-packages (from spacy>=2.2.2->en_core_web_md==2.2.5) (0.4.1)\n",
      "Requirement already satisfied: importlib-metadata>=0.20 in /usr/local/lib/python3.7/dist-packages (from catalogue<1.1.0,>=0.0.7->spacy>=2.2.2->en_core_web_md==2.2.5) (4.6.3)\n",
      "Requirement already satisfied: zipp>=0.5 in /usr/local/lib/python3.7/dist-packages (from importlib-metadata>=0.20->catalogue<1.1.0,>=0.0.7->spacy>=2.2.2->en_core_web_md==2.2.5) (3.5.0)\n",
      "Requirement already satisfied: typing-extensions>=3.6.4 in /usr/local/lib/python3.7/dist-packages (from importlib-metadata>=0.20->catalogue<1.1.0,>=0.0.7->spacy>=2.2.2->en_core_web_md==2.2.5) (3.7.4.3)\n",
      "Requirement already satisfied: certifi>=2017.4.17 in /usr/local/lib/python3.7/dist-packages (from requests<3.0.0,>=2.13.0->spacy>=2.2.2->en_core_web_md==2.2.5) (2021.5.30)\n",
      "Requirement already satisfied: idna<3,>=2.5 in /usr/local/lib/python3.7/dist-packages (from requests<3.0.0,>=2.13.0->spacy>=2.2.2->en_core_web_md==2.2.5) (2.10)\n",
      "Requirement already satisfied: chardet<4,>=3.0.2 in /usr/local/lib/python3.7/dist-packages (from requests<3.0.0,>=2.13.0->spacy>=2.2.2->en_core_web_md==2.2.5) (3.0.4)\n",
      "Requirement already satisfied: urllib3!=1.25.0,!=1.25.1,<1.26,>=1.21.1 in /usr/local/lib/python3.7/dist-packages (from requests<3.0.0,>=2.13.0->spacy>=2.2.2->en_core_web_md==2.2.5) (1.24.3)\n",
      "Building wheels for collected packages: en-core-web-md\n",
      "  Building wheel for en-core-web-md (setup.py) ... \u001b[?25l\u001b[?25hdone\n",
      "  Created wheel for en-core-web-md: filename=en_core_web_md-2.2.5-py3-none-any.whl size=98051302 sha256=9664e22f92ef00d7ddb4e3a860d5e46df2b1eb088cd026e50e228e520563a4f4\n",
      "  Stored in directory: /tmp/pip-ephem-wheel-cache-_3wose7q/wheels/69/c5/b8/4f1c029d89238734311b3269762ab2ee325a42da2ce8edb997\n",
      "Successfully built en-core-web-md\n",
      "Installing collected packages: en-core-web-md\n",
      "Successfully installed en-core-web-md-2.2.5\n",
      "\u001b[38;5;2m✔ Download and installation successful\u001b[0m\n",
      "You can now load the model via spacy.load('en_core_web_md')\n"
     ]
    }
   ],
   "source": [
    "!python -m spacy download en_core_web_md"
   ]
  },
  {
   "cell_type": "markdown",
   "metadata": {},
   "source": [
    "#### Glove Vector"
   ]
  },
  {
   "cell_type": "code",
   "execution_count": null,
   "metadata": {
    "colab": {
     "base_uri": "https://localhost:8080/"
    },
    "id": "TAulJpOxWDgu",
    "outputId": "328ec071-3948-446f-e884-7317de4f6795"
   },
   "outputs": [
    {
     "name": "stdout",
     "output_type": "stream",
     "text": [
      "Total word vectors: 20000\n"
     ]
    }
   ],
   "source": [
    "import spacy\n",
    "\n",
    "nlp = spacy.load('en_core_web_md')\n",
    "total_vectors = len(nlp.vocab.vectors)\n",
    "\n",
    "print('Total word vectors:', total_vectors)"
   ]
  },
  {
   "cell_type": "code",
   "execution_count": null,
   "metadata": {
    "id": "N1OrWAmCZiuX"
   },
   "outputs": [],
   "source": [
    "def glove_vector(text):\n",
    "  process_vec = []\n",
    "  for sent in text:\n",
    "    process_vec.append(nlp(sent).vector)\n",
    "  return process_vec"
   ]
  },
  {
   "cell_type": "code",
   "execution_count": null,
   "metadata": {
    "id": "mCZWUjZYbC0x"
   },
   "outputs": [],
   "source": [
    "train_vector = glove_vector(train_data_split)"
   ]
  },
  {
   "cell_type": "code",
   "execution_count": null,
   "metadata": {
    "id": "KGsr4vchfWk2"
   },
   "outputs": [],
   "source": [
    "test_vector = glove_vector(test_data_split)"
   ]
  },
  {
   "cell_type": "code",
   "execution_count": null,
   "metadata": {
    "id": "aIy_yqi6b9hU"
   },
   "outputs": [],
   "source": [
    "train_vector_re = np.array(train_vector).reshape(7920, 300, 1)"
   ]
  },
  {
   "cell_type": "code",
   "execution_count": null,
   "metadata": {
    "id": "fv29d88hhbqc"
   },
   "outputs": [],
   "source": [
    "test_vector_re = np.array(test_vector).reshape(-1, 300, 1)"
   ]
  },
  {
   "cell_type": "code",
   "execution_count": null,
   "metadata": {
    "colab": {
     "base_uri": "https://localhost:8080/"
    },
    "id": "TTRLIetObm6h",
    "outputId": "b705db5e-67fd-424f-9372-7ea108873ef2"
   },
   "outputs": [
    {
     "name": "stdout",
     "output_type": "stream",
     "text": [
      "Model: \"sequential_3\"\n",
      "_________________________________________________________________\n",
      "Layer (type)                 Output Shape              Param #   \n",
      "=================================================================\n",
      "gru_7 (GRU)                  (None, 300, 256)          198912    \n",
      "_________________________________________________________________\n",
      "bidirectional_4 (Bidirection (None, 300, 256)          296448    \n",
      "_________________________________________________________________\n",
      "bidirectional_5 (Bidirection (None, 256)               296448    \n",
      "_________________________________________________________________\n",
      "dense_6 (Dense)              (None, 256)               65792     \n",
      "_________________________________________________________________\n",
      "dense_7 (Dense)              (None, 1)                 257       \n",
      "=================================================================\n",
      "Total params: 857,857\n",
      "Trainable params: 857,857\n",
      "Non-trainable params: 0\n",
      "_________________________________________________________________\n"
     ]
    }
   ],
   "source": [
    "SEED = 42\n",
    "np.random.seed(SEED)\n",
    "tf.random.set_seed(SEED)\n",
    "model = Sequential()\n",
    "#model.add((Embedding(input_dim =VOCAB_SIZE+1,output_dim = EMBEDDING_DIM,input_length = MAX_SEQUENCE_LENGTH)))\n",
    "model.add((GRU(256, return_sequences= True, input_shape = (300,1))))\n",
    "model.add(Bidirectional(GRU(128, return_sequences= True)))\n",
    "model.add(Bidirectional(GRU(128, return_sequences= False)))\n",
    "\n",
    "model.add((Dense(256,activation = 'relu')))\n",
    "model.add(Dense(1,activation = 'sigmoid'))\n",
    "\n",
    "model.compile(loss = tf.keras.losses.BinaryCrossentropy(),optimizer=\"adam\",metrics =['accuracy'])\n",
    "model.summary()\n",
    "    #fit_the_model(model, filename=filename, epochs=epochs, verbose=1, final_pred = final_pred, class_weight=class_weight)"
   ]
  },
  {
   "cell_type": "code",
   "execution_count": null,
   "metadata": {
    "colab": {
     "base_uri": "https://localhost:8080/"
    },
    "id": "EjygKOBlbpEF",
    "outputId": "d264caaa-b3b3-4486-b8e1-b3288393ccd4"
   },
   "outputs": [
    {
     "name": "stdout",
     "output_type": "stream",
     "text": [
      "Epoch 1/50\n",
      "223/223 [==============================] - 23s 78ms/step - loss: 0.5021 - accuracy: 0.7731 - val_loss: 0.5019 - val_accuracy: 0.7765\n",
      "Epoch 2/50\n",
      "223/223 [==============================] - 15s 69ms/step - loss: 0.4322 - accuracy: 0.8044 - val_loss: 0.4540 - val_accuracy: 0.7702\n",
      "Epoch 3/50\n",
      "223/223 [==============================] - 15s 68ms/step - loss: 0.4062 - accuracy: 0.8185 - val_loss: 0.4077 - val_accuracy: 0.8093\n",
      "Epoch 4/50\n",
      "223/223 [==============================] - 15s 68ms/step - loss: 0.3871 - accuracy: 0.8267 - val_loss: 0.4207 - val_accuracy: 0.7980\n",
      "Epoch 5/50\n",
      "223/223 [==============================] - 15s 68ms/step - loss: 0.3756 - accuracy: 0.8328 - val_loss: 0.3960 - val_accuracy: 0.8182\n",
      "Epoch 6/50\n",
      "223/223 [==============================] - 15s 69ms/step - loss: 0.3614 - accuracy: 0.8347 - val_loss: 0.4037 - val_accuracy: 0.8283\n",
      "Epoch 7/50\n",
      "223/223 [==============================] - 15s 69ms/step - loss: 0.3495 - accuracy: 0.8433 - val_loss: 0.4538 - val_accuracy: 0.7588\n",
      "Epoch 8/50\n",
      "223/223 [==============================] - 15s 69ms/step - loss: 0.3419 - accuracy: 0.8468 - val_loss: 0.3992 - val_accuracy: 0.8157\n",
      "Epoch 9/50\n",
      "223/223 [==============================] - 15s 68ms/step - loss: 0.3353 - accuracy: 0.8513 - val_loss: 0.3667 - val_accuracy: 0.8346\n",
      "Epoch 10/50\n",
      "223/223 [==============================] - 15s 69ms/step - loss: 0.3248 - accuracy: 0.8552 - val_loss: 0.3396 - val_accuracy: 0.8523\n",
      "Epoch 11/50\n",
      "223/223 [==============================] - 15s 69ms/step - loss: 0.3172 - accuracy: 0.8601 - val_loss: 0.3647 - val_accuracy: 0.8346\n",
      "Epoch 12/50\n",
      "223/223 [==============================] - 15s 69ms/step - loss: 0.3046 - accuracy: 0.8622 - val_loss: 0.3610 - val_accuracy: 0.8321\n",
      "Epoch 13/50\n",
      "223/223 [==============================] - 15s 69ms/step - loss: 0.2937 - accuracy: 0.8702 - val_loss: 0.3651 - val_accuracy: 0.8384\n",
      "Epoch 14/50\n",
      "223/223 [==============================] - 15s 69ms/step - loss: 0.2808 - accuracy: 0.8771 - val_loss: 0.3500 - val_accuracy: 0.8447\n",
      "Epoch 15/50\n",
      "223/223 [==============================] - 15s 69ms/step - loss: 0.2724 - accuracy: 0.8782 - val_loss: 0.3329 - val_accuracy: 0.8611\n",
      "Epoch 16/50\n",
      "223/223 [==============================] - 15s 69ms/step - loss: 0.2632 - accuracy: 0.8844 - val_loss: 0.3641 - val_accuracy: 0.8548\n",
      "Epoch 17/50\n",
      "223/223 [==============================] - 15s 69ms/step - loss: 0.2499 - accuracy: 0.8921 - val_loss: 0.3785 - val_accuracy: 0.8333\n",
      "Epoch 18/50\n",
      "223/223 [==============================] - 15s 69ms/step - loss: 0.2298 - accuracy: 0.9029 - val_loss: 0.3695 - val_accuracy: 0.8472\n",
      "Epoch 19/50\n",
      "223/223 [==============================] - 15s 69ms/step - loss: 0.2091 - accuracy: 0.9113 - val_loss: 0.3977 - val_accuracy: 0.8220\n",
      "Epoch 20/50\n",
      "223/223 [==============================] - 15s 69ms/step - loss: 0.1941 - accuracy: 0.9160 - val_loss: 0.3704 - val_accuracy: 0.8460\n"
     ]
    },
    {
     "data": {
      "text/plain": [
       "<tensorflow.python.keras.callbacks.History at 0x7f26fc246f90>"
      ]
     },
     "execution_count": 52,
     "metadata": {
      "tags": []
     },
     "output_type": "execute_result"
    }
   ],
   "source": [
    "early_stop = EarlyStopping(monitor='val_loss', patience=5, mode='min')\n",
    "\n",
    "model.fit(train_vector_re, y, validation_split=0.1, epochs=50, callbacks = [early_stop])"
   ]
  },
  {
   "cell_type": "code",
   "execution_count": null,
   "metadata": {
    "colab": {
     "base_uri": "https://localhost:8080/"
    },
    "id": "T_751VtVcngx",
    "outputId": "b2cabf8c-644e-4b6b-ac7f-326dcb3b3346"
   },
   "outputs": [
    {
     "name": "stderr",
     "output_type": "stream",
     "text": [
      "/usr/local/lib/python3.7/dist-packages/tensorflow/python/keras/engine/sequential.py:455: UserWarning: `model.predict_classes()` is deprecated and will be removed after 2021-01-01. Please use instead:* `np.argmax(model.predict(x), axis=-1)`,   if your model does multi-class classification   (e.g. if it uses a `softmax` last-layer activation).* `(model.predict(x) > 0.5).astype(\"int32\")`,   if your model does binary classification   (e.g. if it uses a `sigmoid` last-layer activation).\n",
      "  warnings.warn('`model.predict_classes()` is deprecated and '\n"
     ]
    }
   ],
   "source": [
    "test_pred = model.predict_classes(test_vector_re)"
   ]
  },
  {
   "cell_type": "code",
   "execution_count": null,
   "metadata": {
    "colab": {
     "base_uri": "https://localhost:8080/",
     "height": 17
    },
    "id": "SL3mIOg5fg0X",
    "outputId": "91b081fd-3f22-46b4-dc7e-fa63b686cfd1"
   },
   "outputs": [
    {
     "data": {
      "application/javascript": [
       "\n",
       "    async function download(id, filename, size) {\n",
       "      if (!google.colab.kernel.accessAllowed) {\n",
       "        return;\n",
       "      }\n",
       "      const div = document.createElement('div');\n",
       "      const label = document.createElement('label');\n",
       "      label.textContent = `Downloading \"${filename}\": `;\n",
       "      div.appendChild(label);\n",
       "      const progress = document.createElement('progress');\n",
       "      progress.max = size;\n",
       "      div.appendChild(progress);\n",
       "      document.body.appendChild(div);\n",
       "\n",
       "      const buffers = [];\n",
       "      let downloaded = 0;\n",
       "\n",
       "      const channel = await google.colab.kernel.comms.open(id);\n",
       "      // Send a message to notify the kernel that we're ready.\n",
       "      channel.send({})\n",
       "\n",
       "      for await (const message of channel.messages) {\n",
       "        // Send a message to notify the kernel that we're ready.\n",
       "        channel.send({})\n",
       "        if (message.buffers) {\n",
       "          for (const buffer of message.buffers) {\n",
       "            buffers.push(buffer);\n",
       "            downloaded += buffer.byteLength;\n",
       "            progress.value = downloaded;\n",
       "          }\n",
       "        }\n",
       "      }\n",
       "      const blob = new Blob(buffers, {type: 'application/binary'});\n",
       "      const a = document.createElement('a');\n",
       "      a.href = window.URL.createObjectURL(blob);\n",
       "      a.download = filename;\n",
       "      div.appendChild(a);\n",
       "      a.click();\n",
       "      div.remove();\n",
       "    }\n",
       "  "
      ],
      "text/plain": [
       "<IPython.core.display.Javascript object>"
      ]
     },
     "metadata": {
      "tags": []
     },
     "output_type": "display_data"
    },
    {
     "data": {
      "application/javascript": [
       "download(\"download_3530b5fc-3d21-47d0-b9b7-e1fe45a1eca1\", \"glove_gru_pred.csv\", 13680)"
      ],
      "text/plain": [
       "<IPython.core.display.Javascript object>"
      ]
     },
     "metadata": {
      "tags": []
     },
     "output_type": "display_data"
    }
   ],
   "source": [
    "sample_df['label'] = test_pred\n",
    "    #print(file_name)\n",
    "sample_df.to_csv('glove_gru_pred.csv', index = False)\n",
    "files.download('glove_gru_pred.csv') "
   ]
  }
 ],
 "metadata": {
  "accelerator": "GPU",
  "colab": {
   "collapsed_sections": [],
   "name": "Sentiment Analysis- Analytics Vidya.ipynb",
   "provenance": []
  },
  "kernelspec": {
   "display_name": "Python 3",
   "language": "python",
   "name": "python3"
  },
  "language_info": {
   "codemirror_mode": {
    "name": "ipython",
    "version": 3
   },
   "file_extension": ".py",
   "mimetype": "text/x-python",
   "name": "python",
   "nbconvert_exporter": "python",
   "pygments_lexer": "ipython3",
   "version": "3.7.10"
  }
 },
 "nbformat": 4,
 "nbformat_minor": 1
}
