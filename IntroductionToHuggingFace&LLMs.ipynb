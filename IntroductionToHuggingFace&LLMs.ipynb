{
  "nbformat": 4,
  "nbformat_minor": 0,
  "metadata": {
    "colab": {
      "provenance": [],
      "gpuType": "T4",
      "include_colab_link": true
    },
    "kernelspec": {
      "name": "python3",
      "display_name": "Python 3"
    },
    "language_info": {
      "name": "python"
    },
    "accelerator": "GPU",
    "widgets": {
      "application/vnd.jupyter.widget-state+json": {
        "3b1db0bc836d40f9a1a1c55d30daff51": {
          "model_module": "@jupyter-widgets/controls",
          "model_name": "HBoxModel",
          "model_module_version": "1.5.0",
          "state": {
            "_dom_classes": [],
            "_model_module": "@jupyter-widgets/controls",
            "_model_module_version": "1.5.0",
            "_model_name": "HBoxModel",
            "_view_count": null,
            "_view_module": "@jupyter-widgets/controls",
            "_view_module_version": "1.5.0",
            "_view_name": "HBoxView",
            "box_style": "",
            "children": [
              "IPY_MODEL_132c4e41359740c19d2112ed6d5e7f17",
              "IPY_MODEL_3185b6b18ad549d9ab8f8497c9049fed",
              "IPY_MODEL_6f924700ba51493581eafdb30c3edf45"
            ],
            "layout": "IPY_MODEL_569b003e072b430ebf85d1842ba79b89"
          }
        },
        "132c4e41359740c19d2112ed6d5e7f17": {
          "model_module": "@jupyter-widgets/controls",
          "model_name": "HTMLModel",
          "model_module_version": "1.5.0",
          "state": {
            "_dom_classes": [],
            "_model_module": "@jupyter-widgets/controls",
            "_model_module_version": "1.5.0",
            "_model_name": "HTMLModel",
            "_view_count": null,
            "_view_module": "@jupyter-widgets/controls",
            "_view_module_version": "1.5.0",
            "_view_name": "HTMLView",
            "description": "",
            "description_tooltip": null,
            "layout": "IPY_MODEL_46fb861f10574a27acb2b46424e77678",
            "placeholder": "​",
            "style": "IPY_MODEL_dbe28e2ec7e64a05923a9d6eb17e3bf2",
            "value": "Loading checkpoint shards: 100%"
          }
        },
        "3185b6b18ad549d9ab8f8497c9049fed": {
          "model_module": "@jupyter-widgets/controls",
          "model_name": "FloatProgressModel",
          "model_module_version": "1.5.0",
          "state": {
            "_dom_classes": [],
            "_model_module": "@jupyter-widgets/controls",
            "_model_module_version": "1.5.0",
            "_model_name": "FloatProgressModel",
            "_view_count": null,
            "_view_module": "@jupyter-widgets/controls",
            "_view_module_version": "1.5.0",
            "_view_name": "ProgressView",
            "bar_style": "success",
            "description": "",
            "description_tooltip": null,
            "layout": "IPY_MODEL_ad20b4cc679343aa80dcef579b9dbee3",
            "max": 2,
            "min": 0,
            "orientation": "horizontal",
            "style": "IPY_MODEL_c768e171277e44338d16c54c8b431f4b",
            "value": 2
          }
        },
        "6f924700ba51493581eafdb30c3edf45": {
          "model_module": "@jupyter-widgets/controls",
          "model_name": "HTMLModel",
          "model_module_version": "1.5.0",
          "state": {
            "_dom_classes": [],
            "_model_module": "@jupyter-widgets/controls",
            "_model_module_version": "1.5.0",
            "_model_name": "HTMLModel",
            "_view_count": null,
            "_view_module": "@jupyter-widgets/controls",
            "_view_module_version": "1.5.0",
            "_view_name": "HTMLView",
            "description": "",
            "description_tooltip": null,
            "layout": "IPY_MODEL_e342528277744574a3136b1aaa86dd34",
            "placeholder": "​",
            "style": "IPY_MODEL_77df8aef0c9b435d97d99f6d94967817",
            "value": " 2/2 [00:34&lt;00:00, 16.62s/it]"
          }
        },
        "569b003e072b430ebf85d1842ba79b89": {
          "model_module": "@jupyter-widgets/base",
          "model_name": "LayoutModel",
          "model_module_version": "1.2.0",
          "state": {
            "_model_module": "@jupyter-widgets/base",
            "_model_module_version": "1.2.0",
            "_model_name": "LayoutModel",
            "_view_count": null,
            "_view_module": "@jupyter-widgets/base",
            "_view_module_version": "1.2.0",
            "_view_name": "LayoutView",
            "align_content": null,
            "align_items": null,
            "align_self": null,
            "border": null,
            "bottom": null,
            "display": null,
            "flex": null,
            "flex_flow": null,
            "grid_area": null,
            "grid_auto_columns": null,
            "grid_auto_flow": null,
            "grid_auto_rows": null,
            "grid_column": null,
            "grid_gap": null,
            "grid_row": null,
            "grid_template_areas": null,
            "grid_template_columns": null,
            "grid_template_rows": null,
            "height": null,
            "justify_content": null,
            "justify_items": null,
            "left": null,
            "margin": null,
            "max_height": null,
            "max_width": null,
            "min_height": null,
            "min_width": null,
            "object_fit": null,
            "object_position": null,
            "order": null,
            "overflow": null,
            "overflow_x": null,
            "overflow_y": null,
            "padding": null,
            "right": null,
            "top": null,
            "visibility": null,
            "width": null
          }
        },
        "46fb861f10574a27acb2b46424e77678": {
          "model_module": "@jupyter-widgets/base",
          "model_name": "LayoutModel",
          "model_module_version": "1.2.0",
          "state": {
            "_model_module": "@jupyter-widgets/base",
            "_model_module_version": "1.2.0",
            "_model_name": "LayoutModel",
            "_view_count": null,
            "_view_module": "@jupyter-widgets/base",
            "_view_module_version": "1.2.0",
            "_view_name": "LayoutView",
            "align_content": null,
            "align_items": null,
            "align_self": null,
            "border": null,
            "bottom": null,
            "display": null,
            "flex": null,
            "flex_flow": null,
            "grid_area": null,
            "grid_auto_columns": null,
            "grid_auto_flow": null,
            "grid_auto_rows": null,
            "grid_column": null,
            "grid_gap": null,
            "grid_row": null,
            "grid_template_areas": null,
            "grid_template_columns": null,
            "grid_template_rows": null,
            "height": null,
            "justify_content": null,
            "justify_items": null,
            "left": null,
            "margin": null,
            "max_height": null,
            "max_width": null,
            "min_height": null,
            "min_width": null,
            "object_fit": null,
            "object_position": null,
            "order": null,
            "overflow": null,
            "overflow_x": null,
            "overflow_y": null,
            "padding": null,
            "right": null,
            "top": null,
            "visibility": null,
            "width": null
          }
        },
        "dbe28e2ec7e64a05923a9d6eb17e3bf2": {
          "model_module": "@jupyter-widgets/controls",
          "model_name": "DescriptionStyleModel",
          "model_module_version": "1.5.0",
          "state": {
            "_model_module": "@jupyter-widgets/controls",
            "_model_module_version": "1.5.0",
            "_model_name": "DescriptionStyleModel",
            "_view_count": null,
            "_view_module": "@jupyter-widgets/base",
            "_view_module_version": "1.2.0",
            "_view_name": "StyleView",
            "description_width": ""
          }
        },
        "ad20b4cc679343aa80dcef579b9dbee3": {
          "model_module": "@jupyter-widgets/base",
          "model_name": "LayoutModel",
          "model_module_version": "1.2.0",
          "state": {
            "_model_module": "@jupyter-widgets/base",
            "_model_module_version": "1.2.0",
            "_model_name": "LayoutModel",
            "_view_count": null,
            "_view_module": "@jupyter-widgets/base",
            "_view_module_version": "1.2.0",
            "_view_name": "LayoutView",
            "align_content": null,
            "align_items": null,
            "align_self": null,
            "border": null,
            "bottom": null,
            "display": null,
            "flex": null,
            "flex_flow": null,
            "grid_area": null,
            "grid_auto_columns": null,
            "grid_auto_flow": null,
            "grid_auto_rows": null,
            "grid_column": null,
            "grid_gap": null,
            "grid_row": null,
            "grid_template_areas": null,
            "grid_template_columns": null,
            "grid_template_rows": null,
            "height": null,
            "justify_content": null,
            "justify_items": null,
            "left": null,
            "margin": null,
            "max_height": null,
            "max_width": null,
            "min_height": null,
            "min_width": null,
            "object_fit": null,
            "object_position": null,
            "order": null,
            "overflow": null,
            "overflow_x": null,
            "overflow_y": null,
            "padding": null,
            "right": null,
            "top": null,
            "visibility": null,
            "width": null
          }
        },
        "c768e171277e44338d16c54c8b431f4b": {
          "model_module": "@jupyter-widgets/controls",
          "model_name": "ProgressStyleModel",
          "model_module_version": "1.5.0",
          "state": {
            "_model_module": "@jupyter-widgets/controls",
            "_model_module_version": "1.5.0",
            "_model_name": "ProgressStyleModel",
            "_view_count": null,
            "_view_module": "@jupyter-widgets/base",
            "_view_module_version": "1.2.0",
            "_view_name": "StyleView",
            "bar_color": null,
            "description_width": ""
          }
        },
        "e342528277744574a3136b1aaa86dd34": {
          "model_module": "@jupyter-widgets/base",
          "model_name": "LayoutModel",
          "model_module_version": "1.2.0",
          "state": {
            "_model_module": "@jupyter-widgets/base",
            "_model_module_version": "1.2.0",
            "_model_name": "LayoutModel",
            "_view_count": null,
            "_view_module": "@jupyter-widgets/base",
            "_view_module_version": "1.2.0",
            "_view_name": "LayoutView",
            "align_content": null,
            "align_items": null,
            "align_self": null,
            "border": null,
            "bottom": null,
            "display": null,
            "flex": null,
            "flex_flow": null,
            "grid_area": null,
            "grid_auto_columns": null,
            "grid_auto_flow": null,
            "grid_auto_rows": null,
            "grid_column": null,
            "grid_gap": null,
            "grid_row": null,
            "grid_template_areas": null,
            "grid_template_columns": null,
            "grid_template_rows": null,
            "height": null,
            "justify_content": null,
            "justify_items": null,
            "left": null,
            "margin": null,
            "max_height": null,
            "max_width": null,
            "min_height": null,
            "min_width": null,
            "object_fit": null,
            "object_position": null,
            "order": null,
            "overflow": null,
            "overflow_x": null,
            "overflow_y": null,
            "padding": null,
            "right": null,
            "top": null,
            "visibility": null,
            "width": null
          }
        },
        "77df8aef0c9b435d97d99f6d94967817": {
          "model_module": "@jupyter-widgets/controls",
          "model_name": "DescriptionStyleModel",
          "model_module_version": "1.5.0",
          "state": {
            "_model_module": "@jupyter-widgets/controls",
            "_model_module_version": "1.5.0",
            "_model_name": "DescriptionStyleModel",
            "_view_count": null,
            "_view_module": "@jupyter-widgets/base",
            "_view_module_version": "1.2.0",
            "_view_name": "StyleView",
            "description_width": ""
          }
        }
      }
    }
  },
  "cells": [
    {
      "cell_type": "markdown",
      "metadata": {
        "id": "view-in-github",
        "colab_type": "text"
      },
      "source": [
        "<a href=\"https://colab.research.google.com/github/ManJ-PC/Natural-Language-Processing/blob/main/IntroductionToHuggingFace%26LLMs.ipynb\" target=\"_parent\"><img src=\"https://colab.research.google.com/assets/colab-badge.svg\" alt=\"Open In Colab\"/></a>"
      ]
    },
    {
      "cell_type": "code",
      "execution_count": 8,
      "metadata": {
        "id": "xEMYnL7XdRBp",
        "colab": {
          "base_uri": "https://localhost:8080/"
        },
        "outputId": "e16e80e5-69d3-4256-d98e-f02d2e5934b4"
      },
      "outputs": [
        {
          "output_type": "stream",
          "name": "stdout",
          "text": [
            "Requirement already satisfied: einops in /usr/local/lib/python3.10/dist-packages (0.8.0)\n"
          ]
        }
      ],
      "source": [
        "!pip install -q transformers\n",
        "!pip install einops\n",
        "!pip install -q accelerate"
      ]
    },
    {
      "cell_type": "code",
      "source": [
        "import torch\n",
        "from transformers import AutoModelForCausalLM, AutoTokenizer, pipeline\n",
        "\n",
        "device = \"cuda:0\" if torch.cuda.is_available() else \"cpu\"\n",
        "\n",
        "torch.random.manual_seed(0)"
      ],
      "metadata": {
        "id": "19Tl5Of1LbKS",
        "outputId": "b4ebb242-a354-4dba-b22a-bd23be7e752f",
        "colab": {
          "base_uri": "https://localhost:8080/"
        }
      },
      "execution_count": 9,
      "outputs": [
        {
          "output_type": "execute_result",
          "data": {
            "text/plain": [
              "<torch._C.Generator at 0x7a14f67852f0>"
            ]
          },
          "metadata": {},
          "execution_count": 9
        }
      ]
    },
    {
      "cell_type": "code",
      "source": [
        "phi_model = AutoModelForCausalLM.from_pretrained(\n",
        "    \"microsoft/Phi-3-mini-4k-instruct\",\n",
        "    device_map=\"cuda\",\n",
        "    torch_dtype=\"auto\",\n",
        "    trust_remote_code=True,\n",
        "    attn_implementation=\"eager\"\n",
        ")\n",
        "phi_tokenizer = AutoTokenizer.from_pretrained(\"microsoft/Phi-3-mini-4k-instruct\")"
      ],
      "metadata": {
        "colab": {
          "base_uri": "https://localhost:8080/",
          "height": 49,
          "referenced_widgets": [
            "3b1db0bc836d40f9a1a1c55d30daff51",
            "132c4e41359740c19d2112ed6d5e7f17",
            "3185b6b18ad549d9ab8f8497c9049fed",
            "6f924700ba51493581eafdb30c3edf45",
            "569b003e072b430ebf85d1842ba79b89",
            "46fb861f10574a27acb2b46424e77678",
            "dbe28e2ec7e64a05923a9d6eb17e3bf2",
            "ad20b4cc679343aa80dcef579b9dbee3",
            "c768e171277e44338d16c54c8b431f4b",
            "e342528277744574a3136b1aaa86dd34",
            "77df8aef0c9b435d97d99f6d94967817"
          ]
        },
        "id": "XzXLrLpZLgsS",
        "outputId": "986e28d9-dde5-48ba-9051-2e529d1f167b"
      },
      "execution_count": 10,
      "outputs": [
        {
          "output_type": "display_data",
          "data": {
            "text/plain": [
              "Loading checkpoint shards:   0%|          | 0/2 [00:00<?, ?it/s]"
            ],
            "application/vnd.jupyter.widget-view+json": {
              "version_major": 2,
              "version_minor": 0,
              "model_id": "3b1db0bc836d40f9a1a1c55d30daff51"
            }
          },
          "metadata": {}
        }
      ]
    },
    {
      "cell_type": "code",
      "source": [
        "phi_pipe = pipeline(\n",
        "    \"text-generation\",\n",
        "    model=phi_model,\n",
        "    tokenizer=phi_tokenizer,\n",
        ")"
      ],
      "metadata": {
        "id": "PKRQ_Ie3M7nt"
      },
      "execution_count": 11,
      "outputs": []
    },
    {
      "cell_type": "code",
      "source": [
        "generation_args = {\n",
        "    \"max_new_tokens\": 500,\n",
        "    \"return_full_text\": False,\n",
        "    \"temperature\": 0.1,\n",
        "    \"do_sample\": True,\n",
        "}"
      ],
      "metadata": {
        "id": "cvz1utofN5qk"
      },
      "execution_count": 12,
      "outputs": []
    },
    {
      "cell_type": "code",
      "source": [
        "messages = [\n",
        "    {\"role\": \"user\", \"content\": \"Can you explain the key differences between Large Language Models and Small Language Models?\"},\n",
        "]\n",
        "\n",
        "output = phi_pipe(messages, **generation_args)\n",
        "print(output[0]['generated_text'])"
      ],
      "metadata": {
        "colab": {
          "base_uri": "https://localhost:8080/"
        },
        "id": "TJh8etZXMLL8",
        "outputId": "02f3c668-b2f7-405f-c078-77ce02a67c84"
      },
      "execution_count": 13,
      "outputs": [
        {
          "output_type": "stream",
          "name": "stdout",
          "text": [
            " Large Language Models (LLMs) and Small Language Models (SLMs) differ primarily in their size, capacity, and performance. Here are the key differences:\n",
            "\n",
            "\n",
            "1. **Size and Capacity**: LLMs are typically much larger than SLMs. They have more parameters, which are the individual units in the model that learn and make predictions. For example, GPT-3, a large language model, has 175 billion parameters, whereas smaller models like GPT-2 have 1.5 billion parameters.\n",
            "\n",
            "\n",
            "2. **Performance**: Due to their larger size, LLMs generally perform better on a wide range of tasks. They can understand context better, generate more coherent and contextually relevant text, and have a better grasp of nuances in language.\n",
            "\n",
            "\n",
            "3. **Resource Requirements**: LLMs require significantly more computational resources for training and inference. This includes more memory, processing power, and energy consumption.\n",
            "\n",
            "\n",
            "4. **Fine-tuning and Adaptability**: While both LLMs and SLMs can be fine-tuned for specific tasks, LLMs can often achieve better results with less fine-tuning data due to their larger capacity.\n",
            "\n",
            "\n",
            "5. **Cost**: Training and deploying LLMs is more expensive than SLMs, which can be a limiting factor for some organizations.\n",
            "\n",
            "\n",
            "6. **Speed**: SLMs can be faster in generating text since they have fewer parameters to process. However, this speed comes at the cost of reduced quality and coherence.\n",
            "\n",
            "\n",
            "7. **Accessibility**: SLMs are more accessible for individuals and small businesses due to their lower cost and resource requirements.\n",
            "\n",
            "\n",
            "In summary, the choice between using an LLM or an SLM depends on the specific needs of the task, the available resources, and the desired balance between performance and cost.\n"
          ]
        }
      ]
    },
    {
      "cell_type": "code",
      "source": [
        "The `seen_tokens` attribute is deprecated and will be removed in v4.41. Use the `cache_position` model input instead.\n",
        "`get_max_cache()` is deprecated for all Cache classes. Use `get_max_cache_shape()` instead. Calling `get_max_cache()` will raise error from v4.48\n",
        "WARNING:transformers_modules.microsoft.Phi-3-mini-4k-instruct.0a67737cc96d2554230f90338b163bc6380a2a85.modeling_phi3:You are not running the flash-attention implementation, expect numerical differences.\n",
        " Large Language Models (LLMs) and Small Language Models (SLMs) differ primarily in their size, capacity, and performance. Here are the key differences:\n",
        "\n",
        "\n",
        "1. **Size and Capacity**: LLMs are typically much larger than SLMs. They have more parameters, which are the individual units in the model that learn and make predictions. For example, GPT-3, a large language model, has 175 billion parameters, whereas smaller models like GPT-2 have 1.5 billion parameters.\n",
        "\n",
        "\n",
        "2. **Performance**: Due to their larger size, LLMs generally perform better on a wide range of tasks. They can understand context better, generate more coherent and contextually relevant text, and have a better grasp of nuances in language.\n",
        "\n",
        "\n",
        "3. **Resource Requirements**: LLMs require significantly more computational resources for training and inference. This includes more memory, processing power, and energy consumption.\n",
        "\n",
        "\n",
        "4. **Fine-tuning and Adaptability**: While both LLMs and SLMs can be fine-tuned for specific tasks, LLMs can often achieve better results with less fine-tuning data due to their larger capacity.\n",
        "\n",
        "\n",
        "5. **Cost**: Training and deploying LLMs is more expensive than SLMs, which can be a limiting factor for some organizations.\n",
        "\n",
        "\n",
        "6. **Speed**: SLMs can be faster in generating text since they have fewer parameters to process. However, this speed comes at the cost of reduced quality and coherence.\n",
        "\n",
        "\n",
        "7. **Accessibility**: SLMs are more accessible for individuals and small businesses due to their lower cost and resource requirements.\n",
        "\n",
        "\n",
        "In summary, the choice between using an LLM or an SLM depends on the specific needs of the task, the available resources, and the desired balance between performance and cost.\n",
        "\n",
        "[ ]\n"
      ],
      "metadata": {
        "id": "0MwDl2J8N8YW"
      },
      "execution_count": 13,
      "outputs": []
    }
  ]
}