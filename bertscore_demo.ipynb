{
  "nbformat": 4,
  "nbformat_minor": 0,
  "metadata": {
    "colab": {
      "provenance": [],
      "include_colab_link": true
    },
    "language_info": {
      "codemirror_mode": {
        "name": "ipython",
        "version": 3
      },
      "file_extension": ".py",
      "mimetype": "text/x-python",
      "name": "python",
      "nbconvert_exporter": "python",
      "pygments_lexer": "ipython3",
      "version": "3.6.7"
    },
    "kernelspec": {
      "name": "python3",
      "display_name": "Python 3"
    },
    "accelerator": "GPU",
    "widgets": {
      "application/vnd.jupyter.widget-state+json": {
        "cb6951bb19b2454c887bb0cda26bedd3": {
          "model_module": "@jupyter-widgets/controls",
          "model_name": "HBoxModel",
          "model_module_version": "1.5.0",
          "state": {
            "_dom_classes": [],
            "_model_module": "@jupyter-widgets/controls",
            "_model_module_version": "1.5.0",
            "_model_name": "HBoxModel",
            "_view_count": null,
            "_view_module": "@jupyter-widgets/controls",
            "_view_module_version": "1.5.0",
            "_view_name": "HBoxView",
            "box_style": "",
            "children": [
              "IPY_MODEL_5c300baf5e1744dcae342c67e8843545",
              "IPY_MODEL_ec64483c11e34cb3a94cb04d3d4f10ea",
              "IPY_MODEL_755dd74cdbe24638b0bc1ba4c90ccdc5"
            ],
            "layout": "IPY_MODEL_41ba728952b849a38bb0d06141a1531b"
          }
        },
        "5c300baf5e1744dcae342c67e8843545": {
          "model_module": "@jupyter-widgets/controls",
          "model_name": "HTMLModel",
          "model_module_version": "1.5.0",
          "state": {
            "_dom_classes": [],
            "_model_module": "@jupyter-widgets/controls",
            "_model_module_version": "1.5.0",
            "_model_name": "HTMLModel",
            "_view_count": null,
            "_view_module": "@jupyter-widgets/controls",
            "_view_module_version": "1.5.0",
            "_view_name": "HTMLView",
            "description": "",
            "description_tooltip": null,
            "layout": "IPY_MODEL_1963db3841c5408e9cb59edcab52dd59",
            "placeholder": "​",
            "style": "IPY_MODEL_7a2fcf29338743be9567743728a81465",
            "value": "tokenizer_config.json: 100%"
          }
        },
        "ec64483c11e34cb3a94cb04d3d4f10ea": {
          "model_module": "@jupyter-widgets/controls",
          "model_name": "FloatProgressModel",
          "model_module_version": "1.5.0",
          "state": {
            "_dom_classes": [],
            "_model_module": "@jupyter-widgets/controls",
            "_model_module_version": "1.5.0",
            "_model_name": "FloatProgressModel",
            "_view_count": null,
            "_view_module": "@jupyter-widgets/controls",
            "_view_module_version": "1.5.0",
            "_view_name": "ProgressView",
            "bar_style": "success",
            "description": "",
            "description_tooltip": null,
            "layout": "IPY_MODEL_19a24ced52f3481cb6b1a308d64d293c",
            "max": 25,
            "min": 0,
            "orientation": "horizontal",
            "style": "IPY_MODEL_9f01cf755e7046198ac078cdcb871ccd",
            "value": 25
          }
        },
        "755dd74cdbe24638b0bc1ba4c90ccdc5": {
          "model_module": "@jupyter-widgets/controls",
          "model_name": "HTMLModel",
          "model_module_version": "1.5.0",
          "state": {
            "_dom_classes": [],
            "_model_module": "@jupyter-widgets/controls",
            "_model_module_version": "1.5.0",
            "_model_name": "HTMLModel",
            "_view_count": null,
            "_view_module": "@jupyter-widgets/controls",
            "_view_module_version": "1.5.0",
            "_view_name": "HTMLView",
            "description": "",
            "description_tooltip": null,
            "layout": "IPY_MODEL_9ae2a69a5ec840fdbbd6748e37b10d6f",
            "placeholder": "​",
            "style": "IPY_MODEL_42d071d7a34e49429de4357d446ad286",
            "value": " 25.0/25.0 [00:00&lt;00:00, 2.16kB/s]"
          }
        },
        "41ba728952b849a38bb0d06141a1531b": {
          "model_module": "@jupyter-widgets/base",
          "model_name": "LayoutModel",
          "model_module_version": "1.2.0",
          "state": {
            "_model_module": "@jupyter-widgets/base",
            "_model_module_version": "1.2.0",
            "_model_name": "LayoutModel",
            "_view_count": null,
            "_view_module": "@jupyter-widgets/base",
            "_view_module_version": "1.2.0",
            "_view_name": "LayoutView",
            "align_content": null,
            "align_items": null,
            "align_self": null,
            "border": null,
            "bottom": null,
            "display": null,
            "flex": null,
            "flex_flow": null,
            "grid_area": null,
            "grid_auto_columns": null,
            "grid_auto_flow": null,
            "grid_auto_rows": null,
            "grid_column": null,
            "grid_gap": null,
            "grid_row": null,
            "grid_template_areas": null,
            "grid_template_columns": null,
            "grid_template_rows": null,
            "height": null,
            "justify_content": null,
            "justify_items": null,
            "left": null,
            "margin": null,
            "max_height": null,
            "max_width": null,
            "min_height": null,
            "min_width": null,
            "object_fit": null,
            "object_position": null,
            "order": null,
            "overflow": null,
            "overflow_x": null,
            "overflow_y": null,
            "padding": null,
            "right": null,
            "top": null,
            "visibility": null,
            "width": null
          }
        },
        "1963db3841c5408e9cb59edcab52dd59": {
          "model_module": "@jupyter-widgets/base",
          "model_name": "LayoutModel",
          "model_module_version": "1.2.0",
          "state": {
            "_model_module": "@jupyter-widgets/base",
            "_model_module_version": "1.2.0",
            "_model_name": "LayoutModel",
            "_view_count": null,
            "_view_module": "@jupyter-widgets/base",
            "_view_module_version": "1.2.0",
            "_view_name": "LayoutView",
            "align_content": null,
            "align_items": null,
            "align_self": null,
            "border": null,
            "bottom": null,
            "display": null,
            "flex": null,
            "flex_flow": null,
            "grid_area": null,
            "grid_auto_columns": null,
            "grid_auto_flow": null,
            "grid_auto_rows": null,
            "grid_column": null,
            "grid_gap": null,
            "grid_row": null,
            "grid_template_areas": null,
            "grid_template_columns": null,
            "grid_template_rows": null,
            "height": null,
            "justify_content": null,
            "justify_items": null,
            "left": null,
            "margin": null,
            "max_height": null,
            "max_width": null,
            "min_height": null,
            "min_width": null,
            "object_fit": null,
            "object_position": null,
            "order": null,
            "overflow": null,
            "overflow_x": null,
            "overflow_y": null,
            "padding": null,
            "right": null,
            "top": null,
            "visibility": null,
            "width": null
          }
        },
        "7a2fcf29338743be9567743728a81465": {
          "model_module": "@jupyter-widgets/controls",
          "model_name": "DescriptionStyleModel",
          "model_module_version": "1.5.0",
          "state": {
            "_model_module": "@jupyter-widgets/controls",
            "_model_module_version": "1.5.0",
            "_model_name": "DescriptionStyleModel",
            "_view_count": null,
            "_view_module": "@jupyter-widgets/base",
            "_view_module_version": "1.2.0",
            "_view_name": "StyleView",
            "description_width": ""
          }
        },
        "19a24ced52f3481cb6b1a308d64d293c": {
          "model_module": "@jupyter-widgets/base",
          "model_name": "LayoutModel",
          "model_module_version": "1.2.0",
          "state": {
            "_model_module": "@jupyter-widgets/base",
            "_model_module_version": "1.2.0",
            "_model_name": "LayoutModel",
            "_view_count": null,
            "_view_module": "@jupyter-widgets/base",
            "_view_module_version": "1.2.0",
            "_view_name": "LayoutView",
            "align_content": null,
            "align_items": null,
            "align_self": null,
            "border": null,
            "bottom": null,
            "display": null,
            "flex": null,
            "flex_flow": null,
            "grid_area": null,
            "grid_auto_columns": null,
            "grid_auto_flow": null,
            "grid_auto_rows": null,
            "grid_column": null,
            "grid_gap": null,
            "grid_row": null,
            "grid_template_areas": null,
            "grid_template_columns": null,
            "grid_template_rows": null,
            "height": null,
            "justify_content": null,
            "justify_items": null,
            "left": null,
            "margin": null,
            "max_height": null,
            "max_width": null,
            "min_height": null,
            "min_width": null,
            "object_fit": null,
            "object_position": null,
            "order": null,
            "overflow": null,
            "overflow_x": null,
            "overflow_y": null,
            "padding": null,
            "right": null,
            "top": null,
            "visibility": null,
            "width": null
          }
        },
        "9f01cf755e7046198ac078cdcb871ccd": {
          "model_module": "@jupyter-widgets/controls",
          "model_name": "ProgressStyleModel",
          "model_module_version": "1.5.0",
          "state": {
            "_model_module": "@jupyter-widgets/controls",
            "_model_module_version": "1.5.0",
            "_model_name": "ProgressStyleModel",
            "_view_count": null,
            "_view_module": "@jupyter-widgets/base",
            "_view_module_version": "1.2.0",
            "_view_name": "StyleView",
            "bar_color": null,
            "description_width": ""
          }
        },
        "9ae2a69a5ec840fdbbd6748e37b10d6f": {
          "model_module": "@jupyter-widgets/base",
          "model_name": "LayoutModel",
          "model_module_version": "1.2.0",
          "state": {
            "_model_module": "@jupyter-widgets/base",
            "_model_module_version": "1.2.0",
            "_model_name": "LayoutModel",
            "_view_count": null,
            "_view_module": "@jupyter-widgets/base",
            "_view_module_version": "1.2.0",
            "_view_name": "LayoutView",
            "align_content": null,
            "align_items": null,
            "align_self": null,
            "border": null,
            "bottom": null,
            "display": null,
            "flex": null,
            "flex_flow": null,
            "grid_area": null,
            "grid_auto_columns": null,
            "grid_auto_flow": null,
            "grid_auto_rows": null,
            "grid_column": null,
            "grid_gap": null,
            "grid_row": null,
            "grid_template_areas": null,
            "grid_template_columns": null,
            "grid_template_rows": null,
            "height": null,
            "justify_content": null,
            "justify_items": null,
            "left": null,
            "margin": null,
            "max_height": null,
            "max_width": null,
            "min_height": null,
            "min_width": null,
            "object_fit": null,
            "object_position": null,
            "order": null,
            "overflow": null,
            "overflow_x": null,
            "overflow_y": null,
            "padding": null,
            "right": null,
            "top": null,
            "visibility": null,
            "width": null
          }
        },
        "42d071d7a34e49429de4357d446ad286": {
          "model_module": "@jupyter-widgets/controls",
          "model_name": "DescriptionStyleModel",
          "model_module_version": "1.5.0",
          "state": {
            "_model_module": "@jupyter-widgets/controls",
            "_model_module_version": "1.5.0",
            "_model_name": "DescriptionStyleModel",
            "_view_count": null,
            "_view_module": "@jupyter-widgets/base",
            "_view_module_version": "1.2.0",
            "_view_name": "StyleView",
            "description_width": ""
          }
        },
        "109c68349b7e41bcaee25aba29c8e828": {
          "model_module": "@jupyter-widgets/controls",
          "model_name": "HBoxModel",
          "model_module_version": "1.5.0",
          "state": {
            "_dom_classes": [],
            "_model_module": "@jupyter-widgets/controls",
            "_model_module_version": "1.5.0",
            "_model_name": "HBoxModel",
            "_view_count": null,
            "_view_module": "@jupyter-widgets/controls",
            "_view_module_version": "1.5.0",
            "_view_name": "HBoxView",
            "box_style": "",
            "children": [
              "IPY_MODEL_d78f2c25fc4446a6a4d3ed5d555d9c18",
              "IPY_MODEL_7334895cde1648dc82cb5d3ccbbe53eb",
              "IPY_MODEL_a39e01ee3dab4b31885c76e13d65c544"
            ],
            "layout": "IPY_MODEL_5b9794388dff432983c2048510f9d27d"
          }
        },
        "d78f2c25fc4446a6a4d3ed5d555d9c18": {
          "model_module": "@jupyter-widgets/controls",
          "model_name": "HTMLModel",
          "model_module_version": "1.5.0",
          "state": {
            "_dom_classes": [],
            "_model_module": "@jupyter-widgets/controls",
            "_model_module_version": "1.5.0",
            "_model_name": "HTMLModel",
            "_view_count": null,
            "_view_module": "@jupyter-widgets/controls",
            "_view_module_version": "1.5.0",
            "_view_name": "HTMLView",
            "description": "",
            "description_tooltip": null,
            "layout": "IPY_MODEL_ecf3662a1e774d3cad107450ddb11d0f",
            "placeholder": "​",
            "style": "IPY_MODEL_7bc268d398c04250b7ed089bbb4fa991",
            "value": "config.json: 100%"
          }
        },
        "7334895cde1648dc82cb5d3ccbbe53eb": {
          "model_module": "@jupyter-widgets/controls",
          "model_name": "FloatProgressModel",
          "model_module_version": "1.5.0",
          "state": {
            "_dom_classes": [],
            "_model_module": "@jupyter-widgets/controls",
            "_model_module_version": "1.5.0",
            "_model_name": "FloatProgressModel",
            "_view_count": null,
            "_view_module": "@jupyter-widgets/controls",
            "_view_module_version": "1.5.0",
            "_view_name": "ProgressView",
            "bar_style": "success",
            "description": "",
            "description_tooltip": null,
            "layout": "IPY_MODEL_76541873809844ea86eb1bc01f175c96",
            "max": 482,
            "min": 0,
            "orientation": "horizontal",
            "style": "IPY_MODEL_eba42b15021e4fd1bf410f7ceaadb101",
            "value": 482
          }
        },
        "a39e01ee3dab4b31885c76e13d65c544": {
          "model_module": "@jupyter-widgets/controls",
          "model_name": "HTMLModel",
          "model_module_version": "1.5.0",
          "state": {
            "_dom_classes": [],
            "_model_module": "@jupyter-widgets/controls",
            "_model_module_version": "1.5.0",
            "_model_name": "HTMLModel",
            "_view_count": null,
            "_view_module": "@jupyter-widgets/controls",
            "_view_module_version": "1.5.0",
            "_view_name": "HTMLView",
            "description": "",
            "description_tooltip": null,
            "layout": "IPY_MODEL_81c7bcdb23454365ba0b303701f09814",
            "placeholder": "​",
            "style": "IPY_MODEL_f828a21750474e1284f7f34dd9d0f033",
            "value": " 482/482 [00:00&lt;00:00, 38.1kB/s]"
          }
        },
        "5b9794388dff432983c2048510f9d27d": {
          "model_module": "@jupyter-widgets/base",
          "model_name": "LayoutModel",
          "model_module_version": "1.2.0",
          "state": {
            "_model_module": "@jupyter-widgets/base",
            "_model_module_version": "1.2.0",
            "_model_name": "LayoutModel",
            "_view_count": null,
            "_view_module": "@jupyter-widgets/base",
            "_view_module_version": "1.2.0",
            "_view_name": "LayoutView",
            "align_content": null,
            "align_items": null,
            "align_self": null,
            "border": null,
            "bottom": null,
            "display": null,
            "flex": null,
            "flex_flow": null,
            "grid_area": null,
            "grid_auto_columns": null,
            "grid_auto_flow": null,
            "grid_auto_rows": null,
            "grid_column": null,
            "grid_gap": null,
            "grid_row": null,
            "grid_template_areas": null,
            "grid_template_columns": null,
            "grid_template_rows": null,
            "height": null,
            "justify_content": null,
            "justify_items": null,
            "left": null,
            "margin": null,
            "max_height": null,
            "max_width": null,
            "min_height": null,
            "min_width": null,
            "object_fit": null,
            "object_position": null,
            "order": null,
            "overflow": null,
            "overflow_x": null,
            "overflow_y": null,
            "padding": null,
            "right": null,
            "top": null,
            "visibility": null,
            "width": null
          }
        },
        "ecf3662a1e774d3cad107450ddb11d0f": {
          "model_module": "@jupyter-widgets/base",
          "model_name": "LayoutModel",
          "model_module_version": "1.2.0",
          "state": {
            "_model_module": "@jupyter-widgets/base",
            "_model_module_version": "1.2.0",
            "_model_name": "LayoutModel",
            "_view_count": null,
            "_view_module": "@jupyter-widgets/base",
            "_view_module_version": "1.2.0",
            "_view_name": "LayoutView",
            "align_content": null,
            "align_items": null,
            "align_self": null,
            "border": null,
            "bottom": null,
            "display": null,
            "flex": null,
            "flex_flow": null,
            "grid_area": null,
            "grid_auto_columns": null,
            "grid_auto_flow": null,
            "grid_auto_rows": null,
            "grid_column": null,
            "grid_gap": null,
            "grid_row": null,
            "grid_template_areas": null,
            "grid_template_columns": null,
            "grid_template_rows": null,
            "height": null,
            "justify_content": null,
            "justify_items": null,
            "left": null,
            "margin": null,
            "max_height": null,
            "max_width": null,
            "min_height": null,
            "min_width": null,
            "object_fit": null,
            "object_position": null,
            "order": null,
            "overflow": null,
            "overflow_x": null,
            "overflow_y": null,
            "padding": null,
            "right": null,
            "top": null,
            "visibility": null,
            "width": null
          }
        },
        "7bc268d398c04250b7ed089bbb4fa991": {
          "model_module": "@jupyter-widgets/controls",
          "model_name": "DescriptionStyleModel",
          "model_module_version": "1.5.0",
          "state": {
            "_model_module": "@jupyter-widgets/controls",
            "_model_module_version": "1.5.0",
            "_model_name": "DescriptionStyleModel",
            "_view_count": null,
            "_view_module": "@jupyter-widgets/base",
            "_view_module_version": "1.2.0",
            "_view_name": "StyleView",
            "description_width": ""
          }
        },
        "76541873809844ea86eb1bc01f175c96": {
          "model_module": "@jupyter-widgets/base",
          "model_name": "LayoutModel",
          "model_module_version": "1.2.0",
          "state": {
            "_model_module": "@jupyter-widgets/base",
            "_model_module_version": "1.2.0",
            "_model_name": "LayoutModel",
            "_view_count": null,
            "_view_module": "@jupyter-widgets/base",
            "_view_module_version": "1.2.0",
            "_view_name": "LayoutView",
            "align_content": null,
            "align_items": null,
            "align_self": null,
            "border": null,
            "bottom": null,
            "display": null,
            "flex": null,
            "flex_flow": null,
            "grid_area": null,
            "grid_auto_columns": null,
            "grid_auto_flow": null,
            "grid_auto_rows": null,
            "grid_column": null,
            "grid_gap": null,
            "grid_row": null,
            "grid_template_areas": null,
            "grid_template_columns": null,
            "grid_template_rows": null,
            "height": null,
            "justify_content": null,
            "justify_items": null,
            "left": null,
            "margin": null,
            "max_height": null,
            "max_width": null,
            "min_height": null,
            "min_width": null,
            "object_fit": null,
            "object_position": null,
            "order": null,
            "overflow": null,
            "overflow_x": null,
            "overflow_y": null,
            "padding": null,
            "right": null,
            "top": null,
            "visibility": null,
            "width": null
          }
        },
        "eba42b15021e4fd1bf410f7ceaadb101": {
          "model_module": "@jupyter-widgets/controls",
          "model_name": "ProgressStyleModel",
          "model_module_version": "1.5.0",
          "state": {
            "_model_module": "@jupyter-widgets/controls",
            "_model_module_version": "1.5.0",
            "_model_name": "ProgressStyleModel",
            "_view_count": null,
            "_view_module": "@jupyter-widgets/base",
            "_view_module_version": "1.2.0",
            "_view_name": "StyleView",
            "bar_color": null,
            "description_width": ""
          }
        },
        "81c7bcdb23454365ba0b303701f09814": {
          "model_module": "@jupyter-widgets/base",
          "model_name": "LayoutModel",
          "model_module_version": "1.2.0",
          "state": {
            "_model_module": "@jupyter-widgets/base",
            "_model_module_version": "1.2.0",
            "_model_name": "LayoutModel",
            "_view_count": null,
            "_view_module": "@jupyter-widgets/base",
            "_view_module_version": "1.2.0",
            "_view_name": "LayoutView",
            "align_content": null,
            "align_items": null,
            "align_self": null,
            "border": null,
            "bottom": null,
            "display": null,
            "flex": null,
            "flex_flow": null,
            "grid_area": null,
            "grid_auto_columns": null,
            "grid_auto_flow": null,
            "grid_auto_rows": null,
            "grid_column": null,
            "grid_gap": null,
            "grid_row": null,
            "grid_template_areas": null,
            "grid_template_columns": null,
            "grid_template_rows": null,
            "height": null,
            "justify_content": null,
            "justify_items": null,
            "left": null,
            "margin": null,
            "max_height": null,
            "max_width": null,
            "min_height": null,
            "min_width": null,
            "object_fit": null,
            "object_position": null,
            "order": null,
            "overflow": null,
            "overflow_x": null,
            "overflow_y": null,
            "padding": null,
            "right": null,
            "top": null,
            "visibility": null,
            "width": null
          }
        },
        "f828a21750474e1284f7f34dd9d0f033": {
          "model_module": "@jupyter-widgets/controls",
          "model_name": "DescriptionStyleModel",
          "model_module_version": "1.5.0",
          "state": {
            "_model_module": "@jupyter-widgets/controls",
            "_model_module_version": "1.5.0",
            "_model_name": "DescriptionStyleModel",
            "_view_count": null,
            "_view_module": "@jupyter-widgets/base",
            "_view_module_version": "1.2.0",
            "_view_name": "StyleView",
            "description_width": ""
          }
        },
        "7fab977d1d4f45d39140f3786e4eb671": {
          "model_module": "@jupyter-widgets/controls",
          "model_name": "HBoxModel",
          "model_module_version": "1.5.0",
          "state": {
            "_dom_classes": [],
            "_model_module": "@jupyter-widgets/controls",
            "_model_module_version": "1.5.0",
            "_model_name": "HBoxModel",
            "_view_count": null,
            "_view_module": "@jupyter-widgets/controls",
            "_view_module_version": "1.5.0",
            "_view_name": "HBoxView",
            "box_style": "",
            "children": [
              "IPY_MODEL_5926fe048438435a9642fd6e2e445138",
              "IPY_MODEL_a782d857f01b47709dfe17a11d9500ca",
              "IPY_MODEL_ad44dcca0e35442f9cb03818709a196a"
            ],
            "layout": "IPY_MODEL_1becd47ba4b24ae198b200fa725f4782"
          }
        },
        "5926fe048438435a9642fd6e2e445138": {
          "model_module": "@jupyter-widgets/controls",
          "model_name": "HTMLModel",
          "model_module_version": "1.5.0",
          "state": {
            "_dom_classes": [],
            "_model_module": "@jupyter-widgets/controls",
            "_model_module_version": "1.5.0",
            "_model_name": "HTMLModel",
            "_view_count": null,
            "_view_module": "@jupyter-widgets/controls",
            "_view_module_version": "1.5.0",
            "_view_name": "HTMLView",
            "description": "",
            "description_tooltip": null,
            "layout": "IPY_MODEL_2c6948433ba44e29b147706405f7152c",
            "placeholder": "​",
            "style": "IPY_MODEL_0274b24542a643c7b2a3283e7e167f7c",
            "value": "vocab.json: 100%"
          }
        },
        "a782d857f01b47709dfe17a11d9500ca": {
          "model_module": "@jupyter-widgets/controls",
          "model_name": "FloatProgressModel",
          "model_module_version": "1.5.0",
          "state": {
            "_dom_classes": [],
            "_model_module": "@jupyter-widgets/controls",
            "_model_module_version": "1.5.0",
            "_model_name": "FloatProgressModel",
            "_view_count": null,
            "_view_module": "@jupyter-widgets/controls",
            "_view_module_version": "1.5.0",
            "_view_name": "ProgressView",
            "bar_style": "success",
            "description": "",
            "description_tooltip": null,
            "layout": "IPY_MODEL_66fa4d7835a543fd8127fcc423d6caca",
            "max": 898823,
            "min": 0,
            "orientation": "horizontal",
            "style": "IPY_MODEL_7ee145ea8559485ea331f1ff1b87a6a4",
            "value": 898823
          }
        },
        "ad44dcca0e35442f9cb03818709a196a": {
          "model_module": "@jupyter-widgets/controls",
          "model_name": "HTMLModel",
          "model_module_version": "1.5.0",
          "state": {
            "_dom_classes": [],
            "_model_module": "@jupyter-widgets/controls",
            "_model_module_version": "1.5.0",
            "_model_name": "HTMLModel",
            "_view_count": null,
            "_view_module": "@jupyter-widgets/controls",
            "_view_module_version": "1.5.0",
            "_view_name": "HTMLView",
            "description": "",
            "description_tooltip": null,
            "layout": "IPY_MODEL_edac412724984d929518c8cae40624e0",
            "placeholder": "​",
            "style": "IPY_MODEL_6e03c91d524f45a9a457415a227e77ae",
            "value": " 899k/899k [00:00&lt;00:00, 13.5MB/s]"
          }
        },
        "1becd47ba4b24ae198b200fa725f4782": {
          "model_module": "@jupyter-widgets/base",
          "model_name": "LayoutModel",
          "model_module_version": "1.2.0",
          "state": {
            "_model_module": "@jupyter-widgets/base",
            "_model_module_version": "1.2.0",
            "_model_name": "LayoutModel",
            "_view_count": null,
            "_view_module": "@jupyter-widgets/base",
            "_view_module_version": "1.2.0",
            "_view_name": "LayoutView",
            "align_content": null,
            "align_items": null,
            "align_self": null,
            "border": null,
            "bottom": null,
            "display": null,
            "flex": null,
            "flex_flow": null,
            "grid_area": null,
            "grid_auto_columns": null,
            "grid_auto_flow": null,
            "grid_auto_rows": null,
            "grid_column": null,
            "grid_gap": null,
            "grid_row": null,
            "grid_template_areas": null,
            "grid_template_columns": null,
            "grid_template_rows": null,
            "height": null,
            "justify_content": null,
            "justify_items": null,
            "left": null,
            "margin": null,
            "max_height": null,
            "max_width": null,
            "min_height": null,
            "min_width": null,
            "object_fit": null,
            "object_position": null,
            "order": null,
            "overflow": null,
            "overflow_x": null,
            "overflow_y": null,
            "padding": null,
            "right": null,
            "top": null,
            "visibility": null,
            "width": null
          }
        },
        "2c6948433ba44e29b147706405f7152c": {
          "model_module": "@jupyter-widgets/base",
          "model_name": "LayoutModel",
          "model_module_version": "1.2.0",
          "state": {
            "_model_module": "@jupyter-widgets/base",
            "_model_module_version": "1.2.0",
            "_model_name": "LayoutModel",
            "_view_count": null,
            "_view_module": "@jupyter-widgets/base",
            "_view_module_version": "1.2.0",
            "_view_name": "LayoutView",
            "align_content": null,
            "align_items": null,
            "align_self": null,
            "border": null,
            "bottom": null,
            "display": null,
            "flex": null,
            "flex_flow": null,
            "grid_area": null,
            "grid_auto_columns": null,
            "grid_auto_flow": null,
            "grid_auto_rows": null,
            "grid_column": null,
            "grid_gap": null,
            "grid_row": null,
            "grid_template_areas": null,
            "grid_template_columns": null,
            "grid_template_rows": null,
            "height": null,
            "justify_content": null,
            "justify_items": null,
            "left": null,
            "margin": null,
            "max_height": null,
            "max_width": null,
            "min_height": null,
            "min_width": null,
            "object_fit": null,
            "object_position": null,
            "order": null,
            "overflow": null,
            "overflow_x": null,
            "overflow_y": null,
            "padding": null,
            "right": null,
            "top": null,
            "visibility": null,
            "width": null
          }
        },
        "0274b24542a643c7b2a3283e7e167f7c": {
          "model_module": "@jupyter-widgets/controls",
          "model_name": "DescriptionStyleModel",
          "model_module_version": "1.5.0",
          "state": {
            "_model_module": "@jupyter-widgets/controls",
            "_model_module_version": "1.5.0",
            "_model_name": "DescriptionStyleModel",
            "_view_count": null,
            "_view_module": "@jupyter-widgets/base",
            "_view_module_version": "1.2.0",
            "_view_name": "StyleView",
            "description_width": ""
          }
        },
        "66fa4d7835a543fd8127fcc423d6caca": {
          "model_module": "@jupyter-widgets/base",
          "model_name": "LayoutModel",
          "model_module_version": "1.2.0",
          "state": {
            "_model_module": "@jupyter-widgets/base",
            "_model_module_version": "1.2.0",
            "_model_name": "LayoutModel",
            "_view_count": null,
            "_view_module": "@jupyter-widgets/base",
            "_view_module_version": "1.2.0",
            "_view_name": "LayoutView",
            "align_content": null,
            "align_items": null,
            "align_self": null,
            "border": null,
            "bottom": null,
            "display": null,
            "flex": null,
            "flex_flow": null,
            "grid_area": null,
            "grid_auto_columns": null,
            "grid_auto_flow": null,
            "grid_auto_rows": null,
            "grid_column": null,
            "grid_gap": null,
            "grid_row": null,
            "grid_template_areas": null,
            "grid_template_columns": null,
            "grid_template_rows": null,
            "height": null,
            "justify_content": null,
            "justify_items": null,
            "left": null,
            "margin": null,
            "max_height": null,
            "max_width": null,
            "min_height": null,
            "min_width": null,
            "object_fit": null,
            "object_position": null,
            "order": null,
            "overflow": null,
            "overflow_x": null,
            "overflow_y": null,
            "padding": null,
            "right": null,
            "top": null,
            "visibility": null,
            "width": null
          }
        },
        "7ee145ea8559485ea331f1ff1b87a6a4": {
          "model_module": "@jupyter-widgets/controls",
          "model_name": "ProgressStyleModel",
          "model_module_version": "1.5.0",
          "state": {
            "_model_module": "@jupyter-widgets/controls",
            "_model_module_version": "1.5.0",
            "_model_name": "ProgressStyleModel",
            "_view_count": null,
            "_view_module": "@jupyter-widgets/base",
            "_view_module_version": "1.2.0",
            "_view_name": "StyleView",
            "bar_color": null,
            "description_width": ""
          }
        },
        "edac412724984d929518c8cae40624e0": {
          "model_module": "@jupyter-widgets/base",
          "model_name": "LayoutModel",
          "model_module_version": "1.2.0",
          "state": {
            "_model_module": "@jupyter-widgets/base",
            "_model_module_version": "1.2.0",
            "_model_name": "LayoutModel",
            "_view_count": null,
            "_view_module": "@jupyter-widgets/base",
            "_view_module_version": "1.2.0",
            "_view_name": "LayoutView",
            "align_content": null,
            "align_items": null,
            "align_self": null,
            "border": null,
            "bottom": null,
            "display": null,
            "flex": null,
            "flex_flow": null,
            "grid_area": null,
            "grid_auto_columns": null,
            "grid_auto_flow": null,
            "grid_auto_rows": null,
            "grid_column": null,
            "grid_gap": null,
            "grid_row": null,
            "grid_template_areas": null,
            "grid_template_columns": null,
            "grid_template_rows": null,
            "height": null,
            "justify_content": null,
            "justify_items": null,
            "left": null,
            "margin": null,
            "max_height": null,
            "max_width": null,
            "min_height": null,
            "min_width": null,
            "object_fit": null,
            "object_position": null,
            "order": null,
            "overflow": null,
            "overflow_x": null,
            "overflow_y": null,
            "padding": null,
            "right": null,
            "top": null,
            "visibility": null,
            "width": null
          }
        },
        "6e03c91d524f45a9a457415a227e77ae": {
          "model_module": "@jupyter-widgets/controls",
          "model_name": "DescriptionStyleModel",
          "model_module_version": "1.5.0",
          "state": {
            "_model_module": "@jupyter-widgets/controls",
            "_model_module_version": "1.5.0",
            "_model_name": "DescriptionStyleModel",
            "_view_count": null,
            "_view_module": "@jupyter-widgets/base",
            "_view_module_version": "1.2.0",
            "_view_name": "StyleView",
            "description_width": ""
          }
        },
        "e3c6c3f55447453d875e2e07fbe7a822": {
          "model_module": "@jupyter-widgets/controls",
          "model_name": "HBoxModel",
          "model_module_version": "1.5.0",
          "state": {
            "_dom_classes": [],
            "_model_module": "@jupyter-widgets/controls",
            "_model_module_version": "1.5.0",
            "_model_name": "HBoxModel",
            "_view_count": null,
            "_view_module": "@jupyter-widgets/controls",
            "_view_module_version": "1.5.0",
            "_view_name": "HBoxView",
            "box_style": "",
            "children": [
              "IPY_MODEL_6662db764384427896af6c2c4f85cba7",
              "IPY_MODEL_30a8068bc5bb48c8a543b8f12a41bac0",
              "IPY_MODEL_80ebee2d17614eac84f8f65388a8ec9a"
            ],
            "layout": "IPY_MODEL_2ae0cbab52884750b681d73a79541e7b"
          }
        },
        "6662db764384427896af6c2c4f85cba7": {
          "model_module": "@jupyter-widgets/controls",
          "model_name": "HTMLModel",
          "model_module_version": "1.5.0",
          "state": {
            "_dom_classes": [],
            "_model_module": "@jupyter-widgets/controls",
            "_model_module_version": "1.5.0",
            "_model_name": "HTMLModel",
            "_view_count": null,
            "_view_module": "@jupyter-widgets/controls",
            "_view_module_version": "1.5.0",
            "_view_name": "HTMLView",
            "description": "",
            "description_tooltip": null,
            "layout": "IPY_MODEL_0aa43587e2614aefbcfb6b1a809f69fa",
            "placeholder": "​",
            "style": "IPY_MODEL_ab0162999f5643e3a5e90b3396036db2",
            "value": "merges.txt: 100%"
          }
        },
        "30a8068bc5bb48c8a543b8f12a41bac0": {
          "model_module": "@jupyter-widgets/controls",
          "model_name": "FloatProgressModel",
          "model_module_version": "1.5.0",
          "state": {
            "_dom_classes": [],
            "_model_module": "@jupyter-widgets/controls",
            "_model_module_version": "1.5.0",
            "_model_name": "FloatProgressModel",
            "_view_count": null,
            "_view_module": "@jupyter-widgets/controls",
            "_view_module_version": "1.5.0",
            "_view_name": "ProgressView",
            "bar_style": "success",
            "description": "",
            "description_tooltip": null,
            "layout": "IPY_MODEL_2faf88a4d72a43c7a30b972070b22cb6",
            "max": 456318,
            "min": 0,
            "orientation": "horizontal",
            "style": "IPY_MODEL_a3fe48f754204ec5baa6f8f071b4f13d",
            "value": 456318
          }
        },
        "80ebee2d17614eac84f8f65388a8ec9a": {
          "model_module": "@jupyter-widgets/controls",
          "model_name": "HTMLModel",
          "model_module_version": "1.5.0",
          "state": {
            "_dom_classes": [],
            "_model_module": "@jupyter-widgets/controls",
            "_model_module_version": "1.5.0",
            "_model_name": "HTMLModel",
            "_view_count": null,
            "_view_module": "@jupyter-widgets/controls",
            "_view_module_version": "1.5.0",
            "_view_name": "HTMLView",
            "description": "",
            "description_tooltip": null,
            "layout": "IPY_MODEL_87f110053cb147af9c526dd538906bd8",
            "placeholder": "​",
            "style": "IPY_MODEL_e1d3fa7c041a4bbeae2f4ebf5b39ccce",
            "value": " 456k/456k [00:00&lt;00:00, 30.5MB/s]"
          }
        },
        "2ae0cbab52884750b681d73a79541e7b": {
          "model_module": "@jupyter-widgets/base",
          "model_name": "LayoutModel",
          "model_module_version": "1.2.0",
          "state": {
            "_model_module": "@jupyter-widgets/base",
            "_model_module_version": "1.2.0",
            "_model_name": "LayoutModel",
            "_view_count": null,
            "_view_module": "@jupyter-widgets/base",
            "_view_module_version": "1.2.0",
            "_view_name": "LayoutView",
            "align_content": null,
            "align_items": null,
            "align_self": null,
            "border": null,
            "bottom": null,
            "display": null,
            "flex": null,
            "flex_flow": null,
            "grid_area": null,
            "grid_auto_columns": null,
            "grid_auto_flow": null,
            "grid_auto_rows": null,
            "grid_column": null,
            "grid_gap": null,
            "grid_row": null,
            "grid_template_areas": null,
            "grid_template_columns": null,
            "grid_template_rows": null,
            "height": null,
            "justify_content": null,
            "justify_items": null,
            "left": null,
            "margin": null,
            "max_height": null,
            "max_width": null,
            "min_height": null,
            "min_width": null,
            "object_fit": null,
            "object_position": null,
            "order": null,
            "overflow": null,
            "overflow_x": null,
            "overflow_y": null,
            "padding": null,
            "right": null,
            "top": null,
            "visibility": null,
            "width": null
          }
        },
        "0aa43587e2614aefbcfb6b1a809f69fa": {
          "model_module": "@jupyter-widgets/base",
          "model_name": "LayoutModel",
          "model_module_version": "1.2.0",
          "state": {
            "_model_module": "@jupyter-widgets/base",
            "_model_module_version": "1.2.0",
            "_model_name": "LayoutModel",
            "_view_count": null,
            "_view_module": "@jupyter-widgets/base",
            "_view_module_version": "1.2.0",
            "_view_name": "LayoutView",
            "align_content": null,
            "align_items": null,
            "align_self": null,
            "border": null,
            "bottom": null,
            "display": null,
            "flex": null,
            "flex_flow": null,
            "grid_area": null,
            "grid_auto_columns": null,
            "grid_auto_flow": null,
            "grid_auto_rows": null,
            "grid_column": null,
            "grid_gap": null,
            "grid_row": null,
            "grid_template_areas": null,
            "grid_template_columns": null,
            "grid_template_rows": null,
            "height": null,
            "justify_content": null,
            "justify_items": null,
            "left": null,
            "margin": null,
            "max_height": null,
            "max_width": null,
            "min_height": null,
            "min_width": null,
            "object_fit": null,
            "object_position": null,
            "order": null,
            "overflow": null,
            "overflow_x": null,
            "overflow_y": null,
            "padding": null,
            "right": null,
            "top": null,
            "visibility": null,
            "width": null
          }
        },
        "ab0162999f5643e3a5e90b3396036db2": {
          "model_module": "@jupyter-widgets/controls",
          "model_name": "DescriptionStyleModel",
          "model_module_version": "1.5.0",
          "state": {
            "_model_module": "@jupyter-widgets/controls",
            "_model_module_version": "1.5.0",
            "_model_name": "DescriptionStyleModel",
            "_view_count": null,
            "_view_module": "@jupyter-widgets/base",
            "_view_module_version": "1.2.0",
            "_view_name": "StyleView",
            "description_width": ""
          }
        },
        "2faf88a4d72a43c7a30b972070b22cb6": {
          "model_module": "@jupyter-widgets/base",
          "model_name": "LayoutModel",
          "model_module_version": "1.2.0",
          "state": {
            "_model_module": "@jupyter-widgets/base",
            "_model_module_version": "1.2.0",
            "_model_name": "LayoutModel",
            "_view_count": null,
            "_view_module": "@jupyter-widgets/base",
            "_view_module_version": "1.2.0",
            "_view_name": "LayoutView",
            "align_content": null,
            "align_items": null,
            "align_self": null,
            "border": null,
            "bottom": null,
            "display": null,
            "flex": null,
            "flex_flow": null,
            "grid_area": null,
            "grid_auto_columns": null,
            "grid_auto_flow": null,
            "grid_auto_rows": null,
            "grid_column": null,
            "grid_gap": null,
            "grid_row": null,
            "grid_template_areas": null,
            "grid_template_columns": null,
            "grid_template_rows": null,
            "height": null,
            "justify_content": null,
            "justify_items": null,
            "left": null,
            "margin": null,
            "max_height": null,
            "max_width": null,
            "min_height": null,
            "min_width": null,
            "object_fit": null,
            "object_position": null,
            "order": null,
            "overflow": null,
            "overflow_x": null,
            "overflow_y": null,
            "padding": null,
            "right": null,
            "top": null,
            "visibility": null,
            "width": null
          }
        },
        "a3fe48f754204ec5baa6f8f071b4f13d": {
          "model_module": "@jupyter-widgets/controls",
          "model_name": "ProgressStyleModel",
          "model_module_version": "1.5.0",
          "state": {
            "_model_module": "@jupyter-widgets/controls",
            "_model_module_version": "1.5.0",
            "_model_name": "ProgressStyleModel",
            "_view_count": null,
            "_view_module": "@jupyter-widgets/base",
            "_view_module_version": "1.2.0",
            "_view_name": "StyleView",
            "bar_color": null,
            "description_width": ""
          }
        },
        "87f110053cb147af9c526dd538906bd8": {
          "model_module": "@jupyter-widgets/base",
          "model_name": "LayoutModel",
          "model_module_version": "1.2.0",
          "state": {
            "_model_module": "@jupyter-widgets/base",
            "_model_module_version": "1.2.0",
            "_model_name": "LayoutModel",
            "_view_count": null,
            "_view_module": "@jupyter-widgets/base",
            "_view_module_version": "1.2.0",
            "_view_name": "LayoutView",
            "align_content": null,
            "align_items": null,
            "align_self": null,
            "border": null,
            "bottom": null,
            "display": null,
            "flex": null,
            "flex_flow": null,
            "grid_area": null,
            "grid_auto_columns": null,
            "grid_auto_flow": null,
            "grid_auto_rows": null,
            "grid_column": null,
            "grid_gap": null,
            "grid_row": null,
            "grid_template_areas": null,
            "grid_template_columns": null,
            "grid_template_rows": null,
            "height": null,
            "justify_content": null,
            "justify_items": null,
            "left": null,
            "margin": null,
            "max_height": null,
            "max_width": null,
            "min_height": null,
            "min_width": null,
            "object_fit": null,
            "object_position": null,
            "order": null,
            "overflow": null,
            "overflow_x": null,
            "overflow_y": null,
            "padding": null,
            "right": null,
            "top": null,
            "visibility": null,
            "width": null
          }
        },
        "e1d3fa7c041a4bbeae2f4ebf5b39ccce": {
          "model_module": "@jupyter-widgets/controls",
          "model_name": "DescriptionStyleModel",
          "model_module_version": "1.5.0",
          "state": {
            "_model_module": "@jupyter-widgets/controls",
            "_model_module_version": "1.5.0",
            "_model_name": "DescriptionStyleModel",
            "_view_count": null,
            "_view_module": "@jupyter-widgets/base",
            "_view_module_version": "1.2.0",
            "_view_name": "StyleView",
            "description_width": ""
          }
        },
        "3a9dfedd5fb34397abe35225ce8cb334": {
          "model_module": "@jupyter-widgets/controls",
          "model_name": "HBoxModel",
          "model_module_version": "1.5.0",
          "state": {
            "_dom_classes": [],
            "_model_module": "@jupyter-widgets/controls",
            "_model_module_version": "1.5.0",
            "_model_name": "HBoxModel",
            "_view_count": null,
            "_view_module": "@jupyter-widgets/controls",
            "_view_module_version": "1.5.0",
            "_view_name": "HBoxView",
            "box_style": "",
            "children": [
              "IPY_MODEL_b93ced28d9a946c0b031ba6241a88f87",
              "IPY_MODEL_56391a1b864d40f2935c2dc6d8fb237b",
              "IPY_MODEL_40028e8f2f2e4753816611305ebd22cb"
            ],
            "layout": "IPY_MODEL_e045e3235de34885aa142086567ec705"
          }
        },
        "b93ced28d9a946c0b031ba6241a88f87": {
          "model_module": "@jupyter-widgets/controls",
          "model_name": "HTMLModel",
          "model_module_version": "1.5.0",
          "state": {
            "_dom_classes": [],
            "_model_module": "@jupyter-widgets/controls",
            "_model_module_version": "1.5.0",
            "_model_name": "HTMLModel",
            "_view_count": null,
            "_view_module": "@jupyter-widgets/controls",
            "_view_module_version": "1.5.0",
            "_view_name": "HTMLView",
            "description": "",
            "description_tooltip": null,
            "layout": "IPY_MODEL_1571d478d5644dad823068de6e2da600",
            "placeholder": "​",
            "style": "IPY_MODEL_dcccb473965b4ee7967bc03ff924f79c",
            "value": "tokenizer.json: 100%"
          }
        },
        "56391a1b864d40f2935c2dc6d8fb237b": {
          "model_module": "@jupyter-widgets/controls",
          "model_name": "FloatProgressModel",
          "model_module_version": "1.5.0",
          "state": {
            "_dom_classes": [],
            "_model_module": "@jupyter-widgets/controls",
            "_model_module_version": "1.5.0",
            "_model_name": "FloatProgressModel",
            "_view_count": null,
            "_view_module": "@jupyter-widgets/controls",
            "_view_module_version": "1.5.0",
            "_view_name": "ProgressView",
            "bar_style": "success",
            "description": "",
            "description_tooltip": null,
            "layout": "IPY_MODEL_b54ecd0087464021990defddcde00548",
            "max": 1355863,
            "min": 0,
            "orientation": "horizontal",
            "style": "IPY_MODEL_e6eec2e9de324d8bad6edea6e6761679",
            "value": 1355863
          }
        },
        "40028e8f2f2e4753816611305ebd22cb": {
          "model_module": "@jupyter-widgets/controls",
          "model_name": "HTMLModel",
          "model_module_version": "1.5.0",
          "state": {
            "_dom_classes": [],
            "_model_module": "@jupyter-widgets/controls",
            "_model_module_version": "1.5.0",
            "_model_name": "HTMLModel",
            "_view_count": null,
            "_view_module": "@jupyter-widgets/controls",
            "_view_module_version": "1.5.0",
            "_view_name": "HTMLView",
            "description": "",
            "description_tooltip": null,
            "layout": "IPY_MODEL_7ce43e90244b4ebebf4552c51b133eee",
            "placeholder": "​",
            "style": "IPY_MODEL_3ca93829ae1947eca65a001fed2e2632",
            "value": " 1.36M/1.36M [00:00&lt;00:00, 11.2MB/s]"
          }
        },
        "e045e3235de34885aa142086567ec705": {
          "model_module": "@jupyter-widgets/base",
          "model_name": "LayoutModel",
          "model_module_version": "1.2.0",
          "state": {
            "_model_module": "@jupyter-widgets/base",
            "_model_module_version": "1.2.0",
            "_model_name": "LayoutModel",
            "_view_count": null,
            "_view_module": "@jupyter-widgets/base",
            "_view_module_version": "1.2.0",
            "_view_name": "LayoutView",
            "align_content": null,
            "align_items": null,
            "align_self": null,
            "border": null,
            "bottom": null,
            "display": null,
            "flex": null,
            "flex_flow": null,
            "grid_area": null,
            "grid_auto_columns": null,
            "grid_auto_flow": null,
            "grid_auto_rows": null,
            "grid_column": null,
            "grid_gap": null,
            "grid_row": null,
            "grid_template_areas": null,
            "grid_template_columns": null,
            "grid_template_rows": null,
            "height": null,
            "justify_content": null,
            "justify_items": null,
            "left": null,
            "margin": null,
            "max_height": null,
            "max_width": null,
            "min_height": null,
            "min_width": null,
            "object_fit": null,
            "object_position": null,
            "order": null,
            "overflow": null,
            "overflow_x": null,
            "overflow_y": null,
            "padding": null,
            "right": null,
            "top": null,
            "visibility": null,
            "width": null
          }
        },
        "1571d478d5644dad823068de6e2da600": {
          "model_module": "@jupyter-widgets/base",
          "model_name": "LayoutModel",
          "model_module_version": "1.2.0",
          "state": {
            "_model_module": "@jupyter-widgets/base",
            "_model_module_version": "1.2.0",
            "_model_name": "LayoutModel",
            "_view_count": null,
            "_view_module": "@jupyter-widgets/base",
            "_view_module_version": "1.2.0",
            "_view_name": "LayoutView",
            "align_content": null,
            "align_items": null,
            "align_self": null,
            "border": null,
            "bottom": null,
            "display": null,
            "flex": null,
            "flex_flow": null,
            "grid_area": null,
            "grid_auto_columns": null,
            "grid_auto_flow": null,
            "grid_auto_rows": null,
            "grid_column": null,
            "grid_gap": null,
            "grid_row": null,
            "grid_template_areas": null,
            "grid_template_columns": null,
            "grid_template_rows": null,
            "height": null,
            "justify_content": null,
            "justify_items": null,
            "left": null,
            "margin": null,
            "max_height": null,
            "max_width": null,
            "min_height": null,
            "min_width": null,
            "object_fit": null,
            "object_position": null,
            "order": null,
            "overflow": null,
            "overflow_x": null,
            "overflow_y": null,
            "padding": null,
            "right": null,
            "top": null,
            "visibility": null,
            "width": null
          }
        },
        "dcccb473965b4ee7967bc03ff924f79c": {
          "model_module": "@jupyter-widgets/controls",
          "model_name": "DescriptionStyleModel",
          "model_module_version": "1.5.0",
          "state": {
            "_model_module": "@jupyter-widgets/controls",
            "_model_module_version": "1.5.0",
            "_model_name": "DescriptionStyleModel",
            "_view_count": null,
            "_view_module": "@jupyter-widgets/base",
            "_view_module_version": "1.2.0",
            "_view_name": "StyleView",
            "description_width": ""
          }
        },
        "b54ecd0087464021990defddcde00548": {
          "model_module": "@jupyter-widgets/base",
          "model_name": "LayoutModel",
          "model_module_version": "1.2.0",
          "state": {
            "_model_module": "@jupyter-widgets/base",
            "_model_module_version": "1.2.0",
            "_model_name": "LayoutModel",
            "_view_count": null,
            "_view_module": "@jupyter-widgets/base",
            "_view_module_version": "1.2.0",
            "_view_name": "LayoutView",
            "align_content": null,
            "align_items": null,
            "align_self": null,
            "border": null,
            "bottom": null,
            "display": null,
            "flex": null,
            "flex_flow": null,
            "grid_area": null,
            "grid_auto_columns": null,
            "grid_auto_flow": null,
            "grid_auto_rows": null,
            "grid_column": null,
            "grid_gap": null,
            "grid_row": null,
            "grid_template_areas": null,
            "grid_template_columns": null,
            "grid_template_rows": null,
            "height": null,
            "justify_content": null,
            "justify_items": null,
            "left": null,
            "margin": null,
            "max_height": null,
            "max_width": null,
            "min_height": null,
            "min_width": null,
            "object_fit": null,
            "object_position": null,
            "order": null,
            "overflow": null,
            "overflow_x": null,
            "overflow_y": null,
            "padding": null,
            "right": null,
            "top": null,
            "visibility": null,
            "width": null
          }
        },
        "e6eec2e9de324d8bad6edea6e6761679": {
          "model_module": "@jupyter-widgets/controls",
          "model_name": "ProgressStyleModel",
          "model_module_version": "1.5.0",
          "state": {
            "_model_module": "@jupyter-widgets/controls",
            "_model_module_version": "1.5.0",
            "_model_name": "ProgressStyleModel",
            "_view_count": null,
            "_view_module": "@jupyter-widgets/base",
            "_view_module_version": "1.2.0",
            "_view_name": "StyleView",
            "bar_color": null,
            "description_width": ""
          }
        },
        "7ce43e90244b4ebebf4552c51b133eee": {
          "model_module": "@jupyter-widgets/base",
          "model_name": "LayoutModel",
          "model_module_version": "1.2.0",
          "state": {
            "_model_module": "@jupyter-widgets/base",
            "_model_module_version": "1.2.0",
            "_model_name": "LayoutModel",
            "_view_count": null,
            "_view_module": "@jupyter-widgets/base",
            "_view_module_version": "1.2.0",
            "_view_name": "LayoutView",
            "align_content": null,
            "align_items": null,
            "align_self": null,
            "border": null,
            "bottom": null,
            "display": null,
            "flex": null,
            "flex_flow": null,
            "grid_area": null,
            "grid_auto_columns": null,
            "grid_auto_flow": null,
            "grid_auto_rows": null,
            "grid_column": null,
            "grid_gap": null,
            "grid_row": null,
            "grid_template_areas": null,
            "grid_template_columns": null,
            "grid_template_rows": null,
            "height": null,
            "justify_content": null,
            "justify_items": null,
            "left": null,
            "margin": null,
            "max_height": null,
            "max_width": null,
            "min_height": null,
            "min_width": null,
            "object_fit": null,
            "object_position": null,
            "order": null,
            "overflow": null,
            "overflow_x": null,
            "overflow_y": null,
            "padding": null,
            "right": null,
            "top": null,
            "visibility": null,
            "width": null
          }
        },
        "3ca93829ae1947eca65a001fed2e2632": {
          "model_module": "@jupyter-widgets/controls",
          "model_name": "DescriptionStyleModel",
          "model_module_version": "1.5.0",
          "state": {
            "_model_module": "@jupyter-widgets/controls",
            "_model_module_version": "1.5.0",
            "_model_name": "DescriptionStyleModel",
            "_view_count": null,
            "_view_module": "@jupyter-widgets/base",
            "_view_module_version": "1.2.0",
            "_view_name": "StyleView",
            "description_width": ""
          }
        },
        "13437afecc824b11a866c0aa5d67dd16": {
          "model_module": "@jupyter-widgets/controls",
          "model_name": "HBoxModel",
          "model_module_version": "1.5.0",
          "state": {
            "_dom_classes": [],
            "_model_module": "@jupyter-widgets/controls",
            "_model_module_version": "1.5.0",
            "_model_name": "HBoxModel",
            "_view_count": null,
            "_view_module": "@jupyter-widgets/controls",
            "_view_module_version": "1.5.0",
            "_view_name": "HBoxView",
            "box_style": "",
            "children": [
              "IPY_MODEL_85e55efddc85434ea9a8189ca72f546f",
              "IPY_MODEL_76589be7eeb8438cacba71269c093b91",
              "IPY_MODEL_78a7f880caed46dc9353856aa037b3f8"
            ],
            "layout": "IPY_MODEL_1b796097e0184b639d0bc1caa17250b1"
          }
        },
        "85e55efddc85434ea9a8189ca72f546f": {
          "model_module": "@jupyter-widgets/controls",
          "model_name": "HTMLModel",
          "model_module_version": "1.5.0",
          "state": {
            "_dom_classes": [],
            "_model_module": "@jupyter-widgets/controls",
            "_model_module_version": "1.5.0",
            "_model_name": "HTMLModel",
            "_view_count": null,
            "_view_module": "@jupyter-widgets/controls",
            "_view_module_version": "1.5.0",
            "_view_name": "HTMLView",
            "description": "",
            "description_tooltip": null,
            "layout": "IPY_MODEL_db0b3a648a1f4862a56051e70192ffb7",
            "placeholder": "​",
            "style": "IPY_MODEL_341a04e900684e57b9f1c530c0b7cc8b",
            "value": "model.safetensors: 100%"
          }
        },
        "76589be7eeb8438cacba71269c093b91": {
          "model_module": "@jupyter-widgets/controls",
          "model_name": "FloatProgressModel",
          "model_module_version": "1.5.0",
          "state": {
            "_dom_classes": [],
            "_model_module": "@jupyter-widgets/controls",
            "_model_module_version": "1.5.0",
            "_model_name": "FloatProgressModel",
            "_view_count": null,
            "_view_module": "@jupyter-widgets/controls",
            "_view_module_version": "1.5.0",
            "_view_name": "ProgressView",
            "bar_style": "success",
            "description": "",
            "description_tooltip": null,
            "layout": "IPY_MODEL_f767ac7053954266920ddaa596f9c79e",
            "max": 1421700479,
            "min": 0,
            "orientation": "horizontal",
            "style": "IPY_MODEL_97f07b34237d4784aac534533a29fc76",
            "value": 1421700479
          }
        },
        "78a7f880caed46dc9353856aa037b3f8": {
          "model_module": "@jupyter-widgets/controls",
          "model_name": "HTMLModel",
          "model_module_version": "1.5.0",
          "state": {
            "_dom_classes": [],
            "_model_module": "@jupyter-widgets/controls",
            "_model_module_version": "1.5.0",
            "_model_name": "HTMLModel",
            "_view_count": null,
            "_view_module": "@jupyter-widgets/controls",
            "_view_module_version": "1.5.0",
            "_view_name": "HTMLView",
            "description": "",
            "description_tooltip": null,
            "layout": "IPY_MODEL_ccd20cc109fd42c2b069e1dbda380b30",
            "placeholder": "​",
            "style": "IPY_MODEL_270d47a3e76a44f8ba4bd9c0a0a6fbf1",
            "value": " 1.42G/1.42G [00:06&lt;00:00, 210MB/s]"
          }
        },
        "1b796097e0184b639d0bc1caa17250b1": {
          "model_module": "@jupyter-widgets/base",
          "model_name": "LayoutModel",
          "model_module_version": "1.2.0",
          "state": {
            "_model_module": "@jupyter-widgets/base",
            "_model_module_version": "1.2.0",
            "_model_name": "LayoutModel",
            "_view_count": null,
            "_view_module": "@jupyter-widgets/base",
            "_view_module_version": "1.2.0",
            "_view_name": "LayoutView",
            "align_content": null,
            "align_items": null,
            "align_self": null,
            "border": null,
            "bottom": null,
            "display": null,
            "flex": null,
            "flex_flow": null,
            "grid_area": null,
            "grid_auto_columns": null,
            "grid_auto_flow": null,
            "grid_auto_rows": null,
            "grid_column": null,
            "grid_gap": null,
            "grid_row": null,
            "grid_template_areas": null,
            "grid_template_columns": null,
            "grid_template_rows": null,
            "height": null,
            "justify_content": null,
            "justify_items": null,
            "left": null,
            "margin": null,
            "max_height": null,
            "max_width": null,
            "min_height": null,
            "min_width": null,
            "object_fit": null,
            "object_position": null,
            "order": null,
            "overflow": null,
            "overflow_x": null,
            "overflow_y": null,
            "padding": null,
            "right": null,
            "top": null,
            "visibility": null,
            "width": null
          }
        },
        "db0b3a648a1f4862a56051e70192ffb7": {
          "model_module": "@jupyter-widgets/base",
          "model_name": "LayoutModel",
          "model_module_version": "1.2.0",
          "state": {
            "_model_module": "@jupyter-widgets/base",
            "_model_module_version": "1.2.0",
            "_model_name": "LayoutModel",
            "_view_count": null,
            "_view_module": "@jupyter-widgets/base",
            "_view_module_version": "1.2.0",
            "_view_name": "LayoutView",
            "align_content": null,
            "align_items": null,
            "align_self": null,
            "border": null,
            "bottom": null,
            "display": null,
            "flex": null,
            "flex_flow": null,
            "grid_area": null,
            "grid_auto_columns": null,
            "grid_auto_flow": null,
            "grid_auto_rows": null,
            "grid_column": null,
            "grid_gap": null,
            "grid_row": null,
            "grid_template_areas": null,
            "grid_template_columns": null,
            "grid_template_rows": null,
            "height": null,
            "justify_content": null,
            "justify_items": null,
            "left": null,
            "margin": null,
            "max_height": null,
            "max_width": null,
            "min_height": null,
            "min_width": null,
            "object_fit": null,
            "object_position": null,
            "order": null,
            "overflow": null,
            "overflow_x": null,
            "overflow_y": null,
            "padding": null,
            "right": null,
            "top": null,
            "visibility": null,
            "width": null
          }
        },
        "341a04e900684e57b9f1c530c0b7cc8b": {
          "model_module": "@jupyter-widgets/controls",
          "model_name": "DescriptionStyleModel",
          "model_module_version": "1.5.0",
          "state": {
            "_model_module": "@jupyter-widgets/controls",
            "_model_module_version": "1.5.0",
            "_model_name": "DescriptionStyleModel",
            "_view_count": null,
            "_view_module": "@jupyter-widgets/base",
            "_view_module_version": "1.2.0",
            "_view_name": "StyleView",
            "description_width": ""
          }
        },
        "f767ac7053954266920ddaa596f9c79e": {
          "model_module": "@jupyter-widgets/base",
          "model_name": "LayoutModel",
          "model_module_version": "1.2.0",
          "state": {
            "_model_module": "@jupyter-widgets/base",
            "_model_module_version": "1.2.0",
            "_model_name": "LayoutModel",
            "_view_count": null,
            "_view_module": "@jupyter-widgets/base",
            "_view_module_version": "1.2.0",
            "_view_name": "LayoutView",
            "align_content": null,
            "align_items": null,
            "align_self": null,
            "border": null,
            "bottom": null,
            "display": null,
            "flex": null,
            "flex_flow": null,
            "grid_area": null,
            "grid_auto_columns": null,
            "grid_auto_flow": null,
            "grid_auto_rows": null,
            "grid_column": null,
            "grid_gap": null,
            "grid_row": null,
            "grid_template_areas": null,
            "grid_template_columns": null,
            "grid_template_rows": null,
            "height": null,
            "justify_content": null,
            "justify_items": null,
            "left": null,
            "margin": null,
            "max_height": null,
            "max_width": null,
            "min_height": null,
            "min_width": null,
            "object_fit": null,
            "object_position": null,
            "order": null,
            "overflow": null,
            "overflow_x": null,
            "overflow_y": null,
            "padding": null,
            "right": null,
            "top": null,
            "visibility": null,
            "width": null
          }
        },
        "97f07b34237d4784aac534533a29fc76": {
          "model_module": "@jupyter-widgets/controls",
          "model_name": "ProgressStyleModel",
          "model_module_version": "1.5.0",
          "state": {
            "_model_module": "@jupyter-widgets/controls",
            "_model_module_version": "1.5.0",
            "_model_name": "ProgressStyleModel",
            "_view_count": null,
            "_view_module": "@jupyter-widgets/base",
            "_view_module_version": "1.2.0",
            "_view_name": "StyleView",
            "bar_color": null,
            "description_width": ""
          }
        },
        "ccd20cc109fd42c2b069e1dbda380b30": {
          "model_module": "@jupyter-widgets/base",
          "model_name": "LayoutModel",
          "model_module_version": "1.2.0",
          "state": {
            "_model_module": "@jupyter-widgets/base",
            "_model_module_version": "1.2.0",
            "_model_name": "LayoutModel",
            "_view_count": null,
            "_view_module": "@jupyter-widgets/base",
            "_view_module_version": "1.2.0",
            "_view_name": "LayoutView",
            "align_content": null,
            "align_items": null,
            "align_self": null,
            "border": null,
            "bottom": null,
            "display": null,
            "flex": null,
            "flex_flow": null,
            "grid_area": null,
            "grid_auto_columns": null,
            "grid_auto_flow": null,
            "grid_auto_rows": null,
            "grid_column": null,
            "grid_gap": null,
            "grid_row": null,
            "grid_template_areas": null,
            "grid_template_columns": null,
            "grid_template_rows": null,
            "height": null,
            "justify_content": null,
            "justify_items": null,
            "left": null,
            "margin": null,
            "max_height": null,
            "max_width": null,
            "min_height": null,
            "min_width": null,
            "object_fit": null,
            "object_position": null,
            "order": null,
            "overflow": null,
            "overflow_x": null,
            "overflow_y": null,
            "padding": null,
            "right": null,
            "top": null,
            "visibility": null,
            "width": null
          }
        },
        "270d47a3e76a44f8ba4bd9c0a0a6fbf1": {
          "model_module": "@jupyter-widgets/controls",
          "model_name": "DescriptionStyleModel",
          "model_module_version": "1.5.0",
          "state": {
            "_model_module": "@jupyter-widgets/controls",
            "_model_module_version": "1.5.0",
            "_model_name": "DescriptionStyleModel",
            "_view_count": null,
            "_view_module": "@jupyter-widgets/base",
            "_view_module_version": "1.2.0",
            "_view_name": "StyleView",
            "description_width": ""
          }
        },
        "98436999d9454f3fb825e08bd9dfda39": {
          "model_module": "@jupyter-widgets/controls",
          "model_name": "HBoxModel",
          "model_module_version": "1.5.0",
          "state": {
            "_dom_classes": [],
            "_model_module": "@jupyter-widgets/controls",
            "_model_module_version": "1.5.0",
            "_model_name": "HBoxModel",
            "_view_count": null,
            "_view_module": "@jupyter-widgets/controls",
            "_view_module_version": "1.5.0",
            "_view_name": "HBoxView",
            "box_style": "",
            "children": [
              "IPY_MODEL_22b40be4354441adb77be3decec14133",
              "IPY_MODEL_b07a3ec0acc9481cbbc2a979b2063fe0",
              "IPY_MODEL_e5958d01f7c5459a9b014dfeecd755b6"
            ],
            "layout": "IPY_MODEL_1c00148f9640498eaa399d518645e4dd"
          }
        },
        "22b40be4354441adb77be3decec14133": {
          "model_module": "@jupyter-widgets/controls",
          "model_name": "HTMLModel",
          "model_module_version": "1.5.0",
          "state": {
            "_dom_classes": [],
            "_model_module": "@jupyter-widgets/controls",
            "_model_module_version": "1.5.0",
            "_model_name": "HTMLModel",
            "_view_count": null,
            "_view_module": "@jupyter-widgets/controls",
            "_view_module_version": "1.5.0",
            "_view_name": "HTMLView",
            "description": "",
            "description_tooltip": null,
            "layout": "IPY_MODEL_2af9e5e39d7d42c682f9b66bde4d7272",
            "placeholder": "​",
            "style": "IPY_MODEL_882937a905b74d25b5dca6612655fe5b",
            "value": "100%"
          }
        },
        "b07a3ec0acc9481cbbc2a979b2063fe0": {
          "model_module": "@jupyter-widgets/controls",
          "model_name": "FloatProgressModel",
          "model_module_version": "1.5.0",
          "state": {
            "_dom_classes": [],
            "_model_module": "@jupyter-widgets/controls",
            "_model_module_version": "1.5.0",
            "_model_name": "FloatProgressModel",
            "_view_count": null,
            "_view_module": "@jupyter-widgets/controls",
            "_view_module_version": "1.5.0",
            "_view_name": "ProgressView",
            "bar_style": "success",
            "description": "",
            "description_tooltip": null,
            "layout": "IPY_MODEL_b3970ebe0bf642e38405e423b20fc655",
            "max": 1,
            "min": 0,
            "orientation": "horizontal",
            "style": "IPY_MODEL_b43712b31ebc4eeeb4f46b98a3ddff79",
            "value": 1
          }
        },
        "e5958d01f7c5459a9b014dfeecd755b6": {
          "model_module": "@jupyter-widgets/controls",
          "model_name": "HTMLModel",
          "model_module_version": "1.5.0",
          "state": {
            "_dom_classes": [],
            "_model_module": "@jupyter-widgets/controls",
            "_model_module_version": "1.5.0",
            "_model_name": "HTMLModel",
            "_view_count": null,
            "_view_module": "@jupyter-widgets/controls",
            "_view_module_version": "1.5.0",
            "_view_name": "HTMLView",
            "description": "",
            "description_tooltip": null,
            "layout": "IPY_MODEL_3bea45cb6c94490baee29c59c9408e14",
            "placeholder": "​",
            "style": "IPY_MODEL_b2259d2684c24d8cb922a8f9f6280f03",
            "value": " 1/1 [00:00&lt;00:00,  4.18it/s]"
          }
        },
        "1c00148f9640498eaa399d518645e4dd": {
          "model_module": "@jupyter-widgets/base",
          "model_name": "LayoutModel",
          "model_module_version": "1.2.0",
          "state": {
            "_model_module": "@jupyter-widgets/base",
            "_model_module_version": "1.2.0",
            "_model_name": "LayoutModel",
            "_view_count": null,
            "_view_module": "@jupyter-widgets/base",
            "_view_module_version": "1.2.0",
            "_view_name": "LayoutView",
            "align_content": null,
            "align_items": null,
            "align_self": null,
            "border": null,
            "bottom": null,
            "display": null,
            "flex": null,
            "flex_flow": null,
            "grid_area": null,
            "grid_auto_columns": null,
            "grid_auto_flow": null,
            "grid_auto_rows": null,
            "grid_column": null,
            "grid_gap": null,
            "grid_row": null,
            "grid_template_areas": null,
            "grid_template_columns": null,
            "grid_template_rows": null,
            "height": null,
            "justify_content": null,
            "justify_items": null,
            "left": null,
            "margin": null,
            "max_height": null,
            "max_width": null,
            "min_height": null,
            "min_width": null,
            "object_fit": null,
            "object_position": null,
            "order": null,
            "overflow": null,
            "overflow_x": null,
            "overflow_y": null,
            "padding": null,
            "right": null,
            "top": null,
            "visibility": null,
            "width": null
          }
        },
        "2af9e5e39d7d42c682f9b66bde4d7272": {
          "model_module": "@jupyter-widgets/base",
          "model_name": "LayoutModel",
          "model_module_version": "1.2.0",
          "state": {
            "_model_module": "@jupyter-widgets/base",
            "_model_module_version": "1.2.0",
            "_model_name": "LayoutModel",
            "_view_count": null,
            "_view_module": "@jupyter-widgets/base",
            "_view_module_version": "1.2.0",
            "_view_name": "LayoutView",
            "align_content": null,
            "align_items": null,
            "align_self": null,
            "border": null,
            "bottom": null,
            "display": null,
            "flex": null,
            "flex_flow": null,
            "grid_area": null,
            "grid_auto_columns": null,
            "grid_auto_flow": null,
            "grid_auto_rows": null,
            "grid_column": null,
            "grid_gap": null,
            "grid_row": null,
            "grid_template_areas": null,
            "grid_template_columns": null,
            "grid_template_rows": null,
            "height": null,
            "justify_content": null,
            "justify_items": null,
            "left": null,
            "margin": null,
            "max_height": null,
            "max_width": null,
            "min_height": null,
            "min_width": null,
            "object_fit": null,
            "object_position": null,
            "order": null,
            "overflow": null,
            "overflow_x": null,
            "overflow_y": null,
            "padding": null,
            "right": null,
            "top": null,
            "visibility": null,
            "width": null
          }
        },
        "882937a905b74d25b5dca6612655fe5b": {
          "model_module": "@jupyter-widgets/controls",
          "model_name": "DescriptionStyleModel",
          "model_module_version": "1.5.0",
          "state": {
            "_model_module": "@jupyter-widgets/controls",
            "_model_module_version": "1.5.0",
            "_model_name": "DescriptionStyleModel",
            "_view_count": null,
            "_view_module": "@jupyter-widgets/base",
            "_view_module_version": "1.2.0",
            "_view_name": "StyleView",
            "description_width": ""
          }
        },
        "b3970ebe0bf642e38405e423b20fc655": {
          "model_module": "@jupyter-widgets/base",
          "model_name": "LayoutModel",
          "model_module_version": "1.2.0",
          "state": {
            "_model_module": "@jupyter-widgets/base",
            "_model_module_version": "1.2.0",
            "_model_name": "LayoutModel",
            "_view_count": null,
            "_view_module": "@jupyter-widgets/base",
            "_view_module_version": "1.2.0",
            "_view_name": "LayoutView",
            "align_content": null,
            "align_items": null,
            "align_self": null,
            "border": null,
            "bottom": null,
            "display": null,
            "flex": null,
            "flex_flow": null,
            "grid_area": null,
            "grid_auto_columns": null,
            "grid_auto_flow": null,
            "grid_auto_rows": null,
            "grid_column": null,
            "grid_gap": null,
            "grid_row": null,
            "grid_template_areas": null,
            "grid_template_columns": null,
            "grid_template_rows": null,
            "height": null,
            "justify_content": null,
            "justify_items": null,
            "left": null,
            "margin": null,
            "max_height": null,
            "max_width": null,
            "min_height": null,
            "min_width": null,
            "object_fit": null,
            "object_position": null,
            "order": null,
            "overflow": null,
            "overflow_x": null,
            "overflow_y": null,
            "padding": null,
            "right": null,
            "top": null,
            "visibility": null,
            "width": null
          }
        },
        "b43712b31ebc4eeeb4f46b98a3ddff79": {
          "model_module": "@jupyter-widgets/controls",
          "model_name": "ProgressStyleModel",
          "model_module_version": "1.5.0",
          "state": {
            "_model_module": "@jupyter-widgets/controls",
            "_model_module_version": "1.5.0",
            "_model_name": "ProgressStyleModel",
            "_view_count": null,
            "_view_module": "@jupyter-widgets/base",
            "_view_module_version": "1.2.0",
            "_view_name": "StyleView",
            "bar_color": null,
            "description_width": ""
          }
        },
        "3bea45cb6c94490baee29c59c9408e14": {
          "model_module": "@jupyter-widgets/base",
          "model_name": "LayoutModel",
          "model_module_version": "1.2.0",
          "state": {
            "_model_module": "@jupyter-widgets/base",
            "_model_module_version": "1.2.0",
            "_model_name": "LayoutModel",
            "_view_count": null,
            "_view_module": "@jupyter-widgets/base",
            "_view_module_version": "1.2.0",
            "_view_name": "LayoutView",
            "align_content": null,
            "align_items": null,
            "align_self": null,
            "border": null,
            "bottom": null,
            "display": null,
            "flex": null,
            "flex_flow": null,
            "grid_area": null,
            "grid_auto_columns": null,
            "grid_auto_flow": null,
            "grid_auto_rows": null,
            "grid_column": null,
            "grid_gap": null,
            "grid_row": null,
            "grid_template_areas": null,
            "grid_template_columns": null,
            "grid_template_rows": null,
            "height": null,
            "justify_content": null,
            "justify_items": null,
            "left": null,
            "margin": null,
            "max_height": null,
            "max_width": null,
            "min_height": null,
            "min_width": null,
            "object_fit": null,
            "object_position": null,
            "order": null,
            "overflow": null,
            "overflow_x": null,
            "overflow_y": null,
            "padding": null,
            "right": null,
            "top": null,
            "visibility": null,
            "width": null
          }
        },
        "b2259d2684c24d8cb922a8f9f6280f03": {
          "model_module": "@jupyter-widgets/controls",
          "model_name": "DescriptionStyleModel",
          "model_module_version": "1.5.0",
          "state": {
            "_model_module": "@jupyter-widgets/controls",
            "_model_module_version": "1.5.0",
            "_model_name": "DescriptionStyleModel",
            "_view_count": null,
            "_view_module": "@jupyter-widgets/base",
            "_view_module_version": "1.2.0",
            "_view_name": "StyleView",
            "description_width": ""
          }
        },
        "3bff03acc7a5443f8bc39a743245f1a7": {
          "model_module": "@jupyter-widgets/controls",
          "model_name": "HBoxModel",
          "model_module_version": "1.5.0",
          "state": {
            "_dom_classes": [],
            "_model_module": "@jupyter-widgets/controls",
            "_model_module_version": "1.5.0",
            "_model_name": "HBoxModel",
            "_view_count": null,
            "_view_module": "@jupyter-widgets/controls",
            "_view_module_version": "1.5.0",
            "_view_name": "HBoxView",
            "box_style": "",
            "children": [
              "IPY_MODEL_d2186b1c36cc4f6f85d7585cea299fae",
              "IPY_MODEL_8be7091f1cd5405da1979bfec90c95ae",
              "IPY_MODEL_9e8b5a61ddb2428aa01853dfbb9e1336"
            ],
            "layout": "IPY_MODEL_88e956617cd14235b61f3daad255506c"
          }
        },
        "d2186b1c36cc4f6f85d7585cea299fae": {
          "model_module": "@jupyter-widgets/controls",
          "model_name": "HTMLModel",
          "model_module_version": "1.5.0",
          "state": {
            "_dom_classes": [],
            "_model_module": "@jupyter-widgets/controls",
            "_model_module_version": "1.5.0",
            "_model_name": "HTMLModel",
            "_view_count": null,
            "_view_module": "@jupyter-widgets/controls",
            "_view_module_version": "1.5.0",
            "_view_name": "HTMLView",
            "description": "",
            "description_tooltip": null,
            "layout": "IPY_MODEL_d89a48f3325b4b33b1cf02c549d4d897",
            "placeholder": "​",
            "style": "IPY_MODEL_312891dfb29d4b1aa45e49ee7ae48f5f",
            "value": "100%"
          }
        },
        "8be7091f1cd5405da1979bfec90c95ae": {
          "model_module": "@jupyter-widgets/controls",
          "model_name": "FloatProgressModel",
          "model_module_version": "1.5.0",
          "state": {
            "_dom_classes": [],
            "_model_module": "@jupyter-widgets/controls",
            "_model_module_version": "1.5.0",
            "_model_name": "FloatProgressModel",
            "_view_count": null,
            "_view_module": "@jupyter-widgets/controls",
            "_view_module_version": "1.5.0",
            "_view_name": "ProgressView",
            "bar_style": "success",
            "description": "",
            "description_tooltip": null,
            "layout": "IPY_MODEL_57d99349d5b8472dad3728324a0e9792",
            "max": 1,
            "min": 0,
            "orientation": "horizontal",
            "style": "IPY_MODEL_43b50b5907a84793a17a3dd5a3665ef7",
            "value": 1
          }
        },
        "9e8b5a61ddb2428aa01853dfbb9e1336": {
          "model_module": "@jupyter-widgets/controls",
          "model_name": "HTMLModel",
          "model_module_version": "1.5.0",
          "state": {
            "_dom_classes": [],
            "_model_module": "@jupyter-widgets/controls",
            "_model_module_version": "1.5.0",
            "_model_name": "HTMLModel",
            "_view_count": null,
            "_view_module": "@jupyter-widgets/controls",
            "_view_module_version": "1.5.0",
            "_view_name": "HTMLView",
            "description": "",
            "description_tooltip": null,
            "layout": "IPY_MODEL_cdf81be08c134653ae89dd75f800bc93",
            "placeholder": "​",
            "style": "IPY_MODEL_0ae591e1623e4166893c5ab134f5578b",
            "value": " 1/1 [00:00&lt;00:00, 60.42it/s]"
          }
        },
        "88e956617cd14235b61f3daad255506c": {
          "model_module": "@jupyter-widgets/base",
          "model_name": "LayoutModel",
          "model_module_version": "1.2.0",
          "state": {
            "_model_module": "@jupyter-widgets/base",
            "_model_module_version": "1.2.0",
            "_model_name": "LayoutModel",
            "_view_count": null,
            "_view_module": "@jupyter-widgets/base",
            "_view_module_version": "1.2.0",
            "_view_name": "LayoutView",
            "align_content": null,
            "align_items": null,
            "align_self": null,
            "border": null,
            "bottom": null,
            "display": null,
            "flex": null,
            "flex_flow": null,
            "grid_area": null,
            "grid_auto_columns": null,
            "grid_auto_flow": null,
            "grid_auto_rows": null,
            "grid_column": null,
            "grid_gap": null,
            "grid_row": null,
            "grid_template_areas": null,
            "grid_template_columns": null,
            "grid_template_rows": null,
            "height": null,
            "justify_content": null,
            "justify_items": null,
            "left": null,
            "margin": null,
            "max_height": null,
            "max_width": null,
            "min_height": null,
            "min_width": null,
            "object_fit": null,
            "object_position": null,
            "order": null,
            "overflow": null,
            "overflow_x": null,
            "overflow_y": null,
            "padding": null,
            "right": null,
            "top": null,
            "visibility": null,
            "width": null
          }
        },
        "d89a48f3325b4b33b1cf02c549d4d897": {
          "model_module": "@jupyter-widgets/base",
          "model_name": "LayoutModel",
          "model_module_version": "1.2.0",
          "state": {
            "_model_module": "@jupyter-widgets/base",
            "_model_module_version": "1.2.0",
            "_model_name": "LayoutModel",
            "_view_count": null,
            "_view_module": "@jupyter-widgets/base",
            "_view_module_version": "1.2.0",
            "_view_name": "LayoutView",
            "align_content": null,
            "align_items": null,
            "align_self": null,
            "border": null,
            "bottom": null,
            "display": null,
            "flex": null,
            "flex_flow": null,
            "grid_area": null,
            "grid_auto_columns": null,
            "grid_auto_flow": null,
            "grid_auto_rows": null,
            "grid_column": null,
            "grid_gap": null,
            "grid_row": null,
            "grid_template_areas": null,
            "grid_template_columns": null,
            "grid_template_rows": null,
            "height": null,
            "justify_content": null,
            "justify_items": null,
            "left": null,
            "margin": null,
            "max_height": null,
            "max_width": null,
            "min_height": null,
            "min_width": null,
            "object_fit": null,
            "object_position": null,
            "order": null,
            "overflow": null,
            "overflow_x": null,
            "overflow_y": null,
            "padding": null,
            "right": null,
            "top": null,
            "visibility": null,
            "width": null
          }
        },
        "312891dfb29d4b1aa45e49ee7ae48f5f": {
          "model_module": "@jupyter-widgets/controls",
          "model_name": "DescriptionStyleModel",
          "model_module_version": "1.5.0",
          "state": {
            "_model_module": "@jupyter-widgets/controls",
            "_model_module_version": "1.5.0",
            "_model_name": "DescriptionStyleModel",
            "_view_count": null,
            "_view_module": "@jupyter-widgets/base",
            "_view_module_version": "1.2.0",
            "_view_name": "StyleView",
            "description_width": ""
          }
        },
        "57d99349d5b8472dad3728324a0e9792": {
          "model_module": "@jupyter-widgets/base",
          "model_name": "LayoutModel",
          "model_module_version": "1.2.0",
          "state": {
            "_model_module": "@jupyter-widgets/base",
            "_model_module_version": "1.2.0",
            "_model_name": "LayoutModel",
            "_view_count": null,
            "_view_module": "@jupyter-widgets/base",
            "_view_module_version": "1.2.0",
            "_view_name": "LayoutView",
            "align_content": null,
            "align_items": null,
            "align_self": null,
            "border": null,
            "bottom": null,
            "display": null,
            "flex": null,
            "flex_flow": null,
            "grid_area": null,
            "grid_auto_columns": null,
            "grid_auto_flow": null,
            "grid_auto_rows": null,
            "grid_column": null,
            "grid_gap": null,
            "grid_row": null,
            "grid_template_areas": null,
            "grid_template_columns": null,
            "grid_template_rows": null,
            "height": null,
            "justify_content": null,
            "justify_items": null,
            "left": null,
            "margin": null,
            "max_height": null,
            "max_width": null,
            "min_height": null,
            "min_width": null,
            "object_fit": null,
            "object_position": null,
            "order": null,
            "overflow": null,
            "overflow_x": null,
            "overflow_y": null,
            "padding": null,
            "right": null,
            "top": null,
            "visibility": null,
            "width": null
          }
        },
        "43b50b5907a84793a17a3dd5a3665ef7": {
          "model_module": "@jupyter-widgets/controls",
          "model_name": "ProgressStyleModel",
          "model_module_version": "1.5.0",
          "state": {
            "_model_module": "@jupyter-widgets/controls",
            "_model_module_version": "1.5.0",
            "_model_name": "ProgressStyleModel",
            "_view_count": null,
            "_view_module": "@jupyter-widgets/base",
            "_view_module_version": "1.2.0",
            "_view_name": "StyleView",
            "bar_color": null,
            "description_width": ""
          }
        },
        "cdf81be08c134653ae89dd75f800bc93": {
          "model_module": "@jupyter-widgets/base",
          "model_name": "LayoutModel",
          "model_module_version": "1.2.0",
          "state": {
            "_model_module": "@jupyter-widgets/base",
            "_model_module_version": "1.2.0",
            "_model_name": "LayoutModel",
            "_view_count": null,
            "_view_module": "@jupyter-widgets/base",
            "_view_module_version": "1.2.0",
            "_view_name": "LayoutView",
            "align_content": null,
            "align_items": null,
            "align_self": null,
            "border": null,
            "bottom": null,
            "display": null,
            "flex": null,
            "flex_flow": null,
            "grid_area": null,
            "grid_auto_columns": null,
            "grid_auto_flow": null,
            "grid_auto_rows": null,
            "grid_column": null,
            "grid_gap": null,
            "grid_row": null,
            "grid_template_areas": null,
            "grid_template_columns": null,
            "grid_template_rows": null,
            "height": null,
            "justify_content": null,
            "justify_items": null,
            "left": null,
            "margin": null,
            "max_height": null,
            "max_width": null,
            "min_height": null,
            "min_width": null,
            "object_fit": null,
            "object_position": null,
            "order": null,
            "overflow": null,
            "overflow_x": null,
            "overflow_y": null,
            "padding": null,
            "right": null,
            "top": null,
            "visibility": null,
            "width": null
          }
        },
        "0ae591e1623e4166893c5ab134f5578b": {
          "model_module": "@jupyter-widgets/controls",
          "model_name": "DescriptionStyleModel",
          "model_module_version": "1.5.0",
          "state": {
            "_model_module": "@jupyter-widgets/controls",
            "_model_module_version": "1.5.0",
            "_model_name": "DescriptionStyleModel",
            "_view_count": null,
            "_view_module": "@jupyter-widgets/base",
            "_view_module_version": "1.2.0",
            "_view_name": "StyleView",
            "description_width": ""
          }
        }
      }
    }
  },
  "cells": [
    {
      "cell_type": "markdown",
      "metadata": {
        "id": "view-in-github",
        "colab_type": "text"
      },
      "source": [
        "<a href=\"https://colab.research.google.com/github/ManJ-PC/Natural-Language-Processing/blob/main/bertscore_demo.ipynb\" target=\"_parent\"><img src=\"https://colab.research.google.com/assets/colab-badge.svg\" alt=\"Open In Colab\"/></a>"
      ]
    },
    {
      "cell_type": "markdown",
      "source": [
        "# BERTScore\n",
        "\n",
        "BERTScore's evaluation architecture is designed to evaluate the quality of generated text by\n",
        "comparing it to a reference text. The architecture is built around several key components:\n",
        "\n",
        "![bertscore.JPG](data:image/jpeg;base64,/9j/4AAQSkZJRgABAQEAYABgAAD/4REMRXhpZgAATU0AKgAAAAgABAE7AAIAAAAWAAAISodpAAQAAAABAAAIYJydAAEAAAAsAAAQ2OocAAcAAAgMAAAAPgAAAAAc6gAAAAgAAAAAAAAAAAAAAAAAAAAAAAAAAAAAAAAAAAAAAAAAAAAAAAAAAAAAAAAAAAAAAAAAAAAAAAAAAAAAAAAAAAAAAAAAAAAAAAAAAAAAAAAAAAAAAAAAAAAAAAAAAAAAAAAAAAAAAAAAAAAAAAAAAAAAAAAAAAAAAAAAAAAAAAAAAAAAAAAAAAAAAAAAAAAAAAAAAAAAAAAAAAAAAAAAAAAAAAAAAAAAAAAAAAAAAAAAAAAAAAAAAAAAAAAAAAAAAAAAAAAAAAAAAAAAAAAAAAAAAAAAAAAAAAAAAAAAAAAAAAAAAAAAAAAAAAAAAAAAAAAAAAAAAAAAAAAAAAAAAAAAAAAAAAAAAAAAAAAAAAAAAAAAAAAAAAAAAAAAAAAAAAAAAAAAAAAAAAAAAAAAAAAAAAAAAAAAAAAAAAAAAAAAAAAAAAAAAAAAAAAAAAAAAAAAAAAAAAAAAAAAAAAAAAAAAAAAAAAAAAAAAAAAAAAAAAAAAAAAAAAAAAAAAAAAAAAAAAAAAAAAAAAAAAAAAAAAAAAAAAAAAAAAAAAAAAAAAAAAAAAAAAAAAAAAAAAAAAAAAAAAAAAAAAAAAAAAAAAAAAAAAAAAAAAAAAAAAAAAAAAAAAAAAAAAAAAAAAAAAAAAAAAAAAAAAAAAAAAAAAAAAAAAAAAAAAAAAAAAAAAAAAAAAAAAAAAAAAAAAAAAAAAAAAAAAAAAAAAAAAAAAAAAAAAAAAAAAAAAAAAAAAAAAAAAAAAAAAAAAAAAAAAAAAAAAAAAAAAAAAAAAAAAAAAAAAAAAAAAAAAAAAAAAAAAAAAAAAAAAAAAAAAAAAAAAAAAAAAAAAAAAAAAAAAAAAAAAAAAAAAAAAAAAAAAAAAAAAAAAAAAAAAAAAAAAAAAAAAAAAAAAAAAAAAAAAAAAAAAAAAAAAAAAAAAAAAAAAAAAAAAAAAAAAAAAAAAAAAAAAAAAAAAAAAAAAAAAAAAAAAAAAAAAAAAAAAAAAAAAAAAAAAAAAAAAAAAAAAAAAAAAAAAAAAAAAAAAAAAAAAAAAAAAAAAAAAAAAAAAAAAAAAAAAAAAAAAAAAAAAAAAAAAAAAAAAAAAAAAAAAAAAAAAAAAAAAAAAAAAAAAAAAAAAAAAAAAAAAAAAAAAAAAAAAAAAAAAAAAAAAAAAAAAAAAAAAAAAAAAAAAAAAAAAAAAAAAAAAAAAAAAAAAAAAAAAAAAAAAAAAAAAAAAAAAAAAAAAAAAAAAAAAAAAAAAAAAAAAAAAAAAAAAAAAAAAAAAAAAAAAAAAAAAAAAAAAAAAAAAAAAAAAAAAAAAAAAAAAAAAAAAAAAAAAAAAAAAAAAAAAAAAAAAAAAAAAAAAAAAAAAAAAAAAAAAAAAAAAAAAAAAAAAAAAAAAAAAAAAAAAAAAAAAAAAAAAAAAAAAAAAAAAAAAAAAAAAAAAAAAAAAAAAAAAAAAAAAAAAAAAAAAAAAAAAAAAAAAAAAAAAAAAAAAAAAAAAAAAAAAAAAAAAAAAAAAAAAAAAAAAAAAAAAAAAAAAAAAAAAAAAAAAAAAAAAAAAAAAAAAAAAAAAAAAAAAAAAAAAAAAAAAAAAAAAAAAAAAAAAAAAAAAAAAAAAAAAAAAAAAAAAAAAAAAAAAAAAAAAAAAAAAAAAAAAAAAAAAAAAAAAAAAAAAAAAAAAAAAAAAAAAAAAAAAAAAAAAAAAAAAAAAAAAAAAAAAAAAAAAAAAAAAAAAAAAAAAAAAAAAAAAAAAAAAAAAAAAAAAAAAAAAAAAAAAAAAAAAAAAAAAAAAAAAAAAAAAAAAAAAAAAAAAAAAAAAAAAAAAAAAAAAAAAAAAAAAAAAAAAAAAAAAAAAAAAAAAAAAAAAAAAAAAAAAAAAAAAAAAAAAAAAAAAAAAAAAAAAAAAAAAAAAAAAAAAAAAAAAAAAAAAAAAAAAAAAAAAAAAAAAAAAAAAAAAAAAAAAAAAAAAAAAAAAAAAAAAAAAAAAAAAAAAAAAAAAAAAAAAAAAAAAAAAAAAAAAAAAAAAAAAAAAAAAAAAAAAAAAAAAAAAAAAAAAAAAAAAAAAAAAAAAAAAAAAAAAAAAAAAAAAAAAAAAAAAAAAAAAAAAAAAAAAAAAAAAAAAAAAAAAAAAAAAAAAAAAAAAAAAAAAAAAAAAAAAAAAAAAAAAAAAAAAAAAAAAAAAAAAAAAAAAAAAAAAAAAAAAAAAAAAAAAAAAAAAAAAAAAAAAAAAAAAAAAAAAAAAAAAAAAAAAAAAAAAAAAAAAAAAAAAAAAAAAAAAAAAAAAAAAAAAAAAAAAAAAAAAAAAAAAAAAAAAAAAAAAAAAAAAAAAAAAAAAAAAAAAAAAAAAAAAAAAAAAAAAAAAAAAAAAAAAAAAAAAAAAAAAAAAAAAAAAAAAAAAAAAAAAAAAAAAAAAAAAAAAAAAAAAAAAAAAAAAAAAAAAAAAAAAAAAAAAAAAAAAAAAAAAAAAAAAAAAAAAAAAAAAAAAAAAAAAAAAAAAAAAAAAAAAAAAAAAAAAAAAAAAAAAAAAAAAAAAAAAAAAAAAAAAAAAAAAAAAAAAAAAAAAAAAAAAAAAAAAAAAAAAAAAAAAAAAAAAAAAAAAAAAAAAAAAAAAAAAAAAAAAAAAAAAAAAAAAAAAAAAAAAAAAAAAAAAAAAAAAAAAAAAAAAAAAAAAAAAAAAAAAAAAAAAAAAAAAAAAAAAAAAAAAAAAAAAAAAAAAAAAAAAAAAAAAAAAAAAAAAAAAAAAAAAEFib25pYSBTb2phc2luZ2FyYXlhcgAABZADAAIAAAAUAAAQrpAEAAIAAAAUAAAQwpKRAAIAAAADOTAAAJKSAAIAAAADOTAAAOocAAcAAAgMAAAIogAAAAAc6gAAAAgAAAAAAAAAAAAAAAAAAAAAAAAAAAAAAAAAAAAAAAAAAAAAAAAAAAAAAAAAAAAAAAAAAAAAAAAAAAAAAAAAAAAAAAAAAAAAAAAAAAAAAAAAAAAAAAAAAAAAAAAAAAAAAAAAAAAAAAAAAAAAAAAAAAAAAAAAAAAAAAAAAAAAAAAAAAAAAAAAAAAAAAAAAAAAAAAAAAAAAAAAAAAAAAAAAAAAAAAAAAAAAAAAAAAAAAAAAAAAAAAAAAAAAAAAAAAAAAAAAAAAAAAAAAAAAAAAAAAAAAAAAAAAAAAAAAAAAAAAAAAAAAAAAAAAAAAAAAAAAAAAAAAAAAAAAAAAAAAAAAAAAAAAAAAAAAAAAAAAAAAAAAAAAAAAAAAAAAAAAAAAAAAAAAAAAAAAAAAAAAAAAAAAAAAAAAAAAAAAAAAAAAAAAAAAAAAAAAAAAAAAAAAAAAAAAAAAAAAAAAAAAAAAAAAAAAAAAAAAAAAAAAAAAAAAAAAAAAAAAAAAAAAAAAAAAAAAAAAAAAAAAAAAAAAAAAAAAAAAAAAAAAAAAAAAAAAAAAAAAAAAAAAAAAAAAAAAAAAAAAAAAAAAAAAAAAAAAAAAAAAAAAAAAAAAAAAAAAAAAAAAAAAAAAAAAAAAAAAAAAAAAAAAAAAAAAAAAAAAAAAAAAAAAAAAAAAAAAAAAAAAAAAAAAAAAAAAAAAAAAAAAAAAAAAAAAAAAAAAAAAAAAAAAAAAAAAAAAAAAAAAAAAAAAAAAAAAAAAAAAAAAAAAAAAAAAAAAAAAAAAAAAAAAAAAAAAAAAAAAAAAAAAAAAAAAAAAAAAAAAAAAAAAAAAAAAAAAAAAAAAAAAAAAAAAAAAAAAAAAAAAAAAAAAAAAAAAAAAAAAAAAAAAAAAAAAAAAAAAAAAAAAAAAAAAAAAAAAAAAAAAAAAAAAAAAAAAAAAAAAAAAAAAAAAAAAAAAAAAAAAAAAAAAAAAAAAAAAAAAAAAAAAAAAAAAAAAAAAAAAAAAAAAAAAAAAAAAAAAAAAAAAAAAAAAAAAAAAAAAAAAAAAAAAAAAAAAAAAAAAAAAAAAAAAAAAAAAAAAAAAAAAAAAAAAAAAAAAAAAAAAAAAAAAAAAAAAAAAAAAAAAAAAAAAAAAAAAAAAAAAAAAAAAAAAAAAAAAAAAAAAAAAAAAAAAAAAAAAAAAAAAAAAAAAAAAAAAAAAAAAAAAAAAAAAAAAAAAAAAAAAAAAAAAAAAAAAAAAAAAAAAAAAAAAAAAAAAAAAAAAAAAAAAAAAAAAAAAAAAAAAAAAAAAAAAAAAAAAAAAAAAAAAAAAAAAAAAAAAAAAAAAAAAAAAAAAAAAAAAAAAAAAAAAAAAAAAAAAAAAAAAAAAAAAAAAAAAAAAAAAAAAAAAAAAAAAAAAAAAAAAAAAAAAAAAAAAAAAAAAAAAAAAAAAAAAAAAAAAAAAAAAAAAAAAAAAAAAAAAAAAAAAAAAAAAAAAAAAAAAAAAAAAAAAAAAAAAAAAAAAAAAAAAAAAAAAAAAAAAAAAAAAAAAAAAAAAAAAAAAAAAAAAAAAAAAAAAAAAAAAAAAAAAAAAAAAAAAAAAAAAAAAAAAAAAAAAAAAAAAAAAAAAAAAAAAAAAAAAAAAAAAAAAAAAAAAAAAAAAAAAAAAAAAAAAAAAAAAAAAAAAAAAAAAAAAAAAAAAAAAAAAAAAAAAAAAAAAAAAAAAAAAAAAAAAAAAAAAAAAAAAAAAAAAAAAAAAAAAAAAAAAAAAAAAAAAAAAAAAAAAAAAAAAAAAAAAAAAAAAAAAAAAAAAAAAAAAAAAAAAAAAAAAAAAAAAAAAAAAAAAAAAAAAAAAAAAAAAAAAAAAAAAAAAAAAAAAAAAAAAAAAAAAAAAAAAAAAAAAAAAAAAAAAAAAAAAAAAAAAAAAAAAAAAAAAAAAAAAAAAAAAAAAAAAAAAAAAAAAAAAAAAAAAAAAAAAAAAAAAAAAAAAAAAAAAAAAAAAAAAAAAAAAAAAAAAAAAAAAAAAAAAAAAAAAAAAAAAAAAAAAAAAAAAAAAAAAAAAAAAAAAAAAAAAAAAAAAAAAAAAAAAAAAAAAAAAAAAAAAAAAAAAAAAAAAAAAAAAAAAAAAAAAAAAAAAAAAAAAAAAAAAAAAAAAAAAAAAAAAAAAAAAAAAAAAAAAAAAAAAAAAAAAAAAAAAAAAAAAAAAAAAAAAAAAAAAAAAAAAAAAAAAAAAAAAAAAAAAAAAAAAAAAAAAAAAAAAAAAAAAAAAAAAAAAAAAAAAAAAAAAAAAAAAAAAAAAAAAAAAAAAAAAAAAAAAAAAAAAAAAAAAAAAAAAAAAAAAAAAAAAAAAAAAAAAAAAAAAAAAAAAAAAAAAAAAAAAAAAAAAAAAAAAAAAAAAAAAAAAAAAAAAAAAAAAAAAAAAAAAAAAAAAAAAAAAAAAAAAAAAAAAAAAAAAAAAAAAAAAAAAAAAAAAAAAAAAAAAAAAAAAAAAAAAAAAAAAAAAAAAAAAAAAAAAAAAAAAAAAAAAAAAAAAAAAAAAAAAAAAAAAAAAAAAAAAAAAAAAAAAAAAAAAAAAAAAAAAAAAAAAAAAAAAAAAAAAAAAAAAAAAAAAAAAAAAAAAAAAAAAAAAAAAAAAAAAAAAAAAAAAAAAAAAAAAAAAAAAAAAAAAAAAAAAAAAAAAAAAAAAAAAAAAAAAAAAAAAAAAAAAAAAAAAAAAAAAAAAAAAAAAAAAAAAAAAAAAAAAAAAAAAAAAAAAAAAAAAAADIwMjQ6MDE6MDYgMTU6MDY6MjMAMjAyNDowMTowNiAxNTowNjoyMwAAAEEAYgBvAG4AaQBhACAAUwBvAGoAYQBzAGkAbgBnAGEAcgBhAHkAYQByAAAA/+ELKGh0dHA6Ly9ucy5hZG9iZS5jb20veGFwLzEuMC8APD94cGFja2V0IGJlZ2luPSfvu78nIGlkPSdXNU0wTXBDZWhpSHpyZVN6TlRjemtjOWQnPz4NCjx4OnhtcG1ldGEgeG1sbnM6eD0iYWRvYmU6bnM6bWV0YS8iPjxyZGY6UkRGIHhtbG5zOnJkZj0iaHR0cDovL3d3dy53My5vcmcvMTk5OS8wMi8yMi1yZGYtc3ludGF4LW5zIyI+PHJkZjpEZXNjcmlwdGlvbiByZGY6YWJvdXQ9InV1aWQ6ZmFmNWJkZDUtYmEzZC0xMWRhLWFkMzEtZDMzZDc1MTgyZjFiIiB4bWxuczpkYz0iaHR0cDovL3B1cmwub3JnL2RjL2VsZW1lbnRzLzEuMS8iLz48cmRmOkRlc2NyaXB0aW9uIHJkZjphYm91dD0idXVpZDpmYWY1YmRkNS1iYTNkLTExZGEtYWQzMS1kMzNkNzUxODJmMWIiIHhtbG5zOnhtcD0iaHR0cDovL25zLmFkb2JlLmNvbS94YXAvMS4wLyI+PHhtcDpDcmVhdGVEYXRlPjIwMjQtMDEtMDZUMTU6MDY6MjMuOTAxPC94bXA6Q3JlYXRlRGF0ZT48L3JkZjpEZXNjcmlwdGlvbj48cmRmOkRlc2NyaXB0aW9uIHJkZjphYm91dD0idXVpZDpmYWY1YmRkNS1iYTNkLTExZGEtYWQzMS1kMzNkNzUxODJmMWIiIHhtbG5zOmRjPSJodHRwOi8vcHVybC5vcmcvZGMvZWxlbWVudHMvMS4xLyI+PGRjOmNyZWF0b3I+PHJkZjpTZXEgeG1sbnM6cmRmPSJodHRwOi8vd3d3LnczLm9yZy8xOTk5LzAyLzIyLXJkZi1zeW50YXgtbnMjIj48cmRmOmxpPkFib25pYSBTb2phc2luZ2FyYXlhcjwvcmRmOmxpPjwvcmRmOlNlcT4NCgkJCTwvZGM6Y3JlYXRvcj48L3JkZjpEZXNjcmlwdGlvbj48L3JkZjpSREY+PC94OnhtcG1ldGE+DQogICAgICAgICAgICAgICAgICAgICAgICAgICAgICAgICAgICAgICAgICAgICAgICAgICAgICAgICAgICAgICAgICAgICAgICAgICAgICAgICAgICAgICAgICAgICAgICAgICAgCiAgICAgICAgICAgICAgICAgICAgICAgICAgICAgICAgICAgICAgICAgICAgICAgICAgICAgICAgICAgICAgICAgICAgICAgICAgICAgICAgICAgICAgICAgICAgICAgICAgICAKICAgICAgICAgICAgICAgICAgICAgICAgICAgICAgICAgICAgICAgICAgICAgICAgICAgICAgICAgICAgICAgICAgICAgICAgICAgICAgICAgICAgICAgICAgICAgICAgICAgIAogICAgICAgICAgICAgICAgICAgICAgICAgICAgICAgICAgICAgICAgICAgICAgICAgICAgICAgICAgICAgICAgICAgICAgICAgICAgICAgICAgICAgICAgICAgICAgICAgICAgCiAgICAgICAgICAgICAgICAgICAgICAgICAgICAgICAgICAgICAgICAgICAgICAgICAgICAgICAgICAgICAgICAgICAgICAgICAgICAgICAgICAgICAgICAgICAgICAgICAgICAKICAgICAgICAgICAgICAgICAgICAgICAgICAgICAgICAgICAgICAgICAgICAgICAgICAgICAgICAgICAgICAgICAgICAgICAgICAgICAgICAgICAgICAgICAgICAgICAgICAgIAogICAgICAgICAgICAgICAgICAgICAgICAgICAgICAgICAgICAgICAgICAgICAgICAgICAgICAgICAgICAgICAgICAgICAgICAgICAgICAgICAgICAgICAgICAgICAgICAgICAgCiAgICAgICAgICAgICAgICAgICAgICAgICAgICAgICAgICAgICAgICAgICAgICAgICAgICAgICAgICAgICAgICAgICAgICAgICAgICAgICAgICAgICAgICAgICAgICAgICAgICAKICAgICAgICAgICAgICAgICAgICAgICAgICAgICAgICAgICAgICAgICAgICAgICAgICAgICAgICAgICAgICAgICAgICAgICAgICAgICAgICAgICAgICAgICAgICAgICAgICAgIAogICAgICAgICAgICAgICAgICAgICAgICAgICAgICAgICAgICAgICAgICAgICAgICAgICAgICAgICAgICAgICAgICAgICAgICAgICAgICAgICAgICAgICAgICAgICAgICAgICAgCiAgICAgICAgICAgICAgICAgICAgICAgICAgICAgICAgICAgICAgICAgICAgICAgICAgICAgICAgICAgICAgICAgICAgICAgICAgICAgICAgICAgICAgICAgICAgICAgICAgICAKICAgICAgICAgICAgICAgICAgICAgICAgICAgICAgICAgICAgICAgICAgICAgICAgICAgICAgICAgICAgICAgICAgICAgICAgICAgICAgICAgICAgICAgICAgICAgICAgICAgIAogICAgICAgICAgICAgICAgICAgICAgICAgICAgICAgICAgICAgICAgICAgICAgICAgICAgICAgICAgICAgICAgICAgICAgICAgICAgICAgICAgICAgICAgICAgICAgICAgICAgCiAgICAgICAgICAgICAgICAgICAgICAgICAgICAgICAgICAgICAgICAgICAgICAgICAgICAgICAgICAgICAgICAgICAgICAgICAgICAgICAgICAgICAgICAgICAgICAgICAgICAKICAgICAgICAgICAgICAgICAgICAgICAgICAgICAgICAgICAgICAgICAgICAgICAgICAgICAgICAgICAgICAgICAgICAgICAgICAgICAgICAgICAgICAgICAgICAgICAgICAgIAogICAgICAgICAgICAgICAgICAgICAgICAgICAgICAgICAgICAgICAgICAgICAgICAgICAgICAgICAgICAgICAgICAgICAgICAgICAgICAgICAgICAgICAgICAgICAgICAgICAgCiAgICAgICAgICAgICAgICAgICAgICAgICAgICAgICAgICAgICAgICAgICAgICAgICAgICAgICAgICAgICAgICAgICAgICAgICAgICAgICAgICAgICAgICAgICAgICAgICAgICAKICAgICAgICAgICAgICAgICAgICAgICAgICAgICAgICAgICAgICAgICAgICAgICAgICAgICAgICAgICAgICAgICAgICAgICAgICAgICAgICAgICAgICAgICAgICAgICAgICAgIAogICAgICAgICAgICAgICAgICAgICAgICAgICAgICAgICAgICAgICAgICAgICAgICAgICAgICAgICAgICAgICAgICAgICAgICAgICAgICAgICAgICAgICAgICAgICAgICAgICAgCiAgICAgICAgICAgICAgICAgICAgICAgICAgICAgICAgICAgICAgICAgICAgICAgICAgICAgICAgICAgICAgICAgICAgICAgICAgICAgICAgICAgICAgICAgICAgICAgICAgICAKICAgICAgICAgICAgICAgICAgICAgICAgICAgIDw/eHBhY2tldCBlbmQ9J3cnPz7/2wBDAAcFBQYFBAcGBQYIBwcIChELCgkJChUPEAwRGBUaGRgVGBcbHichGx0lHRcYIi4iJSgpKywrGiAvMy8qMicqKyr/2wBDAQcICAoJChQLCxQqHBgcKioqKioqKioqKioqKioqKioqKioqKioqKioqKioqKioqKioqKioqKioqKioqKioqKir/wAARCAFTBT4DASIAAhEBAxEB/8QAHwAAAQUBAQEBAQEAAAAAAAAAAAECAwQFBgcICQoL/8QAtRAAAgEDAwIEAwUFBAQAAAF9AQIDAAQRBRIhMUEGE1FhByJxFDKBkaEII0KxwRVS0fAkM2JyggkKFhcYGRolJicoKSo0NTY3ODk6Q0RFRkdISUpTVFVWV1hZWmNkZWZnaGlqc3R1dnd4eXqDhIWGh4iJipKTlJWWl5iZmqKjpKWmp6ipqrKztLW2t7i5usLDxMXGx8jJytLT1NXW19jZ2uHi4+Tl5ufo6erx8vP09fb3+Pn6/8QAHwEAAwEBAQEBAQEBAQAAAAAAAAECAwQFBgcICQoL/8QAtREAAgECBAQDBAcFBAQAAQJ3AAECAxEEBSExBhJBUQdhcRMiMoEIFEKRobHBCSMzUvAVYnLRChYkNOEl8RcYGRomJygpKjU2Nzg5OkNERUZHSElKU1RVVldYWVpjZGVmZ2hpanN0dXZ3eHl6goOEhYaHiImKkpOUlZaXmJmaoqOkpaanqKmqsrO0tba3uLm6wsPExcbHyMnK0tPU1dbX2Nna4uPk5ebn6Onq8vP09fb3+Pn6/9oADAMBAAIRAxEAPwD6RooooAKKKKACiiigAooooAKKKKACiiigAooooAKKKKACiiigAooooAKKKKACiiigAooooAKKKKACiiigAooooAKKKKACiiigAooooAKKKKACiiigAooooAKKKKACiiigAooooAKKKKACiiigAooooAKKKKACiiigAooooAKKKKACiiigAooooAKKKKACiiigAooooAKKKKACiiigAooooAKKKKACiiigAooooAKKKKACiiigAooooAKKKKACiiigAooooAKKKKACiiigAooooAKKKKACiiigAooooAKKKKACiiigAooooAKKKKACiiigAooooAKKKKACiiigAooooAKKKKACiiigAooooAKKKKACiiigAooooAKKKKACiiigAooooAKKKKACiiigAooooAKKKKACiiigAooooAKKKKACiiigAooooAKKKKACqMn+sb6mr1UZP9Y31NAF6iiigAooooAKKKKACiiigAooooAKKKKACiiigAooooAKKKKACiiigAooooAKKKKACiiigAooooAKKKKACiiigCjrGtadoGmS6hrF3FaWsQy8srYA/wA+lclafFWwv7A6lY6Fr1xpYzi+jsvkYD+IDO4j3Arx79p7W7y48UaPoAkZbMQ/aHQHh3Z9oJ9cAfrX0XotjDYaBZWUChYoLeONVHQAKKAM7wn440XxtHdy+H53uILSRY3lKFQzFd3GeeOldFXmniK40b4L+Htd1+ygL/2ldrKlmuFXziMYB7A8sfxrmL/4reLfCmg+HfE/iJNPu9M1tv3lrbwtG9sCMrhifm4HegD3KivEfiD8XvEXhfxlo9nosGn39hq0Uc0CujLJhiBjdnHOevapNL+KHi+w+MUHg/xXa6bsvADG1oG/dbgSvJ64xg0Aevy6pZQ6lDp8tzEt3OrPFCW+ZlXqQPQVbr5h0XUfFmpftL6hF/aFlJf2qywo08TmFIgAdqqDkcH867zU/ivqWp/Ee88KeHLjT7BNNgd7i9vl3CSRQPkUZHGTjPWgD2KivF7H4r+JvEvwwvNe8N2VidV0mVkvrR1Z1kUD70ZB+px7VneDvjB4p8c2VjbaJ/Zra1NdMtzbtaSeXbwAf60tu6fzPFAHt93qdnYzW8V3cxwyXUnlQq7YMjeg9TVrIr5j8ZX3i2X9o7RNOn1KzlnhMb2amJhBHuBzlc5JOPWu18WfEvxV4T+I+heHpxpdxDqQj3ukLqy5bawHzevIoA9norxxfif4jtfjrF4KvI9PlspH4mjiZZApUsB97GRSXfxJ8VapqvihNIitdKttAQlPtlqz/aiOvzZAXPbFAHpnijxNaeEtDl1bUYbmW2h5kNvFvKD1Iz0qLwh4v0zxtoS6topmNszsg85NjZHXj8a8tk+IMnxF/Z38Ralc2yW11BBJDMkZypOAcjPStb9m/wD5JJb/APXzL/SgD1miiigAooooAKKKKACiiigDnfGHjXT/AARpo1DWLe9e0zh5baDzBH/vc8Vy0Px18LT6QdWW11gacr+W92bA+WjehOasfHT/AJI/rX/XNf8A0KvFPB2uQN+z7qfh61sr3UNTvZnSOCC1dwM4wS2MfrQB9NeH/Emk+KdKTUdCvY7y2Y43p2PoQeQa1K+bvCkvib4N/C2OS50p31DV79VjgkUsLZSMbmVe59K6tfijr/h/4oab4W19rG/t9SjQpcQQGF4WYcAruNAHbRfEzQZviJJ4NRp/7SjXJJj/AHecZ259cV2HWvB9K8U3h/aNu9EudJ0X7ZtdP7SitWExG3K5O786p2Pxi+IWq+LNZ8OaPpOmX15ZLJ5bKrJ9w9cFufYUAfQlFeD+Jvid8SPDHw/0zX9S0WxtpZZWhuoZ4W3If4XwG4B9Kh8Y/GnxH4dHh6ayk0e5t9XtkmZjA4MWTgnG7pQB7tf30Om6fPe3TbYbeNpHIGcADJrnvA3xB0f4gafcXeiecEt5fLdZk2nPY1zMnibxPff8JIYJtJn0/TbQMrPaP+8cpuKH5umP51wXgn4rNovwk13XbTQNLs5Le7WOOCyjKRs7/wATckmgD6MoryPQPH/iG6Gm6nJqOk6rossTy38tlAVksyq52sNxx6ZrnF+N+v3vh/UvFdn/AGXDptjdCFNNmB86ePPLbt3B/DFAHv8AWH4o8YaJ4O077br96ltGxwi4LPIfRVHJNWPDuuQ+I/Dllq9qNsV3CJFBOcZHSvmvx3fT+J/2mrDStQbfZ2d5HDHETwAPmP5mgD24/FTT7exTUNS0XXNP01wCL24s/wB2AehOCSB9RXSeGfElh4s0OLVtJZ3tJiwjZ1wWwcZxV2ezgvLGS0uoklglQxvGwyGU8YrzLxX4isPgb8P7Ww0uI3k8srpZQy8KMnPOOwzQB6tRXjF58TvEngvxBoEPi/7DeWOtxqxe2hMTWzMQMdTuAyKYvxZ1fXPHOtaLo9/pOltpxKWtvfxlnvWHUbtw2/QetAHe+N/iPofgJrBdbM+b6TZGIY92MdSfbmuqhlWeFJYzlXUMD7Gvnr4oeNNb0zS/Clz4h0LRrya6w7QXtqxa3lBGSPm6Vs+Pvit4p8H+NNG0nT7XTru31OON44zGyuu4427s4698UAe30V4ponxT8VWfxij8HeLrfTilyMxvaBh5ZK7l5PX05qO6+MOq614i8QW/hq402ystDhZw96u5rtlJyo+YYHB6c0Ae30Vyfw38bx+PvBttrCwiCViY5og2QrqcHB9K6ygAooooAKKKKACiiigAooooAKKKKAK1/qFrplm91qE8dvAmN0khwq/U1n6V4u0DXLprbSNYs72ZV3GOGYMwHritO6hjnt3jmRXRhgqwBBH0NfHelSSfC34heGfEwJGm6nD5kuB0RmKSL+BAOPpQB9hX19babZS3d/PHb28S7pJZG2qo9SazdM8YeH9au/suk6xZ3k+CfLglDHA78V578ar9ta8NS6Fp8m6H+z5dVvJEP/LGNf3a/wDAnI/BTXKfsy3FnpXgPxHq16EjS2uC8s20ZVFi3Hn8+KAPoeivJJ/jpFF4Xh8UL4fuH0GW6Nt9oS5QyIwJ+9H26etaPjP4x2vhDStL1b+x7q/0vVIRJBdwuqjJGdpB5Bxz/wDqoA9KrKh8TaNca9NokGpW0mpQLultVfMiD1I/GuV0z4ly61q2kWOmaHJdDUrJL15YbtGW2jY9X9PYdzn0rhvCupeHLj9oPWPs3h++g8SCO58zzLtWh3gDdtA6FuOe1AHvFFeP2Hx9TVLzU7Cw8Japc3+nqzPBC6N90kOS2cADHXvUenftCWmseFrnVNJ8M6ndT2QL3cEZXbBGB98v0wfTrwaAPZKK8xPxqsJfhePG1npVxPZxT+RdQiRVeBsgd/vcsOnrUOq/G230vwDpPixtDuZLDUmZMCZQ0TgtgEd8hSc0AeqUV5r4u+MNv4S8L6Lr0+jXFxZ6vCsiFJVBjZl3BSO/HesjUP2gbPStQ0z+0/DWp2umakge3vZcDeOMsE6kDI+tAHsNFeWWvxvtT49s/DereH9R0r7eVFrPc4G8PkIxXsDj8O9eoS7jC3l/exx9aAMTUfHHhvSr57O/1i1huIxl4ixLIP8AawDj8ansfFehalb3VxYataXENmgeeSOUFY1IJBJ6DgGvmr4ffFGL4feKte0vx5psrTXt80lxd7A0iNkjDKfvL3Fejwab4a0rwX4x8QeHY4tW8PaxEs01nZSCMxKEYS4z0POdtAHq2ja5pniHTxe6LfQ3tsWKiWFtwyOoq/XhngTxx4f8GfBmfXPDuh3z6bb3zJcJNco0u47Rv9COQMVbuf2iLeDw/Z64vhTU20y4l8prksqor5+6D/EePpQB7RWXq/ibRtBlto9Y1O2snum2QrNIFLn2rzfVPj7YaVc6bNN4f1IaPqBxBqMgCLJ0yVU8kDNYnxt1TwsfE3h4eJtEvbsMBJaXNrdKiuCRlWB5x0NAHrz+LtAj1gaU+r2a37OEFsZgHLHoMe9bNfNnxFSNP2nPCLRRKoZbU9P+mh/pXqV98VIj4u1Lw5oGlvqd7pkJmuQbhYRgYyq5+8eRQB6DRXm+lfGOw1vwBqPibTNMuJDpn/H1ZtIqugAySD0P/wBauZX9pPT59NgvbbwzqckTz+TI4xtj9Pm6Ennj2oA9al8S6NBr0WizalbJqUy7o7VpMOw9hWnvXIGRk9BmvCbvVvDN1+0RppvdA1CPXGWPyJhcr5LKVJRyvXOM8Vl6d8QvE2r/ALQ7276TNMmnRzQRadFOo2jHMhJOCcc/pQB9F5HrRmvLtQ+Mw034hReEbrw9cR3s0ipHI9wio4bowNdVoni241jxZqmjHSJIE03aJLozqysWGVAA5zj8qAOnooFFABRRRQAUUUUAFFFFABRRRQAE4Geteca38b/DXh7XDpGq2mrwXuQFiNnkvk4BHPINejnpXy58cP8Akveif7tv/wCh0AfTGm341KwjuhbXFsJBkR3Mexx9R2q3mvIPi78SvEfw+1LSl0qKwuba/O0RzxtvUjGfmBxz9KwtY+Lfjrwz4603TNY0zSp4tTjV4be3ZgybuAC57568UAe+UV4vovxP8WWvxgXwb4ptdOP2lcxPZhv3RIyMkn5hVGz+KPjzU/ifqPgzT4dFaa3Z1S5eN1VQOdxGTn6UAe7UV434B+Md/fa3reh+NLe3gvNJSSUz2wIR1TrwelZsHxZ8Wa94S1vxhoyafbaXpUu2OzmhZ3nQHkl88H6UAe7UV4V4o+OOqQ/DrSvFvhuKy8u5lNvcWt1GzNHIOuGBHFaOh+NfifrOvWRl8O2ltpF9ZmVLgKXER28Mxz6/w0AetR6nZy6lLYR3MbXcSCSSEN8yqehIq1XzR8EdQ8S6p8TvEd1NfWs0vmAXrzxszOoYjEeDx+NdXcfE/wAV6pB4nv8AS47TS4NBchIL21Zjcgf7eQAfYUAe2UV4jP8AGbWrz4Nr4x0q1s4Lm3n8i5t50Z1Y9MqQRj8axdV+Mvj6x8E6N4sfT9Ij067k8t4sMzyEdT1+UHt3oA+iKK8o8W/F24sv+Ed0zw9awvq2vJG6mfJS3Vu5A5J60mk/EXxJo/iLxBp3jOwWWx0m3NwmpW9u0SyAdsEkHPbmgD1imyP5cTPtZ9oJ2qMk+wrwGP44a+3hdvGB/soact/9n/sr/luYs/f3bs5/DFe6aXqMOr6TbX9tnyrmJZEz6EZoA4Sz+N/hq+8TL4fgtNWOpmXyjbmzwVYdc88YqXxL8aPDnhPWv7L1q11WC5Y/IPseVkGcAqc8ivIvjNZHwH8btI8XWylYLqRZZCOBuU7XH4jmk+Pclx4vMmtaQofT9BWKKSVRks8o3kg+i5AoA901n4g2OhaRZajqGmassN4wVFS13MrH7qsAeCe1dNa3AurWOcRyReYobZKu1lz2I7GvHfC/iA/EKHwTbb9y2kBv74Z6un7tAf8AgWT+FOv/AIsanq3jXWdE8MXGm2FvosDu9xfLuNxIv8CjIwMgigD0Dxz470nwBoqalrfnNHJKIkSFNzMev8q2tJ1S21rSbXUbFi1vdRLLGxGCVIyOK+e/GXxbl8QfCix1mXRtJvE+2G1vLK8iMqCVRkOpBGBj+ddJr3xc1DRdK8H6Vomn2cWo65bQuWZD5NurYGFUHmgD2tm2qWwTgZwOprjPD/xT0HxF4uuPDdpHfQ6lbBjLFc2+zbtIBGc+4ridN+JPjFPi7/wg1+NJuSjBmuvKeMumAxwASN2DXD6VLrkP7TXiceGILWW+bzwpu2IjjGVyxxyeg496APqLNU4tWsZ5buOC5jkezbbcKjZMZxnB9DjmvGfA3xW8TeMNA8U2Fwlla61pULPFcJGdnGc5XPUbTj8Kw/2fLrxNe6X4ivIL2zeN7l3na6jZ5HmMeQ2QQMeooA9e8FfE3QfHd5qFtojT+ZYMBJ5se3cCSAw9uDXYV88fCzxxqGoad4zn0vSND0u7sIftO+3tWCzMNxO8bs/w8emaZpvxl+IGu/D3VfEVjYaPDHpUo8+Vgx3ggfKq56jOST60AfRVFeJXfx3ubP4M2Pik6bC+p3kzWwiyREHXOW9ce1U9d+KXjnwrrXh6xvTo93/b0EckbGB4xAztt2nDcgE9aAPeaKjtzKbdDcbfMKjds6ZxzipKACiiigAqjJ/rG+pq9VGT/WN9TQBeooooAKKKKACiiigAooooAKKKKACiiigAooooAKKKKACiiigAooooAKKKKACiiigAooooAKKKKACiiigAooooA8W+Pnwu1DxfbWuueHo/O1GwQo0APMsec8f7QPbvmtfwx8X9NPhy1g1yx1Oz1eCJYprT7DIzO4GMqQMHOK9S603Yuc4GfpQB4z8TNB8U/Ej4Z3bnSfsMsNylzYWLNmeSNQQd/YMc5C9sVxfixLzx38OfBXhPRNOvH1O2ZUvI5Ld0FtsQoSxIwBzmvpvA9KNo9KAPmT4p6LeQ+PvCNvY2N7dwaLbW8NxNDauyjawPUDngZq74iM1x+03pmuQ2N++mW5hSS4W0k2g4bPb/AGhX0dtBowKAPmmOLWPCn7S2qarJoN/eRXZkFt9niJEhdAF+boBnqe1UrzQr7wN8bbrW/EfhiXVdH1NnkPlweeFLgEj6q3HuK+o9oznAoKg9QKAPMI/FNv4f8G3uqab4Nm09Lt9tlZxWhEtycfekRR8g+vavIrXTNf8Ahh8TNP1rRLa71O11CFZr+K2tHVV8w5dAMduo78V9WYFBAPWgD5u8fJf2f7QGg+KotI1C705oIJFMFuxY43ZGOx5HBp/xetdZPjvwf4pn0S8W2iRWnjhQytEQ+7acd8V9HFQeooKg9QDQB8yrcalq37SFt4mtvD+rpp4MfzSWjBguwgMR261Su7rxDrvjTxHD4t0PWNRkWOWPTbWGJvIjbJCsRwDxzk5r6n2j0o2j0oA+V/Af22x+BXi3RrnSdSS7uGxEv2R8OWG3A4616l+zxFPZfDcaffWtxa3VvcuXjnhZOGxgjI56V6sFA6ClAx0oAKKKKACiiigAooooAKKKKAPNfjpOz/DW+022trm5u7xQsUcELSE4OTnA4rC/ZzeXT/B0uj6jaXdpeJcPLsnt3QFT3BIxXs5GetIAB0oA8h/aA1TxTp/h2xi8MR3XkTzFbuW0QtIq44AxyM+teS3VhJb/ABJ8KatpnhnWbexiERkeW2ZpJnB+ZupPX1r64IB6jNG1fSgD5u0xrg/tOz+IH03UItMkdlE72cgGdmPT1pvwujutP+O2saje6dfw2d88qQTPauFYluMnHFfSeBRtFAHOePfDUXizwTqWkSLlpoSYz/dccqfzr59s/hbqt38B7651CGZ9Uhn3Wsbqd6RI2NoHXBPNfUwpNoxjHFAHmejaAfCnwPmt7pZpr2axd5yqF5JJHXgYHPoK8m+HCT6J8N9W0/XfDd3dpdX8QntJLWTc8LDBZeOor6mxSbR6UAfLlj8Okf4gC2+Hd1qJ0q8s5VvDcQPGsGVICEsBnnFM+G8Y8D3Go+HvGfga51K6abNs62Pm7z0xuPGD619TYHpSbRnpQBn+H4ni0G1SXT4tNYRjNpCcrF/s8V4f8XPh5rWmfEK08feF7OS/EcqS3VvGMspXuB3BFfQVBAPUUAeeWvxe0i705DZafqtzqTgAaeljIHD+hJGAPfNcb8Z/CHijxh4G0vVpbBDqNhK0ktjakuRG2OB6sMc17oEUdAPypcD0oA+cfGdjc/FDxB4P0/QLO6KWUSNfTS27otuMjIJYDniqPjbw54e8SwapeXNhf6P4ltpnS3NtayNHf7ThSOMZPrxX02FA6CjaPQUAfKPxE0fxJceDPBNhqFlqF5qVjEZLoLA8hjUkbQSB1wK1vicLjV/iX4R1DTtO1Ce1sIYPtEi2cmEw2T29K+mCoPWjAoA+btciuZ/2nbDWo7C/fTY2jR7hbV9oPl7fT1NZGh6NJ8N/ilq0Xi3wtcavpl8WME0dp545YlSPrnBFfVGBnNBUHqBQBz3goA6CJI9BXQopXZ47TaFbaejMo4BPpXRUYx0ooAKKKKACiiigAooooAKKKKACiiigCvfXdvZWclxeTRwQoMtJIwVR+Jr588ReH7Hxt+zdZ3GmSw3N/osRnAhcMygMwdSB045/CvoW6tLe+t2gvYIriFvvRyoHU/UHiq9noumafHIlhp1pbJKMSLDAqBx6HA5oA8K8M2txZfs9a3rvia7UXmqaW0FsZmCnyI4ysSDPUnk/jWJ8C/EVloPwj8YzXUcN3JCzTGxZhmZPLAxjrt9T6V9I3Gjabd2kdrdafaz28X+rilhVlTjHAIwOKht/DWh2js9ro9hCzKUJjtUUlTwRwOhoA+RdX8QQa18Hbpn1K3spF1NRBoFgmyKFOpkYdSSTwSa9VOq+HtW/Z40Lw7NPbXmo6laQ2VnbCZQy3A/iP90J1J/DvXrsXgzw3BYz2cWhaelvcf66JbZQsnOeePWpo/C+gxrAqaNp4FuAIv8ARU/dgHIxxxzzQB8+fArxCvgTx1q3gTxD9ninnuNkNyCPmlUY2Z9COR78d6XwZf2g/a61yc3MIhdroK/mDax2r0P4H8q+gz4Z0Nrs3R0fTzOX3+b9lTduznOcZz70i+F9BSfzl0XThJkneLSMNz15xQB86/BW+tI/iV49le6gSOS2uHRmkUBl85jkH0xzWZ8Gbq3g+FfxGWeeKNjZggPIBkFHH8yB+NfTkXhXQIWYw6JpsZZSjFLSMZU9QeOntSx+F9BijkSPRdOVZQFdVtIwHAOcHjnnmgD5i8M/6R+yP4nt4Csk8OpCWSNWBZEDQncR2HB/KqfijXtKuf2ZfDWkwX8EuoRXpaS3V8ugHmckdvvD86+rrXQNIsoZorTS7KCOddsqxW6KJB6MAOfxqnD4L8NW8PlQ6DpqJ5nm7Rapjd2PT3oA+ePi9f2lz8BfAsdvdQyOI4gVVxn5YsNx7HiovjRe2k/h/wCHBhuoZClqrNslBwNsQyeeOQfyr6Wn8OaLdLGLrSbGYRjCCS1Rgo9sjio5PCmgShBJomnOI12qGtIztHoOOBQB89fFi+tZP2g/B08dzC0Ua2rO4lUhQZSQSc+nNfSF5OYdMuJ4iCVjZ1PUcAmqsnhbQZZA8uiac7AABmtIyQB0HTtWkYkaIxlQYyNu3HGPSgDxXTR4J+M3giC78Umyi1qGMx3MyusU0TAn5hzypGD6VwPw80+40XwB8Sn+179C+yzW1rcSMFS4kAYBlz1JGOnqK+jpvBHhm4WITaDp7+UuxM2y/Kvp06VfbRdMfTxYvYWrWgxiBoFMYx0+XGKAPljQ7q2T9lLXoGuYVmbUQBGZAGOWTHH4H8qTWbiD/hk/QoRNGZRqTfu/MG777Hp9CK+oB4V0BYTEuiacI2YMUFpHgkd8Y60p8LaCYFhbRdOMSsWVDaR7QT1IGMZ4oA+aPiveW03wc+HkcVzE7rECVWQEjEeD+vFWPj5e2s9/4IaC5hkC2iuSsgOB8nP6Gvo9/C2gSRpHJoemskYIRTaRkL3444ol8MaFOEE2i6dII1CoHtIztHoOOBQB88/EK/s3/aP8JTLdQmKOO03v5gwvz55OeOOadqHjWy1H40a5ZtLbeGLeOOSKe9hQC5vSowF3nONxx0GSBX0HJ4W0GWXzJNF05nwBua0jJ46c4ofwtoUmqf2k+kWLXuAPtBt1L/nigD5f+GOpWNt8JfiFaz3kSTywFo45HAZxtYZwfcj869G/Zma0n+HN1bO8MkyXrO0RIJA2rg4/rXq8PhHw9AtwItE09RctumH2ZPnPvxzVux0TS9Ldn03TbO0ZxhmggWMkehwKAPnrxFeWo/a40qT7RCI4xCjt5gwrYbg+/Iqlo+r2Phr9qXW7zWZhaw/vdpYHLExjAA7k9q+jH8NaHLdG5k0fT3nLbzK1qhYn1zjOadP4e0i51NNRuNMtJb2P7lw8Kl1/HGaAPFP2ifD80um6P410hHjubGRBIdpDKrHKkjtg/wA69N+GenXFr4Qiv9SXGo6sxvbo4/icDA+gUCufu/Dvj3XtS1DTPEL6dLoF1dIUaNsSRwq2SuMckgAcnivTkjWKNUQAKowAOwoAcKKBRQAUUUUAFFFFABRRRQAUUUUAIThTmvlv4urd618ZLDVNL0zUbmys/KWWZLOTGVbJxxzX1LSbQaAPnP47zS+KLnw1Jodjf3awMZZSlnJ8ikjrx19qqfEqO51T4o+FdQsNOv57Wyhg8+RbOTCcg+lfS+0UuBQB856x58v7TtjrcVhfNp0TJG9wtrJtB249OnPWsfSteh8OftNa9f3VvdXECtIH+ywmVlGBztHOK+oXUlTsxuxxn1rx3RfhR4n0r4rXPjFtQ0yQ3UjGW32OBtPYH1xQByPgHwPqnjHxd4u8RXFpNp9lqMM0NqZ0KM5focHsMVT0GG98KfCLxV4O1PTrxNZnmKWsK27sJw2ACpAxjivp5VCjgYo2g9RQB8o+KfA+reH/AII6LoTWN1carPdteSwQws/lKRjBIGM19DeArlLzwDpypHNHJFarC6TRNGysFwQQRXUbQe1LQB8y/Cw654R+JXiO0k8PX01xfTFYj5ZWJQGJ3M54xj86yJLnxD4j1XxRH4t0LWdT1AxOmnwJAwggOTlscDp0PNfWG0Zzik2jPSgD5L0mK+X9nrUdBOj6kL6TUA0aC0chx1ODjtV3xPa315+z34c0S20y/k1G3uD5sAtJMoBnk8e9fVGxQMAUYGKAPl3xp4f1y3h8GeNdE065ul0+2ijuIfJYPGyHuvXB5Ga9RvNen+KXgvUdK0fRb+1FzZsHuL1DCqSdQi55bnv2r1EqCMEUBQOwoA+Yfhi8fhjT7vw34r8AXWoaqs5NsfsIkD54wXPAGe/pX0npUTQ6VbRyWsVoyxqDBEcrHx90ewq3tGc4paAPLfj/AOEX8UfDmWa1haW806QTxKoyWHRgB+VT+FPh2kHwSHhq9T9/e2jGYv181hkE/Q4r0sgEYPIooA8Z/Z58E3Xhvw7qN3qcTRXVxdNEquuCEjOOPqcmuDOi3Pw7+M2qXnibwxNrOi6kzmOaO188AM2QQPXsRX1EAB0GKQqD1FAHzf8AFy0m1j4b2cOieEZ9LNxf+fDawWp3tEFxvkVRhST264rK+Iur2Fn4T+H0d9p93bXFvDGzagIyktuEOGRVbAJyM819SkA15/40+Hd54g8X6Z4i0+8tWlsYmi+xajCZbds/xYB4PvQB5z8O/Fvw5uviMdTbUNVu/EF98iXOoxKq5x91QnAOBVXwe81t+0hreu3Gn38em3YnWG4azkCsSQR24+6a9IX4Zz6r4i0vU9fj0e1XS5fOih0q08syP23uecD0r0gKB0oA+Z/g3p2oW/ifxhHc6bewNqltKLUzWzqHPzcZIwOoqb4GX2peGLLWtHv9A1FXlneaWZoGVIoxHgnpy2QAFHXNfSQUCgKAcgc0AfLPwmgvNCsPHA1XTdQtzfWLC3Bs5MyE7hgcdcsKZ4Ktb7TvgR4x0e90vUI7+7lVoITaSZkBCAY4/wBk19U4FG0UAfJ9xNHpH7NC6brWhXD3K6iyDz4ni+zM2WEmSBnjj0qz4f8AGPw3u/EGh33ijVdbv7nTYo4LY3sKCGHaeCQnJwecn0r3P4k+A5fHOmWMNtfrayWV0tysc0fmQzEY+V1zyOKwtW+GF/4osE03XIfD1jZ+YrySaZYkTsFOcBj93PegD0+GRJoUkiYMjAFSO4p9R28CW1vHDEMJGoVR7AYqSgAooooAKoyf6xvqavVRk/1jfU0AXqKKKACiiigAooooAKKKKACiiigAooooAKKKKACiiigAooooAKKKKACiiigAooooAKKKKACiiigAooooAKbKzJE7RrvYAkLnGT6Zp1FAHki/G+VvHp8Hr4Wuv7WE3lbDdR7c7d2d3pjmt2f4i6jp3ibStJ1nwteWiancC3huhOkkYY+pH8q8U1O5urT9sC5m06xa/uEuAUt1cIXP2UdzwPWvWPhtPeeL7bWb3xbZNb3lprvmRWzsf9GaNF2AfT9c0AeoBh6ijcPWvAtW8X+Nh8e5PBek6+iWs3KNcWyt5QaMuemM47VR8J+MPiBqfxD1vwU/iOJmtmkxfyWoLoEI5VRxk5A56UAe969qcmj6HdahBam7a3jMnkq4UsAMnk+1cz8NfiVafEfS7u9s7GazW1lEZWZwS2RnPFed/DPx14g8TaJ4z0jxJdrevplvJ5c+wKx++pBx9M1w/wAI7XxOvwv8S6n4Z11tOaxcTCFIVbzmVMkEnoMDtQB9Z0Ag9K+cl+P2rr8GF1Nli/txrz7EJdvy/d3eZt9cdvWtXSPiTquneNPDdoNZfXtP1W3QXpMQ/wBHmbHQgDA56UAe3ajczWljLNbQfaZUXKxbwu78T0ri/hz8U7b4hXupW1vps9k+nkB/NdW3EkjjH0rgtB8ZeLviV8RNdtdH1v8AsfStJVxGiwLJ5pDbRuz6kE/SuZ+B2uf8IxbePdXvQJXsk8xwvAdgzdPqaAPfvG/ip/B/hyfWBp7X0FsN8yxyhGVfUZ61gWPxXtr/AOFdx40g0u58qHeBa7gXYqQOo+teSSax4z8c/BjxJ4n1LXlS0JeIacLddhQYzg9QeRg1f8JanqOifstS6npF4ba4tZpXB8tXDjcBtIPbmgD2zwN4sTxn4TtdaW0ksxPuHkynJGDjr3FdDuHY1883/j/xRZ/s96X4ns9V8m/N00T7YE2upfA4xxj2rL8R+P8A4haD4S8NeKpfEMMiaicNZpaqFwOck9ycUAfTefWkBBrxLxj8SNem8feF/DWkznTLfVYYZp7lUDOfMGcLngYqHwd4t8W3fxsv/Cdzr7XGn2DM4MlshaRRg7Swxjr1oA90ooooAKKKKACiiigAooooAKKKKACiiigDL8R+ILHwv4fu9X1R9lvaoXbHU+gHvXHH4i66PC48R/8ACJSyaa0fnBYrxWnEf94pj9M1rfE/wrJ4y8B32j29wkE8wBiZzgFwcgH61886N8R/HfwmnTw/4u057rS4/wB2Ip1xhOnyP0IoA9o1/wCMUWh+AdG8SHRri4GqsAsEb/6oe5xXoWm3y6jptvdhGiE8ayBH4K5GcGvBviV44fRvh34Z1XwFeC3026cxi2eFZFXHP8Q4IJo+J/xA8W+GpPCz6Jq3l/2rbRtLE8KlQ3Az685oA+g8j1o3CvnXW/GPxD8M/FHS9CPiC3vv7UjTCy2oWOIv7Dnj681qeHPGni/Sfjw/g3XtYXVbWVT8/kCPaduRjHSgDtLT4qre/Em+8IQaJdma1RitwzAK5AzjpwD60vgH4r23jnxFqOkR6XPZT6eP3hkkVwTuxgY+lcN4W8a+IJ/2htQ8OXd+LixhMqjdAisQBwCwGeM1hfBae5tviJ44nsYfPuY4pWij/vsHbA/OgD6XyPWjIr5w1f4geMNM+Hz+INS1yTTdejvCg0uVI9rx5/uY3D6mtv4gfEfxHa/B/QPFmjX32G6vdqzRrGrK2RyeRx0oA9ykkEcbPjO0ZwOtcN8PfidD48vtWt00q5sP7Ol2FpjkPyR6cHjpXHeHB8WNZm0bV7jWrUaRe2m+ZYo1DRfKcHBHLZwfSud8B+MPEninwx46t7/VTFJZQFop4IERhjdnoOpx1oA960bxLpmvy3yaVcCf7DObeZl6BwOQD3rVyPWvnX9nPT9VvvCOrT2WuTWoa4dfKESsDIVGHJPP4U7wX8SPEo8TeJdF8Z61IlxptrK0ISJFyy9xxyemPrQB9EZz0ornfAqax/wiVlN4ivGur6eMSyFkC7M8hcD0FdFQAUUUUAFFFFABRRRQAUUUUAFFFFABRRRQAUUUUAFFFFABRRRQAUUUUAFFFFABRRRQAUUUUAFFFFABRRRQAUUUUAFFFFABRRRQAUUUUAFFFFABRRRQAUYoooAKKKKACiiigAooooAKKKKACiiigAooooAKKKKACiiigAooooAKjuLiK1t5J7iRY4o1LO7HAUDqTUleVftCa1Ppfw5FrbNsbUblLdmBx8pPIoA7PSPF9vqul3WrtC1ppMOWiu52CiZB1cDsvoe9c3ofxSuPGN1d/wDCGeH5tQsrV9jXlxcLAjt6LkEmuY+Nk82j/ASztbImOOQQQvs/u7c4rZ/Z2toofhDZPGBumlkdz6ndQBseFfirpniDxFc+Hb+1m0nWrZiGtLlgd+Ou1hwa7zNfK/xtmfRvj9pd/pp8u5It3JXud2P1FdFN4z8b3XxwfwfYeIPs9pJyHktlZo1K7jj1I7UAfQuRjrWVYeJtM1PWb/S7G4E1zp5UXAXohYZAz614t4Z8deKYPiNrfgLXtYe5Plyra34jVZI2AyDjp0rH/Z3stRv9Z8RTJrVxAUnAmARXM5ORkk9D3oA9a8F/E6Lxf4r1nRU0q5tDpjbfOlOVfnHpweOld5ketfPvw/8AiXrEPiLxmdeulvLXR4HkULCkbOVYgZIHOeKi07x14x174Za344TXGtZrK5xb2ccSmIICMhsjJ69c0AfRGcdaTI9a+e/Fvxc165+EGjeLNCvfsF3LOba5iEashYA5Iz9KzvE3j74geFbDwpr91r8dxFqyq0lklsqoo44J6kkHrQB9LZx1qK5leK1kkgj86RVJVN2Nx9M9q8u8WeJvFB8e6Rp8Zl0vw5PbCW51GPYNrEZ5duBg8Y71mfCb4i6vr/jjX/Dup6gmqWtlua2uwgDMobHOODQBv+Dfi8vjabWLbTNDuFu9MTJhkmX96dxG0H14Ndn4c8SWPibTBeWDMNrGOWKQYeJx1Vh2Irwf9nQf8V74v+v/ALO1dV4S1B9O/aS8VaPE222vIFuinbeAMn9aAPZaKKKACiiigAooooAKKKKACiiigAooooAKoyf6xvqavVRk/wBY31NAF6iiigAooooAKKKKACiiigAooooAKKKKACiiigAooooAKKKKACiiigAooooAKKKKACiiigAooooAKKKKACmSsUhdlQuVUkKOp9qfRQB85Dwn4xX9oJvHJ8LXZsDcb/KEsfmbfJ8vP3se9dj4lfxdrEo07w54TutJg1K8jfUr+WdAxQbQcAHj5VAz6V63gelLgelAHg8vhXxMf2jl8XDw/df2UrCIOHTJHllN2M9Oc/SofB/hHxTpHxt1vxNeeH7pbC++0eWQ6EjdgrkZ74/WvfsD0owKAPnz4ZeCvFOg6j4wbVdCuLePWbeXyGLocMSzBTg9TmoPBXhbxl4H+G+u6HL4burm+1iIG3aBlZIyyFSHOeCM5r6KwKMCgD5wn+AGsL8HItOikjbXI7z7aYt2FPybfLz647+tdx4DuvG93pWm6PqnhZNK+xBY7nULllIkRePkUc7iB16CvV6MYoA+f/C/hLxb8NPiHrr2GgS6xp2rB/ImgkVQhLbl3Z6AZINUvh58L/FMdj4t07xDpZsotdhdUnMikRvuYj5c5IJNfRuBRigD5r0jwz480b4Va54FbwtPPJLIzxXiyr5ZVsZxzknjitXT/Bni2y/Z9vvCc2gSnUJpGESpMhyGIOTzxjFe/YHpS4HpQB84X/gjxdc/Aay8Ip4cuv7RhvDIxMibdu7dnOfwpnjPwH4v1v4X+FNDs/D1z9r03cbgNIgAwMdc9819I4HpS4HpQB8w/FfVruz1rwfZ6j4fmZbKzjkdIXC3JZQFKh1yVHGa3PhX4+8MQeMhYJ4VvdI1LVW2/bLqUyvK3XBY816frPw6t9Q8YJ4msNSuNP1MQeQzIiyI6ehVqmtPAUB8Q2mtazfzaneWQP2bfGsaRE9SFXqfrQB1oORRQBjpRQAUUUUAFFFFABRRRQAUUVz93458OWN3JbXWrW8U0TbXRm5BppN7CcktzoKK5n/hYnhX/oNWv/fdXNM8X6FrF4LXTdSguJiCwRGycU+SXYn2kO5hfFSx1y+8KwjwvC02oxXkUsahsfdOTk+lc14yl1vxp4Fn0O58E3q6pOgQSTBDDC/dw+eleuVS1TVrDRrX7TqdwlvDuC73OBmpLvY8A8efCjxCvw18N+GNB06XUZrGRp7mdXVVDMOQMml+JHgnxb4m/wCETOm+Hbo/2VboLjc6D5gRkDn2r2U/ETwp/wBBq1/76o/4WH4U/wCg1a/99VXJLsR7SHc8p8ZeE/FOsfF3QPEFl4eumstPWISkugJx1wM9qfJ4W8Tt+0Svi0eHrr+zNwTfvTONuN2M9K9xsr221G0jurOVZoZBlHXoRVjAqS732Pn3QvB/irTvj3f+LJ/D11/Z07S7SHQtgjjjPtVTwP4K8caJrfiy7TRp7KbVbeUWkzSJhHLEjOD1wa9uu/G3hyxu5La71W2imiba6M3KmoP+FheFR/zGrX/vuq5ZPZEOcFuz52t/h946ufh1q+l3XhOR9RnuRM9/cTAyyKP4F7n866PxH4N8Ya38D/D/AIbh8N3CX1pJl1aVOFAwCeeCc9K9w03xhoGrXgtdO1KC4nYEhEbJIrb4pNNblKSexx/g5dT0/wCGtpa32kXEF7ZWghNsWUtIQMfKQcc15b8Lfh94p0eHxdaaxpEtp/bFu4gld1KhjnAOD717tqeq2Wj2ZutSuEt4AQpdzgZNY3/Cw/Cg/wCY3a/99U1FvZCcordnmHwP0Hxh4Nju9K1jR1sLH7S0815cSDBXbjaoB/HNQeNfh9Frnx20LUtMmV7XUE8678puCIyMnjqDxXo2u+LPBuv6Hd6Vda9DHFdxGNmjfDAH0NRfDbwPo/hvT0utL1S41ZXi8qCedgRHHnO1QOgzQ4yW6BSi9mdyiBEVVGABgAU6isG98beHdOvJLW91W3hniO10ZuVNJJvYbaW5vUVzP/CxPCv/AEG7X/vqrWneMtA1a8W107U4J52BIRG5OKfJLsTzw7m5RQKKksKKKKACiiigAooooAKKKKACiiigAooooAKKKKACiignFABRSbh60bhQAtFJuFGRQAtFGaM0AFFJmjNAC0UZoyKACijIoyKACijIoyKACijIoyKACiijNABRRmjNABRRmigAooooAKKKKACiiigAooooAKKKKACiiigAooooAKKKKACiiigAooooAK85+OHhe48TfDuYWMbS3VjIt1GijJbb1A/CvRqCAwwRkUAcLc6HYfEn4Sw6fLKPLurVCki8+XIB1/A1yXw0g8S/DDSbnw9rWg32o2qTNJa3enoJVYHqCM5FeqaZoFho9xdS6dGYBdP5kkSsdgbuQvQZ74rS2j0oA8O0/wCG+t+Nviw/jTxfZnTrC3ZTaWMjBpGC/d3Y6etclql3d6f+1hPcafYNfzIP+PdHCs42c4zxmvp4rwQOK8yf4No3xEbxiniC6TUTJuwIE2AdNuPpQBzHgfwBr+rfFXV/G/iPT30qOYSC1tpSC+WGMnHQAVT+FXhjxv4G8S61ayaAWtbqfzDeNINuxSThRnkntXv6LtUDqccnHWlwKAPnfwR8N/EX/CS+LE13R7iysdfgkjjnLofKJYkbgD7imaZ4O8W6B8MNb8Cnw/c3VzeXJMF3EV8goSMktnjpX0XtAo2igD538X/CfXrX4OaL4T0TTn1C8juDc3MsbqEViDkcn3qL4geBvF3iPwb4P0+w8PXPn6XDi4DSIMEYGOvtX0aQD1o2igD548Y+HPHOo/ErRNUfw/c6po1vHEV08yqERgvIcZxndzk5qX4deFvF/hf4sa5q1/4YkFrfRuQYJU2Jk7gFPGfSvoLaKNooA8K+Cng/xL4U8Y65d6/o01pb6iC0cpkQhcMTg4PvWz4F0l9Z+NXijxfGM2K4sbaXtKVxuI9QMYr1PUdOh1PTprK4MixTLtcxuVbHfBHSl07TrTSrGKz0+BILeJdqRoMACgCzRRRQAUUUUAFFFFABRRRQAUUUUAFFFFABVGT/AFjfU1eqjJ/rG+poAvUUUUAFFFFABRRRQAUUUUAFFFFABRRRQAUUUUAFFFFABRRRQAUUUUAFFFFABRRRQAUUUUAFFFFABRRRQAUUUUAFFFYfjHxC3hbwnf6ylt9qa1j3iHft38gYz260AblFcMviTx26hl8GWxBGR/xM1/8AiaX/AISLx5/0Jlt/4M1/+JoA7iiuHPiLx5/0Jlt/4M1/+Jpv/CRePP8AoTLb/wAGa/8AxNAHdUVwp8R+O1GT4NtgP+wmv/xNMfxV43jjZ5PCFoqKMknVFGB/3zQB3tFcKnibx1IoZPB1qQRkEaov/wATTv8AhI/Hn/QmWv8A4NF/+JoA7iiuGPiLx7/0Jlt/4M1/+JpP+Eh8e/8AQmW3/gzX/wCJoA7qiuH/AOEi8ef9CZbf+DNf/iat+F/Fmqar4hvtH1zRk025tYEnwlyJQysSB0Ax0oA62iiigAooooAKKKKACiiigAooooAD0rzvwfpVjqGueJWvrSC4K6gQDJGGI4969EPSuG8BnGteJs/9BE/+g1rTbSdjnrJNxTOj/wCEZ0T/AKBVn/34X/CuQawtbD4w2SWVvFAhsXJWNAoJz7V6HuHrXCXp/wCLyWOP+fB/51VOUm3dkVqcYpNI70dBXDfFVBJ4btVYAqb6EEHv81dwDwK4n4o/8i9af9f8P/oVRT+NG1T+Gzei8N6O0YJ0uz6f88F/wqj4g8O6RD4ev5I9NtFZbdyCIFBHH0rooT+5XntVDxGQfDWo/wDXtJ/6DTU5c25Hsocl7GX8O+PAml4/54iuoPSuX+Hf/Ih6V/1xFdOe9Kp8bKo/AjzrwnpllqHirxOb61huCt9hTLGGxx712P8AwjOi/wDQKs/+/C/4VzHgc/8AFU+KP+v7+ld1vHrV1JSTsmZ06cZJto8+vdPtNP8Ai1pKWVvFArWchIiQKDz7V6Ev3RXC6wc/F7R8f8+Un867pfu0qjbSuOlFRlJI4z4pKH8KQqwBBvoAQe/zVtweG9GMKk6ZZ5wP+WC/4VifFA/8Uvb/APX/AAf+hV11uR5K/QUXagrA4xlV1Rha34c0ePQr149NtVZbdyCIVBB2n2qv8NePAWm/9cv61ta6R/wj9/8A9e0n/oJrE+Gv/Ih6b/1y/rRzN03dhyxjVVkdYelec+GtNstQ8d+KvttrDPtulx5kYbHy+9einpXB+D/+R88Wf9fSf+g1NO6uOsk7JnT/APCM6L/0CrP/AL8L/hXJahp9pp/xX0NLG2it1a0mLCJAuefavQs+tcNrhz8WtB/69Jv51UJSbs2KpTjGN0juV+6KWkHQfSlrE6FsFFFFAwooooAKKKKACiiigAooooAKKKrXuo2unrE15MsQmlWJC38Tt0FAFmis9NatH1qbSw5+0QwJcNkcbWLAc/VTV4uqrksAPWgB1eRfFbX9Z07xbY2elalNaRyWm9lQ8Ft7c/kK9cBDDKnIrxf4sQSXPxF0mGBS8j2eFUd/naplrZHThbe0u1fc5k+JvFf/AEMFx+f/ANak/wCEn8V/9DBP+f8A9aq93aTWkwS4TaWUMvOQwPcHuKll0i8jjjdkUrJJ5alXB+bGccV7ccsoNJ3Z4888xCk0oR+4f/wk/iv/AKGCf8//AK1S6b4r8Ttr9taS69clZMkkEHsfUe1VG0y5S+e0kVUmQZYMwAHGev41DbQSWPjWziuV2MiktnsNpOfpiufE4GjShzRbudeCzStians6kFa3Y7s6trw/5jt3+Sf/ABNJ/a+v/wDQdu/yT/4msux1ez1FmFpLv2qGPBGVPRhnqD60R6tazXslqjMZI2Kudh2qRyRnp3reNGk1seRPEVVJpM1P7X1//oO3f5J/8TVnT9Q1y51CGKTXrzazYOAn/wATXO22vWF0JDBMXEaeYcIfmXOMj1GfStPwzqdtqOrL9lZj5MoRwylSpIzjn2odClbYUa9Zvc7L7JqX/Qev/wAk/wDiaX7JqX/Qev8A8k/+JqK317T7jVH0+KcNcKWXGDglfvAHoSO47VNqGrWeltbC9nWI3MohiB/jc9AK4+SF9j0lKVtxPsmpf9B6/wDyT/4mj7JqX/Qev/yT/wCJqNdfsG1T+z/NK3BZlUMhAYqMkAngkCk07xFpmq3JgsbkSOELgbSN6g4LKT1GeMijkh2HzSJxZaj/ANB+/wDyT/4mj7DqP/Qfv/yT/wCJpk/iDTbTUksJ7gLOxUYwcKW+6CegJ7etWtS1K00mwkvNQmWGCIZZ27VPLHsHNIg+w6j/ANB+/wDyT/4mg2WogZ/t6/P/AHx/8TUd14k0uzuI4bm6VHkVXHBIVWOFLHsCeBmj/hItNfVDpq3GbnzDFjacbwMlc9N2OcUuWI7vubXhW9ubzwdZ3V3KZZ2iYtIRyxBIz+lc54YtfEXiHQIdSk8U3MDTNJ+7S1jIUCRlHJHoK3PBv/Ih2X/XJ/8A0JqyPCWuWXh74WW2o6nIY7eJpskKSf8AWv2FczOg0v8AhGtf/wChwvP/AAEi/wAKP+Ea1/8A6HC8/wDASL/CtOPxHYP4UTxAXZLFrYXOWXkJjPT1rCh+JFnPbzvDpOqNJb7GlhFv86IyllcjPQgUAUPFFv4i8OaHJqUXii4uDFJGPLktYwGBcAjge9egr90VwHi3WofEPwqbU7WKaKK4kiKLMm1sCUDOPwrv1+6KAFooooAKKKKACiiigAooooAKKKKACiiigAooooAKKKKACiiigAooooAKKKKACiiigAooooAKKKKACiiigAooooAKKKKACiiigAooooAKKKKACiiigAooooAKKKKACiiigAqjJ/rG+pq9VGT/AFjfU0AXj04rxHxh8ZfEfhPx7F4Zk0aynkuGQQyrMwBDnAzxxXt1fK3xzkli+P2kyQR+bKq2xSPONxzwM0Aeka58ZNU8D+J7TTPGuixRW92A0d1Zz7wATjJBHY167DOk9uk0ZyjqGU+oNfKd9qTfGf4tWWk+I9mgR2IMS278vIQ2SufU16H8cPGl94VTQvDmizyWgvivnTwj5xEGC7V9+tAHtm4YJHavCtR+PGqzatrf/COaNHdWOjSIsm4sZJssVJAHQcd6d4Z1DW1+Il1olk+tP4c1CzO24ukfdby7eSGYcc5rjPgJpok8d+JbiS9ukXT/AN4yIwxOAzcPxz0oA+m9Lv8A+0NJtbx4mgM8SyGN+q5GcGrZYDqa+W9O8baz42/4SnUZb7VkvbchdKt9PVjHEQeNwHBzjHNHxG8XeLYPA/hXWJby/wBK1S6MkF1CGKKxQjDbe2c0AfUgYE4Bo3DOM14Tcaf4z8Bwal431DxK2qWQ04MLWQkfvn2hfl6AAnNcbpfivxPd+DLDxJpF5rV/4gN+zTxqjvA8QJ+TAGKAPqjcPWgMD0r5p8Raz4jPx00vR9P1zULCDU0hkeF33CIyISwCn07elXvh7rut6F8ftW8K3es3eo6dGJgPtL7jlACD7Hk0AfRBYDqaXIxXzv4c1fXPi/rXi+RdVubL+z4vL0y3gmMaq5LbWbHX7v61Q8Z+M/GvhbQ/DHhPXr54dQu5N15d253SmHzNqqCP4sZzj2oA+lgQelLXi3gLWdds/ivd6TBHqtz4Zuod9vNfxvmGQKCRubsTkV7SeRQBga5400bw/crbX1wxuGXf5MMbSOF9SFBwKqSfEfwyml21/FqKzxXQJiECl3YL947RyMd89KNG0SLwtpepapqsqXF9M8t3eXWOoGSFGeiqoAArzH4E+FrfXPBviDVbxXiGs3M8EbIcNHCc52ntkk/lQB7NoHiDTPE+kR6lol0l1ayEhXT1HBB9DWlXPeCfBuneBfDqaRpBkaESNIzynLMzHk10NABRRRQAUUUUAFFFFABRRRQAUUUUAFFFFABXF/Fz/klutf8AXEf+hCu0ri/i5/yS7Wv+uI/9CFAHX2v/AB6x/wC4P5VLUVt/x6x/7g/lUtABSE4FLVLVruGy0yae5mWGNEO6RjgL70AeYePvjJpfhvXrPT2lSa0kaSC+CZ3wnA2nHp1rxu7+KmsQaLr2jpqX9oaew2Ws7Nl1VmOFz3GKpfFrxDDrGIbmCOW9t5di3sJBWZOxPcHFed6RdxWdy8s67wqEop6FscVrGKT1MnJtXR9TfCr4k/2hB4f8Pyy+fdrZPJeOf+WaqMICfXpXssEkc8SyRMrowyGHQ18FeGdYv4NVkW31D+z4rshLmZOG8vPIB619s+B76C/8L2j2UUqWqRqkJlGC6gYDfjUSVnoXF6anQ4HpRtHpS0VJQmB6VxWmf8lj1v8A7Bdt/wChtXbVxOmf8lk1v/sF23/obUAdtRRRQAUUUUAFFFFABRRRQAUUUUAB6V5BpWh+INS8ReIH0XXTp0a35Dp5YO44616+a4bwJ/yG/E//AGET/wCg1tSlyps5q8eayKf/AAiHjf8A6HJv+/I/wrM0nTNX0z4r2cet6qdRmazcrJs24HpXrFcFf/8AJZbD/rwf+daQqN3VlsZVaKjG92d4v3RXCfFlJH8LwLE+x2vIgrf3Tng13Y+6K4n4o/8AIvWn/X/D/wChVjT+NHTU/hsz08JeNmUY8YsBjj9yP8Kq6r4U8ZQ6PeSXPi5pYlhcuhhHzDHSvTYf9WPpVDxH/wAi1qP/AF7Sf+g1r7Z81rI5/q65L8zMj4cAjwFpWTn9yK6k9DXL/Dr/AJEPSv8ArgK6g9DWVT42bUNKaPINO0XXtU8XeI20PXDpqpeYdRGG3nHWtv8A4Q7xx/0OT/8Afkf4VZ8Dj/iqvFP/AF/f0ru62nVasrIwp0VK7uzyex0rWdM+Kmlx63q51KRrWQq5TbtGelesL92uG1n/AJK9o3/XlJ/Ou5X7tRVk5JM0oRUJSRxHxYSSTwfGkL7Ha8hCt/dO7g1nxeEPGrRgr4yYDHTyR/hWp8UP+RXt/wDr/g/9CrrrY/uE+gpxm4w0FOmp1dWeban4S8ZQ6TdSTeLmkjWFy6eUPmGORXQ/DIEeAdNycny/61u6/wD8i/f/APXtJ/6CaxPhp/yIWm/9c/60Sm5U9UJU1CqtTqzXkVrpGuan488THQ9aOmhLlQ4Cbt/FeunpXB+Df+R78WH/AKek/wDQamk7JsuvHmsiv/wiHjc/8zk3/fgf4VmWukazpfxS0ddb1c6k7W0pRim3aPSvV+1cLrv/ACVrQP8Ar0m/nVxquWljOpRUY3uzul+6KWkXoKWuY7FsFFFFAwooooAKKKKACiiigAooooAK4v4lWFnfabpJ1BcwRatblzvKhVJIOSCPWu0qK4toLuBobqJJYm+8jqCD+BoA86j8NaXqfxGuLVhI9hDolssccc7BTmSQA5BySO3PeudN7qt/pHg6zuJVks5YrkSG7neNJpI22xq7ryTtBOO+K9kgsbW2x9mgjiIQRjYoGFHQfQZpkml2M1mLSW0he3ByImjBUHOelAHP+AbK8sNLu4bu7t54vtTG3jt5mlECED93ubk4OT9DXAeO/M0/4laX/ad6Zw9k6+b5e3YG3joPQmvY7SxtbCDybK3jt4852RoFGfXivGPjF/yPmmf9ef8A7M1TJXsdWGdpv0Zh6jLbSWlpBHOrNZ25XcAcSMXJIH0BqG8nhks7Kxt3AjRC0jkceY55P4DA/CqD/eNNr62FP3Uj4mrU99m3qD2txrQniuoHTy0wZFO3KqFwR+FZ2rNHq3jQLbSDE1qYg4GAG8oqcDsM9KrZo0vnxhY/7p/ka48dTtSueplFT/aLeTNTTba/juIriayaM21hHabNw+dtwJI9gB+tK2mTN4gSS1tpoImmdrp2lykylSOFz1Jxz2xXRGkrOMVY56k/fZzWi6RdWuqRSyeeLaztGtoUl25ILAjGOuAOproPBdpPazW73oAuridp5wDnDNnj8AAPwqarmkDGr2/++P5VXKkhKbbDT9I1K31Cxia0by9Nvby78/cMTCQPsUe53859KTxH4d1rVby11C3khBWa1ZbeVCTbhXDPyDg89fYYrth0pa4Gnc9VbHLG31O+8VCW+sZFtrN2FmQV2FiuDI3Oe5AFZ3hDQNR03VbWS5t54kispIZfPcMiuXDARAdF6/pXdUCpsx3OP1jRtRuLzU7W3tS8WpXFtKLncNsQjxuz3yNuR9as+KdI1bX9PkNt5UBjS4C20y7vMYgqj5BwODkfWurFL3qSjgb/AELWGs76zFqLhtTsbWAzoQEhZMhs55xg5HuKWDQNTj8XLcNBKEGptcF948jyim0EL18z3rvaRulACeDP+RCsc9fJb/0Jqy/Btm1/8K0tY9u+aO5Rd3TJkcVqeDf+RDsv+uT/APoTVB8Nv+RDsf8Aem/9GtXKdC2KsOmeJtK8G6do+mWthO8GmeTI08nAmVQF4xyuetYVl4M8Sv4U1Wxu44IdR1OSIXN4Lre0qZw/YbQFyAB616lRQM4z4iW8Vp8O5be3QJFE8CIo6AB1AFdkv3RXJfE3/kRbr/rrD/6MFdav3RQAtFFFABRRRQAUUUUAFFFFABRRRQAUUUUAFFFFABRRRQAUUUUAFFFFABRRRQAUUUUAFFFFABRRRQAUUUUAFFFFABRRRQAUUUUAFFFFABRRRQAUUUUAFFFFABRRRQAUUUUAFUZP9Y31NXqoyf6xvqaALx6V8++Pvhn438WfE638S2mnWcUVo0flo12MuEOcn0zX0FRgelAHg3xI+D2ueJtU0/xN4chisNb+U3cJmAAdejhu5q34++GXinx34V0e/uBb2vibSxtKrLlJhnOQexzzXt1FAHnfhcfESe2R/ElvZ2otYSFt4JMtdSYwNx6KK4/4VfDfxZ4O8Watdaxp9s9nqwKytHcgmIZJ6d+uK90ooA8B0D4b+PPht401GfwhHZ6lpmoHG2eXZsGcjPuM1a+Kfw38beNdN0a2j+y3U9mXmmuGlEal3x8ir6DGM17pRQByN/4cufFXw0m0HXYRZT3FsInCOHCMMYYEdeQDXnPgLwj8TfA9pL4btI9POnPMzR3zyZ8kN1IXue+PWvdKMUAeF618OvGN/wDGiw8WR2dvLa2TRJlrkB5VVdpfHYnOcU/Rvhz4ttPjpc+MbqwthYXU0oZBcgsiOMZ/Tp717jRQB4Fpvw28a/Dr4jX2q+DILbUtLv8AO6GaXZtBOQD7gk81f+JXwo8T+NNP03Wlu7UeILFi3kp8sYXduVVJ7qe5617dRQBwngxPHd3cwzeLltbCC3Qr5EDb2uHI+8x7Aeldfq1xcWmjXlxYwfaLmKB3ih/56MFJC/iauUUAeDf8Jz4n8bfDDUtGbT93iPUDJAlvCjL5MPdnJ6HggDvmtf4f+J7fQfhdpmgaRazzeIIoWi+wmFgVmJOS5xgKCck+levrDGjFkjVWbqQME0LDGrl1RQx6sByaAKPh+xutN0CztL+6a7uYogJZ3PLv3P51o0UUAFFFFABRRRQAUUUUAFFFFABRRRQAUUUUAFcX8XP+SXa1/wBcR/6EK7SuL+Ln/JLta/64j/0IUAdfbf8AHrH/ALg/lUtRW3/HrH/uD+VS0AFQ3MUU1uyToroRyrDINTGsPxLqQs7Py1dY2lO3exwFHdvwFTKSjFyY4x5nY8+8R/Dvwv4o1Bp7vTYxHCdu+H5DI3px2FY7/Bnwc94J/wCzSuBjyxIdp98Vq6j8RvDGkQBG1JCifKAnOSKx1+M3hLHz3boc9Cmfxr87zHH5riKzeGjJRXZHq06eHhG0rEMPwT8KWl2t5DayzGJw4gkkyrAdq9s0Rrf+zIRaBViCDaqjAA9MV5PZfFXwnesBFqaqxPG9SK7XwrrVpLeNHZ3Mc8Ew8xCjZ2n+Jf616GR5hjfaexxievVozr0qTV6djtaKAc0V9seaFcTpn/JZNb/7Bdt/6G1dtXE6Z/yWTW/+wXbf+htQB21FFFABRRRQAUUUUAFFFFABRRRQAHpXkei+Mbfw94h8QxzWF7cmS/LA28W4DjvXrh6VwvgNA2teJtwz/wATE/yram0k7nPXTduUZ/wtWz/6Amrf+A9Y2meIovEXxZs7iG0ubYLZum24TaTzXqflJ/dH5Vwl6oX4yWGBj/QH/nWkJU3eyMasaqiuZ6Her90VwnxZmFv4Yt5SrMEvYmwo5ODmu7X7oriPin/yL1p/1/w/+hVjT+NHTU/hsrx/FO0VAP7G1U8drequsfEy1u9FvIF0fVEaSB1DNBgDI716HDEhjX5R0rP8RxqPDuoHA/49pP8A0GteanzbHOo1uT4jM+HLbvAelkDH7kV1J6GuX+HX/IiaX/1xFdQehrKp8bNqH8NHkeleLovDni7xIs1jeXPm3uQbeLdjjvW//wALUs/+gLq3/gPS+CVDeKvFO4Z/04dfpXdeUn90flW03TvqjCEarvys8stfEsXiP4q6XNDaXVsI7WRCtxHtJ5r1Vfu1wusKF+Lmj4H/AC5yfzruh92oq2aVjSgpKUuY4j4rzCDwjFIVLBLyFsKOThs1Wi+Kdksar/Y2rHA6/Z6u/FAZ8L2//X9B/wChV1ltGvkJ8o6CmnFQXMhTU3V912PPtU+J1pdaTdQLo+qKZIXUM1vgDIxzW58M23eAdNI/55/1rb12NRoF/gD/AI9pP/QTWJ8NOPAem/8AXL+tDcXTfKiUqiqrmdzrD0ryWw8Vw+HPHfiUTWV3c+bcqQbePdjA7160a4LweA3jrxXkf8vS/wAqmlZJ3NK6btYX/haln/0BdW/8B6xofE0PiL4paNJDZ3VsI7aVcXEe0nvkV6kIU/uj8q4jXFC/FnQcf8+k386uEqd9EZ1I1be89Duh90UtIvQUtcx2LYKKKKBhRRRQAUUUUAFFFFABRRRmgAopGdVUsxAUDJJ7VBNf2sHkebOii4cRxEn77EEgD8AaALFFAOelGaACvKviH4Zl8SeOIVhultmtrBGyyk53SOP6V6rmuJ1p1j8dXDuwVV02Ekk4A/eSUcqm7MuFWVF88Tz4/C2+P/MaUf8AbM0f8Ksvv+g0v/fs16LFNHPGHhkWRD0ZTkUomjMjIJF3oAWXdyoPrXV7OX8z+8X12+vs4/cedf8ACrr3/oNL/wB+zVzRfhnNaa3Bdz6msoizkCM5IwR/Wu0F/aNEZRcxeWp2lt4wD6Zq5ZSRyESRsGUrkMDkGk6b6yYLHSXwwivkZR8JQk/8fDflR/wiUX/Py3/fNbsNzDcbvImjk2nDbGBxQLu3a4MCzxmUdYw43D8K3VaSPOdCm3dowv8AhEov+flvyrE8W2snhTQ/7WsZg80UyKA65HJxXbre2zhylxEwj+/hwdv19K4/4n3MNx8P5nglSVBcxDcjZH3qipXmoOzNsNhaTqxTRlQ6r45mgjlSGz2yKGXgdCM+tP8A7R8d/wDPKy/T/GtnT7mFrK2iWVDIsEeUDDI+Udqme7t45hFJNGsjYwhYAnPtXPCjOcVLnZ6FfGU6VR01SWhgf2j47/55WX6f41S1TxL4y0ixN1ex2giDBSQueT+NdaJ4jK0YkUuoyygjI+orlfHt3BceE5RBNHIRNHnYwOOaJ0Zxi5c7FRxtOpUUHSWp6lYQfadOt5nbDSRKzfUgGrH2Jf7xqtpV1AmmWMLzRrK1um1CwBPyjoKuT3VvagG4mjiDHA3sBmlGTaMasYqbSRH9iT+8aa9moQkMala8tklWJriISP8AdUuMn8KSW6txL5Bmj84jIj3DcfwquZmXKih4OGPAtmP+mT/+hNUHw2/5EKx/35v/AEa9T+D/APkRbP8A65P/AOhNWX4L1iw0T4a2N1qlyltB5sq73PGTK9Ymp29FZen+JdH1PSpdSsdQgms4SRJOrfKuOTk+1JYeJtH1PT5r6x1CCa2h/wBZIr8Jxnn04oAxviZ/yI91/wBdYf8A0Ytdav3R9K4z4g3cF/8ADuW6s5VmgmaF0dTkMDIMEV2a9B9KAFooooAKKKKACiiigAooooAKKKKACiiigAooooAKKKKACiiigAooooAKKKKACiiigAooooAKKKKACiiigAooooAKKKKACiiigAooooAKKKKACiiigAooooAKKKKACiiigAqjJ/rG+pq9VGT/AFjfU0AXqoajrdhpU1rDe3Cxy3coihQn5nb0Aq+eleKX/h+38VftEzK9xd+RpFmssm2dgFmbpt9OKAOs1XxTrEXxd0rw3YTQNZzW73Vypjy6IOAM+5rvlYMuQc14HpzXnin4ueLdQs7iS202xiFpJeofmVIxllQ9icdat+DPGdz4Q+CN94j1See8Mt3ILGOZyzNlsIM+nGaAPcdwBwTzS5rwrSbPxT4pm0a5iub/AO2tdJd3985aKCGPr5Ma/wAXpXttzbLdWUkEjOFkXaWRtrDPoe1AE4YEcGjcOOeteB+HvFWsaf4I8TaLY3Ut5rNve3cULzOWaKJVyXJ9hwPc10VheXPivwn4GhtNQuI9QPk3lw0bn/VKPnL+xPA/GgD1okDqcUAgjIORXh1x46vPGvi7U4LJL6XSdMJgt7SzUhr2fkZZx0QVck1nxH4H8D6H4Ze5+0+KNauGjg3tv+zozZJJ77Qf0oA9k3r6iqd7rFjp93aWt3cKk95J5cEefmc4zwPoK8h8TaW1h428GeHbDVb6S9uJmuNSkNwxMsaYOWHbJBpB4etvE/7RGoyG4vDb6NaoXZbhhtnfnC+gxnIoA6y98VayvxnsfDFpLbtYPZteXA8s70UcKM+5r0BTkcHNeAaLJeeKfiL421pLiSz0y2P2WS/RsOsMSkmND2JxkntVzwj42vPBnwFfxFqkk97Nc3cgsI53LMwZiEGfTgmgD3MuoOCeaNwBwTzXiOiWPibxDqPh+6iudQa4juheapfzFooQuP8AURp3HOKr2ltqviz40eK9M0zU7+20q2hW3mnWcny2OCyoDwCWH4AH1oA93BBGRXP+J7/XrO40pfD+nx3iTXYjvC77fKixyw9aueHdIbQvD1ppsl3NeNbxhDPOcu/ua85le51b9pFbSzvLkWWk2AuLyLzj5ZlfhRj6EGgD1jeBwxANOByOK8V8V3dwnxin0nXru6t7DWrBYdGuYpSiQTgc9OpLf0r1zRLKTTdDsrKaYzyW8CRvKxyXIUAn8TQBeooooAKKKKACiiigAzjrSbh61w3xR8LeJPFOl2MPhTWDpU0MzPK4YjepXAHHvXmf/Cn/AIp/9Dz/AORnoA+hdw9aRnCqTXz3/wAKf+Kf/Q8f+RnpG+EHxTA58cn/AL/PQB03hj9obw/qOrXGleIFOlXUU7xLIxzE+GI69unevW7W7t72BJrWaOaNxlXRgQR9a/Pf+xtSvfEE+n2kMt5eee8ZESli7BiCfzr6Q+DPw08e+HZobzVdZk0+x4J08nzN49CDwtAHv1cX8XP+SXa1/wBcR/6EK7T61xfxc/5JdrX/AFxH/oQoA6+2/wCPWP8A3B/Kpaitv+PWP/cH8qlPAoAaxwCTXC6/BDr1xqFtdZa38k2xAP8AfHzH8sV0Gra4lrMLWFGlnYZ2r2HqTXM2ZZ7J5m4eaR5D+J/wFfP53jVQw7jCXvM78JRcpczWhx2kfBPw9bxiSazn1MgY33Dkj8BWjF8NvCcH3dDtQVPIZCcH8ak+Ldz47htdH/4V6shtyx+0NAoLZ425z/D1rcbV4pY7P7ewN0YIxdmMZXzON3P514+LwmM+qxrLEO7NqThKbjyHMz/CLwvfWzhNBVFYf6yLKke45q34b8J6f4K01hpXmkrOJmeVsn0I/KqcWq/EOX41QxWcTN4WZlAZUBiMWOTu/vZrudXSF765RBlWADY/vY5/pSxOHxWCwsa7rt7XTFTlCdTl5bHU2komtkdTkEZqeuN0LxAbSzt4bxCqH92JQcjIOOfSuwRw6Bh3r6zB4qniaSlF3OKtSlTk7jq4nTP+Sya3/wBgu2/9Dau2ridM/wCSya3/ANgu2/8AQ2rtMDtqKKq6pbzXWlXMFrJ5U0kTKj/3SRwaALOR60ZHrXz23wf+KJOR46I/7avSD4O/FL/oe2/7+vQB9C5Fea+P/jBZ/D3xZp+n6raPJZ3cJdp4zloyDjp3FcL/AMKd+KX/AEPbf9/nryX4t+FPEnhnWrG38T6udWnmhLRPuLbRnpzQB9h+G/GOh+K7NbnQ9QhuVI5VW+ZfqOorcr4x+Gfwu8e6rfw6jo7T6Lb5z9rkYpkew719faHZ3tho9vbanem+uY1w9wUClz64FAGhRRRQAHpXBeB7mGHWvEwllRCdRONzAdq709K8o0DwbpXiHxD4il1FJWaK/KqUlK8Y9q2p2adzmrtq3Kenf2haf8/EX/fYriLqWOb4x2JidXAsHztOe9W/+FVeHP8Anlc/+BLVhWPh2x8PfFqzt9NV1RrJ3Idyxzn3rSEYK9mZVZVHH3onqI+6K4f4qEDw5ak8AX0P/oVdwOgrhfizCs/hi2ifO172JTg44JrGn8aOmp/DZ1sN/aBE/wBJi6f3xVHxFfWreHdQC3ERP2aTADj+7WHH8LfDjKpMVxnH/Pw1U9Z+Gfh+00W8uIo7jfHA7LmdjyBWnLT5tzBTq8nwm18OjnwJpX/XEV1J6Vy3w5XHgPSsf88RXUms6nxs2o/w0cD4Lnih8VeKPNkRM338TY7V2/2+1/5+Yv8AvsV5fovhPTPEXi7xI2oLKxivMLslK8Ee1dD/AMKr8On/AJZ3P/gS1ayjB7swhKok+WN9SDVJ4pvi5o5ikV8Wcmdpz3rvR92vLYfDFh4d+K+lRackirJayO2+Qtzn3r1IfdqKtklZl0XJylzKxxnxQYL4XtyeB9ug/wDQq6e3vrUQLm4i6D+MVynxWhW48JRRNna97CpwexbFNh+Fvh1o1LR3WSO1y1UlF01dik5qr7qudFrl7atoF+BcREm2kx84/umsv4a/8iFpv/XL+tZGqfDLw/baTdzRx3O6OB2XNwx5AJrV+GQA8Aabt6eV/WhqKpvlYKUnVXMrHWmvP/Cc8UPjrxV50qJm6X7xx2r0A15TpnhTTfEfjvxP/aSSMYrpQuyUr1HtU0rNO5Vdtctj07+0LP8A5+Yv++xXF6xPFN8WNBMMiuBaTA7TnvU3/Cq/Dn/PK5/8CGrEXwxp/hz4paLHpqyKsttKzb5C3IOO9XGML6MzqSqtWcT1FegpaRegpa5jsWwUUUUDCiiigAooooAQ/dOK8r17xZ4gsry/0izuc39nfS3f3AS1miLJt/ENtz7V6rWW3hzS31ubVntEN7Pb/ZpJT1aP+7QB59e+ONVutPkutNkka31DWRYWkkCBmSJY/mZc8EllOM1ds9c1bStK1c6zJqcNlHHF9luriJfP8x22lABweduPrXWx+ENEi8Ox6HFYolhEcxxAkbGyTuB6g5PWo4vBmkLpd1YTJNcw3WPM8+dnY45GCemDzxQBxVtqerTP4g0O7uNQRDoz3Ub3ip5sZyynG3jBx3pJNPvo/CPg+OPVZpJJ7+1McsiKfJXyHyB6/jXcab4P0jS7iW4ggeSeaHyJZZpC7Omc7ST25p9p4T0qyhghggby7edZ4VaRmEbBSoxnoME8UAcTqXiTWfCun+JLYXUmovZm0NrNKgLoJztOcYB2nJFSWeqeJLD+0GddSlsxps83n36IpimRcrtx1B547Yrubjw9pl2961zapL9ujSK4Dch1XO0fhmqdj4O0uwW4VPtMqzwtCyz3DOAjDBUA9KAIPA8Woy+HrPU9W1KS8uL60hldCoVI2KAnaB9a4rxsmpXGqagt7BGWWztGeO2JbdCLli4+uM8eleq2dpDY2UNrbIEhgjWNFH8KgYA/IVyOqjPj64/7BkP/AKNkq4fETL4Wcx4emNrd6xJa27/ZLy+zYx7CqnEA3H/ZUsD+Nc1JY+ID/wAJFvsZYr270qNmmDhg8nmMSq4/2TgD0HvXqHSjArrszkucDb34sNP1MnThqFnHNALP/RNnmSMh3Bhjopx83pXRaFYSQeBpbWwmMlw1tP5b7SmJG3H5QegDHA9q3Pxqe1OZTk5+U0new0cd4WaG1vILm1tJoIINIgt7tfKIJuN44I7sBnJ96n1SBLvxxpxsFy0VzItwI4CjR5iZTIZP4hkjjuceldsABRUGp5r4asZLHUV81YpLCx0uS2uJY4GHnvvG0uCPmbhiev61leIImj8Ga+4Xdby6hbPFKIvKV/lwQqdsY5PfNev1xfxWAHgSb/r4h/8AQqzq/Azowv8AGicboEbxS6RmGQXlvPcy3kmw/NCUbZz3BymB7Ve1tFGrrqenrLLfyRQLHbvbblYBifvH7pwxz9K6qwx/Zdnn/ngn/oIqxW9H+Gjkxn+8S9Tlt8EfxIkKQuvmWBjd1iOGfzARk+u0VyeswfYNEks7APNYqil5pbfy2V/M4XP8WQT+Veq/jXL/ABE/5FKTnpNH/OlVXuMWEa9vH1Lt1aySefF9mlfUbh7B9PlVCdqKF3YbsAdxP1rp/FV3Z32jyL/q5XaWOJpbQycrkEAds9jW7pA/4k1l/wBcI/8A0EVdIrlgtDur/wARnm16IbqDRNHubCW1n+zW8lzeGIs8QXGEVv7xI59Bmm2UWp2XjS6adTNcT6s3yNb5C2pQYcSdsdMV6XimyD92apmJl+Dv+REs/wDrk/8A6E1c9ob3EXwYMljZ/bbpEnMMOwNufzXxwa6Hwf8A8iNZ/wDXJ/8A0Jqg+Gwz4Bsf9+b/ANGvWZZiahoC6f8AD0+FbfTbud7uxkaWa3UDdLjLZPTcT0rk7Hwh4s1SHU50jjjtbo26y211Ebfz1jQ5G0dskA+uK9xxRigDyy7tL+w+Bdna6rCsFzDHAjRr/DiQYH1r1Jeg+lcl8TP+RIuv+ukX/oxa61eg+lAC0UUUAFFFFABRRRQAUUUUAFFFFABRRRQAUUUUAFFFFABRRRQAUUUUAFFFFABRRRQAUUUUAFFFFABRRRQAUUUUAFFFFABRRRQAUUUUAFFFFABRRRQAUUUUAFFFFABRRRQAVRk/1jfU1eqjJ/rG+poAvEZFefaJ8PtR03xprutzaqHXUJjLFGi4IO3Chj3A9K9BooA8+0P4c3GifDnVdBi1BWvtS85pLsIR80nfHXpxWZN8Ibi5+GMfhufVR9qgaKSCVU/dxtH0G336mvVKKAOW0DRvEaNayeItVgk+zLgQ2cZVZDjGWJ/lXUnpRRQBxOi/Dq00e68TXilXutcllYuR/q0YEBf1zVnwB4Ft/BWgR2fnNd3JUCSd+pA6KPRR6V1tFAHmXhv4e+I/Cd3qVpo+tWqaVe3L3Cl4SZoi3UDsat+K/h5qGpa54e1rRdTSPUNGVkDXil1lUjknHfk16FRQB5cvwr1N/iLB4mudeLyG38u4ITDk7skJ2VcAD6Vc8MfDzU9D8S69qlxq6y/2hdSXEaIhHzMMLvPfb6V6LRQB53p3w0m0z4Ual4Xt9QX7bqAlMt5sIDPI2ScdenFZ+o/CO51H4a2+gSaqBeWksU1vKseIojGMKoX07k+teqUUAcvomj+IvNt5/EOqwyNAhCwWcZSNmxjcxPJ+lQ+APBTeD7XUWublbu91K9kup5lXGcngfgK66igA7V53pnw71LT/AB5r+vDVV8rU5vOWJUwxIQqqs390E5wK9EooA8rl+Guu61p/h3TvEmo2ssOiXSXIuYVbzpSvReenue+K9TAwMUtFABRRRQAUUUUAFFFFABRRRQAUhUHrS0UAYOgeC9B8NGRtI06GCWV2eSXGXYk5Pzde9b1FFABXF/Fz/kl2tf8AXEf+hCu0ri/i5/yS7Wv+uI/9CFAHX23/AB6x/wC4P5VI/wBw/So7b/j1j/3B/KpetAHATORq2pGT7+8Yz/d28f1pLL/jxgx08sfyrb8QaCLgtdQM0coUg7f4h6GudgvYLaytBPIE3ptGemQOa/MuJMHXhVdXdM9/C1IzpqK3Qatez2mn+XDM6LI20qDxjvWCHZcBWIHpW3qsQvbD9wyuyEMuD1rnvMPQjBFefgsRWlS5Jt6Hr4anGz01N3Q9QuI5JbeOZ1Rhu2qeh71q5yKxdDt2VnuJBjcMLn0rVNzCJliMq+Y3Rc8muTMcTXqNU+ZtdjmrQgqjcUZkxxpV5H3WVgv1yCK9D0rf/Z8Pmfe2DP5VyGgaMNRupp5mJiWdiqdiR3ruooxGgUdBX3PDWDqUqbrS2kePj6kXaC3H1xOmf8lk1v8A7Bdt/wChtXbVxOmf8lk1v/sF23/obV9eeUdtRRRQAUUUUAFYmpeD9D1fW4NV1Owjurq3QpE0o3BRnPStuigBqRrGoVAFUDAAGMU6iigAooooADXDeAv+Q34n/wCwif8A0Gu5rzmLRPGGi6zqs2jJYPBe3JmHnMcjitaeqaMK11Zno1cFff8AJZLH/sHv/OuOuPix4gsfGFx4c1RtMsLyIrta4yqSZ9Grq9D0jxDfeMrfXtZNkYkt2iU2r5BzVxhy6toyq1OdWSZ6EPuiuI+KX/IvWn/X/D/6FXbgcCuY8eaFfa/oMdvpnl+fHcJKPMOB8pzWUH7x0VE+RnRw/cX6VQ8R/wDIs6j/ANe0n/oNeceLfGvjDwPo8eoazFpotzKsOUJJBPfFW7TV/F/i3QXfTJdGubS6jKGSKQnAI/Q1fs3zXuY+1XJazOo+HX/IiaV/1wFdQelYfhDS7jRvDFlYXe0ywR7W2nIzW4aip8TNaN1BXOC8Df8AI1eKv+v7+ld5Xm76T4q8P61rOoaZ/Z4tbuYzlrh8bQB1rB8J/E7xF4xvryz0iXSWuLVypRyQXA/iX1FaSjzapmVOXJdNHWax/wAle0f/AK8pP513S/drgNO0PxPd+NLTWNeWzVLeFowIGPOa78dKmpZJIqldybscb8T/APkWIP8Ar+g/9Drrrf8A1C/QVz3jvRrzXPDottOMYnSeOUGQ4X5TmvMb34waxp3iu18OrPpdxdzSCItESyRt2DNTS5oWTE5ONS9j2PXf+Rfv/wDr2k/9BNYfwz/5EHTP+uX9azLlPiBe2csDw6WEmQoSGPQjFdF4N0i40PwvZ6febfNhTa205FDXLC1xc3NUTSN09K4Pwd/yPniz/r6T/wBBrvDXkniG+1PwHrusat9t0uC2vpfMAuZPnOB2UUU9boqtdWZ63XDa5/yVjQf+vWb+dcl4K+JXivx415/YdvZNFaMFaSRSobPpXT2OieKLzxnY6tryWaR2sTxgQMcndVRhy6toipU5lZJnfr90UtIvApa5zqWwUUUUDCiiigArJ8SeI7PwxpLX98ssg3BEihQu8jHoqgdTxWtXDfFkoPB6iP7aL03KCzawGZVlweR7YzmgDT0fxvYas+kKIprc6tbNcW4lGCdv3lPoQCDXTV4t4M8D/wDCJePNFfX9butTuZrWVdPSXgQnALjb64PX617TQAUUUUAFFFFABRRTVdWZlUglTggHpQA6vPfE2qRab4+l85WbfpkONv8A11kr0KvJ/iF/yPo/7BsX/o161oq80mY1pONNtF1fFNof+Wcv5Uv/AAlNn/zzl/KuPFLXs+wgeJ9amdd/wlNn/wA85fyrM1r4hRaLBFNbWjTNI+whztwMZzWJXO+Mf+PC3/66n+VY16SjTbR14Ks6teMJbM6Q/Gh++mRj/trSf8Lob/oGx/8Af2vHJCfMPNN5qYZbUlFS9oejVzHC05uHsdvM9k/4XQ3/AEDY/wDv7WZ4i+Ib+LdJ/spbJIjJLGwYPnkGvLua09Bz/a0H/XRf/QhWeIy+dOk5c5tg8ww1SvGKo2+Z65FaeOI4I4khs9saBVyecAYp4g8df88bP869BPWiuCFKfKveZ01sVS9o70kef/Z/HX/PKz/OqWraB4y1mxNpeRWvlFgx2MAcivTc0ZNU6MmrOTM44ynF3VJXLWn3It9Nt4ZFO6OJVOPUKBVj+0Y/7rVm5orRU0lY4p1pSk5Gl/aMf91qa+oRsuNrc1n01+n403BWJ9oyz4OOfAtmR3if/wBCaoPhr/yINj/vzf8Ao16m8F/8iDY/9cn/APQmqt8OpUh+Htm8rBEV5iWY4A/evXM9zpOtoqBbu3a0F0syGApvEgb5dvrn0qkniXRZNPkvk1O1a1jba8olG1T6ZpAYvxM/5Ei6/wCukX/oxa61eg+lcb8RLmG88ATz2sqyxSPCUdDkMPMXoa7Jeg+lAC0UUUAFFFFABRRRQAUUUUAFFFFABRRRQAUUUUAFFFFABRRRQAUUUUAFFFFABRRRQAUUUUAFFFFABRRRQAUUUUAFFFFABRRRQAUUUUAFFFFABRRRQAUUUUAFFFFABRRRQAVRk/1jfU1eqjJ/rG+poAvVHPcQ20ZkuJEjQdWdgAKkJwK8m8P3TfEX4k65PqTF9I0OUWttaE/K8n8TsO9AHqlvdQXcQltpUlQ9GRgR+lRHU7IXX2c3cHndPL8wbvyrybxn5nwy8MNp/hS4lN54i1Py4WkbIt9/XaO2M1S+JWhWnhfwLomn6UrPrtxqEIiuckzSP1diepHNAHSfFvVNWs7zw5Y6Dqc9rc6lfrAY48YZByx/KvQ3uobK0V7ydI1AALyMAP1ryqSc6z8fLRLqRfI8O6WHfJ4E0g/njNQ+HNTi8d6jrfi/xG3/ABI9Jd4LG0c/u8J96Rh0JPSgDU8OatqWrfG7W7aDVJ7jR9Nt1Hl5BTzX5wCPQV6Pfaha6ZZvdX88dvBGMtJI2AK8w+AWnRp4Vv8AWVTYdWvpJ0BPIjBwv4cVd+O8kR+Gk1o0ayXF9cxW1uD2dmxkfhQB2nhzxHZeJtFj1TT2P2aQtsLdSASM/jjNXYNUsbm4aG3u4ZZV6okgJH4V45r0baVd+Gfhx4XP2L+0o1mv7mE4bykGGAPYnBqTxnb2ehfEvwTp/huAW9xA0k920XX7MF53nv0PWgD2K6vLezj33U8cK+sjhR+tea+C9U1LWPi34n2arPdaPpuy3iRmBXzW5bGOwxgVj+GtVi8YWmu+PfFZVtLtDJHp1rIf3ccadWI7sTxWF4Z1mfwB8CpdbsY1/tXxBfE2it/CZGIQn6KM0Ae9zarYW0pinvII3UbiryAECnLqNm0yQrdQmSQZRBIMsOuQK8N+IWgWWk+B9F8OyMbnxFrt7CslyzbpWJbMjZ6hecY6VsfFHRbfwq/hnxhpcYjk0y+iguSjH95C42HP+e9AHr0dzBLNJDHKjSRkB0DAlfqO1S1w/hKxtbzxx4g8R2CMkF15dsHyds7xg73Htkhf+A13FABRRRQAUUUUAFFFFABRRRQAUUUUAFFFFABRRRQAUUUUAFcX8XP+SXa1/wBcR/6EK7SuL+Ln/JLta/64j/0IUAdfbf8AHrH/ALg/lUtRW3/HrH/uD+VS0ARzLvjZT0Irz/yo0vbqwmCuI3LoCM8N/wDXr0JxlSPavP7uGGHxBc29yXjllbzorhBnaDxtYeleXmuAljsM4Q+LodOHxCozvLY4jXPB+o2l011odzMYWO4wBz8p9vaq32yVMC506487HO0nk16c2lanFg+Uk6EZDRt1/A00216MbrWXP+7mvjKNfFYP93iMPzNdbH1dPMY8iTs/wPNrTRPEOs3W9riaxtD23EYFdelja6NYq6rukiXiRzlmP1rY+x6nO2IrRx7ucCodV059PsjLdgSzONiKPuRk8Z9zUuhi8yqKFOjyR6s5sTmEGruyXZHReF7byNIhBOSy7mI9TzW5VDRrf7LpcMWchEC/kMVfr9CoUFh6SpLofL1KntJOXcK4nTP+Sya3/wBgu2/9Dau2ridM/wCSya3/ANgu2/8AQ2rcg7aiiigAooooAKKKKACiiigAooooAKQiloNAHj/xY8EaXq/ibTbzUlCQ6gv2GSYDmKTrG/58VyGn6Z428F6pLp/h7UWF9bDcdLumLRXUY/jiJ/8AQe1e4eNNDHiDwne2S8TbPMgYdVkXlSPxFYVvY23xF8C6feSO1vqUS5juY+Ht514b9RyKAMbw18aIblmtfFOmzaXcxcSuqlkU+46rXpen6nZararc6ddRXMLDh43BFeaR6faeJ7x9F8VQ/wBm+JrVf3N7B8v2hR0dT/EPVTWLe6De+EL3zL57jTVz8ms6WD5Tf9doeg+ooA6L4iaUnjLxfpvhmUbreO0mvJfQNjan6151pmg6t4d0+HxV4Qu5rVInNvqtkgLLHIhwX2d1PU966Xwv4s1OLxZq+uanZtrNkoSy/tHTkyqqoznZ15zzitzwt4h0g/EfULPS7qOax1qH7UidCky8OpU9CRzigDV8OfEqC6Fvb+Iol0+ecDybkNm3uPdH7fQ13QkQqGDAg8g5rzHX/Di+FHnuYbJdQ8M3Tbr3Tyu42xPWWMdh6gVzOoXeso82jfDrUbjV9JlgEtwobc9pGf4I3P8AER2PSgDovGeuS+KYNTt7CQpoGlRu9/cKcfaZFHEKn0zjJrj7DwHHol14ZntGOnXOpWYCXUYx5V0PnUH1VgcEV1OparoWoeBLTw14fzBJc3UNpLaSDbKgzufcOueOtdf450RtQ8EyR6eNt1Yhbi0Po8fIH4gEUAJ4U8VSX88mka7CLLW7UfvYT92Vf+eiHuD+lbWteINN8PWBu9VuVhTooPLOfRR1JrzLxBr9t4007S/+EVgluPEqqkkdxBwtmf4hI3p1+Wq2k6ja6XdXt/8AEEy3viq0bENq4yjZ4TyF6HPr1oAl8W+I/EHiC3hgSKbTre+fy7LT0OLi8/2nP8CDqaxLH4V2S67PpFuFa/s9MNzNcAf8vUjZTHsNox9a9N8I+H7pbmXxF4lIfVrwcR/w2sfaNf6n1rlfD3jHS7LXPEmoyPJeX99ftHb2lqvmSGOMbRwOgyO9AHeeCtaOu+E7K8k4n2eXOv8AdkXhh+Yp+ueMtF8PkR3t2GuW+5bRDfI59lHNeVacuvx+KdS07Ub0+FNK1INqSoGBkx0dd3RT3I961tItPttw8HgCw8mFuJ/EF8pd39fLzyT79KYB4j8eeIboCC1hOjCfiGHb5t7MPZBwn1NcBZeAL7x34q8rVriQWVkd+oytIZCD18sv0LY644FeiS6VFp+pN4b8KO9xrl0udT1eY75LeM989mPZRW/4gs7XwX8Lb6z0pdjeQYIyT80kkh25J7kls0AV/hBpttbeF7m/tIFgiv7ySWJFGMRg7U/QV6BWX4c0tNG8Nafp8fS3t0T8hzWpSAKKKKACiiigAooooAK4f4tXek2fgd31p7yMNOi272IPnLKc7SuPxruK4P4u2VxeeDUa11O30pre7jnN5cdItueR75wKAPMPhTLp0vxJtJblvEF/fvHIsM+pxlEhXGTj1Jr6LrxrwNYeJT4r0a81Txfb6xYT28lxFCsewupGAw4557V7LQAUUUUAFFFFAAfumvPLvxPc6fd+JW0+yjWS31WC3kmIZgFeFCZGA9AccV6GeRXNy+FHjn1W403UprS41K7S5dwgbbtjEe3B7EKKALPhbVH1XSjPLe2l63mFfMtQQBjsQeQa4HXLttT+I4NxYzW5TThtjnAG8hpCMe2a7zwz4ZTw7HeMbl7q4vZ/tE8rKFy20KMKOBwBXCfEFjH4+jZDgjTYiCO37162o/GjDEO1NlC/g3w2crJtkeDdPgYx85AJHbIq3qtqsTsbUHZBcCNFKD5hjII9eBWI00khZnkZiwwcnqKcbiY7cyudn3fm6V7fLLueBzx7G1J5cJtpvIaQyW0gJEeG3bsAlfauQ8b2ypfWUUzAxvcpu4xhWAyD6HBrWNzOZPM8592Mbt3OK5jxm7NYQsxJYy5JJ68Vz4iL9k9Tuy+cXiY2RmeJLOSa3n32Swzw6rNBAkabSYghOPcDA596tS2VufCEiCEGVdKiuAPKwoJkGXD92IP3a4+41C7mkRpbmV2jBCFnJ254OKb/AGhdG0FqbiXyAOI95wO/Su+jCXslqZYicfbyO4ktodV1qwu1tDb27aisP2SeIJxtzwR1Ax+oqveww/bNDuYUIExdWdo/LdyswHK9sA8Hv+FcfLf3czRtLczOYjlCzklT7Vo6Rdz3mt27XUzysJEALtnA3CssXTkqL1OjLpxeJirHr+m38v8AbVjPJdP9on1C9ivImfhIow+35ewG1Off3pvjDXbldSsBbtcRWkV1asJIlJW48xxkZH8IX8ya7YadaJdSXC20QllBDvsGWHcGntbQtEsbRoUQgqu3hcdMfSvFh8KO+t/EZxUmsXM3xFsI5DdQwF7i3SHYQrhUzvP1P5AVq+F5ol1PXLSK7adYrtDGHl3kAxAn8NxrojDG0qSMgZ487WI5XPWoLfTbO0nea2tYopH+86IATVmRxuuXk0WrapOt1Il5a3NolnCHwHVsbvl75ywP0q5441iRdHmhsHmEZjmaS5twW2+WPuZHQk8fQGuoksLSW6S5lt43mT7shUFl/Gni2hELxCJRG+dygcHPX86BnAa9r92w0Yxm6gt43tHZljP75nIBB9gM8dya2Ypki+JDwLdMVnsDI0LS5AfzFAwvY4rp2gieNUeNSqEFQRwMdPyqB9Os/tn2z7LF9pz/AK3YN350CNHwX/yINj/1yf8A9Cauf0PTItW+DP2WaNpQyXBCKSCSJHx0966DwX/yINj/ANcn/wDQmqH4bf8AIg2P+/N/6NeuR7nUtjnLqW6g+DdpokenXU9/caJtWIIQAQgyCex9q4vTrSTSdKvGm0m41QPc2v2aR7Uxp5ixlSXjHVVHPua+gcCk2ikM8tvLCHTfgoltBJLIqyKxaWModzTAnCnoMngelepL0H0rkfiYMeCLr/rpF/6MWuuXoPpQAtFFFABRRRQAUUUUAFFFFABRRRmgAooooAKKKKACiiigAooooAKKKKACisafXlXXn0+JMrbQ+ddTE8Rr2H1PWqmneM7W+u7ONraeCK/3fZJpANs2PT045oA6SisfxHr48P2CXH2K5vWkkEaxWy7nOe+KzdF8dQ6xDfSf2XqFsLEhZFmhwSfQUAdVRXPxeMLKbwgniFYpvszrlUCZc5baBj60/RvFFvqt9e2LwSWt1YhWmjk7KwyDke1AG7RVc6haCz+1G4j8jGfM3fL+dZ3iHxLa+HbFLq7imkjd0QGJMgbmCjJ7daANmikVtyBh3rlW8e2K3EJa2uBYz3X2RL3A2GXOMeo5GM0AdXRXD33xLisr2WFtC1WSNLjyFnjhykjZxwa6Gz1pptbn026g8mRYxNCc/wCsQ/1B4NAGvRVS81O2sbi0guHw93L5UQA6tgn+Qpuq6pBpGlzX1xkxxLnaOrE8AD3JIFAF2iufn8TPaGztZbJ59SuojN9lgIO1R1JJ+uPrWjous2uu6VFf2RYxSZGGGCpBwQR6g0AX6K5mDxiLnxFLpVvpN+5imMTXHl4iGOp3VdbxLbL4ph0IwzC4lheVXKYQhCAee/UUAbNFczc+MhD4jfR4NJv7mRHVTNFHmMEgHlu2Aa6A3UIultmkUTMm8Rk8ketAE1FU7rVLe2tbyUMJTZxl5UQ5YYXOPqa5nSPiGmqa3a6Y2h6paS3Kl1aeHCqoHJJ9O1AHZUVka14hg0eaztvKe4u75ylvbx/efaMsfYAd6XSfEVnqumzXiloRbyPFcJLw0LqcMD9KANaiuWtfGsWp+E28QaXbSS2sUzrIrcN5aOVZgPbGceldLDPHcW6TQsHjkUMrDoQelAElFVNN1K31WyW6s2LRMzKCRjlWKn9Qat0AFUZP9Y31NXqoyf6xvqaALx5rgR8M5LHxLqOpaBr11pcGpv5l1bRIrBm7lSehrvqKAOR8Q/D3T9d0KwsBPNbS6bMtxa3AO5kcdznrmpLHwTH/AG7HrWu3j6pqEKbLd5FCpAO+1R3PrXVUUAcPb/DSyj8cal4hnvJphfOsjWpACBlGAc9TjnArGtPgtb2mnalpS65enSbxpHSy4Cxu3cnqceleo0UAcx4F8FW/gnQYtPhupbt0QIZZT/COgA7CovHPgaLxsumLLfzWf9n3QuVMQGWIHv8AzrrKKAON1b4eW13qmk6ppd5Jp+o6UhihmA3h4z1Vgev1q5pPgiysru8v9QlfUdSvozFNdzDB2EY2KP4V9q6aigDyq2+CMEHh6/0J9evZNLn3mC1IAWFmOd3+1j3q7efB3T7vwLbaA+o3Pn2ssc0N6cFkaMYXA6AAdq9IooA811D4Pw6re6Rf6jrt9Pf6fIzPcnAaVSANo/uge3qaTxLdaL488OP4N8PzfaWklWGZ0BItFjYFmJPfjA9Sa9Lqta6dZ2LSGztYYDK2+QxoF3H1OOtAEekaXb6NpNtp9kmyC3jCIPYVdoooAKKKKACiiigAooooAKKKKACiiigAooooAKKKKACiiigAri/i5/yS7Wv+uI/9CFdpVLV9Js9d0qfTtThE9rcLtkjP8QoAfbXVuLaMGeP7o/jHpUn2y3/57x/99iuU/wCFXeF+1i//AIEP/jSf8Ks8Ln/lyk/8CH/xoA6s3dv/AM94/wDvsVz2vacl3cRXtjcxJcw9CXGGHoarf8Kt8L/8+T/+BD/40n/CrfCx62L/APgQ/wDjTTad0JpNWZaTxTJbRhb+xYkDBeF1YGnjxrph+/HMp9CtUf8AhVXhU/8ALg3/AH/f/Gj/AIVT4U/6Bzf9/wB/8aq8HuibSWzLbeNLd/ltLOaVvchR+tV/KuNcvorjU5oYreI7kt1kB59Se9N/4VV4U/6B7f8Af9/8aUfCzwqOlg//AH/f/GhSUfhQcre7OojuLZFAE8XH+2Kf9rtv+e8X/fYrlP8AhVvhb/nwf/wIf/Gj/hVvhb/nwf8A8CH/AMallnV/a7b/AJ7xf99iuN0l1k+MWttGysP7MtuVOf42qf8A4Vb4W/58H/8AAh/8a1NB8H6N4auJptItPJknULI5csWA6DmkBu0UUUAFFFFABRRRQAUUUUAFFFFABRRRQAEZFcJ4bYeHfiFq/h9hstr4f2hZjtk8SKPx5ru64j4ixPp0em+J7ZN0ukXAaXHUwtw4/rQM2PFPha38R2K4c219bnfa3cfDwv6j29RWJpXi0pbXujeLIo4NVs4Gdww+S7jA/wBYmevuO1drbzJc20c8Tbo5FDKw7gjIrz/4zaVbah4MwsQ/tGSdILSVeGVnODz6Y6igDE8G+DNW07wxba54Xv8A7Nd3ha5nsZhmCYMxIGP4TjuKx/HNxpl9Yi8m09/DnijTpVmYp8jSoDh/LccNxzXofgrxC8YXw1rsC2Oq2UYRIwfkuI1GA6HuPUdqj+J0mjy6Eun6hpseqX14fLs7XHzs5/iz1AHUmgDj9V8UeLdHtItI0q4i8Sy39sZIHVMTwRkffcdDwePU1S8LatY+A5PP0i4lntZgDqmnXSbLiKTvKinqPUCofhwviHwNcasl7py6sbWZYrsQnNxDHjKlc/eTHaup8T+IvCfi6zjtdL0xdd1acYihjXY8B6Zd+qYoAyvGn9g+I/G2lajb6nHp8NpYPeNqEBAfcxxGPc9eKqN4q8W6jZ21t4i+06doDuVfV4YSJJ0HTcP+WYI71w/h7wtqvhGXUfFS2FtrVlpt40ElpK5IjC8l0J64JxXpY+OmjajpMcNppM0t3OTH5E4CwDjnMh4xQBY8DX+i+B5Ne077TAumQ41C1uQwPmQv1Gf4iG4rltT1KPxrqMmtxfaZ9ZTH9jWlkm82gByHlPTLdwe1cbqPhLVtWEvi9rO2h0YXiQpYRuywyoW5Yei7q9w8K+LPDOi2J0+9sYvDNzAm57eVQquB/Er/AMYoA5C88QeJNW0vVYvF2onQp9MtGkOnWo2vdfLwwfuCewrc8L3mi+BPCem2VpY/bvEF1Asj29soaZ3bnLt2HPU1znxKvZviG+mWOj6Z9mt7m7EFvqs4KvJxk7F6leOc12Xw0XT9IefRL+yFn4gh/wBe8p3NdqOkiseo9u1AGB4z8L61fWtv4t8VSRSDTp0kOlxLmOOAnDhj/EcEH04rstf8Ti0srPR/Cccc2qahGPsyIBsgjI/1rY6KP1q3461y203Q3sWg+23moq1vb2S/emLDB+ijOSa5j4NaRHpVnqNpqK7tds5/s91IzbjsAzGFJ/hx0pgdl4V8MW/hrS/KDm4vJj5l1dP9+eQ9WJ/pWJ47Dan4h8M6EnKz3v2qYf7EQz/6ERXcVw2mOdY+L+q3I5h0ezjs0P8A00f53/pQB3IHApaBRSEISF6nFJ5if3h+dcx8QvC174v8Ltpem6lJps5mSTz4yc4GeOPrXk3/AAz94p5/4rq6/wC+n/xoA+gPMT+8v51xfxR8cy+AvCS6zawR3RW5SN42bGVOc/jxXmf/AAz74p/6Hu6/76f/ABrjPij8Jtc8IeDm1LUvFE+pwidI/IctjJzzyfagD2/wT8bfCvjJUhFyLC+PBt7k7cn2PQ16KrBgCpyD0Ir4U8FfCrxX4xuo20uykgtsgm7myiKPUHv+FfXvw88Iah4Q0IWep65c6rIcYM33Y/Ze9AHX1wfxeaKPwhDK9zBBMl5H5AuYjJHK5yAjL75rvK8++M9mt54FAk1NdMWK7il+0bC7ArkgKByWzigDnvh94I8ZW/iHSr7xXfWkdjpEDxWdrbD728ck/hXsVeKeAbLWx4p0G+1HxjcapZ3ltJcW8E8RTeNuPzGenvXtdABRRRQAUUUUAFFFFABXlvjuznu/Hg+zxl9umRZx/wBdXr1KuH1of8V5P/2DIf8A0bJWtJ2mmZVo80Gjixot/j/UNS/2Lf8A/PA12oGKK9b27PH+rR7nFf2Lf/8APA1heKvDmqXFjAsFnJIRJkhRnHFepZpycnisqtR1IOJ04anGjVVTex89nwPrbddOuP8Avil/4QTWv+gfcf8AfFfRIoz/AJzWCqYmKspnqSlgptydHX1PnQ+BNb/6B9x/3xT4PDmo6JNFe31pNFCkq7mZcDqK+iK5D4mnHguT/r4i/wDQqzrVMRKDTmbYV4JVo8tKz9R7fE/QMf8ALx/37pv/AAtDw/8A9PH/AH7rxxmIAxxxTd7VvRwOIlTUk0YYnG5fCrKLjK57L/wtDw/63H/fuj/haPh//p4/79141vPrRvPFOpgsTTg5trQmji8vrVFTUZan01DE89vHNGjbZEDr9CM0/wCzTf8APM1Z0gf8SWyyf+WEf/oIq5XHGbauKpTUZtIyvss3/PM0x7abbyhHNbFMk5Q1XOZ8pm+DBjwFZA/88n/9Caofht/yINh/vzf+jXqfwd/yItn/ANcn/wDQmqt8OZEj+H9i0jBRvm5Jx/y1eud7nQdZRTUlSRdyOrL6g5poniMZkEi7B1bcMD8aQHK/E3/kR7r/AK6Rf+jFrrV6CuR+Jhz4FuiOQZIcf9/Frrl6UALRRSMMqQKAE8xf7w/OjzE/vD868N1n4FeJNS1q8vYPG11BHcTNIsQL4QE5x1ql/wAM++KP+h8uv++n/wAaAPfmlUKTuH514vpf7RelQ+J77RvE9sbP7PdSQJdR/MhCsQNw7VkH9n3xQB/yPl0f+BP/AI14BN4U1i+8WXuk6bbz6ldQ3LxM8akliGxk0Afeml6xp+tWSXel3cN1C4yHicMKu14H8Ifgz4n8NXUOp6trc2nqcM1hbtnd7N2r3ygCrqTMum3DJMYGWNiJQM7MDrivMvCeqeKtb8Ez+IrjxCkKrJMYVe2Xa0aEgFj74rpvinra6L8PdVlWVUnkhMUQLAEs3yjH515/4o0OHwp8OPDUVtcXEjG4toJIfNzDNuI3hh6cmgD0v4feJbjxZ4Ns9Wvbf7PNNuDKOjYONw9jXTZrzvxpqn9mwaImiX8llbnUEspktQMBT1GPUVJo2r3s3ju40e31C4uLD7GZGe4XbJHJnjZ6jH5UAegZozXkOg67e6lbPa3OvakNQl1Ce0t2QDau37pJxitbV7/UbTxP4dtL3WLmCO7tZDciAggug6jigD0jIorzbQtQ1/xIt9b2OpP9gt79Y4tQwBK8YHzrj1zxmk0tdf1PWPEtlBr94H024jS2DbcHK7iG9aAPSqTcKjjEn2VfO5k2Ddj1xzXm1zb5upf+JD4lb5z8yXOAee3NAHpuRSnoa890GDbrlsf7G8QQfN/rLmfdGv1Ga9BIO3jg0AcRBbST6t4wsM7bm5QGL3VoiAfzrI0+0urxfBlitrPHNpUm+73oQECqV698mukufD2uTawmopqlsk0YKKwtuSh/hPrVg2HiZFLNrVqAOSfsv/16AJrnV5p/DWoX0FhcJcWyyiKKRPmdlBwQPQ1V0RDp3gWB7qGQTyW/mTgJl2kYZOR65NVdOu9X1WW4j0/xFZztbPslC2n3WIzipNQk17TIVe7161QO21FFpksfQDvQBk+Fr270r4Z2kQ0yea4gYJNA6FSqlzlh64BzUvhG2ltvGOvTWsMx0meOOQS3Cne8uPmAJ5KgUybxJdQaQdRl8VWQthN5LN9jJKv/AHSOoNT6JrGoeIGmTSPE1ncmDHmBbMjbnp1oAzF0i+XWF1V7Kb+wDPuXTMksjZ/1u30zzt/Gtj4lmSfwj9ntbeaeWSeFlWKMtwsik/pV5IPEUk0kCa9ZtJHjegteVzyM81h6v4nuND1FrLVPFVnb3CoHKmyJwD0PFAHXf2wEGnLHaXMi3jFdwTAiwM5b0FcDqOp/2v4ptrB9C1BNPsr0NFEtvtjmkz/rWb+6OSBXTWTa7qGnRX1p4gtJLaRN6SfZMAr61TsdV1LUbpLe18S2bvICY/8ARMCQDrtPegC/PFNefEG2ge3f7BaWZnVtvyGZmI/MAfrRqCtN8SNMEDYMNjM0uPRmAXP4g1DJPrUOsQ6W/iKzF5PG0iRfZeSq9T+tNj0bWNMvpbx9btFuL2RULvbcsccKOfY8UAZnifTvEA13w9u1qM7r9tn+ij5D5bdfWrni201KDwnE2o3i3nk6hbyyusewCMSDOR7davXttrlvCLm+1myVITuDvaZ2npkVFbQ6x4h0YSwa3Y3VldRkA/ZOHU8UAR6rG9j8RbDW5I5HsW017YvGpba+/eM49Qf0qLwQbvQ/DtnDe2NyZNRvp5AFX/UKzFgX9OKJG1Xw/bxWUmvwfu49wU2hdlQdz7Ut5q+pWkMUj+I7Rlkj85THZ7vk/vcdvegDK1Fb17iAaZY3FrrTauHl2FjH5W47mJ6YK/rWnqlw6fFLSZzbXDQwWc8MkqxEqrOyFRn8DWhZpr+oWkd3Z6/ZzQSqGSRLXIYHv1p1vF4huoRLb69ZyIxIDLa8dcetAHO+JkunXWBYWVxBrUl1H9ikhLEOAVAcnoBgHNbPi+xvdSjsbTS0aLVsb478cLbAfeJ9c9NvesaLxt590lsni2xMry+UqfYj8zZxgfjW/fHXdNsnu77X7OGBMZZrXjk4A6+tAEvg22a00mayvLR4ryKQi5kc7hcMf+WgbuD+nSmeF1nudX13UL+3eOT7Y1vBvH/LFAAu32JyfxqlDq2py2d1cf8ACR2caWgzP5lptMYxkZB9ak0691jU5ZYrXX7UyxAM8bWe1gD0OD2NAFbXZxqv9h6ylne2V1bzyiORod3kgqQQ6+jYGPwrL0Dw1rEWjXl1cPmO+1aXUZ4bgENInGwEDp93OPoK6fytfF19m/t2z87Z5nl/ZeducZ69M1BfXGuaaUW4122DyAlUWz3MQOpwO3NAGD4Ae4sPhpqqa1bNa+VJdyFZEKkq7O3f1zXQ6Lp+s/8ACHaFDa6gtnLDZxLMHhDljtHr0xUEul6v4k0qJjrdpc2cjLINtt8r4OQDz0z29qiXUtVF4LUeIrPd5nkhvsfy7/7uemaAIPh9Za2uh20smrRtbLPMXh+zAFh5r9/rXTSeIGjsdTuP7NvGNhIYxGqfNcYxynqOf0rn/t2o2Nx9jGvWMQEvlHbZYRXJ+6T0Byf1rXFj4n7axa/+Av8A9egDSXVC2sRWH2O4AktvP88r8i8gbCf73OadJ/rG+pqhbWfiJLuJ7nVbeSFWG9FtsFh3Ge1X5P8AWN9TQBeooooAKKKKACiiigAooooAKKKKACiiigAooooAKKKKACiiigAooooAKKKKACiiigAooooAKKKKACiiigAooooAKgvbj7JZTXG3d5SM+PXAzU9Uda/5Al7/ANcH/wDQTQBxeleNPGGtaRa6lYeFIGtruJZYi16Adp6ZGKuf8JB45/6FO2/8Dh/hVz4Zgf8ACsfDv/YPi/8AQa6rA9KAOJ/4SDxx/wBCnbf+Bw/wpP8AhIPHP/Qp23/gcP8ACu3wPSkIGORQBxX/AAkHjj/oU7b/AMDh/hTT4j8bgZPhS2x/1/D/AArP+JPxRsfA6QDcksv2iNbiEfeERzlh+leM3Pxb1DSvEWqppOp/bdGuYXmhEhy0BI6D8T0pqLewm0ke6x+JfGsqB4vCto6noVvwQf0p3/CQeOf+hStv/A4f4V5j8H/iW0Gg6Pod9KZ7+7vmjjRuTHD94k/rivfraeK5j3xMrgEqSDnkdRQ1Zgnc4/8A4SHxz/0KVr/4HD/Cj/hIfHP/AEKVr/4HD/Cu3wPSjA9KQziP+Eh8c/8AQpWv/gcP8KNN8Za2fF1jomvaFHYG9ilkjkjuBJ9wZIrt8D0rhtf4+MHhX/r1vP8A0AUAdzRRRQAUUUUAFFFFABRRRQAUUUUAFFFFABVXUbKLUdNuLO4XdFPG0bA+hGKtUUAcb8N76c6FPot+f9L0adrR89WQco34riofFMo1H4heGdGUbliaS/lHsgwv6mmahnw58VLO9Hy2euxfZpj2EycofxHFVrTULJPH3iXxFfyrHaaVBHZCRjwp+8+PxwKBl74l2ulr4d/tC8me1v7ZgbG4gH70S9lUd8ntXL+B9VSDWb7UfiNMLTxDHECouMLHHb44Mf17981n6l430+LVE8S+KPnuRkaPo+4ZRT0lcdif0FZF3o3iD4n3i3zWrtPGQba4kBitrUZz8oPMh+vFAGjr+vXd941g1XS5p9D0HVlFjcalIoUyFeQyg/d443VX1eHSLPT5b34aWl6l9YxtJLrCsUhcDk7y3+szTn8Nz+IdO1TTPFl1PL4nsFM1rBI223YLyrRKOCDjBrrNe1WLWfhNpsNgiRNrLw2nlxjG0k/OMD0waAOH8G6ebWwt4vidJdpaXrfaLcq2LRy5z8+P4ue/FLrmj2c+qXcXhy0kuvBlvcI+pxQKCu8fe8o9cD+LFdp451yxlsx4StJ4IbVIlXUbyTBW2jAxsHrIccAVy1h4d8Ttp10nw9F1p3h1gALe7fbJcf3jHn7mR60AL4jtLOPTBpHw41Se+/tCLb/ZIHmwIrfxEn/V4rJ8PNY63vg+LSXjy2DGyicp/o8BXjO4chvc1veHL/T/AATeSXPh+2mjgYD+1NJuV/0mEjrKn94eoFdNYXenRfEDzrdorjSfFNvvjJAKGdOCMepX+VAjlDNfaR490r7Ncy+JtE0i3a6jMGGkgV/lGSPvYA+tdZ4x1jw1rvhIa5Y6hs1C1b/Qprf/AF6THpHt68ngg1zGn6Ba2134q8U6VqkmgW9vetDAYRmJlQYIKHrls8CsA6Prk+qR+LfEWn3GnyyKslndadAGSMj+KaLrk/pQM7v4cTTX3iS6uPGwaLxSEAjglGEjg7eV9e/vWzquPDfxPsNTHyWutx/Yrg9hMvMbH6jIrkJfFWn+J4YbfX54tO1W2ObHWrQ5j3ejd1z3VuK2bzVZvFXhe80LU1SDxHYqLq32n5Lhk+ZZIj3Bxj2zTA9NmlWGB5ZDtRFLMfQDk1x/wyjM+gXesyDEmr3st0Se6lsL+gFVda8UjUvg7Lqlo22e+tlgRe4lkIQj6gk11vh/Tk0jw7YafHwtvAkf5CkI0qKKKACiiigAqhq+iadr1qltq1rHdQpIJRHIMjcOhxV+igCKC2htYVit41jjUYCqMAfhUtFFABXkni7xjY+ILrUtDlvV0K506+SOyvpHVt8oDA5Q9F68+4r1uvJ/iz4H8NzQJrEuiwXWq3FysaGSbyUkbafvt6YFAGP8O/Dps/GOmTa140ttYltIpYtPs7VshMjLE/hXuFeD/D6y8K6f4t8LS6fZWsOqX1lM8qWsxYwuByD/ALJHT3Fe8UAFFFFAFXU9Rt9J0u5v72Ty7e2iaWRj2UDJrBi8YTQ6TcatrGlSafpsNsbnzmkDNtAyAVHQmtbxDo0PiHw7faTcMyR3kDQsy9VyOv4VgS+Htb1rwxeeH9ee0S3mszbrcW2d5bjDYPA6ZxQBNY+MpZ9StbHU9Lm06TUIHmtGdw3mbQCVOOjAEHFZXh/xndDwv4egEEuqatqNq0xUMFwin5nYnpyQKu2vhvXL7X9LvtfntQmkxSrCtsD+9kdQhds9OM8e9U7HwTq2iW+hXGl3FtJe6dZyWc0cwIjljZg2QRyCCBQBp+AtZutat9ZnvRKhi1aeFIpesSrtG38DmuV8XeIFOvXtzpEoMn2K0tldkOEZ7hlzg9cZzXZ+D9CvtDttS/tSeKe4vtQluy0QwoD44/DFYXiWwt77xheWtzGGil0uAMvT/ltIc/XIq4fETP4WZug6jcGbWLPUZ/OOmXIjFwy4Lo0Yk5A7jJFZWh+Ip/EOuajbw3ixRS2sc1osYBeMFmXJz3IAOO2a6G10OytAvlIxYTNMzMxJd2XaSx78cVJFpVnDfSXcMCRzyRCFnVQPlBJA/U126nDoclFqmtDS3nF9LLaz6t9nW6EILxW6gqz4HXLjGewrY0LXpp/B11qU+ZpbT7SuSu0y+UWAOO2QBWmukWqaXFp0KtFbwgBBGxUjHvVix0+2s7EWcESrAFK7DznPXPrnNA9DE8PahqRvoLfUrtbsXmmR36kIF8piwBUY6ryMfSof+Epe48e2un29zCtl/pEDofvySooOfYAnA9ea2LPwzptlG6QRuA6JHy5JVFOVUHsAe1W5dJspb+G8e2j8+HfscKARvGGqTQ5bStevtKtrg+K5LhbmO0NyY3VdhUNtOwj3Kjn1rC17WbjVvAWqG9nhmng1NFAhPCKQrBffGSM98V6BaaDYWk0kqRGR5E8stKxf5c5289s1zPxC0610/wAGXbWkKxGe8jlk2jGWyB/ICs6l+RnThbe2icPqOmWcWn3MUcO24s7S3uDNuJ8wybcgj0+fj6VV0MWL2t419ZJJHbQvK0u4hs9EUfViP1qrJrV69qlu0g2IqDO0ZYLyoJ7gVVa+nMc8W7CXDh5ABjJBJH8697CRk6ETwswcViZep0ceh2VzoLvCsYaOyS4Nx5nJk3AMhX0Gaj8S6PbadFKliIXFnOIJpFYl9xHG7PHOD0rE/tO5+w/ZFZViIAbauCwBzyafeazeX9v5NzIGUuHYhcF2AwCT3OKjExqKlLsVgZweIh6nsb67qltbTXdvdBLXSzZQm12A+cJFXcSeoPzDH0rpPFsl/b6U1zp1xdRvDuJS2iDl/TOe3FMsvDmm3tvY308JaXyYGYbiFcooKkjoSKu3Ph2yuofKkadU3u5CTMNxc5bPtXzsPhPfrfxGchq3jyeKPRY7a6t45JDaSXrnoyykDamfxOewFaupajqOn+MrGH7TM9neylCssQESjYSArDndkVuzeHtLuLW3t5bOIx25jMY2j5dhyv5YqOTw9YHUFv3WSSVHMiB5CVRiMZA6CqZiL4NOfAdkT3if/wBCauXsDYR/BMXOqW5uIbYTzCMEjcwlfA4966nwdx4Fsv8Ark//AKE1VvhzGkvw+sklVXUvNlWGQf3r1kaHNNp8Xhz4VzaKmptaarf2Ut3uyzEMQGbb3AA4rh9PupJbpRdA2/hlr62FwIZXeMHyXzluuC23PvivoVreF2DPEjMoIBKg4HpTBY2ogMItoREeSgjG0/hQB5a8l1L8Cla7aRv9IxC0mdxi+0fITn/ZxXrC9K5H4lIqeA7lUUKokhAAGMfvBXXL0oAWiiigAooooACMjmszTPDuk6M0zabYw27zyGSR0X5nYnJJNadFABRRRQBmar4d0nXCh1awhu9n3fNXOKLrw5pN7pKabc2UUlohBSIjhSOhHpWnRQBx/iPwZLfxaVFo0lvZw6fdrdbXQtvYU+LwrqE3iiLXtRvIWuLW3eG2ihQqg3dSx6mutooA4LSfBmu6Rpc9pBe2DvLcy3KyvCSY3fuPpViPwZqEOs6HeLfQuulwtGwdCTKX+8c9q7WigDlNI8L3+i+INTubS8jNlfzm5MLJyrbcYHt3pfDvhvU9I8RarqFzdW8qalKssiJGQUKrgYNdVRQAUYFFFABiiiigApsmBG27pjnNOoIyMHkUAcB4HvrNvGniyOKaMl7xGQL/ABAIMkVf8SeJvDlvo9rr17Isy207C0OCMy/dI/8Ar11UdnbROXit4kY9WVADRJZWssYjkt4nQHIVkBAP0oA858KyaSvh3XdaMsWoyC4kv5yqfu1k2Z2rkc4HGa6Dwzbzw+EYb/TraB7++AuJfM+UMW57eg4FdMlnbRwtFHBEkbfeRUAB/CpERY0CRqFUDAAGAKAOD0u48Sf8JlrZWxsfM2wbgZmwPk4qz4tFub/StNltIxca3cCK4kVc/Ii5Iz+QrrorKCG8muo4wJpwokb+9gYFPeCKSRJHjVnjOUYjJX6UAZN/Jpy2z6AZfIeazfZHGpysYG0kY9K81so7yfUfBtnpLwXcOm+bKXhyGaMJgbs/dycDFexGJDIHKKWAwGxzio4bO2t2ZoII42Y5JRAM0AeTQ31zbfFnRn1SydL+eCcTlpAdu4rtA9AAOldF4tufEO7SgbOy2DU4/LPmnJ+V8Zrt2tLd5hK0EbSDo5QE/nTbqxt73yvtMYfyZBKmezDOD+poAzGubpNDu5NejtbcKjY2OWXGO+feue+HOsWNl8LrK5uLhVjtYf3xAJ2fN3H413TxJLGUkRXU9VYZBqNLS3jjaOOCJUbqoQAH8KAPL/Gttear4vmfR9WGjTwaco8yY/u7xGyduPQcjPXmmyeI9I0Xw5pMstvDp2s32ni1jWUtsgiGfmPsDkgdTXqM1ja3BUz28UhT7u9AcUkthaTkGa2hkKjA3xg4H40Acf4TS4sPBOlW/hURXtokZXzrlihfn7wHoai+H82ttoNsklrafZjLJvYSHcBvbOBXdJEkUYjjRUReiqMAVFY2Fvp1sLe0jEcQJIUe5yaAOPsIbK9+IVxp0dpFHbaHbxPGojHMsmTu/AdPqad46bT9b8L3AF8ITp2oQlmKEqJUcYRh6EnrXZrBEkryrGokfG5gOWx0yaRraF0dHiQq5ywKjDfWgDxDxFb6vqmoeJ9UjVGskj0+OT7OSyv5cwaTB74U812MUs138Vp7vRBHcRxaHHG7Z+QyGVioJHfbXex2sEUPlRQokeMbFUAflSW9pBaqVt4Y4gTkhFAzQBwTT+Iv+FkKfsViJf7L+75rYx5pqr4xt9T1DxJpSQagmgalBZSS/bQd0b5bBi54PIB9eleifYLf+0hfeWPtAi8rf325zj86fcWlvdKFuYY5QDkB1BxQByXgPVIrbwhpNrfRLaXE0klvGqZKyspYlwfRsFufWuDhiv4r6PVrO6WWxl1vzJPD8hO+JzLt3qeuQSXI6V7YIIgEAjQBPu/KPl+npUYsbUXHni3i83u+wbvzoA8Y1OLUBqGo6vZ3StZnWQbjw/KTulZZAN69wxID46cV7ZHygPT2qI2NqbjzzbxGX++UGfzqegAqjJ/rG+pq9VGT/WN9TQBc3UbqjaQKpLHAFeNH4nax45+I0nhjwRNHY2VqGNzqLR72YA4+UHjrQB7Tuo3V5J43u/HvgvSVvNO1VdWtHlSOYy24EkALAbhjqO1emDUYLeximvriKAMo+aVwoJx70AX91G6q0d9bTQGaKeN4gMmRXBX86i/taw8tpPttvsT7zeauB9TmgC9uo3VBDdQ3EQlglSSNujIwIP4ivMvjB4w1Pw54ZOseGNZgWS3lWGW3CpJndnn1GMUAeqbqN1eNav4s8Z3/AMIPD+qeG54H1i8EclzkqpKkdQD2z1r1KxvZIdDt59Yliim8pTM+8BQ2OefrQBp7qN1eG698QPEej/GrR/D9tq8V5peoSRvxGvCNn5Qw69OtezXGo2lmiteXMMAboZZAufzoAubqN1UpdUsoNPe+luoVtY1LNMXGwAd81y3gH4jWfjv+0pbJVjhtrtoIcuN0qgA78fjQB226jdVM6nZLdC2a7gFwekRkG78utWd1AEOoala6VYTXuoTpb28Kl5JJDgKK5zwn8Q9M8V3NxbQRzWlzGd8cNymxpoj92RQeqn9Kh8Z6h4cnaDTtcSa9aGRbk2dujSE46F1Hbvg1lan4o8C3i6Zrnm/aJbNTPBJaITJFGOG3AdF7EGgD0fdRurO0bWrHXtJt9S0q4W4tLhd0ci9CKvbqAH7qN1M3UbqAH7qN1M3UbqAH7qN1M3UbqAH7qN1M3UbqAH7qN1M3UbqAH7qN1M3UbqAH7qo603/EkvP+uD/+gmre6qOtN/xJLz/rg/8A6CaAMf4aH/i2Xh3/ALB8X/oNdTurk/hq3/Fs/Dv/AGD4v/Qa6ndQA/dUVzMsNs8kjBFVSSxPAp26mTBXiZXAKkYII7UAfK3xj8TWuoxXdhdLFfOkm60vIWBIQn7rfT1rxzTJoYdSjkuwWhU5Zf73tX174u8CeG/FF/5d1p8W2HmSZBtb2Xiucl+Dfg6R4iNOK+WMYWQgN9fWvLxueYXAyUKj1NaeEqVI3PnXTNe1G11/7bpky2k7ZUSf88weDj8K+xvhPqVveeD7aGwaeeC3TYbqUY86QnLkevJ6153L8EfCclwZobaRGByI/MOwn0r1/wAJRWdnocFrp8KwRQrsESjGzHaqweb4XMG/ZPUJ4adFa7HQ7qN1M3Ubq9IyH7q4bXz/AMXg8K/9et5/6AK7bdXD683/ABeDwr/163n/AKAKAO73UbqZuo3UAP3UbqZuo3UAP3UbqZuo3UAP3UbqZuo3UAP3UbqZuo3UAP3UbqZuo3UAP3UyWdIYmkmdURRksxwBRurnvHjY8C6tj/n3amld2FJ2VzN+IElhrPhG5Wz1C2+22uLm1IlXIkQ5H59K8O8Nf8JT48iMS3NtpNgbt7q6lunGZZieoU9QvavZ9B8AeHbzQbKe409HkkgRmOTySKvn4beF0X5dMjH4mtuWmna5zKpVaukZPhD4U+F9OmOpTuNc1Etl7u4fzPm9h0FeiIqxrtjUKB0AHSuB+FkaW+m6lDEMJHfyKoz0ANd7u61nOKjKyNaU3ON2cx4y0jTdZhjL30Nhqlr+8tLneFeNv6qe4rwFNe8T2XiyHw3BbwNc2t5LdW0vmDyFZxjfnptHJxXruraRZa58W5bXUovOhSwVghPfPWtofDXwuTu/sxN3rk1fLBLVmbqVOZqKOZ8C/D/RtMdLvxFq1vrOqSSGU7pQUWQ9SF7n3NerKFVQqjAHavLPFHhbSdA1bw/NpVqIHkvwrEE8jFenxt8gqZxiknFlU6kpNxkjE8T+FdH8QW3mamghlhGY7uNtkkR9Q1eA+LrDxH4DYXOmXttrOmQ3K3cRiceZBIOrbR6jg4617744cr4I1Yj/AJ92rm/DXgDw7qHhqxubrT0kllgVnYk8nFOMYtXkxzqSUlGKOS+GkMfiXSdPuvEFxHbaZaMZorOWUA3E7MWaRx6AngV7XbXVreQn7NLHMg+U7GDD6Vyw+GvhdQMaagx7ms/4Xwpa2+swQ/LHHqMiKuegFNxg4txZKqVFJKSL/iT4Y+HfEIlkNsbO6kBBntjtLfUdDXj3ibwV4v8ABSo2napDqlraHzbZWkCXFsfVc9R6joa+kN1ebavo9jrvxaa11OETQrpyuFJ75qIRUnqaVJOKujyn4e+MLjxLrVn4c1KIWdvDqp1GUP8AKigLnb/32c4r6Tj1rTXdY0v7dmY4AEoyTXNj4ZeFFcuNKjDHqQTzXN+L/C2k6BeaHPpdqIJH1BFZgTyK0jCEna5lKpUiruJ6uGo3VDE37sU/dWB0J3Vx+6jdTN1G6gY/dRupm6jdQA/dRupm6jdQA/dXlPj/AOJPg1tbk8G+JrWa5gZkW4mC/u4WPTJ7EZ616kzfKa+fPE8Xjm41jxTp2h+FLa/028vJlNzNGN7ZAGQT6djQBq+ALjwHpvxRTSfAemvdS+VJ9p1FmLrGAPuqT6mvct1eBfCmy8X+HPEWm6VqHhmDR9LcSGWaFQWlcLxub9a963UAP3UbqZuo3UAP3UbqZuo3UAP3UbqZuo3UAP3VxOsBm8eXG0E/8S2Dp/11krs91czIR/wn11n/AKBsH/o2Sqi7MmSurFTa/wDcb8qXZJ/cb8q38r6UZHpXV7RHL7I5/bJ/cb8qfGr55VvyrcJHpSNgUe0Q1TsZGG/ut+VGG/ut+VauRRkUudFcplYb+6fyrkfiYrnwXLhWP7+Lt/tV6Hkf5FHlxTYSaNXUkZDLkVM5c0bI1o/u6ik+h8stG/8Acf8A75NN8uT/AJ5v/wB8mvqwabY5P+iQf9+xS/2ZYf8APpB/37FXTx2JpxUU1p5GlbDYGtN1JRd35nyl5cn/ADzf/vk0eW45KOB3ytfVv9mWH/PpB/37FY3i/T7OPwbq7x20KstnKQQg4O00VMfiZwcW1r5DoYTAU6sZRi7+pT03xnoEOl2sb6rbqyQoCC3QhRVv/hN/D3/QXtv++q+Ub+9miunCOQBjFVP7TuP+ehrCjh8RUgpRsdeIlgqdVxnKVz65/wCE48O/9Be2/wC+qa/jfw6VIGr23/fVfJB1K4/56H8qltNQne7jVnyCwBGK0lhcSld2MYzwEpJKUvuPrzwXKsngOyaNgymJ8Ef7zVF8Nz/xQNj/AL83/o16q/Dhv+Lb6f8A9cn/APQmqf4cNjwFY5/vzf8Ao1q5U7omrFQm4o63dRuqPeMUeYKZmcr8TD/xQ11/11i/9GCutVuK4/4ltnwNdf8AXSL/ANGCutVuKAJN1G6mbqN1AD91G6mbqN1AD91G6mbqN1AD91G6mbqN1AD91G6mbqN1AD91G6mbqN1AD91G6mbqN1AD91G6mbqN1AD91G6mbqN1AD91G6mbqN1AD91G6mbqN1AD91G6mbqN1AD91G6mbqN1AD91G6mbqN1AD91G6mbqN1AD91G6mbqN1AD91G6mbqN1AD91G6mbqN1AD91G6mbqN1AD91G6mbqN1AD91G6mbqN1AD91G6mbqN1AD91G6mbqN1AD91G6mbqN1AD91U3/ANY31NWd1Vn++31oAra2JH0G+WDPmtbyBMeu04r5w/ZodYvHGuxT/LOYBgN1OHOa+mic9a8s1v4RS23jIeKfA2prpOoMSZYXTdFLnrkds0AepziJ4WWcKUxyHxivF/iF9ktvi7pl3qupJf2vkeVFoUcZkkkYjsvQeuTXWL4X8U68yR+LtZgFihDNa6dGYxMR2Zic49hXP+J/hDqeo/EqHxXoOuLYSKqjbJFvKYXbx+FAHJfBO9ml+IHivRJUki01kkb7DK24R/ORj8uK5f4b6Da+IZ/GcOpPM8NnavJFGspChwWwffGK9T8KfCHWPCnjbUtctfEKTLeRuCJoMs7Nzlvx54qHwn8HNZ8Kya5Jb63aytq9u0T77Y/ISTyOfc0Aec+EPF+raL8APET2lzIJEv1t4XLZMSuOcenQ/nSa14T023/ZysPEGHbU7qZHmnLnLhi3BHfGK9J8M/BBtL8Jaz4c1bU47uy1IiRWji2vFKOjA5/SqMvwW8TXXglPCtz4oh/sy3mDwItvzjJPzHPbPAoA4/4hQpH+z54LvIxsuVRYvMUkNt2E4+matfEHU7vWfEPgPwnLcSx6fPb2rTqrEeYXIBz+Ax+Ndlrvwa1fWfA2leGJPEMJtdOYsrtbfMeMAcHoBVrxN8HrrXtM0G5TVY7fXdGRES6SIhJAhyuVzxigDgPE/h+w8N/tIeGLPSYzDbloWCbyQp+bpnpXV+MfskHxpWbVb1dZintfJg0KJC8gJUc+i9Cc+9T3vwd8Rav40sfE+p+KIzf2oRgUtRtUqegHpU2qfB7WJPihJ4s0bxELR5+ZC0O5lyAG29vp6UAcN8LJ31Pw38Q9Gv1kewggaaG2mbPlMBJx+G0flUvwSW20f4X+JfFEdsr6lp3nGGQ9R+7HH0zXb+Cfg5f+FtY1xptdFxYatE8UkflfO4YMASexG49KXwJ8HL3wst5YahrputHuGdjZxx7fMLLt+c+mO3rQB5f4R0zXfGnw91G40rTZbzXH1LzV1U3IV4iuDt55xzX054aOpf8ACMaf/bi7NRECC4Gc/PjnmvKvD/wd8ReEdTvIfDHis2ek3j5kjMO6RR7HpnHGa9Yt7N9N0NbSydpJIYdkbzNuLMBwWPfmgDJtdNg8JaRrGr3s32i4kea9ubhhgkAEqv0CgACvOvgt4Ss9a+F+q3OrQEJ4guJS+04Ii3YAB7c5NRQxfETxH4I1bwzrMMg1G9ldWu5gFhhh/uqR94sRj2BrZ8NDxBb/AA+svB9lotxp95Fb/Zri9lIEUI6M6kHLEgnHuaAPRPDeg2HhjQLXSdIj8u0t1xGC2epyTn6mtXNU9OtE07TbeziLFIIljUsckgDHJqzuoAfmjNM3UbqAH5ozTN1G6gB+aM0zdRuoAfmjNM3Um8UASZozUe8UF8CgCTNGa8rvfjnomi+PNQ8N6/E9n9lmEaXS/MrAqD8w7da9G07VbLVrNbrTrqK5gcZWSJwwNAF7NUdZP/ElvP8Arg//AKCat7qo6y3/ABJbz/rg/wD6CaAMj4bH/i2fh7/sHxf+g11Ga5T4bH/i2nh7/sHxf+g11G6gB+azNb1H7BpzuvLkYQepPSr5bArk9cm+16wkGf3cMZdh6k8D+tc+JrKjRlUfQ1pR55pHM3/jXw9o0DLd6tDlSTIVO4s3fpWEnxi8KEt5l08YBGMrnPvTLD4M+H/tMkssFzqA3swWWT5Eyc4FaCfDHwlCSp0OBWByQ68ivzzFU8vrN167nK/VLQ9NOstI2Qy1+K3hC6OE1UI2ejxkV1vh7xDYzaoklheRTw3I+cI2dr9jjtn+lcm/wr8L3hdotBQ7urRjGPpUvh7wLpnhJb19JE3mzbTiVydhU5AFVg/qOEmq9FzXqtPvCXtZ+7Kx7Cr7lyKdms3SbxbzT4plP31Bq/ur9GpzU4KS6nkyjyuw/NcPrx/4u94W/wCvW8/9AFdrurh9eP8Axd3wt/163f8A6AKsk7vNGaZuo3UAPzRmo9wo3igCTNGaj3iuL+I/xGh+HlnYXl1ZtcwXM/lPsbDIMZyKAO4zRmuU8J/EPw74ytlk0XUI3kI+a3c7ZF/Cun3UASZozTN1G6gB+aM0zdRuoAfmud8eN/xQuq/9e7Vv7q53x4f+KF1X/r3aqh8SIn8LLvhdv+KY07/r2T+Vart8p+leXaOPiF/Y1n9hn04W/kr5YZeduOM8VcI+JeObjTMf7v8A9at5UvevdHNCulG1mXfhkf8AQ9W/7CMv867rNeefClp/7K1D7UVM322TeV6bu9egbqitpM0w7vC5xCE/8Llnz/0Dl/nXdZryvxB/bbfFST/hHGgW5+wruM4yNuav7fiX/wA99M/75q3T5knczjVUZyVmXfiET9v8Of8AYRH8q7aM/IK8g1weLV1jQv8AhJZLNofty+X5Awc47165G3yipqR5YoqlJSqNmL44P/FE6t/17NT/AAaf+KR0z/r3T+VQ+Nz/AMUXqv8A17NXFaAvxAOgWX9nzaeLbyV8sOvO3HGaIR5obiqT5aidj1Zm+WuH+G7c67/2E5KolPiVj/X6b/3z/wDWp/wr+0i11f7btM/29/M2dN3fFPk5YvUTq804qzPRd1cLn/i8zf8AYMX/ANCrtt1eX+I/7aPxWP8AwjjwJc/2eu4zjI27qikrto1ru0Lnqe6uH+JB+fQP+wklUtnxKIz9o03/AL5/+tWD4jXxaL7Rf+EkktHg+3ps8gYO6tIUrS3RjUrJwasz2GJv3Yp+6oIm/dj6U/dXO9zrh8KJM0Zpm6jdSKH5ozTN1G6gB+aM0zdRuoAfmm4AzgCk3UbqAFwOPbpTs0zdRuoAfmuU1zxqNF8Zafoz2c0yXVtLO0kUZYqVZQBx9Tn8K6jdXJeIdO1FPGWka5YWgvI7a3nt5YhIEYbyhB5/3aALd3490ez1CS2lacpBIIp7lYiYYXOPlZux5H0pda8a6dpVxNakzSSww+bK8URdIAVJUue2ev0rlLrw/rsWh694dt9PSaPVbqaSK9aQbY0lbcSy9Sy849cCrsmk6zo+p66thp66hFq0UZileQKI3WERFXHdflzx60AamneNNnhHRtQ1C2u7q4vbSOZxaW+/BKgk+w5rUt/Fml3T6YIJmZdTR2tn24DFBllPo3Xj2NcTH4e1y10/w9a3NpNdWlppiQS21tdeVsnBHzE/xDAxUF1p9z4W+Edq195EGraVdPeWsfmbt7+czCMHqdyvt/GgD0iw1m11K6vYbRi5spvIlbHy78AkA98ZGa5LW9fisfEWoXtkYrt1srSFFSQEGR53VQSOnLVteDtJk0fw1bQXWDdybprpv70rncx/M4/CsXUNAsrzxJqNhEgtVlsLaQPCACrrO7K31BAprcTNPQ9am1GbUbS7iSO7064EMvlklW3IHVhn1B/SqNn4rdNYv7LUzaqlnbG5klhLYjAbG0g9T34qzpugNYSy3Bv5pLm5uTcXUmAPOPl7FUjsAAMAelVx4RhubmebWbqTUDLb/ZtroEGzeH529TlRz7VoQN0jxHqWs6Ve3CWkFnNa3rwslyxwsaqrZbHQ4bn0qxpHiGS78GR67qEKwhoJLkpHnmMZKnn1UZ/GobXwZYWWm6vZWsk0SarIzysGyVDAKQM+wI/GtmWygfTXsTGBbNCYfLHQJt24/KgDG0LxBe6heR2+pWsVu1xYpfQ+W5OEY4KtnuMj86S68ST2Him20ycW7RXLPgIW8yNVQtvOeCOMYHPNJpvhdrA7jqdxLLHbR2kEhABihRg233Jxyann8Pm81yC+vb2SaK2mM0EGxQFYqV5I5IAY8VQij4b8YSeJIWltRbqZbcz20DFg5GcAkngjpnHTNbHhfVptZ0iK8uYkimM0kbojZUFJGTj/AL5rM0jwimjtF9nvpilrbPbWakD9wjEH/gXQdfStHw3ozaFaG1+2SXSGZpVaRQCpZizdPcmkNFfT/Flzeaxao9tGljfXdxa28gY790QbJI6YOxv0qbxP4kutAmgkSO3lgldEWJiwkkJYA7T0HUdabb+EI7fUlnjvpvJhlnntoMDEMkoYMwPf7zYB6Zp+q+GpdYhS2u9Tma12IssexcuVxzu6jOOcVBRXTxdctq6r9mi+wPqLaasm47/NAPzEdNu4YrP1nWtUurLxFpd7BbeVb6U0rzQlvldw21Oe+ATWvH4SiTWRdm7lNst4b5bUgbRORgtnrjvj1qDXdLj03wl4klR2kkvIpp5Hfr/q8BR7ADAqW9C6fxo+dX8OQXfk77l0vL2KWWBAo24jB4J98GsvQtEi1OznuZ3n2xyRRhLdNzZcnkj0GKuT+JZLNREttG89ukkdvOSd0ayD5uOh6nHpms7TdcTT7ozw2aD92iBFkZRlR1ODznuK9fBuXsVY58xt9YZZl8PRW8GtxzTyfa9KfBQKNjDeFznr3qTTNGguNHk1GN51e22sxYLsYlgNo79+tVofEe2PU/tdnFcy6kT50jswP3g3GPcCl0/W0gtDZ21nHE9woiml3kllyDwOgPArepzcjuctG3tY+p9P/Dk4+HGn/wDXJ/8A0Jq5G/up7f4IWKWszQyT3vlbt+xcG4OQzfwqR1NdX8Omz8OdP/65P/6E1O8B20F78O7SC6iSaJml3I65B/et2r59bHr1/wCJI4/SPEp0/wCFWu20+ouNQgku0txFJ5hCjGPLY8sq56/WuXivtQisDpLXqnzr61JC3rG3KmJiwaXqCSMkeuK95TSNOiVEjsoFWNSqARj5QeoH1pg0LSltGthp9sIGbcY/KG0n1xTMTzv7ZLefAiB7mV5pUkWN3c53FZ8cHuMYwe4r1dTxXGfEOKK28BTw28axxo8IVVGAB5grr1bigCXNGaZuo3UAPzRmmbqN1AD80Zpm6jdQA/NGaZuo3UAPzRmmbqN1AD80Zpm6jdQA/NGaZuo3UAPzRmmbqN1AD80Zpm6jdQA/NGaZuo3UAPzRmmbqN1AD80Zpm6jdQA/NGaZuo3UAPzRmmbqN1AD80Zpm6jdQA/NGaZuo3UAPzRmmbqN1AD80Zpm6jdQA/NGaZuo3UAPzRmmbqN1AD80Zpm6jdQA/NGaZuo3UAPzRmmbqN1AD80Zpm6jdQA/NQN94/WpN1RnqaADNGaZurmHuNTm8cpLa6zZto8VqfOswQZN+fvZ7CgDqs0ZrndJ8Z6TrfiC90nTbhLiSyVTLIjgrk/wj1x3rXvrhbe0kZp44DtIV5GAAOOOtAFvdRmua8Jzaja+GUl8S6ra3swZmN1EQsezPHPTpWza6lZXpIs7uCcgZIikDYH4UAXM0bhWbrWs2mh6VcX17KkccMTSEMwBbaM4HrXn3hXUNU1q10nxPqPiiO0SaSSW4sWlURmJh+7QDPBHBz1oA9TzRmqsV9ayzNDHcxPKgBZFcFgD3Ipo1Oxa8+yC8tzcf88RKN/5daALmaM1Wub22s4zJdTxwIP4pHCj8zTP7SshbpObuAQv92TzRtb6HvQBczRuqkmp2Miu0d5bsEGWKyqdo9+eKwvDdxqMcuq3Gta1ZXlo9232RoWUCKPH3SfWgDqs0ZqidWsAISb23HnnEX71f3n+76/hU89zDawmW5lSKNeryMFA/E0AT8UcVVtr+1vUL2lzDOo4JikDD9Kdc3UFnbvPdSpDEgyzyMFUfUmgCxmjNYPhnxZp3iu0nutJk8yCKd4Q+R8+043AehPStBNX0+S7+ypfWzT5x5QlUtn6UAXs0bqrXF5b2kJlupo4Yx1eRwoH4mvONP1q91n473Npp2rTTaPpunrLPEku6JppOFAx2AOfrQB6hmjNUZ9VsLWZYbm9t4ZWGQkkqqx/A0i6zprtEFv7VjNjygJly+emOeaAL+aM1XF5btdtaiaMzqu8xbxuC+uOuKlzQBz3j3SNa13wnPY+GtQ/s+/d0KXG4jaA2T09RXkv/AAqz4r/9Dwf+/wA9e95pM0AeC/8ACrPiv/0PB/7/AD0H4WfFcA/8Vwf+/wA9e95pDgigD4U8a6PrFh46v9M1W4fUtTSULJMuWMrFQfqeMV6p8Ifht8QbW7i1KPUJtBsmwzJL8zSD/rn0/Ove7bwboNr4gu9bTT4m1G7YNJcONzcADjPTpW6MAcCgBY9yxKHbcwABbHU+tVNZP/ElvP8Arg//AKCatZqlrB/4kt5/1wf/ANBNAGR8Nz/xbXw//wBg+L/0GunzXK/Dg/8AFtvD/wD14Rf+g105NAGdq2tRaeojwZJpOEjTqa5eG4e5uLyeRdrvJtxnOAo/+vUupt/xU8pk6iAbM/Xn+lVdPINqWH8Ujn/x418PxBmclzYZLQ9fC0IqPP1KXxGvPFFn4AtpfAkbtdeaon8kAuqYOcD69adpus3snhjSj4iIGsC3Iu1Rc7T2zjvjGau3l7NYWUsltIyMRjg8VzgkYchjnufWs6WaUa+CVFQ1OihgpSqObehX8Wa547j8daND4NhM2jOsYcogKls/OHPbivRdZ8v7cNmN+z58fXiuS0jUZ7e+CRSMolGGx6jvW0WLEliSzHJJPWozDNaCwX1dR1JeDlSrXvoP0bWzpkDx3EZMEcpTeDnaM55HpzXYwzrNGHQggjIIrzpiqvfo/wB0gMfxH/1q6zwsznQrbzM58sda9LIMynXXsJLZHNjKMYrnRu5riddP/F3PC/8A163f/oArs81xOun/AIu34X/69bv/ANAFfWnlnc5ozTM0ZoA8S1n4bfE681u9ubHxkYLaWd3ii81xsUngflVH/hVnxW/6Hg/9/nr3omlzQB4J/wAKt+K3/Q8H/v8APXBfFbwd4z8PaLaTeK/EJ1SCSbbHH5jNtbHXmvrjNY+v+FtH8Ti1XW7RbpLWTzY0f7u7Hcd6APjnwL4E8XeJNSil8OW89uqNn7YSY0T33d/wr7B8GaXrWj6BHbeI9WOqXa9ZSmMD09/qa2La2gs4FhtYUijUYVUXAFS5oAfmjNMzRmgB+aM0zNGaAH5rnvHZ/wCKG1X/AK92rezXPeOm/wCKG1X/AK92qo/EiJ/Cy74YP/FM6d/17J/KtVz8h+lee6H8SfDlnoVnBPdSCSOFVYCJjggVePxT8MEEC6l5H/PFq0lTnzbGMKlNQ3GfDQ/6Hqn/AGEJf513Oa8/+FtzHc6ZqMsJykl9IynGOCa73NKqmpalULOGhxK/8lin/wCwcv8AOu5FeZaxr9h4f+K0t1qcjRxNYKgKqW5z7Vsf8LU8Lj/l7k/78tVShKSTSJhOEZSTYnxAx9u8O/8AYQH8q7OI/IK8s8SeM9H8Q6toMWmTvI8d8rMGjK4GK9QjPyClNNRVwhJSqNoxvGx/4ovVf+vZqf4OP/FI6Z/17J/KovGx/wCKL1X/AK92rmPDnxH8OWHh2xtri6kEsUKqwETHBAojFyhoE5KNRXZ6Ox+U1xHw5POuf9hKSnn4peGP+fuT/vy1U/hhdxXdvrE8B3Ryag7KcYyDQoSjF3QpzjKcUmeg5rhwf+LzP/2DF/8AQq7XNebazr1j4f8Aiw11qcjRxNp6oCFLc7valTTbaRpWaUdT0vPFcR8R2+bQf+wilP8A+Fp+F8f8fcv/AH5auc8V+M9G8Q3eiW+mTvJImoIxDRlePxq6dOalqjOrVg4WTPVYj8gp+ahiP7sU8GsHudEPhQ/NGaZmjNIofmjNMzRmgB+aM0zNGaAH5ozTM0ZoAfmjNMzRmgB+aM0zNGaAH5ozTM0ZoAfmq91Y2t60RuoI5jC++PeoO1vUVLmjNAD81zjN/wAV1df9g6D/ANGyV0GayNU8M6RrF0tzqNmk0yp5Yckg7c5xx7k00It7hjqKTePUVk/8IH4b/wCgcv8A303+NVj8PdDOrLMLNBbCAoYtzcvuBDdfTIquYVjoNw9RTWb6Vlf8IJ4c/wCgan/fR/xpf+EE8Of9A1P++j/jRzBY0tw9RSbhWb/wgfhz/oHJ/wB9N/jVO8+HmiTXNk9tapEkM++ZdzfvE2sNvX1IP4UcwuU3tw9RT43AkXkdfWsn/hBPDn/QNT/vo/40v/CCeHB/zDU/76P+NHMPlN/zB60eYPWsH/hBfDn/AEDk/wC+m/xqnqnw+0a506WKxtUt52A2ybm+XkH19KVx2Oq81P7w/Osbxc6t4N1jBB/0KX/0E1D/AMIL4d/6Byf99N/jQfAfhwgg6ahB6gsef1pPVFR0kmfKV/Z3El47RxMwPQ/hVUafdf8APFq+s/8AhXvhf/oD2/8A3zTJPh14ZaNgmk26tg4O3oa6KWLq0oKKSNq9LCV5ucm/wPk86fdf88WqW0sblbuItCwAYZNfU9p8OPDkdnClzpdvJMsah32/ebHJqcfDzwuP+YPb/wDfNXLHVZJrlRnDDYOElJSlp6EPw74+HOn/APXJ/wD0JqsfDph/wglkP9qb/wBGtW1Y6da6dYLZ2USwwICFRegz/wDrrnbbwKLGAQWWu6vBAGYrHHc4Vckk4/E1xLYdWSlNtHYbqNwrlP8AhD5/+hj1r/wKNJ/wh8//AEMmtf8AgUaZmHxJOfBN1/10i/8ARgrq1PFcfc+BFvYfJvtc1a4h3Bmjkucq2DkZ/KutBxQBJmjNMzRmgB+aM0zNGaAH5ozTM0ZoAfmjNMzRmgB+aM0zNGaAH5ozTM0ZoAfmjNMzRmgB+aM0zNGaAH5ozTM0ZoAfmjNMzRmgB+aM0zNGaAH5ozTM0ZoAfmjNMzRmgB+aM0zNGaAH5ozTM0ZoAfmjNMzRmgB+aM0zNGaAH5ozTM0ZoAfmjNMzRmgB+aM0zNGaAH5ozTM0ZoAfmjNMzRmgB+aM0zNGaAH5ozTM0ZoAfmkpuadQBBIyiMljgY5rx/4eLZT3njPxTJHELSeaSOKPsYowc8e5r1q4iFxbyQuSFkUqSDzyMVxekfC/TNI8N3+kRXl1It5G8Xmu/wA0asckKOg5NAGN8ENDsk8NvrjWsKXl/cSTKyqAyRlvlA9BgVpfGu7SL4dT2qor3N9NHbQZGSGZuo/Cui8J+FbTwlpCWNnJJNtUBpZTlmAGB9AB2qHxh4OtvGEFlHdXVxbGzuBcRvAwByKAOV8YeHJpfhJDofh+dDeadDDP9nDf61U6gj3IP5VqfDGXStbsJPE+mwfZri+jSG6gAwI3jGCKsy+A/J1SO+0jVrmwaO0FoI1VXUpkkk7hycnOa0vD+gad4J8OvbWe/wAmLfPK7fMzk8sx96AOW+OiwSeARA0Mcl1d3Mdtbswyyl25x+ArmfidoFlYeH/DXhvQbC3j1LULuJVKIAcIBuY+3r9K3NT1Gz+JHi3wzDpDm40+xZtRunKkBSOEQ+hzziuwvPCFnfeMbDxFcyytcWMDQwxZGxc9Wx60Aee+NrGH4d6XBN4ZhlfxHrrpYm53lmPQswB4zzWhoHge6Gu6Pf3UC6ZZ6QryqjyB7i7lZfmeRh29ua6/xj4Ls/GNhbw3U81tNaTCe2uIGw8TjuKm0jwwunz/AGq+v7rU7vy/KE10+dq9wFGAM0AeV6RqWv8AxB1zVtZh003MEMj2mmC4kAt7YdGkK9Waunn8DaJongXSbDXWl1b7FvEVtGcC5nkOeAPTt2AzWhpfwxg0ea8i03WtRt9Nu5TLJYRyAJk9QDjIB+tHirwHqGo3tnqPh/XJ9OutNQLZwYBhAxyGHU59aAM2Tw7pnw7+Gev6jLaw/aLiBpZYwMorEYSMZ7AkfXrXK6rZReGf2areykjWS/v2jAXOWE0p3ce4Fd3eeFdb8Y6Jqmm+L7pLe1uvJ8iK0OTEUALHJHILc4NXJvhxpdxHo8c09w6aZdfa8M+fPkwAGfPXpQB5nqvhQWMvgLRrx9+rT3Mc88ueLeGFQdi+i+vqea6r4jnPxC8JLqrvJoRMrvBGC/mTAErlByw6dq6fxB4CsfEHiey1q7urhGtYGgMMbYWRCckHvz3riNT0rTPG3ibVG8Q6q+hXmizm205Y5hC0cYAPm5P3t2f0oA1vhz4euH8Z+IPFN1YSWFtezbbC3k+VlQDBYr2zgcVvfFi+t9P+GOsz3MSS/uNkaOMgux2rx65OarfC2/1u88O3K67cNeLb3ckNpeOu1rmFej49+ee9bHjLwpb+MtDXTLq5mtkWeOcPCRnKHIHPagDy7U0k8HeCfC3hPw0qWmq6+0dtdXkYw6jALnP975iPar3xH0m10S38G6D4bh2ak2qRmF0/1mxfvsx6nOea7XU/h9p2oWmlrHNNb3WkzGe1ukbLhz94tn72e+au6d4TtrXW21q+nlv9TMYiW4nx+6T+6ijhR9OtAHEeHtRj8d+Mtb1zWpAdD8PXDW9lA5/d715eZh3OOmemawPCWuweF/h/4x8fwwqG1K+kNjGRjKBticem4k/hXbW/wl061l1SKHUr5dO1KZp5bASAR72HX1I9unAot/hFo0fga48NXFzdXMM0aoJpH+aMKxZQo6DBJPvmgDkPFVpB4c+DMras32zxJ4i2KZpDmRppCDhfRVBxxWj8R/CUGj/CzTtU0mJF1Dw39mmWVPvMsZAcE/r+Brd1D4TWeqWFkmpazqNxd2U0ckV27jeioOEUYwB39cgUatqmj6ho2oeBvD5N1f7GspICrYgDD5pXY9hknPUnigC1oMVn4g+IT+KLGPEcWmJavODxNJJiTH/AFwPq2O1d3msfw3oVp4Z8P2mk2CkQ20YQM33nPdj7k81qZoAkzRmo80ZoAkzRmo80ZoAkzRmo80ZoAkzVLWD/AMSa8/64P/6Cas5qnrB/4k15/wBcH/8AQTQBk/Dk/wDFt/D/AP14Rf8AoNdNmuW+HR/4txoH/XhF/wCg10uaAMnW9GW+CzxsY5owdrr1rlbWeOzstty4UpK0ZY+u4137fMpB9K4e8RLbXLi3fBSf94oPqODXy/EGBhVw7qpao9HBVXfkewy8Ed7YvHDIrFhwQwPNc4JGQlXUgjqCKr+IfCV1LO17ok0kbtzJCr4yfUVmRTTwxhNQsLgyrwWUsM181l2XqpG9Oat5n0+HppxvGXyOr0iFpLnziCFQccdTW01xFGQryIrE4ALDJNeeRWGv6xdf6I9xZ2uMZZzj689a62x0i10iyHnMZ5FO9ppTliRWGZYH2etSa9EY4mCTu5fI0bDThqur3CuzeShQMo/i4713NvAlvEEQYAGBiud8JQ/6E1yfvTMX/wAK6PNfbZJhIUMNGVveZ83jKrlPlvoiTNcVrp/4u14Y/wCva7/9BFdjmuL1w/8AF2fDH/Xtd/8AoIr3jhO4zRmo80ZoAkzRmo80ZoAkzRmo80ZoAkzRmo80ZoAkzRmo80ZoAkzRmo80ZoAkzXP+OT/xQ+qf9e7VuZrA8cH/AIojVP8Ar3aqj8SJn8LJPDen2b+HbBmtoiTbpklB6Vpvp1kFP+iw9P7gqj4abHhvT/8Ar3T+VajNlTVyk+bcypwjyLQ4z4ZhVsdUCjAGoSgD8a7nNcJ8Nj/omqf9hCX+ddvmir8QUPgOIeKKf4vTLNGsi/2evDDPeuvGm2P/AD6xf98CuQQ/8XgmP/UPX+ddtvpyk0lYUIxcndHEeOrS3g1Dw8YYUQm/GSqgZ4ruYz8grifH5zfeHf8Ar/H8q7OM/LSk24q4QSVR2Mfxqf8AijNV/wCvdqh8JWFo/hTTma3iLG3XJKDnineND/xRuqf9e7U/wi2PCem/9e6/yoTahoEknVVzTbTbLH/HrD/3wK5L4cqqf20FGANRkwBXZs3y1xfw8POtf9hGSnFtxdxTjFTjZHdZrhJoop/i+yzIrr/Zo4YZ/irtya4jP/F4W/7Bo/8AQqmnuy62sTsBp1lj/j2h/wC+BXHeP7S3gl0IwwohOopkqoFduG4ri/iEctof/YRSqpyfNuTVhHkeh20R+QU8GoIz8gp+aye5tH4USZozUeaM0iiTNGajzRmgCTNGajzRmgCTNGajzRmgCTNGajzRmgCTNGajzRmgCTNGajzRmgCTNGajzRmgCTNGajzRmgBLq6hsrSW5uXEcMSF3c9FA6mubvfG8Np4rtNC+xyNLe7Ht5zIBG6EEsc+oxwvU10jAOpVwGUjBB71w2vaBOl9JDcQzajouoSgsEP77T5iflkjPXZnnH8PUcUAd8GBozWJoOk3emJK+oarc6lPJhd82AFVeAAo4B9T3Na+aAHs6opZ2CqBkknAFZmsa9BpCW6+VJc3F1J5dvbwjLSHqfoAOSe1W7q3ivLWW2uUEkUyFHQ9GUjBFcFrtiY9dtbXX2mTTmlKadf2jmJrcuu0wOV/hYDAb8DQB6DDdQ3G7yZUcodrBWB2n0OOhqXIrjvCHhttJ1K9vhZx6bDNHHBFZxvu4QsfMc93OfyFdaWwMk0ASZrM1vXYNFt0Z45J55m2QW8S5eVsZwPwGSe1VNY8U6fpfh/8AtUXEcsMh2wFW+WVycKoI6ZPGa5LWLvXZtQ06PVUtdN1OKYyaddxsXt5mKlWgkzyCQSAe/bmgDsPDXieDxFZsTBJZXsJ23NlPxJC3v6g9j3rbzXlwsNYm+IljqMiJb6oTGs8dqWaFLQbt+9jwzMSAB2xXpoJ2jPWgCTNNeVUxuYAk4AJ6mqDazZfabq2SdZLm1QSSwry6qRkHHfOK8513xa9zOIfFGkxnSdgnm8hn8/T0JwkkhHAJz0HIoA7/AEjXDf6pqen3MQhnsZgAN2d8bDKv+PI/CtjNebw6RcaF400bVLHVrjUbO/Q2bRy/O3lkF1bf1IUjv616IGyKAJM0ZqPNIzYUnNAEuaMivP8AT/H8aWcMKC81e/ubu5jhhSNUbbG2DnnAUcDJ61zlx8QdevNPu/sUV3E8utpZIRGgkt0IXK4PGck4NAHsWaAar2xf7LF5hYvsG4v1Jx3x3qUGgCTNGajzRmgCTNGajzRmgCTNGajzRmgCTNGajzRmgCTNGajzRmgCTNGajzRmgCTNGajzRmgCTNGajzRmgCTNGajzRmgCTNGajzRmgCTNGajzRmgCTNGajzRmgCTNGajzRmgCTNGajzRmgCTNGajzRmgCTNGajzRmgCTNGajzRmgCTNGajzRmgCTNGajzRmgCTNGajzRmgCTNGajzRmgCTNGajzRmgCTNGajzRmgCTNGajzRmgCTNSj7oqtmrC/dH0oAqZozTM0ZoAfmjNMzRmgB+aDyCCMg0zNGaAI7aytrPd9lgjh3HJ2KBn8qnzTM0ZoAfmjNMzRmgB+aM0zNGaAH5ozTM0ZoAfmq0+nWdzL5k9rFI/wDeZATU2aM0AOVVRQqKFUcAAYxS5pmaM0APzRmmZozQA/NGaZmjNAD81ClrbxTyTRwxrLJ99woBb6mn5ozQA/NGaZmjNAD80ZpmaM0APzRmmZozQA/NGaZmjNAD81T1c/8AEmu/+uD/APoJqzmqern/AIk93/1wf/0E0AZPw7P/ABbnQP8Arwi/9Brpc1y3w8cD4c6D/wBeEX/oNdJ5ooAlJ4ridbWKDXv9MWTZcJ+7lj5aJl747g5rsfM9qx9d0z+0IUeF9k8Tbo29DRyQmuWa0YryjrHczE03URGHj8u5iblXQ7SR9DSNb3i/es5T9AD/AFq3b63e2kKx6hYO7LxvgIIP4Gpf+Essh962vFPvAa+cq8NYdzcqUnH0Z2xzCVveSM4W2oSHEdnIP94hRTbnT5rS2a61BQ4UblhT7pP+0T2rRPiqBx/o9jeSN7xbf51UnXUdfkVLuMWlmDkxK2Wf6mrw/DeHp1FOo3L1JqZhOStE1vDURi0eHJzuG4n68/1rYBqrbhIIVjUYCjAqXzB619BZLRbHKm2rslzXF64f+LseGf8Ar2u//QRXX+YPWuN1pt3xW8Mkdra7/wDQRQB2+aM0zNGaAH5ozTM0ZoAfmjNMzRmgB+aM0zNGaAH5ozTM0ZoAfmjNMzRmgB+awPHGW8E6oOn+jtW5msHxsf8Aii9U/wCvdqqPxImfws5nR/AJu9GtJ/7d1SMSQq2xJ8BeOgq6fh1hSf8AhINX/wDAiui8NH/imrD/AK90/lWm5+Q/StZVZKVjnhQg43OJ+F8P2bTNQi3s+y9ddzHJOO5ru81w/wAOD/oep/8AX/J/Ou1zU1XeVysOrQseca5o39t/FCS3+2XFptsVbfbvtY89M1f/AOFcn/oYdW/7/wBPU4+Lkv8A2Dx/Ou0Bq3UlFJIiNKM5Ns8t17wqdD1bQ5f7TvbvzL1V23Em4DjqK9UjPy1xXjw/6d4e/wCv8fyrsYj8lTOTlFNjpxUajSMjxof+KN1T/r3auR8P+Aze6DZ3P9u6pF5kKtsSbCr7Cur8Zn/ijtU/692p3hI/8Unpv/Xuv8qcZOMLodSCnUSZh/8ACuTjnxDq5/7eKZ8MLc2ltq0HmPJ5d+673OS2O5ruSa4v4ennWv8AsIyU+dyi7kypxhOLR3Ga821/R/7b+KJtvtlxaYsFbfbvtY89K9G3VxOf+Lvv/wBg0f8AoVRSbTujSurxsA+HPy/8jDq3/gRWB4k8Kf2Je6NN/at9db75F23Eu4D3r1QHiuL+IR+bQ/8AsIpWkKs3IyqUYKFztYj+7H0p+ahiPyCn5rne51R+FD80ZpmaM0ih+aM0zNGaAH5ozTM0ZoAfmjNMzRmgB+aM0zNGaAH5ozTM0ZoAfmjNMzRmgB+aM0zNGaAH5ozTM0ZoAfmjNMzRmgB+aM0zNGaAH5psiJKuJFDDOcEZpM0ZoAfmszXNbi0e1RmR555nEVvbxjLSuegHoO5J4AqbUb02Om3N0I2lMETybF6ttBOP0rg9A8T6jfXKand30FxpUNt517N5AWOGRgCscLDliM4bOfTrxQAiXF7qHhuDV5bAXOlXcTQ6lpCfMINrMpeH3BBJHftzXW6BpU1tpv2W/uP7QtY3V7N50zIseAVDk9WB6HrjrWP4W8M39pOZNVuFa2trq4ksbeHIG2R2be/q2GwB0FdlmgBQADwOfWiSVYly7BR6k4rH8ReJLLwxYLfap5iWvmBHlRNwjz0Ld8Z4/GuQ165s9Q1zTrzxXayR6FdWRWETHKQzs2QZNvQlMYPbmgBby1vde8Tanf2eojT9V0aUx28IRcPFsB/ed2RufYY9am0bRm8YWx1e4kurG11Io17pzKpWVowAMP12HA+oqHw14X0rXra5N7E99Z2ly0Wn3buweSHAJUtwWUNkDPUCvQYo0t4UihUJGihVVRgADoBQBIsUaIioiqEGFAH3fpT80wGo7i5itbeSe4cRxRqWd26KB1NAE+aRvmUis9Nc06S6gtkvIWmuIfPiQPy8f94e1Urrxn4esoIJrrV7WOO4z5TGT7+Dgke2e/SgDkrLwFrejTWmo6Tc2cl/bXF2THOG8uSKd92MjkEYFTaf4G1pYXfUrq0a5m1uPUpDEGChVxlRnvxXUN4hgh1aaKee0js4rNbkzmcZALYyR02+9Z2o/EHRotBv77Sb22v5rO3acwpJg7QQMnuByKAOuBwKM1yj/ELQBo11fRahbzNaQebLEj8jjoOOeeM0+Dx/4fbRbLUrrUoLaO8QMiu3IOOR07ZwT0oA6jNGagguYrq3Se3kWWKRQyOjZDA9wakzQA/NGaZmjNAD80ZpmaM0APzRmmZozQA/NGaZmjNAD80ZpmaM0APzRmmZozQA/NGaZmjNAD80ZpmaM0APzRmmZozQA/NGaZmjNAD80ZpmaM0APzRmmZozQA/NGaZmjNAD80ZpmaM0APzRmmZozQA/NGaZmjNAD80ZpmaM0APzRmmZozQA/NGaZmjNAD80ZpmaM0APzRmmZozQA/NGaZmjNAD80ZpmaM0APzVtP9Wv0qjmrsf+rX6CgDPzRmmbqN1AD80Zpm6jdQA/NGaZuo3UAPzRmmbqN1AD80Zpm6jdQA/NGaZuo3UAPzRmmbqN1AD80Zpm6jdQA/NGaZuo3UAPzRmmbqN1AD80Zpm6jdQA/NGaZuo3UAPzRmmbqN1AD80Zpm6jdQA/NGaZuo3UAPzRmmbqN1AD80yaNJ4XilGUdSrD1Bo3UbqAOPj+FXhOKNUjsZlRRgKLqQAD/vqnf8Kt8K/8+U//AIFy/wDxVdduo3UAcj/wq3wr/wA+U/8A4Fy//FUn/CrPCv8Az5T/APgXL/8AFV1+6jdQByB+FnhQ/wDLjN/4Fy//ABVJ/wAKq8Jj/lwm/wDAqX/4quw3Ubqd2Bx//CqvCf8Az4zf+Bcv/wAVS/8ACrPCg/5cZv8AwLl/+Krr91G6kByH/CrfCv8Az5z/APgXL/8AFUv/AAq3wr/z5T/+Bcv/AMVXXbqN1AHI/wDCrfCv/PlP/wCBcv8A8VVzSPAPh7Q9Vj1HTrN0uo1ZEked3wGGD94mui3UbqAH5ozTN1G6gB+aM0zdRuoAfmjNM3UbqAH5ozTN1G6gB+aM0zdRuoAfmjNM3UbqAH5rH8VWk+oeF7+1tE8yaWEqi5xk1q7qTNNOzuJq6scPpuseLNP063tB4XD+TGE3fa1GcCrR8R+KyCP+EUH/AIGL/hXXZozWjqJ9DFUpJW5jlvAWnahp2n3f9qW32aWe5aUJuDYB9xXWZpmaXdUSlzO5pCHIrHEa1b65Y+Om1bS9K+3RNaiL/XBMHNT/APCR+LP+hUH/AIGL/hXX5pMiq9orWaM/ZO7aZwGonxL4g1PSvtWgfY4bW5ErSfaFfj6V6ChIXmkz7UZpSldWsVCnyu7Zm+JrWa/8M39tapvmlhKoucZNctpWq+K9L0q2sh4XEnkRhN32tRnFd3mjPtTjNJWaCdNyldOxyH/CS+LP+hUH/gYKk8CafqFjb376pa/Zpbm6aYJuDYB9xXVZ9qXNHOrWSJ9nJtNsfmuG1q31uy8dnV9L0v7dEbQQn98E5zmu33UmamMuV3NJx5lY5EeJPFn/AEKg/wDAxay9WPibxDd6atzoH2SO2ulmZxcK3A9q9CzRmtFUSd0jOVKUlZyFj4QZp+aZuo3VibJWVh+aM0zdRuoGPzRmmbqN1AD80Zpm6jdQA/NGaZuo3UAPzRmmbqN1AD80Zpm6jdQA/NGaZuo3UAPzRmmbqN1AD80Zpm6jdQA/NGaZuo3UAPzRmmbqN1ADmcIpZiAAMkntWZd+ILG2tbadJPtAu5Fjt1gwxlLHgj26nPoKk1iyGp6Je2LFgLmB4iVbafmUjr2rzey0u/uGttI8R3X2XxHZsLjSbxAPJIVAuxBxxjh0PXOR7ADLq4W+8Z3Y1TUJdMudOu2nmuZbgoBbBv3ccKZwwZR8xwepHXFdToPhLRrmODVV0+4tI5XNylhLK3lRuTkP5X3Qx4OO2fWtfT7Q6jYW1zrumW8d+gwy8SBCDjKt6HGR9a1wcUAPzilzTN1G6gBl1awX1u0F3Ck0TdUdQQfwrnNO8LXum3aW0GqsdEjcyR2bxBmX/pnvP8HPTr2zium3UbqAFjVY0CIMKOgApc03dRuoAfmormJbi2khkXckilWB7ginbqN1AHiyeGfE9nbvfxafI+oaXINOsuR+8tjvBce2HX/vmr+o+FNR0LVl8iLUprNtMhtIzp6ROd6Z3KwccBic5H416zmjNAHjGpeFdUtNNXzLUrFBpdqrJcTriQpcbzCXOATjj0pdXjuPEPiXXUsdDms5JfDzRLBIqiSQmVcZAPHcDPWvXr6xtdSs5LS+gSeCUbXjkXIYVT0fw7pWgrINKsorcyY3so5bHTJPNAHI634au5dUsxYaf+6Ghz2zFVAAcqu1T+IrHudMvGsdEuV0bV7O5ttP+yma1WN2DAAFHibIKnGc161mjNAGR4Pivbfwlp8WqW8dtdLFiSKNQqryccDgcY6Vt5qPNLuoAfmjNM3UbqAH5ozTN1G6gB+aM0zdRuoAfmjNM3UbqAH5ozTN1G6gB+aM0zdRuoAfmjNM3UbqAH5ozTN1G6gB+aM0zdRuoAfmjNM3UbqAH5ozTN1G6gB+aM0zdRuoAfmjNM3UbqAH5ozTN1G6gB+aM0zdRuoAfmjNM3UbqAH5ozTN1G6gB+aM0zdRuoAfmjNM3UbqAH5ozTN1G6gB+aM0zdRuoAfmjNM3UbqAH5ozTN1G6gB+a0I/9Un+6KzN1aUX+pT/AHRQBk5ozTN1G6gB+aM0zdRuoAfmjNM3UbqAH5ozTN1G6gB+aM0zdRuoAfmjNM3UbqAH5ozTN1G6gB+aM0zdRuoAfmjNM3UbqAH5ozTN1G6gB+aM0zdRuoAfmjNM3UbqAH5ozTN1G6gB+aM0zdRuoAfmjNM3UbqAH5ozTN1G6gB+aM0zdRuoAfmjNM3UbqAH5ozTN1G6gB+aM0zdRuoAfmjNM3UbqAH5ozTN1G6gB+aM0zdRuoAfmjNM3UbqAH5ozTN1G6gB+aM0zdRuoAfmjNM3UbqAH5ozTN1G6gB+aM0zdRuoAfmjNM3UbqAH5ozTN1G6gB+aM0zdRuoAfmjNM3UbqAH5ozTN1G6gB+aM0zdRuoAfmjNM3UbqAH5ozTN1G6gB+aM0zdRuoAfmjNM3UbqAH5ozTN1G6gB+aM0zdRuoAfmjNM3UbqAH5ozTN1G6gB+aM0zdRuoAfmjNM3UbqAH5ozTN1G6gB+aM0zdRuoAfmjNM3UbqAH5ozTN1G6gB+aN1M3Vj+K9eHhrwpqOrlPM+yQGQIf4j0A/MigDb3j1qCe0trp4nuIY5WhkEkZZclGHQj0PNec+B7LVPFngyHX9W13UY9R1DdLE1vOY47cbiFCxj5SOO4Oa2LXxHL4W07RtG157jUtcu0k2iHDNMUJZmyxAHGOPwoA7XOKM1wUvxc0CLQrDVhHeyW17cNbLshBZJR1Vhnr9M1Pb/ABS0KSDWXvFu7BtGAN1FdRBXAbhcAE5ye3vQB224etAYHpXj1n4wvtS+MukLatq1rpt9p8lwbG6bCudjFWC5IwcA/Wr/AIY8e6bpXhfWdW1PVtSvootSaILdRDzEY4xEgB5/lQB6lvGcZozXj2i+MbtPi1q32+41O20qHTDdtZ3jZ8o4BJCgnt0xXWWPxK02/u4bWK1vEnurNr20WRV/0iMAnggnB46HFAHa7qM15r4V+KIvPBl54g8RwvawR3TpEUUEMN2FjXByW+tdboXim01y6u7SOOW2vLMr51vOBuUMMqeCQQRQBu5ozTN1G6gB+aM0zdRuoAfmjNM3UbqAH5ozTN1G6gB+aM0zdRuoAfmjNM3UbqAH5ozTN1G6gB+aM0zdRuoAfmjNM3UbqAH5ozTN1G6gB+aM0zdRuoAfmjNM3UbqAH5ozTN1G6gB+aM0zdRuoAfmjNM3UbqAH5ozTN1G6gB+aM0zdRuoAfmjNM3UbqAH5ozTN1G6gB+aM0zdRuoAfmjNM3UbqAH5ozTN1G6gB+aM0zdRuoAfmjNM3UbqAH5ozTN1G6gB+aM0zdRuoAfmjNM3UbqAH5ozTN1G6gB+a1of9RH/ALo/lWNurZg/494/90fyoAw91G6mbqN1AD91G6mbqN1AD91G6mbqN1AD91G6mbqN1AD91G6mbqN1AD91G6mbqN1AD91G6mbqN1AD91G6mbqN1AD91G6mbqN1AD91G6mbqN1AD91G6mbqN1AD91G6mbqN1AD91G6mbqN1AD91G6mbqN1AD91G6mbqN1AD91G6mbqN1AD91G6mbqN1AD91G6mbqN1AD91G6mbqN1AD91G6mbqN1AD91G6mbqN1AD91G6mbqN1AD91G6mbqN1AD91G6mbqN1AD91G6mbqN1AD91G6mbqN1AD91G6mbqN1AD91G6mbqN1AD91G6mbqN1AD91G6mbqN1AD91G6mbqN1AD91G6mbqN1AD91G6mbqN1AD91G6mbqN1AD91G6mbqN1AD91G6mbqN1AD91G6mbqN1AD91G6mbqN1AD91G6mbqN1AD91G6mbqN1AD91G6mbqN1AD91G6mbqN1AD91G6mbqN1AD91G6mbqN1AD91G6mbqN1AD91G6mbqN1AD91G6mbqN1AD91G6mbqN1AD91G6mbqN1AD91ZviHR4PEXh6+0m6JWK7haJmXqueh/A81f3UbqAPP/B1n4q8HeHU8Py6RFqItGZLW8iuljR0JyN4PzLgnsDUXi/Q/GGp6loJgS1vbSFXN/FHN9nV3PQbuW2Y7DrjnrXomaXNAHhMHw48Wx+D9M0ltOt/MstYa+LLdrhk44Ax7Vo618ONe1zUvGT+RFbR6uIpLRmnU5aJgQGA6ZwfpXsuaTIoA8qsPDniuT4gaFr17pNtDDp+ni0ljW8BYnYVLDj1OcVjJ8MfEk3g7UrOS3givP7YGpW6G4BWQcgoSOhr2/NJmgDyZ/DPjK48a6t4gg0+0s5LvSzawK10JCkm0YJGMHkfqKpeHfAviu08V6Jql/p8A8i1kt7qRr7exLbhv6ccNwo44r2fNGaAPFLf4a+KLj4aXXhu4is7eSC7N1bP527z23ZwccKMfrXf+CNJvLHzLnUdC07SZ3iSN/sz+ZJKR1LN0A9Bz9a6zNGaAH7qN1M3UbqAH7qN1M3UbqAH7qN1M3UbqAH7qN1M3UbqAH7qN1M3UbqAH7qN1M3UbqAH7qN1M3UbqAH7qN1M3UbqAH7qN1M3UbqAH7qN1M3UbqAH7qN1M3UbqAH7qN1M3UbqAH7qN1M3UbqAH7qN1M3UbqAH7qN1M3UbqAH7qN1M3UbqAH7qN1M3UbqAH7qN1M3UbqAH7qN1M3UbqAH7qN1M3UbqAH7qN1M3UbqAH7qN1M3UbqAH7qN1M3UbqAH7qN1M3UbqAH7qN1M3UbqAH7qN1M3UbqAH7qN1M3UbqAH7qN1M3UbqAH7q27f8A49ov9wfyrB3VvW//AB6xf7g/lQBz9FFFABRRRQAUUUUAFFFFABRRRQAUUUUAFFFFABRRRQAUUUUAFFFFABRRRQAUUUUAFFFFABRRRQAUUUUAFFFFABRRRQAUUUUAFFFFABRRRQAUUUUAFFFFABRRRQAUUUUAFFFFABRRRQAUUUUAFFFFABRRRQAUUUUAFFFFABRRRQAUUUUAFFFFABRRRQAUUUUAFFFFABRRRQAUUUUAFFFFABRRRQAUUUUAFFFFABRRRQAUUUUAFFFFABRRRQAUUUUAFFFFABRRRQAUUUUAFFFFABRRRQAUUUUAFFFFABRRRQAUUUUAFFFFABRRRQAUUUUAFFFFABRRRQAUUUUAFFFFABRRRQAUUUUAFFFFABRRRQAUUUUAFFFFABRRRQAUUUUAFFFFABRRRQAUUUUAFFFFABRRRQAUUUUAFFFFABRRRQAUUUUAFFFFABRRRQAV0Ft/x6xf7g/lRRQB/9k=)\n",
        "* Token Representation: BERTScore uses pre-trained BERT embeddings to represent tokens (words or subwords) in the text. These embeddings capture the semantic meaning of the tokens in their context 1.\n",
        "\n",
        "* Cosine Similarity: After obtaining the embeddings, BERTScore calculates the cosine similarity between the embeddings of the tokens in the generated text and the reference text. This gives a measure of how semantically similar the generated text is to the reference text 1.\n",
        "\n",
        "* Precision, Recall, and F1 Score: Each token in the reference sentence is matched to the most similar token in the generated sentence, and vice versa. This process is used to calculate the precision, recall, and F1 score, which are measures of the quality of the generated text 1.\n",
        "\n",
        "* Importance Weighting (Optional): This is an optional step in the BERTScore architecture. It assigns different weights to different tokens based on their importance. Tokens that are more likely to be important in the context of the text receive higher weights 1.\n",
        "\n",
        "* Baseline Rescaling: This is another optional step. It adjusts the BERTScore values to make them more human-readable. This is done by rescaling the scores with baseline scores 3."
      ],
      "metadata": {
        "id": "_yC4ssTpFA51"
      }
    },
    {
      "cell_type": "code",
      "source": [
        "# Install the package\n",
        "!pip install bert-score"
      ],
      "metadata": {
        "colab": {
          "base_uri": "https://localhost:8080/"
        },
        "id": "QBnYxnOHDvUy",
        "outputId": "545d38ef-6b4d-4b54-8200-8d08042449c1"
      },
      "execution_count": 2,
      "outputs": [
        {
          "output_type": "stream",
          "name": "stdout",
          "text": [
            "Requirement already satisfied: bert-score in /usr/local/lib/python3.11/dist-packages (0.3.13)\n",
            "Requirement already satisfied: torch>=1.0.0 in /usr/local/lib/python3.11/dist-packages (from bert-score) (2.6.0+cu124)\n",
            "Requirement already satisfied: pandas>=1.0.1 in /usr/local/lib/python3.11/dist-packages (from bert-score) (2.2.2)\n",
            "Requirement already satisfied: transformers>=3.0.0 in /usr/local/lib/python3.11/dist-packages (from bert-score) (4.50.2)\n",
            "Requirement already satisfied: numpy in /usr/local/lib/python3.11/dist-packages (from bert-score) (2.0.2)\n",
            "Requirement already satisfied: requests in /usr/local/lib/python3.11/dist-packages (from bert-score) (2.32.3)\n",
            "Requirement already satisfied: tqdm>=4.31.1 in /usr/local/lib/python3.11/dist-packages (from bert-score) (4.67.1)\n",
            "Requirement already satisfied: matplotlib in /usr/local/lib/python3.11/dist-packages (from bert-score) (3.10.0)\n",
            "Requirement already satisfied: packaging>=20.9 in /usr/local/lib/python3.11/dist-packages (from bert-score) (24.2)\n",
            "Requirement already satisfied: python-dateutil>=2.8.2 in /usr/local/lib/python3.11/dist-packages (from pandas>=1.0.1->bert-score) (2.8.2)\n",
            "Requirement already satisfied: pytz>=2020.1 in /usr/local/lib/python3.11/dist-packages (from pandas>=1.0.1->bert-score) (2025.2)\n",
            "Requirement already satisfied: tzdata>=2022.7 in /usr/local/lib/python3.11/dist-packages (from pandas>=1.0.1->bert-score) (2025.2)\n",
            "Requirement already satisfied: filelock in /usr/local/lib/python3.11/dist-packages (from torch>=1.0.0->bert-score) (3.18.0)\n",
            "Requirement already satisfied: typing-extensions>=4.10.0 in /usr/local/lib/python3.11/dist-packages (from torch>=1.0.0->bert-score) (4.13.0)\n",
            "Requirement already satisfied: networkx in /usr/local/lib/python3.11/dist-packages (from torch>=1.0.0->bert-score) (3.4.2)\n",
            "Requirement already satisfied: jinja2 in /usr/local/lib/python3.11/dist-packages (from torch>=1.0.0->bert-score) (3.1.6)\n",
            "Requirement already satisfied: fsspec in /usr/local/lib/python3.11/dist-packages (from torch>=1.0.0->bert-score) (2025.3.0)\n",
            "Requirement already satisfied: nvidia-cuda-nvrtc-cu12==12.4.127 in /usr/local/lib/python3.11/dist-packages (from torch>=1.0.0->bert-score) (12.4.127)\n",
            "Requirement already satisfied: nvidia-cuda-runtime-cu12==12.4.127 in /usr/local/lib/python3.11/dist-packages (from torch>=1.0.0->bert-score) (12.4.127)\n",
            "Requirement already satisfied: nvidia-cuda-cupti-cu12==12.4.127 in /usr/local/lib/python3.11/dist-packages (from torch>=1.0.0->bert-score) (12.4.127)\n",
            "Requirement already satisfied: nvidia-cudnn-cu12==9.1.0.70 in /usr/local/lib/python3.11/dist-packages (from torch>=1.0.0->bert-score) (9.1.0.70)\n",
            "Requirement already satisfied: nvidia-cublas-cu12==12.4.5.8 in /usr/local/lib/python3.11/dist-packages (from torch>=1.0.0->bert-score) (12.4.5.8)\n",
            "Requirement already satisfied: nvidia-cufft-cu12==11.2.1.3 in /usr/local/lib/python3.11/dist-packages (from torch>=1.0.0->bert-score) (11.2.1.3)\n",
            "Requirement already satisfied: nvidia-curand-cu12==10.3.5.147 in /usr/local/lib/python3.11/dist-packages (from torch>=1.0.0->bert-score) (10.3.5.147)\n",
            "Requirement already satisfied: nvidia-cusolver-cu12==11.6.1.9 in /usr/local/lib/python3.11/dist-packages (from torch>=1.0.0->bert-score) (11.6.1.9)\n",
            "Requirement already satisfied: nvidia-cusparse-cu12==12.3.1.170 in /usr/local/lib/python3.11/dist-packages (from torch>=1.0.0->bert-score) (12.3.1.170)\n",
            "Requirement already satisfied: nvidia-cusparselt-cu12==0.6.2 in /usr/local/lib/python3.11/dist-packages (from torch>=1.0.0->bert-score) (0.6.2)\n",
            "Requirement already satisfied: nvidia-nccl-cu12==2.21.5 in /usr/local/lib/python3.11/dist-packages (from torch>=1.0.0->bert-score) (2.21.5)\n",
            "Requirement already satisfied: nvidia-nvtx-cu12==12.4.127 in /usr/local/lib/python3.11/dist-packages (from torch>=1.0.0->bert-score) (12.4.127)\n",
            "Requirement already satisfied: nvidia-nvjitlink-cu12==12.4.127 in /usr/local/lib/python3.11/dist-packages (from torch>=1.0.0->bert-score) (12.4.127)\n",
            "Requirement already satisfied: triton==3.2.0 in /usr/local/lib/python3.11/dist-packages (from torch>=1.0.0->bert-score) (3.2.0)\n",
            "Requirement already satisfied: sympy==1.13.1 in /usr/local/lib/python3.11/dist-packages (from torch>=1.0.0->bert-score) (1.13.1)\n",
            "Requirement already satisfied: mpmath<1.4,>=1.1.0 in /usr/local/lib/python3.11/dist-packages (from sympy==1.13.1->torch>=1.0.0->bert-score) (1.3.0)\n",
            "Requirement already satisfied: huggingface-hub<1.0,>=0.26.0 in /usr/local/lib/python3.11/dist-packages (from transformers>=3.0.0->bert-score) (0.29.3)\n",
            "Requirement already satisfied: pyyaml>=5.1 in /usr/local/lib/python3.11/dist-packages (from transformers>=3.0.0->bert-score) (6.0.2)\n",
            "Requirement already satisfied: regex!=2019.12.17 in /usr/local/lib/python3.11/dist-packages (from transformers>=3.0.0->bert-score) (2024.11.6)\n",
            "Requirement already satisfied: tokenizers<0.22,>=0.21 in /usr/local/lib/python3.11/dist-packages (from transformers>=3.0.0->bert-score) (0.21.1)\n",
            "Requirement already satisfied: safetensors>=0.4.3 in /usr/local/lib/python3.11/dist-packages (from transformers>=3.0.0->bert-score) (0.5.3)\n",
            "Requirement already satisfied: contourpy>=1.0.1 in /usr/local/lib/python3.11/dist-packages (from matplotlib->bert-score) (1.3.1)\n",
            "Requirement already satisfied: cycler>=0.10 in /usr/local/lib/python3.11/dist-packages (from matplotlib->bert-score) (0.12.1)\n",
            "Requirement already satisfied: fonttools>=4.22.0 in /usr/local/lib/python3.11/dist-packages (from matplotlib->bert-score) (4.56.0)\n",
            "Requirement already satisfied: kiwisolver>=1.3.1 in /usr/local/lib/python3.11/dist-packages (from matplotlib->bert-score) (1.4.8)\n",
            "Requirement already satisfied: pillow>=8 in /usr/local/lib/python3.11/dist-packages (from matplotlib->bert-score) (11.1.0)\n",
            "Requirement already satisfied: pyparsing>=2.3.1 in /usr/local/lib/python3.11/dist-packages (from matplotlib->bert-score) (3.2.3)\n",
            "Requirement already satisfied: charset-normalizer<4,>=2 in /usr/local/lib/python3.11/dist-packages (from requests->bert-score) (3.4.1)\n",
            "Requirement already satisfied: idna<4,>=2.5 in /usr/local/lib/python3.11/dist-packages (from requests->bert-score) (3.10)\n",
            "Requirement already satisfied: urllib3<3,>=1.21.1 in /usr/local/lib/python3.11/dist-packages (from requests->bert-score) (2.3.0)\n",
            "Requirement already satisfied: certifi>=2017.4.17 in /usr/local/lib/python3.11/dist-packages (from requests->bert-score) (2025.1.31)\n",
            "Requirement already satisfied: six>=1.5 in /usr/local/lib/python3.11/dist-packages (from python-dateutil>=2.8.2->pandas>=1.0.1->bert-score) (1.17.0)\n",
            "Requirement already satisfied: MarkupSafe>=2.0 in /usr/local/lib/python3.11/dist-packages (from jinja2->torch>=1.0.0->bert-score) (3.0.2)\n"
          ]
        }
      ]
    },
    {
      "cell_type": "code",
      "execution_count": 3,
      "metadata": {
        "colab": {
          "base_uri": "https://localhost:8080/",
          "height": 365,
          "referenced_widgets": [
            "cb6951bb19b2454c887bb0cda26bedd3",
            "5c300baf5e1744dcae342c67e8843545",
            "ec64483c11e34cb3a94cb04d3d4f10ea",
            "755dd74cdbe24638b0bc1ba4c90ccdc5",
            "41ba728952b849a38bb0d06141a1531b",
            "1963db3841c5408e9cb59edcab52dd59",
            "7a2fcf29338743be9567743728a81465",
            "19a24ced52f3481cb6b1a308d64d293c",
            "9f01cf755e7046198ac078cdcb871ccd",
            "9ae2a69a5ec840fdbbd6748e37b10d6f",
            "42d071d7a34e49429de4357d446ad286",
            "109c68349b7e41bcaee25aba29c8e828",
            "d78f2c25fc4446a6a4d3ed5d555d9c18",
            "7334895cde1648dc82cb5d3ccbbe53eb",
            "a39e01ee3dab4b31885c76e13d65c544",
            "5b9794388dff432983c2048510f9d27d",
            "ecf3662a1e774d3cad107450ddb11d0f",
            "7bc268d398c04250b7ed089bbb4fa991",
            "76541873809844ea86eb1bc01f175c96",
            "eba42b15021e4fd1bf410f7ceaadb101",
            "81c7bcdb23454365ba0b303701f09814",
            "f828a21750474e1284f7f34dd9d0f033",
            "7fab977d1d4f45d39140f3786e4eb671",
            "5926fe048438435a9642fd6e2e445138",
            "a782d857f01b47709dfe17a11d9500ca",
            "ad44dcca0e35442f9cb03818709a196a",
            "1becd47ba4b24ae198b200fa725f4782",
            "2c6948433ba44e29b147706405f7152c",
            "0274b24542a643c7b2a3283e7e167f7c",
            "66fa4d7835a543fd8127fcc423d6caca",
            "7ee145ea8559485ea331f1ff1b87a6a4",
            "edac412724984d929518c8cae40624e0",
            "6e03c91d524f45a9a457415a227e77ae",
            "e3c6c3f55447453d875e2e07fbe7a822",
            "6662db764384427896af6c2c4f85cba7",
            "30a8068bc5bb48c8a543b8f12a41bac0",
            "80ebee2d17614eac84f8f65388a8ec9a",
            "2ae0cbab52884750b681d73a79541e7b",
            "0aa43587e2614aefbcfb6b1a809f69fa",
            "ab0162999f5643e3a5e90b3396036db2",
            "2faf88a4d72a43c7a30b972070b22cb6",
            "a3fe48f754204ec5baa6f8f071b4f13d",
            "87f110053cb147af9c526dd538906bd8",
            "e1d3fa7c041a4bbeae2f4ebf5b39ccce",
            "3a9dfedd5fb34397abe35225ce8cb334",
            "b93ced28d9a946c0b031ba6241a88f87",
            "56391a1b864d40f2935c2dc6d8fb237b",
            "40028e8f2f2e4753816611305ebd22cb",
            "e045e3235de34885aa142086567ec705",
            "1571d478d5644dad823068de6e2da600",
            "dcccb473965b4ee7967bc03ff924f79c",
            "b54ecd0087464021990defddcde00548",
            "e6eec2e9de324d8bad6edea6e6761679",
            "7ce43e90244b4ebebf4552c51b133eee",
            "3ca93829ae1947eca65a001fed2e2632",
            "13437afecc824b11a866c0aa5d67dd16",
            "85e55efddc85434ea9a8189ca72f546f",
            "76589be7eeb8438cacba71269c093b91",
            "78a7f880caed46dc9353856aa037b3f8",
            "1b796097e0184b639d0bc1caa17250b1",
            "db0b3a648a1f4862a56051e70192ffb7",
            "341a04e900684e57b9f1c530c0b7cc8b",
            "f767ac7053954266920ddaa596f9c79e",
            "97f07b34237d4784aac534533a29fc76",
            "ccd20cc109fd42c2b069e1dbda380b30",
            "270d47a3e76a44f8ba4bd9c0a0a6fbf1"
          ]
        },
        "id": "hCxVt8_dDr8V",
        "outputId": "79e585d6-db33-406c-b1b5-87b2b9f95bfd"
      },
      "outputs": [
        {
          "output_type": "stream",
          "name": "stderr",
          "text": [
            "/usr/local/lib/python3.11/dist-packages/huggingface_hub/utils/_auth.py:94: UserWarning: \n",
            "The secret `HF_TOKEN` does not exist in your Colab secrets.\n",
            "To authenticate with the Hugging Face Hub, create a token in your settings tab (https://huggingface.co/settings/tokens), set it as secret in your Google Colab and restart your session.\n",
            "You will be able to reuse this secret in all of your notebooks.\n",
            "Please note that authentication is recommended but still optional to access public models or datasets.\n",
            "  warnings.warn(\n"
          ]
        },
        {
          "output_type": "display_data",
          "data": {
            "text/plain": [
              "tokenizer_config.json:   0%|          | 0.00/25.0 [00:00<?, ?B/s]"
            ],
            "application/vnd.jupyter.widget-view+json": {
              "version_major": 2,
              "version_minor": 0,
              "model_id": "cb6951bb19b2454c887bb0cda26bedd3"
            }
          },
          "metadata": {}
        },
        {
          "output_type": "display_data",
          "data": {
            "text/plain": [
              "config.json:   0%|          | 0.00/482 [00:00<?, ?B/s]"
            ],
            "application/vnd.jupyter.widget-view+json": {
              "version_major": 2,
              "version_minor": 0,
              "model_id": "109c68349b7e41bcaee25aba29c8e828"
            }
          },
          "metadata": {}
        },
        {
          "output_type": "display_data",
          "data": {
            "text/plain": [
              "vocab.json:   0%|          | 0.00/899k [00:00<?, ?B/s]"
            ],
            "application/vnd.jupyter.widget-view+json": {
              "version_major": 2,
              "version_minor": 0,
              "model_id": "7fab977d1d4f45d39140f3786e4eb671"
            }
          },
          "metadata": {}
        },
        {
          "output_type": "display_data",
          "data": {
            "text/plain": [
              "merges.txt:   0%|          | 0.00/456k [00:00<?, ?B/s]"
            ],
            "application/vnd.jupyter.widget-view+json": {
              "version_major": 2,
              "version_minor": 0,
              "model_id": "e3c6c3f55447453d875e2e07fbe7a822"
            }
          },
          "metadata": {}
        },
        {
          "output_type": "display_data",
          "data": {
            "text/plain": [
              "tokenizer.json:   0%|          | 0.00/1.36M [00:00<?, ?B/s]"
            ],
            "application/vnd.jupyter.widget-view+json": {
              "version_major": 2,
              "version_minor": 0,
              "model_id": "3a9dfedd5fb34397abe35225ce8cb334"
            }
          },
          "metadata": {}
        },
        {
          "output_type": "display_data",
          "data": {
            "text/plain": [
              "model.safetensors:   0%|          | 0.00/1.42G [00:00<?, ?B/s]"
            ],
            "application/vnd.jupyter.widget-view+json": {
              "version_major": 2,
              "version_minor": 0,
              "model_id": "13437afecc824b11a866c0aa5d67dd16"
            }
          },
          "metadata": {}
        },
        {
          "output_type": "stream",
          "name": "stderr",
          "text": [
            "Some weights of RobertaModel were not initialized from the model checkpoint at roberta-large and are newly initialized: ['pooler.dense.bias', 'pooler.dense.weight']\n",
            "You should probably TRAIN this model on a down-stream task to be able to use it for predictions and inference.\n"
          ]
        },
        {
          "output_type": "stream",
          "name": "stdout",
          "text": [
            "Precision: 1.00, Recall: 1.00, F1: 1.00\n"
          ]
        }
      ],
      "source": [
        "\n",
        "# Import the necessary libraries\n",
        "from bert_score import BERTScorer\n",
        "\n",
        "# Initialize the BERTScorer object\n",
        "scorer = BERTScorer(lang='en')\n",
        "\n",
        "# Define the reference and candidate sentences\n",
        "reference = [\"This is a test sentence\"]\n",
        "candidate = [\"This is a test sentence\"]\n",
        "\n",
        "# Compute the BERTScore\n",
        "P, R, F1 = scorer.score(candidate, reference)\n",
        "\n",
        "# Print the scores\n",
        "print(\"Precision: {:.2f}, Recall: {:.2f}, F1: {:.2f}\".format(P.item(), R.item(), F1.item()))\n"
      ]
    },
    {
      "cell_type": "code",
      "source": [
        "# Define the reference and candidate sentences\n",
        "reference = [\"The cat sat on the mat.\"]\n",
        "candidate = [\"A cat is sitting on a mat.\"]\n",
        "\n",
        "# Compute the BERTScore\n",
        "P, R, F1 = scorer.score(candidate, reference)\n",
        "\n",
        "# Print the scores\n",
        "print(\"Precision: {:.2f}, Recall: {:.2f}, F1: {:.2f}\".format(P.item(), R.item(), F1.item()))"
      ],
      "metadata": {
        "colab": {
          "base_uri": "https://localhost:8080/"
        },
        "id": "Y69Aw5VuDxMo",
        "outputId": "e20e568c-b40a-45cd-a946-5179594719c8"
      },
      "execution_count": 4,
      "outputs": [
        {
          "output_type": "stream",
          "name": "stdout",
          "text": [
            "Precision: 0.95, Recall: 0.96, F1: 0.96\n"
          ]
        }
      ]
    },
    {
      "cell_type": "code",
      "metadata": {
        "id": "Ogy116CAO0Ci"
      },
      "source": [
        "# install pytorch and huggingface transformers if you havn't done so\n",
        "# !pip install torch==1.5.1\n",
        "# !pip install transformers==3.0.1"
      ],
      "execution_count": null,
      "outputs": []
    },
    {
      "cell_type": "code",
      "metadata": {
        "id": "6cOBG7xyMjy_"
      },
      "source": [
        "# if you have not installed bert_score, it is very easy\n",
        "# simply uncomment the line below to install through pip\n",
        "# !pip install bert_score==0.3.4"
      ],
      "execution_count": null,
      "outputs": []
    },
    {
      "cell_type": "markdown",
      "metadata": {
        "id": "bbove65oMjzC"
      },
      "source": [
        "We will first demonstrate how to use the `score` function in `bert_score`, which is what you need to evaluate a set of machine generated outputs."
      ]
    },
    {
      "cell_type": "code",
      "metadata": {
        "id": "b4z2xhj6MjzD"
      },
      "source": [
        "from bert_score import score"
      ],
      "execution_count": 5,
      "outputs": []
    },
    {
      "cell_type": "code",
      "metadata": {
        "id": "qYzDaQ7yNwht",
        "colab": {
          "base_uri": "https://localhost:8080/"
        },
        "outputId": "684b6473-043a-4534-aa2c-501f3cfc9e7b"
      },
      "source": [
        "# cloning the repo because we need to get some example data\n",
        "!git clone https://github.com/Tiiiger/bert_score.git"
      ],
      "execution_count": 6,
      "outputs": [
        {
          "output_type": "stream",
          "name": "stdout",
          "text": [
            "Cloning into 'bert_score'...\n",
            "remote: Enumerating objects: 997, done.\u001b[K\n",
            "remote: Counting objects: 100% (385/385), done.\u001b[K\n",
            "remote: Compressing objects: 100% (138/138), done.\u001b[K\n",
            "remote: Total 997 (delta 276), reused 247 (delta 247), pack-reused 612 (from 1)\u001b[K\n",
            "Receiving objects: 100% (997/997), 1.33 MiB | 18.63 MiB/s, done.\n",
            "Resolving deltas: 100% (555/555), done.\n"
          ]
        }
      ]
    },
    {
      "cell_type": "markdown",
      "metadata": {
        "id": "ARj1U5OsMjzI"
      },
      "source": [
        "Inputs to `score` are a list of candidate sentences and a list of reference sentences."
      ]
    },
    {
      "cell_type": "code",
      "metadata": {
        "id": "SH1lJxsIMjzJ"
      },
      "source": [
        "with open(\"bert_score/example/hyps.txt\") as f:\n",
        "    cands = [line.strip() for line in f]\n",
        "\n",
        "with open(\"bert_score/example/refs.txt\") as f:\n",
        "    refs = [line.strip() for line in f]"
      ],
      "execution_count": 7,
      "outputs": []
    },
    {
      "cell_type": "markdown",
      "metadata": {
        "id": "Ok21-9ZsMjzL"
      },
      "source": [
        "Let's have a look."
      ]
    },
    {
      "cell_type": "code",
      "metadata": {
        "id": "YYuDw0xgMjzM",
        "colab": {
          "base_uri": "https://localhost:8080/",
          "height": 35
        },
        "outputId": "c0ffe34b-1148-4e49-d183-504bd8cf58ca"
      },
      "source": [
        "cands[0]"
      ],
      "execution_count": 8,
      "outputs": [
        {
          "output_type": "execute_result",
          "data": {
            "text/plain": [
              "'28-year-old chef found dead in San Francisco mall'"
            ],
            "application/vnd.google.colaboratory.intrinsic+json": {
              "type": "string"
            }
          },
          "metadata": {},
          "execution_count": 8
        }
      ]
    },
    {
      "cell_type": "markdown",
      "metadata": {
        "id": "zD6bhswDMjzP"
      },
      "source": [
        "We are now ready to call the score function. Besides candidates and references, we need to speicify the bert model we are using. Since we are dealing with English sentences, we will use the default English model, which is *roberta-large* model."
      ]
    },
    {
      "cell_type": "code",
      "metadata": {
        "id": "Bu2lZchuMjzP",
        "colab": {
          "base_uri": "https://localhost:8080/",
          "height": 185,
          "referenced_widgets": [
            "98436999d9454f3fb825e08bd9dfda39",
            "22b40be4354441adb77be3decec14133",
            "b07a3ec0acc9481cbbc2a979b2063fe0",
            "e5958d01f7c5459a9b014dfeecd755b6",
            "1c00148f9640498eaa399d518645e4dd",
            "2af9e5e39d7d42c682f9b66bde4d7272",
            "882937a905b74d25b5dca6612655fe5b",
            "b3970ebe0bf642e38405e423b20fc655",
            "b43712b31ebc4eeeb4f46b98a3ddff79",
            "3bea45cb6c94490baee29c59c9408e14",
            "b2259d2684c24d8cb922a8f9f6280f03",
            "3bff03acc7a5443f8bc39a743245f1a7",
            "d2186b1c36cc4f6f85d7585cea299fae",
            "8be7091f1cd5405da1979bfec90c95ae",
            "9e8b5a61ddb2428aa01853dfbb9e1336",
            "88e956617cd14235b61f3daad255506c",
            "d89a48f3325b4b33b1cf02c549d4d897",
            "312891dfb29d4b1aa45e49ee7ae48f5f",
            "57d99349d5b8472dad3728324a0e9792",
            "43b50b5907a84793a17a3dd5a3665ef7",
            "cdf81be08c134653ae89dd75f800bc93",
            "0ae591e1623e4166893c5ab134f5578b"
          ]
        },
        "outputId": "a56fcd58-b552-4cca-f447-9a6a673fe4d5"
      },
      "source": [
        "# When you are running this cell for the first time,\n",
        "# it will download the BERT model which will take relatively longer.\n",
        "P, R, F1 = score(cands, refs, lang=\"en\", verbose=True)"
      ],
      "execution_count": 9,
      "outputs": [
        {
          "output_type": "stream",
          "name": "stderr",
          "text": [
            "Some weights of RobertaModel were not initialized from the model checkpoint at roberta-large and are newly initialized: ['pooler.dense.bias', 'pooler.dense.weight']\n",
            "You should probably TRAIN this model on a down-stream task to be able to use it for predictions and inference.\n"
          ]
        },
        {
          "output_type": "stream",
          "name": "stdout",
          "text": [
            "calculating scores...\n",
            "computing bert embedding.\n"
          ]
        },
        {
          "output_type": "display_data",
          "data": {
            "text/plain": [
              "  0%|          | 0/1 [00:00<?, ?it/s]"
            ],
            "application/vnd.jupyter.widget-view+json": {
              "version_major": 2,
              "version_minor": 0,
              "model_id": "98436999d9454f3fb825e08bd9dfda39"
            }
          },
          "metadata": {}
        },
        {
          "output_type": "stream",
          "name": "stdout",
          "text": [
            "computing greedy matching.\n"
          ]
        },
        {
          "output_type": "display_data",
          "data": {
            "text/plain": [
              "  0%|          | 0/1 [00:00<?, ?it/s]"
            ],
            "application/vnd.jupyter.widget-view+json": {
              "version_major": 2,
              "version_minor": 0,
              "model_id": "3bff03acc7a5443f8bc39a743245f1a7"
            }
          },
          "metadata": {}
        },
        {
          "output_type": "stream",
          "name": "stdout",
          "text": [
            "done in 0.26 seconds, 38.53 sentences/sec\n"
          ]
        }
      ]
    },
    {
      "cell_type": "markdown",
      "metadata": {
        "id": "FOOL6bZZMjzS"
      },
      "source": [
        "The outputs of the `score` function are Tensors of precision, recall, and F1 respectively. Each Tensor has the same number of items with the candidate and reference lists. Each item in the list is a scalar, representing the score for the corresponding candidates and references."
      ]
    },
    {
      "cell_type": "code",
      "metadata": {
        "id": "JD7oLwhxMjzS",
        "colab": {
          "base_uri": "https://localhost:8080/"
        },
        "outputId": "25855e97-8369-47f1-cc27-0b4951bf1a27"
      },
      "source": [
        "F1"
      ],
      "execution_count": 10,
      "outputs": [
        {
          "output_type": "execute_result",
          "data": {
            "text/plain": [
              "tensor([0.9834, 0.9782, 0.9162, 0.9589, 0.9675, 0.9680, 0.9602, 0.9663, 0.9438,\n",
              "        0.9508])"
            ]
          },
          "metadata": {},
          "execution_count": 10
        }
      ]
    },
    {
      "cell_type": "markdown",
      "metadata": {
        "id": "eLOsaOqJMjzV"
      },
      "source": [
        "We can take the average of all candidate reference pairs to be the system level score."
      ]
    },
    {
      "cell_type": "code",
      "metadata": {
        "id": "QgypERvCMjzV",
        "colab": {
          "base_uri": "https://localhost:8080/"
        },
        "outputId": "547e36e7-7fec-43c6-e60e-9a2a7904b35c"
      },
      "source": [
        "print(f\"System level F1 score: {F1.mean():.3f}\")"
      ],
      "execution_count": 11,
      "outputs": [
        {
          "output_type": "stream",
          "name": "stdout",
          "text": [
            "System level F1 score: 0.959\n"
          ]
        }
      ]
    },
    {
      "cell_type": "markdown",
      "metadata": {
        "id": "-OlCxA6gMjzZ"
      },
      "source": [
        "It might also be very interestig to see the distribution of BERTScore."
      ]
    },
    {
      "cell_type": "code",
      "metadata": {
        "id": "dM3HgtKnMjza"
      },
      "source": [
        "import matplotlib.pyplot as plt"
      ],
      "execution_count": 12,
      "outputs": []
    },
    {
      "cell_type": "code",
      "metadata": {
        "id": "IHZU27CsMjzb",
        "colab": {
          "base_uri": "https://localhost:8080/",
          "height": 430
        },
        "outputId": "69013933-1085-457b-d80d-c452bebf6f7a"
      },
      "source": [
        "plt.hist(F1, bins=20)\n",
        "plt.show()"
      ],
      "execution_count": 16,
      "outputs": [
        {
          "output_type": "display_data",
          "data": {
            "text/plain": [
              "<Figure size 640x480 with 1 Axes>"
            ],
            "image/png": "[encoded data removed]"
          },
          "metadata": {}
        }
      ]
    },
    {
      "cell_type": "markdown",
      "metadata": {
        "id": "hbAyHpVIMjzg"
      },
      "source": [
        "`bert_score` also provides a convenient function `plot_example` to support sentence-level visualization by plotting th e pairwise cosine similarity. Note that here we have not applied the idf weighting."
      ]
    },
    {
      "cell_type": "code",
      "metadata": {
        "id": "UW1Nku_LMjzg",
        "colab": {
          "base_uri": "https://localhost:8080/",
          "height": 1000
        },
        "outputId": "1c7d6bd8-990b-4ccb-d8ef-9e3941d2124d"
      },
      "source": [
        "from bert_score import plot_example\n",
        "\n",
        "cand = cands[0]\n",
        "ref = refs[0]\n",
        "plot_example(cand, ref, lang=\"en\")"
      ],
      "execution_count": 17,
      "outputs": [
        {
          "output_type": "stream",
          "name": "stderr",
          "text": [
            "Some weights of RobertaModel were not initialized from the model checkpoint at roberta-large and are newly initialized: ['pooler.dense.bias', 'pooler.dense.weight']\n",
            "You should probably TRAIN this model on a down-stream task to be able to use it for predictions and inference.\n"
          ]
        },
        {
          "output_type": "display_data",
          "data": {
            "text/plain": [
              "<Figure size 1200x1200 with 2 Axes>"
            ],
            "image/png": "[encoded data removed]"
          },
          "metadata": {}
        }
      ]
    },
    {
      "cell_type": "code",
      "metadata": {
        "id": "BFndA87gXx-S"
      },
      "source": [],
      "execution_count": null,
      "outputs": []
    }
  ]
}