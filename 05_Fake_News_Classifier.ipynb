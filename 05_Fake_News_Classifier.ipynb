{
 "cells": [
  {
   "cell_type": "markdown",
   "metadata": {},
   "source": [
    "### Kaggle Fake News classifier"
   ]
  },
  {
   "cell_type": "markdown",
   "metadata": {},
   "source": [
    "Dataset Link : https://www.kaggle.com/c/fake-news/data#"
   ]
  },
  {
   "cell_type": "code",
   "execution_count": null,
   "metadata": {
    "id": "30UGZz-Z_Cu9"
   },
   "outputs": [],
   "source": [
    "import pandas as pd\n",
    "import numpy as np\n",
    "import matplotlib.pyplot as plt\n",
    "import seaborn as sns\n",
    "import tensorflow as tf\n",
    "from tensorflow.keras.models import Sequential\n",
    "from tensorflow.keras.layers import Dense, RNN, LSTM, GRU, Bidirectional, Embedding\n",
    "from google.colab import files"
   ]
  },
  {
   "cell_type": "code",
   "execution_count": null,
   "metadata": {
    "colab": {
     "base_uri": "https://localhost:8080/"
    },
    "id": "TvcWaGm5_dEq",
    "outputId": "e38aa032-085c-4d43-fcfc-bdfbdbb0578e"
   },
   "outputs": [
    {
     "name": "stdout",
     "output_type": "stream",
     "text": [
      "Mounted at /content/drive\n"
     ]
    }
   ],
   "source": [
    "from google.colab import drive\n",
    "drive.mount('/content/drive')"
   ]
  },
  {
   "cell_type": "markdown",
   "metadata": {},
   "source": [
    "#### Importing Data "
   ]
  },
  {
   "cell_type": "code",
   "execution_count": null,
   "metadata": {
    "id": "gGUQSA-u_dr9"
   },
   "outputs": [],
   "source": [
    "train_df = pd.read_csv('/content/drive/MyDrive/Datasets/fake-news/train.csv')\n",
    "\n",
    "test_df = pd.read_csv('/content/drive/MyDrive/Datasets/fake-news/test.csv')\n",
    "\n",
    "sample_df = pd.read_csv('/content/drive/MyDrive/Datasets/fake-news/submit.csv')"
   ]
  },
  {
   "cell_type": "code",
   "execution_count": null,
   "metadata": {
    "colab": {
     "base_uri": "https://localhost:8080/",
     "height": 204
    },
    "id": "q2tEN5GUA81r",
    "outputId": "bcb56e2b-823e-4f2e-b556-485d86933900"
   },
   "outputs": [
    {
     "data": {
      "text/html": [
       "<div>\n",
       "<style scoped>\n",
       "    .dataframe tbody tr th:only-of-type {\n",
       "        vertical-align: middle;\n",
       "    }\n",
       "\n",
       "    .dataframe tbody tr th {\n",
       "        vertical-align: top;\n",
       "    }\n",
       "\n",
       "    .dataframe thead th {\n",
       "        text-align: right;\n",
       "    }\n",
       "</style>\n",
       "<table border=\"1\" class=\"dataframe\">\n",
       "  <thead>\n",
       "    <tr style=\"text-align: right;\">\n",
       "      <th></th>\n",
       "      <th>id</th>\n",
       "      <th>title</th>\n",
       "      <th>author</th>\n",
       "      <th>text</th>\n",
       "      <th>label</th>\n",
       "    </tr>\n",
       "  </thead>\n",
       "  <tbody>\n",
       "    <tr>\n",
       "      <th>0</th>\n",
       "      <td>0</td>\n",
       "      <td>House Dem Aide: We Didn’t Even See Comey’s Let...</td>\n",
       "      <td>Darrell Lucus</td>\n",
       "      <td>House Dem Aide: We Didn’t Even See Comey’s Let...</td>\n",
       "      <td>1</td>\n",
       "    </tr>\n",
       "    <tr>\n",
       "      <th>1</th>\n",
       "      <td>1</td>\n",
       "      <td>FLYNN: Hillary Clinton, Big Woman on Campus - ...</td>\n",
       "      <td>Daniel J. Flynn</td>\n",
       "      <td>Ever get the feeling your life circles the rou...</td>\n",
       "      <td>0</td>\n",
       "    </tr>\n",
       "    <tr>\n",
       "      <th>2</th>\n",
       "      <td>2</td>\n",
       "      <td>Why the Truth Might Get You Fired</td>\n",
       "      <td>Consortiumnews.com</td>\n",
       "      <td>Why the Truth Might Get You Fired October 29, ...</td>\n",
       "      <td>1</td>\n",
       "    </tr>\n",
       "    <tr>\n",
       "      <th>3</th>\n",
       "      <td>3</td>\n",
       "      <td>15 Civilians Killed In Single US Airstrike Hav...</td>\n",
       "      <td>Jessica Purkiss</td>\n",
       "      <td>Videos 15 Civilians Killed In Single US Airstr...</td>\n",
       "      <td>1</td>\n",
       "    </tr>\n",
       "    <tr>\n",
       "      <th>4</th>\n",
       "      <td>4</td>\n",
       "      <td>Iranian woman jailed for fictional unpublished...</td>\n",
       "      <td>Howard Portnoy</td>\n",
       "      <td>Print \\nAn Iranian woman has been sentenced to...</td>\n",
       "      <td>1</td>\n",
       "    </tr>\n",
       "  </tbody>\n",
       "</table>\n",
       "</div>"
      ],
      "text/plain": [
       "   id  ... label\n",
       "0   0  ...     1\n",
       "1   1  ...     0\n",
       "2   2  ...     1\n",
       "3   3  ...     1\n",
       "4   4  ...     1\n",
       "\n",
       "[5 rows x 5 columns]"
      ]
     },
     "execution_count": 4,
     "metadata": {
      "tags": []
     },
     "output_type": "execute_result"
    }
   ],
   "source": [
    "train_df.head()"
   ]
  },
  {
   "cell_type": "code",
   "execution_count": null,
   "metadata": {
    "colab": {
     "base_uri": "https://localhost:8080/"
    },
    "id": "eBs7gcuuA-9w",
    "outputId": "e196c6e3-e5b8-4861-fbd2-9f12023d7e5e"
   },
   "outputs": [
    {
     "data": {
      "text/plain": [
       "id           0\n",
       "title      558\n",
       "author    1957\n",
       "text        39\n",
       "label        0\n",
       "dtype: int64"
      ]
     },
     "execution_count": 5,
     "metadata": {
      "tags": []
     },
     "output_type": "execute_result"
    }
   ],
   "source": [
    "train_df.isna().sum()"
   ]
  },
  {
   "cell_type": "code",
   "execution_count": null,
   "metadata": {
    "colab": {
     "base_uri": "https://localhost:8080/",
     "height": 204
    },
    "id": "S2Zg1PhlBHgD",
    "outputId": "a4ca2082-82a0-4970-dac5-0f92b95e0787"
   },
   "outputs": [
    {
     "data": {
      "text/html": [
       "<div>\n",
       "<style scoped>\n",
       "    .dataframe tbody tr th:only-of-type {\n",
       "        vertical-align: middle;\n",
       "    }\n",
       "\n",
       "    .dataframe tbody tr th {\n",
       "        vertical-align: top;\n",
       "    }\n",
       "\n",
       "    .dataframe thead th {\n",
       "        text-align: right;\n",
       "    }\n",
       "</style>\n",
       "<table border=\"1\" class=\"dataframe\">\n",
       "  <thead>\n",
       "    <tr style=\"text-align: right;\">\n",
       "      <th></th>\n",
       "      <th>id</th>\n",
       "      <th>title</th>\n",
       "      <th>author</th>\n",
       "      <th>text</th>\n",
       "      <th>label</th>\n",
       "    </tr>\n",
       "  </thead>\n",
       "  <tbody>\n",
       "    <tr>\n",
       "      <th>142</th>\n",
       "      <td>142</td>\n",
       "      <td>Gorafi Magazine : Entretien exclusif avec Bara...</td>\n",
       "      <td>NaN</td>\n",
       "      <td>NaN</td>\n",
       "      <td>1</td>\n",
       "    </tr>\n",
       "    <tr>\n",
       "      <th>573</th>\n",
       "      <td>573</td>\n",
       "      <td>Le top des recherches Google passe en top des ...</td>\n",
       "      <td>NaN</td>\n",
       "      <td>NaN</td>\n",
       "      <td>1</td>\n",
       "    </tr>\n",
       "    <tr>\n",
       "      <th>1200</th>\n",
       "      <td>1200</td>\n",
       "      <td>La Corée du Nord annonce avoir envoyé un missi...</td>\n",
       "      <td>NaN</td>\n",
       "      <td>NaN</td>\n",
       "      <td>1</td>\n",
       "    </tr>\n",
       "    <tr>\n",
       "      <th>1911</th>\n",
       "      <td>1911</td>\n",
       "      <td>Grand-Prix du Brésil – Romain Grosjean obtient...</td>\n",
       "      <td>NaN</td>\n",
       "      <td>NaN</td>\n",
       "      <td>1</td>\n",
       "    </tr>\n",
       "    <tr>\n",
       "      <th>2148</th>\n",
       "      <td>2148</td>\n",
       "      <td>Gorafi Magazine: Barack Obama « Je vous ai déj...</td>\n",
       "      <td>NaN</td>\n",
       "      <td>NaN</td>\n",
       "      <td>1</td>\n",
       "    </tr>\n",
       "  </tbody>\n",
       "</table>\n",
       "</div>"
      ],
      "text/plain": [
       "        id                                              title  ... text label\n",
       "142    142  Gorafi Magazine : Entretien exclusif avec Bara...  ...  NaN     1\n",
       "573    573  Le top des recherches Google passe en top des ...  ...  NaN     1\n",
       "1200  1200  La Corée du Nord annonce avoir envoyé un missi...  ...  NaN     1\n",
       "1911  1911  Grand-Prix du Brésil – Romain Grosjean obtient...  ...  NaN     1\n",
       "2148  2148  Gorafi Magazine: Barack Obama « Je vous ai déj...  ...  NaN     1\n",
       "\n",
       "[5 rows x 5 columns]"
      ]
     },
     "execution_count": 6,
     "metadata": {
      "tags": []
     },
     "output_type": "execute_result"
    }
   ],
   "source": [
    "train_df[train_df['text'].isna()].head()"
   ]
  },
  {
   "cell_type": "code",
   "execution_count": null,
   "metadata": {
    "id": "ovDxNRjpBQcd"
   },
   "outputs": [],
   "source": [
    "#Replacing null values with fake news\n",
    "train_df['text'].fillna('fake news', inplace=True)\n",
    "\n",
    "test_df['text'].fillna('fake news', inplace=True)"
   ]
  },
  {
   "cell_type": "code",
   "execution_count": null,
   "metadata": {
    "id": "d2D_vVCxDbly"
   },
   "outputs": [],
   "source": [
    "#Getting the length of the text\n",
    "train_df['text_len'] = train_df['text'].apply(lambda x : len(x))"
   ]
  },
  {
   "cell_type": "code",
   "execution_count": null,
   "metadata": {
    "id": "2xgquj49Emx8"
   },
   "outputs": [],
   "source": [
    "#Filling the null values in the title column\n",
    "train_df.fillna('fake news', inplace=True)"
   ]
  },
  {
   "cell_type": "code",
   "execution_count": null,
   "metadata": {
    "id": "NY61XAuRFJ22"
   },
   "outputs": [],
   "source": [
    "test_df.fillna('fake news', inplace=True)"
   ]
  },
  {
   "cell_type": "code",
   "execution_count": null,
   "metadata": {
    "id": "PD67gf0XEhdI"
   },
   "outputs": [],
   "source": [
    "train_df['title_len'] = train_df['title'].apply(lambda x : len(x))"
   ]
  },
  {
   "cell_type": "code",
   "execution_count": null,
   "metadata": {
    "colab": {
     "base_uri": "https://localhost:8080/"
    },
    "id": "o39MZPHKEOD5",
    "outputId": "bb7c4be7-98dc-4999-c3af-1f41298bb37a"
   },
   "outputs": [
    {
     "data": {
      "text/plain": [
       "(142961, 456)"
      ]
     },
     "execution_count": 27,
     "metadata": {
      "tags": []
     },
     "output_type": "execute_result"
    }
   ],
   "source": [
    "train_df['text_len'].max(), train_df['title_len'].max()"
   ]
  },
  {
   "cell_type": "code",
   "execution_count": null,
   "metadata": {
    "colab": {
     "base_uri": "https://localhost:8080/",
     "height": 297
    },
    "id": "-sjp-9DXDn1n",
    "outputId": "94d71fdf-a616-4201-b4b6-e9f02675200a"
   },
   "outputs": [
    {
     "data": {
      "text/plain": [
       "<matplotlib.axes._subplots.AxesSubplot at 0x7f0f2a0ef090>"
      ]
     },
     "execution_count": 23,
     "metadata": {
      "tags": []
     },
     "output_type": "execute_result"
    },
    {
     "data": {
      "image/png": "[encoded data removed]",
      "text/plain": [
       "<Figure size 432x288 with 1 Axes>"
      ]
     },
     "metadata": {
      "needs_background": "light",
      "tags": []
     },
     "output_type": "display_data"
    }
   ],
   "source": [
    "sns.histplot(train_df.loc[train_df['label']==1, 'text_len'])\n",
    "sns.histplot(train_df.loc[train_df['label']==0, 'text_len'], color='orange')"
   ]
  },
  {
   "cell_type": "code",
   "execution_count": null,
   "metadata": {
    "colab": {
     "base_uri": "https://localhost:8080/",
     "height": 297
    },
    "id": "z72rIDqdE1L0",
    "outputId": "9ecb5337-ca6d-4135-a37e-24eaa2f0542d"
   },
   "outputs": [
    {
     "data": {
      "text/plain": [
       "<matplotlib.axes._subplots.AxesSubplot at 0x7f0f28c52050>"
      ]
     },
     "execution_count": 31,
     "metadata": {
      "tags": []
     },
     "output_type": "execute_result"
    },
    {
     "data": {
      "image/png": "[encoded data removed]",
      "text/plain": [
       "<Figure size 432x288 with 1 Axes>"
      ]
     },
     "metadata": {
      "needs_background": "light",
      "tags": []
     },
     "output_type": "display_data"
    }
   ],
   "source": [
    "sns.histplot(train_df.loc[train_df['label']==1, 'title_len'], label='Fake')\n",
    "sns.histplot(train_df.loc[train_df['label']==0, 'title_len'], color='orange', label='Original')"
   ]
  },
  {
   "cell_type": "code",
   "execution_count": null,
   "metadata": {
    "colab": {
     "base_uri": "https://localhost:8080/"
    },
    "id": "b89-sclODP-V",
    "outputId": "a6a3ef2c-d6f0-49ab-833e-b87bedcebe75"
   },
   "outputs": [
    {
     "name": "stdout",
     "output_type": "stream",
     "text": [
      "Collecting contractions\n",
      "  Downloading contractions-0.0.52-py2.py3-none-any.whl (7.2 kB)\n",
      "Collecting textsearch>=0.0.21\n",
      "  Downloading textsearch-0.0.21-py2.py3-none-any.whl (7.5 kB)\n",
      "Collecting anyascii\n",
      "  Downloading anyascii-0.2.0-py3-none-any.whl (283 kB)\n",
      "\u001b[K     |████████████████████████████████| 283 kB 11.4 MB/s \n",
      "\u001b[?25hCollecting pyahocorasick\n",
      "  Downloading pyahocorasick-1.4.2.tar.gz (321 kB)\n",
      "\u001b[K     |████████████████████████████████| 321 kB 35.3 MB/s \n",
      "\u001b[?25hBuilding wheels for collected packages: pyahocorasick\n",
      "  Building wheel for pyahocorasick (setup.py) ... \u001b[?25l\u001b[?25hdone\n",
      "  Created wheel for pyahocorasick: filename=pyahocorasick-1.4.2-cp37-cp37m-linux_x86_64.whl size=85441 sha256=b85b93001fd31a97e62b137cd15bc25b7a559710035e1e613dce8b78c53d8a17\n",
      "  Stored in directory: /root/.cache/pip/wheels/25/19/a6/8f363d9939162782bb8439d886469756271abc01f76fbd790f\n",
      "Successfully built pyahocorasick\n",
      "Installing collected packages: pyahocorasick, anyascii, textsearch, contractions\n",
      "Successfully installed anyascii-0.2.0 contractions-0.0.52 pyahocorasick-1.4.2 textsearch-0.0.21\n"
     ]
    }
   ],
   "source": [
    "pip install contractions\n"
   ]
  },
  {
   "cell_type": "code",
   "execution_count": null,
   "metadata": {
    "id": "vvg5vupcAPVm"
   },
   "outputs": [],
   "source": [
    "import tqdm\n",
    "#Importing manually created preprocessor script for text processing\n",
    "from preprocess_engine_kaggle import preprocessor_engine as new_engine"
   ]
  },
  {
   "cell_type": "code",
   "execution_count": null,
   "metadata": {
    "colab": {
     "base_uri": "https://localhost:8080/"
    },
    "id": "dUiugyUBFReJ",
    "outputId": "a4673161-131e-4e44-dc73-d9d07b8b9981"
   },
   "outputs": [
    {
     "name": "stdout",
     "output_type": "stream",
     "text": [
      "[nltk_data] Downloading package punkt to /root/nltk_data...\n",
      "[nltk_data]   Unzipping tokenizers/punkt.zip.\n"
     ]
    },
    {
     "data": {
      "text/plain": [
       "True"
      ]
     },
     "execution_count": 35,
     "metadata": {
      "tags": []
     },
     "output_type": "execute_result"
    }
   ],
   "source": [
    "import nltk\n",
    "nltk.download('punkt')"
   ]
  },
  {
   "cell_type": "code",
   "execution_count": null,
   "metadata": {
    "id": "tup629TiAZfg"
   },
   "outputs": [],
   "source": [
    "def corpus_pre_processor(corpus):\n",
    "    norm_corpus = []\n",
    "    for doc in tqdm.tqdm(corpus):\n",
    "        #print(type(doc))\n",
    "        norm_corpus.append(new_engine(doc, html_strip=False, accent_characters=False, fix_contract=True, remove_stop_words=True , remove_digits=True, lower=False))\n",
    "        \n",
    "    return norm_corpus"
   ]
  },
  {
   "cell_type": "code",
   "execution_count": null,
   "metadata": {
    "colab": {
     "base_uri": "https://localhost:8080/"
    },
    "id": "eK9y0kmLIBdQ",
    "outputId": "85ac761f-d881-49f7-b908-fb494f6d5200"
   },
   "outputs": [
    {
     "name": "stderr",
     "output_type": "stream",
     "text": [
      "100%|██████████| 20800/20800 [03:33<00:00, 97.26it/s]\n"
     ]
    }
   ],
   "source": [
    "train_data_new = corpus_pre_processor(train_df['title'])"
   ]
  },
  {
   "cell_type": "code",
   "execution_count": null,
   "metadata": {
    "colab": {
     "base_uri": "https://localhost:8080/"
    },
    "id": "oUuB1-UJIaKs",
    "outputId": "88edd691-f490-4637-ecb6-b4edf7ccccb1"
   },
   "outputs": [
    {
     "name": "stderr",
     "output_type": "stream",
     "text": [
      "100%|██████████| 5200/5200 [00:54<00:00, 94.74it/s]\n"
     ]
    }
   ],
   "source": [
    "test_data_new = corpus_pre_processor(test_df['title'])"
   ]
  },
  {
   "cell_type": "code",
   "execution_count": null,
   "metadata": {
    "colab": {
     "base_uri": "https://localhost:8080/"
    },
    "id": "hxixRT1MINy8",
    "outputId": "d164c0f0-ff92-4534-cb22-f1d486ab7dc6"
   },
   "outputs": [
    {
     "data": {
      "text/plain": [
       "['house dem aide comey s letter jason chaffetz tweet',\n",
       " 'flynn hillary clinton big woman campus breitbart',\n",
       " 'truth fire',\n",
       " 'civilian kill single airstrike identify',\n",
       " 'iranian woman jail fictional unpublished story woman stone death adultery',\n",
       " 'jackie mason hollywood love trump bomb north korea lack trans bathrooms exclusive video breitbart',\n",
       " 'life life luxury elton john s favorite shark pictures stare long transcontinental flight',\n",
       " 'beno t hamon win french socialist party s presidential nomination new york times',\n",
       " 'excerpt draft script donald trump s q ampa black church s pastor new york times',\n",
       " 'channel plan ukraine russia courtesy trump associates new york times']"
      ]
     },
     "execution_count": 52,
     "metadata": {
      "tags": []
     },
     "output_type": "execute_result"
    }
   ],
   "source": [
    "train_data_new[:10]"
   ]
  },
  {
   "cell_type": "code",
   "execution_count": null,
   "metadata": {
    "colab": {
     "base_uri": "https://localhost:8080/",
     "height": 35
    },
    "id": "4yo0Ax6JGKZ3",
    "outputId": "74a539ac-9141-479f-fd4c-94ecab456a62"
   },
   "outputs": [
    {
     "data": {
      "application/vnd.google.colaboratory.intrinsic+json": {
       "type": "string"
      },
      "text/plain": [
       "'House Dem Aide: We Didn’t Even See Comey’s Letter Until Jason Chaffetz Tweeted It'"
      ]
     },
     "execution_count": 41,
     "metadata": {
      "tags": []
     },
     "output_type": "execute_result"
    }
   ],
   "source": [
    "train_df['title'].head()[0]"
   ]
  },
  {
   "cell_type": "code",
   "execution_count": null,
   "metadata": {
    "id": "DQtQ8PeBJkhL"
   },
   "outputs": [],
   "source": [
    "#Tokenizing the text\n",
    "tokenzer = tf.keras.preprocessing.text.Tokenizer(oov_token = '<UNK>')\n",
    "tokenzer.fit_on_texts(train_data_new)"
   ]
  },
  {
   "cell_type": "code",
   "execution_count": null,
   "metadata": {
    "id": "_7MYSFkMJtkN"
   },
   "outputs": [],
   "source": [
    "#Converting into numerical values\n",
    "train_sequences = tokenzer.texts_to_sequences(train_data_new)\n",
    "test_sequences = tokenzer.texts_to_sequences(test_data_new)"
   ]
  },
  {
   "cell_type": "code",
   "execution_count": null,
   "metadata": {
    "colab": {
     "base_uri": "https://localhost:8080/"
    },
    "id": "SISP1HN7JwHd",
    "outputId": "fc535176-fb03-428f-8ebf-5c5aa42ba5b9"
   },
   "outputs": [
    {
     "name": "stdout",
     "output_type": "stream",
     "text": [
      "Vocabulary size =19295\n",
      "Number of Documents=20800\n"
     ]
    }
   ],
   "source": [
    "print(\"Vocabulary size ={}\".format(len(tokenzer.word_index)))\n",
    "print(\"Number of Documents={}\".format(tokenzer.document_count))"
   ]
  },
  {
   "cell_type": "code",
   "execution_count": null,
   "metadata": {
    "colab": {
     "base_uri": "https://localhost:8080/"
    },
    "id": "jfTiDqL1J2DT",
    "outputId": "aa8ee680-2dfe-4a6a-d686-c9b65750a201"
   },
   "outputs": [
    {
     "data": {
      "text/plain": [
       "46"
      ]
     },
     "execution_count": 120,
     "metadata": {
      "tags": []
     },
     "output_type": "execute_result"
    }
   ],
   "source": [
    "pd.Series(train_data_new).apply(lambda x : len(x.split())).max()"
   ]
  },
  {
   "cell_type": "code",
   "execution_count": null,
   "metadata": {
    "id": "WawFrmw1KCvk"
   },
   "outputs": [],
   "source": [
    "MAX_SEQUENCE_LENGTH = 50\n",
    "\n",
    "#Padding each sentence to maximum length.\n",
    "train_pad_sequences = tf.keras.preprocessing.sequence.pad_sequences(train_sequences, maxlen = MAX_SEQUENCE_LENGTH, padding='post')\n",
    "test_pad_sequneces = tf.keras.preprocessing.sequence.pad_sequences(test_sequences, maxlen = MAX_SEQUENCE_LENGTH, padding='post')"
   ]
  },
  {
   "cell_type": "markdown",
   "metadata": {
    "id": "8L8nT37fOohg"
   },
   "source": [
    "### Preprocessing 2"
   ]
  },
  {
   "cell_type": "code",
   "execution_count": null,
   "metadata": {
    "colab": {
     "base_uri": "https://localhost:8080/"
    },
    "id": "VoEskf-aKJbV",
    "outputId": "55b19eae-399d-4569-c91c-d764025f0860"
   },
   "outputs": [
    {
     "name": "stdout",
     "output_type": "stream",
     "text": [
      "[nltk_data] Downloading package stopwords to /root/nltk_data...\n",
      "[nltk_data]   Package stopwords is already up-to-date!\n"
     ]
    }
   ],
   "source": [
    "#Trying out another text preprocessing method\n",
    "import contractions\n",
    "from bs4 import BeautifulSoup \n",
    "import tqdm\n",
    "import unicodedata\n",
    "import re\n",
    "import nltk\n",
    "nltk.download('stopwords')\n",
    "import warnings\n",
    "warnings.filterwarnings('ignore')\n",
    "stop_words = nltk.corpus.stopwords.words('english')\n",
    "def strip_html_tags(text):\n",
    "    soup = BeautifulSoup(text, \"html.parser\")\n",
    "    [s.extract() for s in soup(['iframe', 'script'])]\n",
    "    stripped_text = soup.get_text()\n",
    "    stripped_text = re.sub(r'[\\r|\\n|\\r\\n]+', '\\n', stripped_text)\n",
    "    return stripped_text\n",
    "\n",
    "\n",
    "def remove_accented_chars(text):\n",
    "    text = unicodedata.normalize('NFKD', text).encode('ascii', 'ignore').decode('utf-8', 'ignore')\n",
    "    return text\n",
    "\n",
    "def pre_process_corpus(docs):\n",
    "    norm_docs = []\n",
    "    for text in tqdm.tqdm(docs): \n",
    "        text = strip_html_tags(text)\n",
    "        text = re.sub(r'[^a-zA-Z\\s]','',text,re.I)\n",
    "        text = text.lower()\n",
    "        text = text.strip()\n",
    "        text = remove_accented_chars(text)\n",
    "        text = contractions.fix(text)\n",
    "        tokens = nltk.word_tokenize(text)\n",
    "        filtered_tokens = [token for token in tokens if token not in stop_words]\n",
    "        text = \" \".join(filtered_tokens)\n",
    "        text = re.sub(\" +\", ' ',text)\n",
    "        text =text.strip()\n",
    "        norm_docs.append(text)\n",
    "    return norm_docs"
   ]
  },
  {
   "cell_type": "code",
   "execution_count": null,
   "metadata": {
    "colab": {
     "base_uri": "https://localhost:8080/"
    },
    "id": "Ghrd9CG1OztK",
    "outputId": "99e9f9a9-94a8-4e7c-d8f3-5581715b1eee"
   },
   "outputs": [
    {
     "name": "stderr",
     "output_type": "stream",
     "text": [
      "100%|██████████| 20800/20800 [00:07<00:00, 2643.97it/s]\n"
     ]
    }
   ],
   "source": [
    "train_data_local = pre_process_corpus(train_df['title'])"
   ]
  },
  {
   "cell_type": "code",
   "execution_count": null,
   "metadata": {
    "colab": {
     "base_uri": "https://localhost:8080/"
    },
    "id": "BZ5txvfRO8ji",
    "outputId": "9f2c6da8-897a-455c-a18f-a018a5d951dc"
   },
   "outputs": [
    {
     "name": "stderr",
     "output_type": "stream",
     "text": [
      "100%|██████████| 5200/5200 [00:02<00:00, 2580.20it/s]\n"
     ]
    }
   ],
   "source": [
    "test_data_local = pre_process_corpus(test_df['title'])"
   ]
  },
  {
   "cell_type": "code",
   "execution_count": null,
   "metadata": {
    "id": "F-8Vv1YfPWPN"
   },
   "outputs": [],
   "source": [
    "tokenzer = tf.keras.preprocessing.text.Tokenizer(oov_token = '<UNK>')\n",
    "tokenzer.fit_on_texts(train_data_local)\n",
    "train_sequences_local = tokenzer.texts_to_sequences(train_data_local)\n",
    "test_sequences_local = tokenzer.texts_to_sequences(test_data_local)"
   ]
  },
  {
   "cell_type": "code",
   "execution_count": null,
   "metadata": {
    "colab": {
     "base_uri": "https://localhost:8080/"
    },
    "id": "_DRkWxYGTdPx",
    "outputId": "d6e1481d-405b-40dc-df54-03bdf79172b8"
   },
   "outputs": [
    {
     "data": {
      "text/plain": [
       "56"
      ]
     },
     "execution_count": 132,
     "metadata": {
      "tags": []
     },
     "output_type": "execute_result"
    }
   ],
   "source": [
    "pd.Series(train_data_local).apply(lambda x : len(x.split())).max()"
   ]
  },
  {
   "cell_type": "code",
   "execution_count": null,
   "metadata": {
    "id": "UujgetrxTbDQ"
   },
   "outputs": [],
   "source": [
    "MAX_SEQUENCE_LENGTH = 56\n",
    "\n",
    "train_pad_sequences_local = tf.keras.preprocessing.sequence.pad_sequences(train_sequences_local, maxlen = MAX_SEQUENCE_LENGTH, padding='post')\n",
    "test_pad_sequneces_local = tf.keras.preprocessing.sequence.pad_sequences(test_sequences_local, maxlen = MAX_SEQUENCE_LENGTH, padding='post')"
   ]
  },
  {
   "cell_type": "markdown",
   "metadata": {
    "id": "Xo85JZicKLLz"
   },
   "source": [
    "### Modelling"
   ]
  },
  {
   "cell_type": "code",
   "execution_count": null,
   "metadata": {
    "id": "m0TkbNd4KO3s"
   },
   "outputs": [],
   "source": [
    " y = train_df['label']"
   ]
  },
  {
   "cell_type": "code",
   "execution_count": null,
   "metadata": {
    "id": "nrFGi5XhKTav"
   },
   "outputs": [],
   "source": [
    "def deep_model():\n",
    "  SEED = 42\n",
    "  np.random.seed(SEED)\n",
    "  tf.random.set_seed(SEED)\n",
    "\n",
    "  EMBEDDING_DIM = 300 #Dimension for dense embedding for each token\n",
    "  VOCAB_SIZE = len(tokenzer.word_index)\n",
    "  model = Sequential()\n",
    "  model.add((Embedding(input_dim =VOCAB_SIZE+1,output_dim = EMBEDDING_DIM,input_length = MAX_SEQUENCE_LENGTH)))\n",
    "  model.add(Bidirectional(LSTM(128,return_sequences = True)))\n",
    "  model.add((Dense(256,activation = 'relu')))\n",
    "  model.add(Dense(1,activation = 'sigmoid'))\n",
    "\n",
    "  model.compile(loss = 'binary_crossentropy',optimizer=\"adam\",metrics =['accuracy'])\n",
    "  return model"
   ]
  },
  {
   "cell_type": "code",
   "execution_count": null,
   "metadata": {
    "colab": {
     "base_uri": "https://localhost:8080/"
    },
    "id": "IuxfNjsXKZkT",
    "outputId": "085b6222-049b-4a2e-ef21-36803f876b5e"
   },
   "outputs": [
    {
     "name": "stdout",
     "output_type": "stream",
     "text": [
      "Model: \"sequential_14\"\n",
      "_________________________________________________________________\n",
      "Layer (type)                 Output Shape              Param #   \n",
      "=================================================================\n",
      "embedding_14 (Embedding)     (None, 50, 300)           5788800   \n",
      "_________________________________________________________________\n",
      "bidirectional_9 (Bidirection (None, 50, 256)           439296    \n",
      "_________________________________________________________________\n",
      "dense_12 (Dense)             (None, 50, 256)           65792     \n",
      "_________________________________________________________________\n",
      "dense_13 (Dense)             (None, 50, 1)             257       \n",
      "=================================================================\n",
      "Total params: 6,294,145\n",
      "Trainable params: 6,294,145\n",
      "Non-trainable params: 0\n",
      "_________________________________________________________________\n"
     ]
    }
   ],
   "source": [
    "model = deep_model()\n",
    "model.summary()"
   ]
  },
  {
   "cell_type": "code",
   "execution_count": null,
   "metadata": {
    "colab": {
     "base_uri": "https://localhost:8080/"
    },
    "id": "YQCtkqiJKdsA",
    "outputId": "ca86b88f-7205-4305-96ac-da6245bcfa23"
   },
   "outputs": [
    {
     "name": "stdout",
     "output_type": "stream",
     "text": [
      "Epoch 1/5\n",
      "585/585 [==============================] - 62s 101ms/step - loss: 0.2309 - accuracy: 0.9031 - val_loss: 0.1690 - val_accuracy: 0.9359\n",
      "Epoch 2/5\n",
      "585/585 [==============================] - 58s 100ms/step - loss: 0.0927 - accuracy: 0.9687 - val_loss: 0.1967 - val_accuracy: 0.9364\n",
      "Epoch 3/5\n",
      "585/585 [==============================] - 58s 100ms/step - loss: 0.0493 - accuracy: 0.9846 - val_loss: 0.2336 - val_accuracy: 0.9261\n",
      "Epoch 4/5\n",
      "585/585 [==============================] - 58s 99ms/step - loss: 0.0230 - accuracy: 0.9934 - val_loss: 0.3105 - val_accuracy: 0.9246\n",
      "Epoch 5/5\n",
      "585/585 [==============================] - 58s 99ms/step - loss: 0.0141 - accuracy: 0.9955 - val_loss: 0.5273 - val_accuracy: 0.9127\n"
     ]
    },
    {
     "data": {
      "text/plain": [
       "<tensorflow.python.keras.callbacks.History at 0x7f0eb6e4c550>"
      ]
     },
     "execution_count": 95,
     "metadata": {
      "tags": []
     },
     "output_type": "execute_result"
    }
   ],
   "source": [
    "model.fit(train_pad_sequences, y, epochs=5, validation_split=0.1)"
   ]
  },
  {
   "cell_type": "code",
   "execution_count": null,
   "metadata": {
    "colab": {
     "base_uri": "https://localhost:8080/"
    },
    "id": "5cUHwzrFPwf_",
    "outputId": "7beb4777-b59f-43ca-c1d6-0fa67959064b"
   },
   "outputs": [
    {
     "name": "stdout",
     "output_type": "stream",
     "text": [
      "Epoch 1/5\n",
      "585/585 [==============================] - 127s 109ms/step - loss: 0.2290 - accuracy: 0.9034 - val_loss: 0.1689 - val_accuracy: 0.9392\n",
      "Epoch 2/5\n",
      "585/585 [==============================] - 61s 105ms/step - loss: 0.0902 - accuracy: 0.9701 - val_loss: 0.1989 - val_accuracy: 0.9363\n",
      "Epoch 3/5\n",
      "585/585 [==============================] - 65s 111ms/step - loss: 0.0507 - accuracy: 0.9844 - val_loss: 0.2628 - val_accuracy: 0.9305\n",
      "Epoch 4/5\n",
      "585/585 [==============================] - 65s 111ms/step - loss: 0.0284 - accuracy: 0.9914 - val_loss: 0.3540 - val_accuracy: 0.9190\n",
      "Epoch 5/5\n",
      "585/585 [==============================] - 67s 114ms/step - loss: 0.0170 - accuracy: 0.9948 - val_loss: 0.3930 - val_accuracy: 0.9222\n"
     ]
    },
    {
     "data": {
      "text/plain": [
       "<tensorflow.python.keras.callbacks.History at 0x7f0e9761ce90>"
      ]
     },
     "execution_count": 123,
     "metadata": {
      "tags": []
     },
     "output_type": "execute_result"
    }
   ],
   "source": [
    "model.fit(train_pad_sequences, y, epochs=5, validation_split=0.1)"
   ]
  },
  {
   "cell_type": "code",
   "execution_count": null,
   "metadata": {
    "colab": {
     "base_uri": "https://localhost:8080/"
    },
    "id": "-6-z0Tk0NgXe",
    "outputId": "6760405b-6335-496b-ffdc-0462a98d0313"
   },
   "outputs": [
    {
     "data": {
      "text/plain": [
       "array([0, 1, 0, ..., 0, 1, 0], dtype=int32)"
      ]
     },
     "execution_count": 110,
     "metadata": {
      "tags": []
     },
     "output_type": "execute_result"
    }
   ],
   "source": [
    "test_pred[:,0].reshape(-1)"
   ]
  },
  {
   "cell_type": "code",
   "execution_count": null,
   "metadata": {
    "colab": {
     "base_uri": "https://localhost:8080/",
     "height": 17
    },
    "id": "vFE830kiMCpi",
    "outputId": "3857f7b1-38af-4a92-cda4-51897987b01e"
   },
   "outputs": [
    {
     "data": {
      "application/javascript": [
       "\n",
       "    async function download(id, filename, size) {\n",
       "      if (!google.colab.kernel.accessAllowed) {\n",
       "        return;\n",
       "      }\n",
       "      const div = document.createElement('div');\n",
       "      const label = document.createElement('label');\n",
       "      label.textContent = `Downloading \"${filename}\": `;\n",
       "      div.appendChild(label);\n",
       "      const progress = document.createElement('progress');\n",
       "      progress.max = size;\n",
       "      div.appendChild(progress);\n",
       "      document.body.appendChild(div);\n",
       "\n",
       "      const buffers = [];\n",
       "      let downloaded = 0;\n",
       "\n",
       "      const channel = await google.colab.kernel.comms.open(id);\n",
       "      // Send a message to notify the kernel that we're ready.\n",
       "      channel.send({})\n",
       "\n",
       "      for await (const message of channel.messages) {\n",
       "        // Send a message to notify the kernel that we're ready.\n",
       "        channel.send({})\n",
       "        if (message.buffers) {\n",
       "          for (const buffer of message.buffers) {\n",
       "            buffers.push(buffer);\n",
       "            downloaded += buffer.byteLength;\n",
       "            progress.value = downloaded;\n",
       "          }\n",
       "        }\n",
       "      }\n",
       "      const blob = new Blob(buffers, {type: 'application/binary'});\n",
       "      const a = document.createElement('a');\n",
       "      a.href = window.URL.createObjectURL(blob);\n",
       "      a.download = filename;\n",
       "      div.appendChild(a);\n",
       "      a.click();\n",
       "      div.remove();\n",
       "    }\n",
       "  "
      ],
      "text/plain": [
       "<IPython.core.display.Javascript object>"
      ]
     },
     "metadata": {
      "tags": []
     },
     "output_type": "display_data"
    },
    {
     "data": {
      "application/javascript": [
       "download(\"download_56814244-66dc-4e3c-81e4-f915815005f1\", \"fake_news2.csv\", 41609)"
      ],
      "text/plain": [
       "<IPython.core.display.Javascript object>"
      ]
     },
     "metadata": {
      "tags": []
     },
     "output_type": "display_data"
    }
   ],
   "source": [
    "test_pred = model.predict_classes(test_pad_sequneces)\n",
    "sample_df['label'] = test_pred[:,0].reshape(-1)\n",
    "sample_df.to_csv('fake_news2.csv', index = None)\n",
    "files.download('fake_news2.csv') "
   ]
  },
  {
   "cell_type": "code",
   "execution_count": null,
   "metadata": {
    "colab": {
     "base_uri": "https://localhost:8080/"
    },
    "id": "QHdjp5xFNdfb",
    "outputId": "3b2eeff1-164a-46cb-c019-98b2a9c581e1"
   },
   "outputs": [
    {
     "name": "stdout",
     "output_type": "stream",
     "text": [
      "Epoch 1/5\n",
      "585/585 [==============================] - 73s 118ms/step - loss: 0.2428 - accuracy: 0.8965 - val_loss: 0.1657 - val_accuracy: 0.9321\n",
      "Epoch 2/5\n",
      "585/585 [==============================] - 68s 117ms/step - loss: 0.0813 - accuracy: 0.9740 - val_loss: 0.2047 - val_accuracy: 0.9271\n",
      "Epoch 3/5\n",
      "585/585 [==============================] - 67s 115ms/step - loss: 0.0399 - accuracy: 0.9876 - val_loss: 0.2916 - val_accuracy: 0.9295\n",
      "Epoch 4/5\n",
      "585/585 [==============================] - 67s 115ms/step - loss: 0.0188 - accuracy: 0.9949 - val_loss: 0.3891 - val_accuracy: 0.9226\n",
      "Epoch 5/5\n",
      "585/585 [==============================] - 68s 116ms/step - loss: 0.0094 - accuracy: 0.9975 - val_loss: 0.4644 - val_accuracy: 0.9184\n"
     ]
    },
    {
     "data": {
      "text/plain": [
       "<tensorflow.python.keras.callbacks.History at 0x7f0eb5c02fd0>"
      ]
     },
     "execution_count": 134,
     "metadata": {
      "tags": []
     },
     "output_type": "execute_result"
    }
   ],
   "source": [
    "#Local Preprocessor\n",
    "model = deep_model()\n",
    "#model.summary()\n",
    "model.fit(train_pad_sequences_local, y, epochs=5, validation_split=0.1)"
   ]
  },
  {
   "cell_type": "code",
   "execution_count": null,
   "metadata": {
    "colab": {
     "base_uri": "https://localhost:8080/",
     "height": 54
    },
    "id": "JwwPLzaBOyma",
    "outputId": "149580bc-b259-4c98-8819-283ef40af141"
   },
   "outputs": [
    {
     "name": "stdout",
     "output_type": "stream",
     "text": [
      "WARNING:tensorflow:Model was constructed with shape (None, 56) for input KerasTensor(type_spec=TensorSpec(shape=(None, 56), dtype=tf.float32, name='embedding_15_input'), name='embedding_15_input', description=\"created by layer 'embedding_15_input'\"), but it was called on an input with incompatible shape (None, 50).\n"
     ]
    },
    {
     "data": {
      "application/javascript": [
       "\n",
       "    async function download(id, filename, size) {\n",
       "      if (!google.colab.kernel.accessAllowed) {\n",
       "        return;\n",
       "      }\n",
       "      const div = document.createElement('div');\n",
       "      const label = document.createElement('label');\n",
       "      label.textContent = `Downloading \"${filename}\": `;\n",
       "      div.appendChild(label);\n",
       "      const progress = document.createElement('progress');\n",
       "      progress.max = size;\n",
       "      div.appendChild(progress);\n",
       "      document.body.appendChild(div);\n",
       "\n",
       "      const buffers = [];\n",
       "      let downloaded = 0;\n",
       "\n",
       "      const channel = await google.colab.kernel.comms.open(id);\n",
       "      // Send a message to notify the kernel that we're ready.\n",
       "      channel.send({})\n",
       "\n",
       "      for await (const message of channel.messages) {\n",
       "        // Send a message to notify the kernel that we're ready.\n",
       "        channel.send({})\n",
       "        if (message.buffers) {\n",
       "          for (const buffer of message.buffers) {\n",
       "            buffers.push(buffer);\n",
       "            downloaded += buffer.byteLength;\n",
       "            progress.value = downloaded;\n",
       "          }\n",
       "        }\n",
       "      }\n",
       "      const blob = new Blob(buffers, {type: 'application/binary'});\n",
       "      const a = document.createElement('a');\n",
       "      a.href = window.URL.createObjectURL(blob);\n",
       "      a.download = filename;\n",
       "      div.appendChild(a);\n",
       "      a.click();\n",
       "      div.remove();\n",
       "    }\n",
       "  "
      ],
      "text/plain": [
       "<IPython.core.display.Javascript object>"
      ]
     },
     "metadata": {
      "tags": []
     },
     "output_type": "display_data"
    },
    {
     "data": {
      "application/javascript": [
       "download(\"download_a8ba0145-5ad3-4fbd-a780-d94ed098ac91\", \"fake_news1_local.csv\", 41609)"
      ],
      "text/plain": [
       "<IPython.core.display.Javascript object>"
      ]
     },
     "metadata": {
      "tags": []
     },
     "output_type": "display_data"
    }
   ],
   "source": [
    "test_pred = model.predict_classes(test_pad_sequneces)\n",
    "sample_df['label'] = test_pred[:,0].reshape(-1)\n",
    "sample_df.to_csv('fake_news1_local.csv', index = None)\n",
    "from google.colab import files\n",
    "files.download('fake_news1_local.csv') "
   ]
  },
  {
   "cell_type": "code",
   "execution_count": null,
   "metadata": {
    "id": "4UxxzGWvWRob"
   },
   "outputs": [],
   "source": [
    "MAX_SEQUENCE_LENGTH = 50"
   ]
  },
  {
   "cell_type": "code",
   "execution_count": null,
   "metadata": {
    "id": "Xo83pnwHVOHF"
   },
   "outputs": [],
   "source": [
    "def deep_model_stack(layer_name):\n",
    "  SEED = 42\n",
    "  np.random.seed(SEED)\n",
    "  tf.random.set_seed(SEED)\n",
    "\n",
    "  EMBEDDING_DIM = 300 #Dimension for dense embedding for each token\n",
    "  VOCAB_SIZE = len(tokenzer.word_index)\n",
    "  model = Sequential()\n",
    "  model.add((Embedding(input_dim =VOCAB_SIZE+1,output_dim = EMBEDDING_DIM,input_length = MAX_SEQUENCE_LENGTH)))\n",
    "  model.add((layer_name(128,return_sequences = True)))\n",
    "  model.add((layer_name(128, return_sequences=False)))\n",
    "  model.add((Dense(256,activation = 'relu')))\n",
    "  model.add(Dense(1,activation = 'sigmoid'))\n",
    "\n",
    "  model.compile(loss = 'binary_crossentropy',optimizer=\"adam\",metrics =['accuracy'])\n",
    "  return model"
   ]
  },
  {
   "cell_type": "code",
   "execution_count": null,
   "metadata": {
    "id": "SSOgV41zV6HT"
   },
   "outputs": [],
   "source": [
    "stack_model = deep_model_stack(LSTM)"
   ]
  },
  {
   "cell_type": "code",
   "execution_count": null,
   "metadata": {
    "colab": {
     "base_uri": "https://localhost:8080/"
    },
    "id": "oh2jCHBsWAPJ",
    "outputId": "9f5a4b83-4772-49c7-843d-806b064880c2"
   },
   "outputs": [
    {
     "name": "stdout",
     "output_type": "stream",
     "text": [
      "Model: \"sequential_20\"\n",
      "_________________________________________________________________\n",
      "Layer (type)                 Output Shape              Param #   \n",
      "=================================================================\n",
      "embedding_20 (Embedding)     (None, 50, 300)           6902100   \n",
      "_________________________________________________________________\n",
      "lstm_16 (LSTM)               (None, 50, 128)           219648    \n",
      "_________________________________________________________________\n",
      "lstm_17 (LSTM)               (None, 128)               131584    \n",
      "_________________________________________________________________\n",
      "dense_22 (Dense)             (None, 256)               33024     \n",
      "_________________________________________________________________\n",
      "dense_23 (Dense)             (None, 1)                 257       \n",
      "=================================================================\n",
      "Total params: 7,286,613\n",
      "Trainable params: 7,286,613\n",
      "Non-trainable params: 0\n",
      "_________________________________________________________________\n"
     ]
    }
   ],
   "source": [
    "stack_model.summary()"
   ]
  },
  {
   "cell_type": "code",
   "execution_count": null,
   "metadata": {
    "colab": {
     "base_uri": "https://localhost:8080/"
    },
    "id": "io0UXkQNWE9v",
    "outputId": "595e3d2d-4c0e-4dd0-f195-0b12ebff6433"
   },
   "outputs": [
    {
     "name": "stdout",
     "output_type": "stream",
     "text": [
      "Epoch 1/5\n",
      "585/585 [==============================] - 66s 107ms/step - loss: 0.4514 - accuracy: 0.8012 - val_loss: 0.3283 - val_accuracy: 0.9005\n",
      "Epoch 2/5\n",
      "585/585 [==============================] - 62s 106ms/step - loss: 0.2372 - accuracy: 0.9229 - val_loss: 0.2010 - val_accuracy: 0.9264\n",
      "Epoch 3/5\n",
      "585/585 [==============================] - 61s 104ms/step - loss: 0.1489 - accuracy: 0.9517 - val_loss: 0.1750 - val_accuracy: 0.9385\n",
      "Epoch 4/5\n",
      "585/585 [==============================] - 61s 105ms/step - loss: 0.0909 - accuracy: 0.9744 - val_loss: 0.1992 - val_accuracy: 0.9308\n",
      "Epoch 5/5\n",
      "585/585 [==============================] - 62s 106ms/step - loss: 0.0641 - accuracy: 0.9846 - val_loss: 0.2316 - val_accuracy: 0.9380\n"
     ]
    },
    {
     "data": {
      "text/plain": [
       "<tensorflow.python.keras.callbacks.History at 0x7f0eb50ef750>"
      ]
     },
     "execution_count": 155,
     "metadata": {
      "tags": []
     },
     "output_type": "execute_result"
    }
   ],
   "source": [
    "stack_model.fit(train_pad_sequences, y, epochs=5, validation_split=0.1)"
   ]
  },
  {
   "cell_type": "code",
   "execution_count": null,
   "metadata": {
    "id": "Ob3krn0SWJAs"
   },
   "outputs": [],
   "source": [
    "def predict(model, num):\n",
    "  test_pred = model.predict_classes(test_pad_sequneces)\n",
    "  sample_df['label'] = test_pred[:,0].reshape(-1)\n",
    "  sample_df.to_csv(f'fake_news{num}.csv', index = None)\n",
    "  from google.colab import files\n",
    "  files.download(f'fake_news{num}.csv') "
   ]
  },
  {
   "cell_type": "code",
   "execution_count": null,
   "metadata": {
    "colab": {
     "base_uri": "https://localhost:8080/",
     "height": 17
    },
    "id": "V8jrOhZcbphW",
    "outputId": "a91d426f-51aa-4397-baf0-825038bbcc45"
   },
   "outputs": [
    {
     "data": {
      "application/javascript": [
       "\n",
       "    async function download(id, filename, size) {\n",
       "      if (!google.colab.kernel.accessAllowed) {\n",
       "        return;\n",
       "      }\n",
       "      const div = document.createElement('div');\n",
       "      const label = document.createElement('label');\n",
       "      label.textContent = `Downloading \"${filename}\": `;\n",
       "      div.appendChild(label);\n",
       "      const progress = document.createElement('progress');\n",
       "      progress.max = size;\n",
       "      div.appendChild(progress);\n",
       "      document.body.appendChild(div);\n",
       "\n",
       "      const buffers = [];\n",
       "      let downloaded = 0;\n",
       "\n",
       "      const channel = await google.colab.kernel.comms.open(id);\n",
       "      // Send a message to notify the kernel that we're ready.\n",
       "      channel.send({})\n",
       "\n",
       "      for await (const message of channel.messages) {\n",
       "        // Send a message to notify the kernel that we're ready.\n",
       "        channel.send({})\n",
       "        if (message.buffers) {\n",
       "          for (const buffer of message.buffers) {\n",
       "            buffers.push(buffer);\n",
       "            downloaded += buffer.byteLength;\n",
       "            progress.value = downloaded;\n",
       "          }\n",
       "        }\n",
       "      }\n",
       "      const blob = new Blob(buffers, {type: 'application/binary'});\n",
       "      const a = document.createElement('a');\n",
       "      a.href = window.URL.createObjectURL(blob);\n",
       "      a.download = filename;\n",
       "      div.appendChild(a);\n",
       "      a.click();\n",
       "      div.remove();\n",
       "    }\n",
       "  "
      ],
      "text/plain": [
       "<IPython.core.display.Javascript object>"
      ]
     },
     "metadata": {
      "tags": []
     },
     "output_type": "display_data"
    },
    {
     "data": {
      "application/javascript": [
       "download(\"download_202eebb3-2f85-429f-9689-5343f6a62179\", \"fake_newsstack_LSTM.csv\", 41609)"
      ],
      "text/plain": [
       "<IPython.core.display.Javascript object>"
      ]
     },
     "metadata": {
      "tags": []
     },
     "output_type": "display_data"
    }
   ],
   "source": [
    "predict(stack_model,'stack_LSTM')"
   ]
  },
  {
   "cell_type": "code",
   "execution_count": null,
   "metadata": {
    "id": "BwzXSxt3ZD4G"
   },
   "outputs": [],
   "source": [
    "stack_model_gru = deep_model_stack(GRU)"
   ]
  },
  {
   "cell_type": "code",
   "execution_count": null,
   "metadata": {
    "colab": {
     "base_uri": "https://localhost:8080/"
    },
    "id": "70rKGmkLZMiB",
    "outputId": "7bf1689a-2362-424e-b379-4f5620b7de55"
   },
   "outputs": [
    {
     "name": "stdout",
     "output_type": "stream",
     "text": [
      "Model: \"sequential_26\"\n",
      "_________________________________________________________________\n",
      "Layer (type)                 Output Shape              Param #   \n",
      "=================================================================\n",
      "embedding_26 (Embedding)     (None, 50, 300)           6902100   \n",
      "_________________________________________________________________\n",
      "gru_8 (GRU)                  (None, 50, 128)           165120    \n",
      "_________________________________________________________________\n",
      "gru_9 (GRU)                  (None, 128)               99072     \n",
      "_________________________________________________________________\n",
      "dense_34 (Dense)             (None, 256)               33024     \n",
      "_________________________________________________________________\n",
      "dense_35 (Dense)             (None, 1)                 257       \n",
      "=================================================================\n",
      "Total params: 7,199,573\n",
      "Trainable params: 7,199,573\n",
      "Non-trainable params: 0\n",
      "_________________________________________________________________\n"
     ]
    }
   ],
   "source": [
    "stack_model_gru.summary()"
   ]
  },
  {
   "cell_type": "code",
   "execution_count": null,
   "metadata": {
    "colab": {
     "base_uri": "https://localhost:8080/"
    },
    "id": "zR8-yM-mcOmd",
    "outputId": "666fad40-cd90-4109-ce6f-0d917e7d5cb2"
   },
   "outputs": [
    {
     "name": "stdout",
     "output_type": "stream",
     "text": [
      "Epoch 1/3\n",
      "585/585 [==============================] - 64s 109ms/step - loss: 0.6936 - accuracy: 0.5059 - val_loss: 0.6927 - val_accuracy: 0.5192\n",
      "Epoch 2/3\n",
      "585/585 [==============================] - 62s 107ms/step - loss: 0.6934 - accuracy: 0.4968 - val_loss: 0.6927 - val_accuracy: 0.5192\n",
      "Epoch 3/3\n",
      "585/585 [==============================] - 62s 107ms/step - loss: 0.6933 - accuracy: 0.5004 - val_loss: 0.6946 - val_accuracy: 0.4808\n"
     ]
    },
    {
     "data": {
      "text/plain": [
       "<tensorflow.python.keras.callbacks.History at 0x7f0e93971f90>"
      ]
     },
     "execution_count": 179,
     "metadata": {
      "tags": []
     },
     "output_type": "execute_result"
    }
   ],
   "source": [
    "stack_model_gru.fit(train_pad_sequences, y, epochs=3, validation_split=0.1)"
   ]
  },
  {
   "cell_type": "code",
   "execution_count": null,
   "metadata": {
    "colab": {
     "base_uri": "https://localhost:8080/",
     "height": 17
    },
    "id": "lkAUA3yPeiRe",
    "outputId": "913e98df-3e48-4cc5-81f6-ce84bfcd73c5"
   },
   "outputs": [
    {
     "data": {
      "application/javascript": [
       "\n",
       "    async function download(id, filename, size) {\n",
       "      if (!google.colab.kernel.accessAllowed) {\n",
       "        return;\n",
       "      }\n",
       "      const div = document.createElement('div');\n",
       "      const label = document.createElement('label');\n",
       "      label.textContent = `Downloading \"${filename}\": `;\n",
       "      div.appendChild(label);\n",
       "      const progress = document.createElement('progress');\n",
       "      progress.max = size;\n",
       "      div.appendChild(progress);\n",
       "      document.body.appendChild(div);\n",
       "\n",
       "      const buffers = [];\n",
       "      let downloaded = 0;\n",
       "\n",
       "      const channel = await google.colab.kernel.comms.open(id);\n",
       "      // Send a message to notify the kernel that we're ready.\n",
       "      channel.send({})\n",
       "\n",
       "      for await (const message of channel.messages) {\n",
       "        // Send a message to notify the kernel that we're ready.\n",
       "        channel.send({})\n",
       "        if (message.buffers) {\n",
       "          for (const buffer of message.buffers) {\n",
       "            buffers.push(buffer);\n",
       "            downloaded += buffer.byteLength;\n",
       "            progress.value = downloaded;\n",
       "          }\n",
       "        }\n",
       "      }\n",
       "      const blob = new Blob(buffers, {type: 'application/binary'});\n",
       "      const a = document.createElement('a');\n",
       "      a.href = window.URL.createObjectURL(blob);\n",
       "      a.download = filename;\n",
       "      div.appendChild(a);\n",
       "      a.click();\n",
       "      div.remove();\n",
       "    }\n",
       "  "
      ],
      "text/plain": [
       "<IPython.core.display.Javascript object>"
      ]
     },
     "metadata": {
      "tags": []
     },
     "output_type": "display_data"
    },
    {
     "data": {
      "application/javascript": [
       "download(\"download_7ed58851-08fa-4d76-bba9-51f0fcf725f0\", \"fake_news stack_GRU.csv\", 41609)"
      ],
      "text/plain": [
       "<IPython.core.display.Javascript object>"
      ]
     },
     "metadata": {
      "tags": []
     },
     "output_type": "display_data"
    }
   ],
   "source": [
    "predict(stack_model_gru,' stack_GRU')"
   ]
  },
  {
   "cell_type": "code",
   "execution_count": null,
   "metadata": {
    "id": "T2PRlllAYMce"
   },
   "outputs": [],
   "source": [
    "def deep_model_stack_bidirect(layer_name):\n",
    "  SEED = 42\n",
    "  np.random.seed(SEED)\n",
    "  tf.random.set_seed(SEED)\n",
    "\n",
    "  EMBEDDING_DIM = 300 #Dimension for dense embedding for each token\n",
    "  VOCAB_SIZE = len(tokenzer.word_index)\n",
    "  model = Sequential()\n",
    "  model.add((Embedding(input_dim =VOCAB_SIZE+1,output_dim = EMBEDDING_DIM,input_length = MAX_SEQUENCE_LENGTH)))\n",
    "  model.add(Bidirectional(layer_name(128,return_sequences = True)))\n",
    "  model.add(Bidirectional(layer_name(128, return_sequences=False)))\n",
    "  model.add((Dense(256,activation = 'relu')))\n",
    "  model.add(Dense(1,activation = 'sigmoid'))\n",
    "\n",
    "  model.compile(loss = 'binary_crossentropy',optimizer=\"adam\",metrics =['accuracy'])\n",
    "  return model"
   ]
  },
  {
   "cell_type": "code",
   "execution_count": null,
   "metadata": {
    "colab": {
     "base_uri": "https://localhost:8080/"
    },
    "id": "iYj3pvJRfQ0x",
    "outputId": "1d746688-8e74-4a81-daa0-39ecd889f6cc"
   },
   "outputs": [
    {
     "name": "stdout",
     "output_type": "stream",
     "text": [
      "Model: \"sequential_24\"\n",
      "_________________________________________________________________\n",
      "Layer (type)                 Output Shape              Param #   \n",
      "=================================================================\n",
      "embedding_24 (Embedding)     (None, 50, 300)           6902100   \n",
      "_________________________________________________________________\n",
      "bidirectional_14 (Bidirectio (None, 50, 256)           439296    \n",
      "_________________________________________________________________\n",
      "bidirectional_15 (Bidirectio (None, 256)               394240    \n",
      "_________________________________________________________________\n",
      "dense_30 (Dense)             (None, 256)               65792     \n",
      "_________________________________________________________________\n",
      "dense_31 (Dense)             (None, 1)                 257       \n",
      "=================================================================\n",
      "Total params: 7,801,685\n",
      "Trainable params: 7,801,685\n",
      "Non-trainable params: 0\n",
      "_________________________________________________________________\n"
     ]
    }
   ],
   "source": [
    "bidirect_stack_LSTM = deep_model_stack_bidirect(LSTM)\n",
    "bidirect_stack_LSTM.summary()"
   ]
  },
  {
   "cell_type": "code",
   "execution_count": null,
   "metadata": {
    "colab": {
     "base_uri": "https://localhost:8080/"
    },
    "id": "u-MnTxphfdoH",
    "outputId": "bd2cb20c-f01a-48f3-ddba-6099d4343c48"
   },
   "outputs": [
    {
     "name": "stdout",
     "output_type": "stream",
     "text": [
      "Epoch 1/5\n",
      "585/585 [==============================] - 92s 147ms/step - loss: 0.1942 - accuracy: 0.9177 - val_loss: 0.1553 - val_accuracy: 0.9447\n",
      "Epoch 2/5\n",
      "585/585 [==============================] - 83s 141ms/step - loss: 0.0661 - accuracy: 0.9776 - val_loss: 0.1669 - val_accuracy: 0.9380\n",
      "Epoch 3/5\n",
      "585/585 [==============================] - 84s 143ms/step - loss: 0.0260 - accuracy: 0.9918 - val_loss: 0.2618 - val_accuracy: 0.9317\n",
      "Epoch 4/5\n",
      "585/585 [==============================] - 83s 141ms/step - loss: 0.0098 - accuracy: 0.9973 - val_loss: 0.3350 - val_accuracy: 0.9236\n",
      "Epoch 5/5\n",
      "585/585 [==============================] - 82s 140ms/step - loss: 0.0091 - accuracy: 0.9975 - val_loss: 0.3896 - val_accuracy: 0.9149\n"
     ]
    },
    {
     "data": {
      "text/plain": [
       "<tensorflow.python.keras.callbacks.History at 0x7f0e991ae4d0>"
      ]
     },
     "execution_count": 170,
     "metadata": {
      "tags": []
     },
     "output_type": "execute_result"
    }
   ],
   "source": [
    "bidirect_stack_LSTM.fit(train_pad_sequences, y, epochs=5, validation_split=0.1)"
   ]
  },
  {
   "cell_type": "code",
   "execution_count": null,
   "metadata": {
    "colab": {
     "base_uri": "https://localhost:8080/",
     "height": 17
    },
    "id": "mrlFoBwPfsbs",
    "outputId": "7169f006-0b75-4d4d-d99a-73595bb45fb2"
   },
   "outputs": [
    {
     "data": {
      "application/javascript": [
       "\n",
       "    async function download(id, filename, size) {\n",
       "      if (!google.colab.kernel.accessAllowed) {\n",
       "        return;\n",
       "      }\n",
       "      const div = document.createElement('div');\n",
       "      const label = document.createElement('label');\n",
       "      label.textContent = `Downloading \"${filename}\": `;\n",
       "      div.appendChild(label);\n",
       "      const progress = document.createElement('progress');\n",
       "      progress.max = size;\n",
       "      div.appendChild(progress);\n",
       "      document.body.appendChild(div);\n",
       "\n",
       "      const buffers = [];\n",
       "      let downloaded = 0;\n",
       "\n",
       "      const channel = await google.colab.kernel.comms.open(id);\n",
       "      // Send a message to notify the kernel that we're ready.\n",
       "      channel.send({})\n",
       "\n",
       "      for await (const message of channel.messages) {\n",
       "        // Send a message to notify the kernel that we're ready.\n",
       "        channel.send({})\n",
       "        if (message.buffers) {\n",
       "          for (const buffer of message.buffers) {\n",
       "            buffers.push(buffer);\n",
       "            downloaded += buffer.byteLength;\n",
       "            progress.value = downloaded;\n",
       "          }\n",
       "        }\n",
       "      }\n",
       "      const blob = new Blob(buffers, {type: 'application/binary'});\n",
       "      const a = document.createElement('a');\n",
       "      a.href = window.URL.createObjectURL(blob);\n",
       "      a.download = filename;\n",
       "      div.appendChild(a);\n",
       "      a.click();\n",
       "      div.remove();\n",
       "    }\n",
       "  "
      ],
      "text/plain": [
       "<IPython.core.display.Javascript object>"
      ]
     },
     "metadata": {
      "tags": []
     },
     "output_type": "display_data"
    },
    {
     "data": {
      "application/javascript": [
       "download(\"download_834347f8-b345-4484-b7cb-ff91cb3d6578\", \"fake_news bidirec_LSTM.csv\", 41609)"
      ],
      "text/plain": [
       "<IPython.core.display.Javascript object>"
      ]
     },
     "metadata": {
      "tags": []
     },
     "output_type": "display_data"
    }
   ],
   "source": [
    "predict(bidirect_stack_LSTM,' bidirec_LSTM')"
   ]
  },
  {
   "cell_type": "code",
   "execution_count": null,
   "metadata": {
    "colab": {
     "base_uri": "https://localhost:8080/"
    },
    "id": "DZ38kxSRheRw",
    "outputId": "7a0e4f7e-fc1c-4b4a-c2c0-4f7056a44366"
   },
   "outputs": [
    {
     "name": "stdout",
     "output_type": "stream",
     "text": [
      "Model: \"sequential_25\"\n",
      "_________________________________________________________________\n",
      "Layer (type)                 Output Shape              Param #   \n",
      "=================================================================\n",
      "embedding_25 (Embedding)     (None, 50, 300)           6902100   \n",
      "_________________________________________________________________\n",
      "bidirectional_16 (Bidirectio (None, 50, 256)           330240    \n",
      "_________________________________________________________________\n",
      "bidirectional_17 (Bidirectio (None, 256)               296448    \n",
      "_________________________________________________________________\n",
      "dense_32 (Dense)             (None, 256)               65792     \n",
      "_________________________________________________________________\n",
      "dense_33 (Dense)             (None, 1)                 257       \n",
      "=================================================================\n",
      "Total params: 7,594,837\n",
      "Trainable params: 7,594,837\n",
      "Non-trainable params: 0\n",
      "_________________________________________________________________\n"
     ]
    }
   ],
   "source": [
    "bidirect_stack_GRU = deep_model_stack_bidirect(GRU)\n",
    "bidirect_stack_GRU.summary()"
   ]
  },
  {
   "cell_type": "code",
   "execution_count": null,
   "metadata": {
    "colab": {
     "base_uri": "https://localhost:8080/"
    },
    "id": "onVrKEqthwFa",
    "outputId": "2f640b52-c425-4efb-ab61-c57d62c5ccb1"
   },
   "outputs": [
    {
     "name": "stdout",
     "output_type": "stream",
     "text": [
      "Epoch 1/5\n",
      "585/585 [==============================] - 90s 144ms/step - loss: 0.1907 - accuracy: 0.9179 - val_loss: 0.1548 - val_accuracy: 0.9433\n",
      "Epoch 2/5\n",
      "585/585 [==============================] - 82s 139ms/step - loss: 0.0592 - accuracy: 0.9785 - val_loss: 0.1769 - val_accuracy: 0.9317\n",
      "Epoch 3/5\n",
      "585/585 [==============================] - 83s 142ms/step - loss: 0.0212 - accuracy: 0.9927 - val_loss: 0.3401 - val_accuracy: 0.9284\n",
      "Epoch 4/5\n",
      "585/585 [==============================] - 83s 142ms/step - loss: 0.0112 - accuracy: 0.9965 - val_loss: 0.2908 - val_accuracy: 0.9351\n",
      "Epoch 5/5\n",
      "585/585 [==============================] - 81s 139ms/step - loss: 0.0059 - accuracy: 0.9985 - val_loss: 0.3917 - val_accuracy: 0.9245\n"
     ]
    },
    {
     "data": {
      "text/plain": [
       "<tensorflow.python.keras.callbacks.History at 0x7f0e95971650>"
      ]
     },
     "execution_count": 173,
     "metadata": {
      "tags": []
     },
     "output_type": "execute_result"
    }
   ],
   "source": [
    "bidirect_stack_GRU.fit(train_pad_sequences, y, epochs=5, validation_split=0.1)"
   ]
  },
  {
   "cell_type": "code",
   "execution_count": null,
   "metadata": {
    "colab": {
     "base_uri": "https://localhost:8080/",
     "height": 17
    },
    "id": "aabsTHulh101",
    "outputId": "87cad136-9903-413b-a7ec-9cdae922aa3f"
   },
   "outputs": [
    {
     "data": {
      "application/javascript": [
       "\n",
       "    async function download(id, filename, size) {\n",
       "      if (!google.colab.kernel.accessAllowed) {\n",
       "        return;\n",
       "      }\n",
       "      const div = document.createElement('div');\n",
       "      const label = document.createElement('label');\n",
       "      label.textContent = `Downloading \"${filename}\": `;\n",
       "      div.appendChild(label);\n",
       "      const progress = document.createElement('progress');\n",
       "      progress.max = size;\n",
       "      div.appendChild(progress);\n",
       "      document.body.appendChild(div);\n",
       "\n",
       "      const buffers = [];\n",
       "      let downloaded = 0;\n",
       "\n",
       "      const channel = await google.colab.kernel.comms.open(id);\n",
       "      // Send a message to notify the kernel that we're ready.\n",
       "      channel.send({})\n",
       "\n",
       "      for await (const message of channel.messages) {\n",
       "        // Send a message to notify the kernel that we're ready.\n",
       "        channel.send({})\n",
       "        if (message.buffers) {\n",
       "          for (const buffer of message.buffers) {\n",
       "            buffers.push(buffer);\n",
       "            downloaded += buffer.byteLength;\n",
       "            progress.value = downloaded;\n",
       "          }\n",
       "        }\n",
       "      }\n",
       "      const blob = new Blob(buffers, {type: 'application/binary'});\n",
       "      const a = document.createElement('a');\n",
       "      a.href = window.URL.createObjectURL(blob);\n",
       "      a.download = filename;\n",
       "      div.appendChild(a);\n",
       "      a.click();\n",
       "      div.remove();\n",
       "    }\n",
       "  "
      ],
      "text/plain": [
       "<IPython.core.display.Javascript object>"
      ]
     },
     "metadata": {
      "tags": []
     },
     "output_type": "display_data"
    },
    {
     "data": {
      "application/javascript": [
       "download(\"download_cf5c9bcf-d94c-4404-9fda-1611ae930174\", \"fake_news bidirec_GRU.csv\", 41609)"
      ],
      "text/plain": [
       "<IPython.core.display.Javascript object>"
      ]
     },
     "metadata": {
      "tags": []
     },
     "output_type": "display_data"
    }
   ],
   "source": [
    "predict(bidirect_stack_GRU,' bidirec_GRU')"
   ]
  }
 ],
 "metadata": {
  "colab": {
   "collapsed_sections": [],
   "name": "Kaggle Fake News Classifier.ipynb",
   "provenance": []
  },
  "kernelspec": {
   "display_name": "Python 3",
   "language": "python",
   "name": "python3"
  },
  "language_info": {
   "codemirror_mode": {
    "name": "ipython",
    "version": 3
   },
   "file_extension": ".py",
   "mimetype": "text/x-python",
   "name": "python",
   "nbconvert_exporter": "python",
   "pygments_lexer": "ipython3",
   "version": "3.7.10"
  }
 },
 "nbformat": 4,
 "nbformat_minor": 1
}
