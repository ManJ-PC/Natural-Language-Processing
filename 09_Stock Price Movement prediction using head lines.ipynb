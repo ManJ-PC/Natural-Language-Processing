{
 "cells": [
  {
   "cell_type": "markdown",
   "metadata": {},
   "source": [
    "## Stock Price movement prediction using head lines"
   ]
  },
  {
   "cell_type": "markdown",
   "metadata": {},
   "source": [
    "Dataset Link: https://www.kaggle.com/aaron7sun/stocknews"
   ]
  },
  {
   "cell_type": "code",
   "execution_count": 2,
   "metadata": {
    "_cell_guid": "b1076dfc-b9ad-4769-8c92-a6c4dae69d19",
    "_uuid": "8f2839f25d086af736a60e9eeb907d3b93b6e0e5",
    "execution": {
     "iopub.execute_input": "2021-08-12T05:12:21.821575Z",
     "iopub.status.busy": "2021-08-12T05:12:21.821265Z",
     "iopub.status.idle": "2021-08-12T05:12:21.830736Z",
     "shell.execute_reply": "2021-08-12T05:12:21.829793Z",
     "shell.execute_reply.started": "2021-08-12T05:12:21.821545Z"
    }
   },
   "outputs": [
    {
     "name": "stdout",
     "output_type": "stream",
     "text": [
      "/kaggle/input/stocknews/upload_DJIA_table.csv\n",
      "/kaggle/input/stocknews/Combined_News_DJIA.csv\n",
      "/kaggle/input/stocknews/RedditNews.csv\n"
     ]
    }
   ],
   "source": [
    "# This Python 3 environment comes with many helpful analytics libraries installed\n",
    "# It is defined by the kaggle/python Docker image: https://github.com/kaggle/docker-python\n",
    "# For example, here's several helpful packages to load\n",
    "\n",
    "import numpy as np # linear algebra\n",
    "import pandas as pd # data processing, CSV file I/O (e.g. pd.read_csv)\n",
    "\n",
    "# Input data files are available in the read-only \"../input/\" directory\n",
    "# For example, running this (by clicking run or pressing Shift+Enter) will list all files under the input directory\n",
    "\n",
    "import os\n",
    "for dirname, _, filenames in os.walk('/kaggle/input'):\n",
    "    for filename in filenames:\n",
    "        print(os.path.join(dirname, filename))\n",
    "\n",
    "# You can write up to 20GB to the current directory (/kaggle/working/) that gets preserved as output when you create a version using \"Save & Run All\" \n",
    "# You can also write temporary files to /kaggle/temp/, but they won't be saved outside of the current session"
   ]
  },
  {
   "cell_type": "code",
   "execution_count": 3,
   "metadata": {
    "execution": {
     "iopub.execute_input": "2021-08-12T05:12:23.491496Z",
     "iopub.status.busy": "2021-08-12T05:12:23.491181Z",
     "iopub.status.idle": "2021-08-12T05:12:23.495643Z",
     "shell.execute_reply": "2021-08-12T05:12:23.494554Z",
     "shell.execute_reply.started": "2021-08-12T05:12:23.491465Z"
    }
   },
   "outputs": [],
   "source": [
    "import pandas as pd"
   ]
  },
  {
   "cell_type": "code",
   "execution_count": 4,
   "metadata": {
    "execution": {
     "iopub.execute_input": "2021-08-12T05:12:25.558345Z",
     "iopub.status.busy": "2021-08-12T05:12:25.558037Z",
     "iopub.status.idle": "2021-08-12T05:12:25.796241Z",
     "shell.execute_reply": "2021-08-12T05:12:25.795432Z",
     "shell.execute_reply.started": "2021-08-12T05:12:25.558317Z"
    }
   },
   "outputs": [],
   "source": [
    "df = pd.read_csv('/kaggle/input/stocknews/Combined_News_DJIA.csv')"
   ]
  },
  {
   "cell_type": "code",
   "execution_count": 5,
   "metadata": {
    "execution": {
     "iopub.execute_input": "2021-08-12T05:12:26.290826Z",
     "iopub.status.busy": "2021-08-12T05:12:26.290461Z",
     "iopub.status.idle": "2021-08-12T05:12:26.299657Z",
     "shell.execute_reply": "2021-08-12T05:12:26.298723Z",
     "shell.execute_reply.started": "2021-08-12T05:12:26.290786Z"
    }
   },
   "outputs": [
    {
     "data": {
      "text/plain": [
       "(1989, 27)"
      ]
     },
     "execution_count": 5,
     "metadata": {},
     "output_type": "execute_result"
    }
   ],
   "source": [
    "df.shape"
   ]
  },
  {
   "cell_type": "code",
   "execution_count": 6,
   "metadata": {
    "execution": {
     "iopub.execute_input": "2021-08-12T05:12:28.247458Z",
     "iopub.status.busy": "2021-08-12T05:12:28.247128Z",
     "iopub.status.idle": "2021-08-12T05:12:28.289604Z",
     "shell.execute_reply": "2021-08-12T05:12:28.288824Z",
     "shell.execute_reply.started": "2021-08-12T05:12:28.247426Z"
    }
   },
   "outputs": [
    {
     "data": {
      "text/html": [
       "<div>\n",
       "<style scoped>\n",
       "    .dataframe tbody tr th:only-of-type {\n",
       "        vertical-align: middle;\n",
       "    }\n",
       "\n",
       "    .dataframe tbody tr th {\n",
       "        vertical-align: top;\n",
       "    }\n",
       "\n",
       "    .dataframe thead th {\n",
       "        text-align: right;\n",
       "    }\n",
       "</style>\n",
       "<table border=\"1\" class=\"dataframe\">\n",
       "  <thead>\n",
       "    <tr style=\"text-align: right;\">\n",
       "      <th></th>\n",
       "      <th>Date</th>\n",
       "      <th>Label</th>\n",
       "      <th>Top1</th>\n",
       "      <th>Top2</th>\n",
       "      <th>Top3</th>\n",
       "      <th>Top4</th>\n",
       "      <th>Top5</th>\n",
       "      <th>Top6</th>\n",
       "      <th>Top7</th>\n",
       "      <th>Top8</th>\n",
       "      <th>...</th>\n",
       "      <th>Top16</th>\n",
       "      <th>Top17</th>\n",
       "      <th>Top18</th>\n",
       "      <th>Top19</th>\n",
       "      <th>Top20</th>\n",
       "      <th>Top21</th>\n",
       "      <th>Top22</th>\n",
       "      <th>Top23</th>\n",
       "      <th>Top24</th>\n",
       "      <th>Top25</th>\n",
       "    </tr>\n",
       "  </thead>\n",
       "  <tbody>\n",
       "    <tr>\n",
       "      <th>0</th>\n",
       "      <td>2008-08-08</td>\n",
       "      <td>0</td>\n",
       "      <td>b\"Georgia 'downs two Russian warplanes' as cou...</td>\n",
       "      <td>b'BREAKING: Musharraf to be impeached.'</td>\n",
       "      <td>b'Russia Today: Columns of troops roll into So...</td>\n",
       "      <td>b'Russian tanks are moving towards the capital...</td>\n",
       "      <td>b\"Afghan children raped with 'impunity,' U.N. ...</td>\n",
       "      <td>b'150 Russian tanks have entered South Ossetia...</td>\n",
       "      <td>b\"Breaking: Georgia invades South Ossetia, Rus...</td>\n",
       "      <td>b\"The 'enemy combatent' trials are nothing but...</td>\n",
       "      <td>...</td>\n",
       "      <td>b'Georgia Invades South Ossetia - if Russia ge...</td>\n",
       "      <td>b'Al-Qaeda Faces Islamist Backlash'</td>\n",
       "      <td>b'Condoleezza Rice: \"The US would not act to p...</td>\n",
       "      <td>b'This is a busy day:  The European Union has ...</td>\n",
       "      <td>b\"Georgia will withdraw 1,000 soldiers from Ir...</td>\n",
       "      <td>b'Why the Pentagon Thinks Attacking Iran is a ...</td>\n",
       "      <td>b'Caucasus in crisis: Georgia invades South Os...</td>\n",
       "      <td>b'Indian shoe manufactory  - And again in a se...</td>\n",
       "      <td>b'Visitors Suffering from Mental Illnesses Ban...</td>\n",
       "      <td>b\"No Help for Mexico's Kidnapping Surge\"</td>\n",
       "    </tr>\n",
       "    <tr>\n",
       "      <th>1</th>\n",
       "      <td>2008-08-11</td>\n",
       "      <td>1</td>\n",
       "      <td>b'Why wont America and Nato help us? If they w...</td>\n",
       "      <td>b'Bush puts foot down on Georgian conflict'</td>\n",
       "      <td>b\"Jewish Georgian minister: Thanks to Israeli ...</td>\n",
       "      <td>b'Georgian army flees in disarray as Russians ...</td>\n",
       "      <td>b\"Olympic opening ceremony fireworks 'faked'\"</td>\n",
       "      <td>b'What were the Mossad with fraudulent New Zea...</td>\n",
       "      <td>b'Russia angered by Israeli military sale to G...</td>\n",
       "      <td>b'An American citizen living in S.Ossetia blam...</td>\n",
       "      <td>...</td>\n",
       "      <td>b'Israel and the US behind the Georgian aggres...</td>\n",
       "      <td>b'\"Do not believe TV, neither Russian nor Geor...</td>\n",
       "      <td>b'Riots are still going on in Montreal (Canada...</td>\n",
       "      <td>b'China to overtake US as largest manufacturer'</td>\n",
       "      <td>b'War in South Ossetia [PICS]'</td>\n",
       "      <td>b'Israeli Physicians Group Condemns State Tort...</td>\n",
       "      <td>b' Russia has just beaten the United States ov...</td>\n",
       "      <td>b'Perhaps *the* question about the Georgia - R...</td>\n",
       "      <td>b'Russia is so much better at war'</td>\n",
       "      <td>b\"So this is what it's come to: trading sex fo...</td>\n",
       "    </tr>\n",
       "    <tr>\n",
       "      <th>2</th>\n",
       "      <td>2008-08-12</td>\n",
       "      <td>0</td>\n",
       "      <td>b'Remember that adorable 9-year-old who sang a...</td>\n",
       "      <td>b\"Russia 'ends Georgia operation'\"</td>\n",
       "      <td>b'\"If we had no sexual harassment we would hav...</td>\n",
       "      <td>b\"Al-Qa'eda is losing support in Iraq because ...</td>\n",
       "      <td>b'Ceasefire in Georgia: Putin Outmaneuvers the...</td>\n",
       "      <td>b'Why Microsoft and Intel tried to kill the XO...</td>\n",
       "      <td>b'Stratfor: The Russo-Georgian War and the Bal...</td>\n",
       "      <td>b\"I'm Trying to Get a Sense of This Whole Geor...</td>\n",
       "      <td>...</td>\n",
       "      <td>b'U.S. troops still in Georgia (did you know t...</td>\n",
       "      <td>b'Why Russias response to Georgia was right'</td>\n",
       "      <td>b'Gorbachev accuses U.S. of making a \"serious ...</td>\n",
       "      <td>b'Russia, Georgia, and NATO: Cold War Two'</td>\n",
       "      <td>b'Remember that adorable 62-year-old who led y...</td>\n",
       "      <td>b'War in Georgia: The Israeli connection'</td>\n",
       "      <td>b'All signs point to the US encouraging Georgi...</td>\n",
       "      <td>b'Christopher King argues that the US and NATO...</td>\n",
       "      <td>b'America: The New Mexico?'</td>\n",
       "      <td>b\"BBC NEWS | Asia-Pacific | Extinction 'by man...</td>\n",
       "    </tr>\n",
       "    <tr>\n",
       "      <th>3</th>\n",
       "      <td>2008-08-13</td>\n",
       "      <td>0</td>\n",
       "      <td>b' U.S. refuses Israel weapons to attack Iran:...</td>\n",
       "      <td>b\"When the president ordered to attack Tskhinv...</td>\n",
       "      <td>b' Israel clears troops who killed Reuters cam...</td>\n",
       "      <td>b'Britain\\'s policy of being tough on drugs is...</td>\n",
       "      <td>b'Body of 14 year old found in trunk; Latest (...</td>\n",
       "      <td>b'China has moved 10 *million* quake survivors...</td>\n",
       "      <td>b\"Bush announces Operation Get All Up In Russi...</td>\n",
       "      <td>b'Russian forces sink Georgian ships '</td>\n",
       "      <td>...</td>\n",
       "      <td>b'Elephants extinct by 2020?'</td>\n",
       "      <td>b'US humanitarian missions soon in Georgia - i...</td>\n",
       "      <td>b\"Georgia's DDOS came from US sources\"</td>\n",
       "      <td>b'Russian convoy heads into Georgia, violating...</td>\n",
       "      <td>b'Israeli defence minister: US against strike ...</td>\n",
       "      <td>b'Gorbachev: We Had No Choice'</td>\n",
       "      <td>b'Witness: Russian forces head towards Tbilisi...</td>\n",
       "      <td>b' Quarter of Russians blame U.S. for conflict...</td>\n",
       "      <td>b'Georgian president  says US military will ta...</td>\n",
       "      <td>b'2006: Nobel laureate Aleksander Solzhenitsyn...</td>\n",
       "    </tr>\n",
       "    <tr>\n",
       "      <th>4</th>\n",
       "      <td>2008-08-14</td>\n",
       "      <td>1</td>\n",
       "      <td>b'All the experts admit that we should legalis...</td>\n",
       "      <td>b'War in South Osetia - 89 pictures made by a ...</td>\n",
       "      <td>b'Swedish wrestler Ara Abrahamian throws away ...</td>\n",
       "      <td>b'Russia exaggerated the death toll in South O...</td>\n",
       "      <td>b'Missile That Killed 9 Inside Pakistan May Ha...</td>\n",
       "      <td>b\"Rushdie Condemns Random House's Refusal to P...</td>\n",
       "      <td>b'Poland and US agree to missle defense deal. ...</td>\n",
       "      <td>b'Will the Russians conquer Tblisi? Bet on it,...</td>\n",
       "      <td>...</td>\n",
       "      <td>b'Bank analyst forecast Georgian crisis 2 days...</td>\n",
       "      <td>b\"Georgia confict could set back Russia's US r...</td>\n",
       "      <td>b'War in the Caucasus is as much the product o...</td>\n",
       "      <td>b'\"Non-media\" photos of South Ossetia/Georgia ...</td>\n",
       "      <td>b'Georgian TV reporter shot by Russian sniper ...</td>\n",
       "      <td>b'Saudi Arabia: Mother moves to block child ma...</td>\n",
       "      <td>b'Taliban wages war on humanitarian aid workers'</td>\n",
       "      <td>b'Russia: World  \"can forget about\" Georgia\\'s...</td>\n",
       "      <td>b'Darfur rebels accuse Sudan of mounting major...</td>\n",
       "      <td>b'Philippines : Peace Advocate say Muslims nee...</td>\n",
       "    </tr>\n",
       "  </tbody>\n",
       "</table>\n",
       "<p>5 rows × 27 columns</p>\n",
       "</div>"
      ],
      "text/plain": [
       "         Date  Label                                               Top1  \\\n",
       "0  2008-08-08      0  b\"Georgia 'downs two Russian warplanes' as cou...   \n",
       "1  2008-08-11      1  b'Why wont America and Nato help us? If they w...   \n",
       "2  2008-08-12      0  b'Remember that adorable 9-year-old who sang a...   \n",
       "3  2008-08-13      0  b' U.S. refuses Israel weapons to attack Iran:...   \n",
       "4  2008-08-14      1  b'All the experts admit that we should legalis...   \n",
       "\n",
       "                                                Top2  \\\n",
       "0            b'BREAKING: Musharraf to be impeached.'   \n",
       "1        b'Bush puts foot down on Georgian conflict'   \n",
       "2                 b\"Russia 'ends Georgia operation'\"   \n",
       "3  b\"When the president ordered to attack Tskhinv...   \n",
       "4  b'War in South Osetia - 89 pictures made by a ...   \n",
       "\n",
       "                                                Top3  \\\n",
       "0  b'Russia Today: Columns of troops roll into So...   \n",
       "1  b\"Jewish Georgian minister: Thanks to Israeli ...   \n",
       "2  b'\"If we had no sexual harassment we would hav...   \n",
       "3  b' Israel clears troops who killed Reuters cam...   \n",
       "4  b'Swedish wrestler Ara Abrahamian throws away ...   \n",
       "\n",
       "                                                Top4  \\\n",
       "0  b'Russian tanks are moving towards the capital...   \n",
       "1  b'Georgian army flees in disarray as Russians ...   \n",
       "2  b\"Al-Qa'eda is losing support in Iraq because ...   \n",
       "3  b'Britain\\'s policy of being tough on drugs is...   \n",
       "4  b'Russia exaggerated the death toll in South O...   \n",
       "\n",
       "                                                Top5  \\\n",
       "0  b\"Afghan children raped with 'impunity,' U.N. ...   \n",
       "1      b\"Olympic opening ceremony fireworks 'faked'\"   \n",
       "2  b'Ceasefire in Georgia: Putin Outmaneuvers the...   \n",
       "3  b'Body of 14 year old found in trunk; Latest (...   \n",
       "4  b'Missile That Killed 9 Inside Pakistan May Ha...   \n",
       "\n",
       "                                                Top6  \\\n",
       "0  b'150 Russian tanks have entered South Ossetia...   \n",
       "1  b'What were the Mossad with fraudulent New Zea...   \n",
       "2  b'Why Microsoft and Intel tried to kill the XO...   \n",
       "3  b'China has moved 10 *million* quake survivors...   \n",
       "4  b\"Rushdie Condemns Random House's Refusal to P...   \n",
       "\n",
       "                                                Top7  \\\n",
       "0  b\"Breaking: Georgia invades South Ossetia, Rus...   \n",
       "1  b'Russia angered by Israeli military sale to G...   \n",
       "2  b'Stratfor: The Russo-Georgian War and the Bal...   \n",
       "3  b\"Bush announces Operation Get All Up In Russi...   \n",
       "4  b'Poland and US agree to missle defense deal. ...   \n",
       "\n",
       "                                                Top8  ...  \\\n",
       "0  b\"The 'enemy combatent' trials are nothing but...  ...   \n",
       "1  b'An American citizen living in S.Ossetia blam...  ...   \n",
       "2  b\"I'm Trying to Get a Sense of This Whole Geor...  ...   \n",
       "3             b'Russian forces sink Georgian ships '  ...   \n",
       "4  b'Will the Russians conquer Tblisi? Bet on it,...  ...   \n",
       "\n",
       "                                               Top16  \\\n",
       "0  b'Georgia Invades South Ossetia - if Russia ge...   \n",
       "1  b'Israel and the US behind the Georgian aggres...   \n",
       "2  b'U.S. troops still in Georgia (did you know t...   \n",
       "3                      b'Elephants extinct by 2020?'   \n",
       "4  b'Bank analyst forecast Georgian crisis 2 days...   \n",
       "\n",
       "                                               Top17  \\\n",
       "0                b'Al-Qaeda Faces Islamist Backlash'   \n",
       "1  b'\"Do not believe TV, neither Russian nor Geor...   \n",
       "2       b'Why Russias response to Georgia was right'   \n",
       "3  b'US humanitarian missions soon in Georgia - i...   \n",
       "4  b\"Georgia confict could set back Russia's US r...   \n",
       "\n",
       "                                               Top18  \\\n",
       "0  b'Condoleezza Rice: \"The US would not act to p...   \n",
       "1  b'Riots are still going on in Montreal (Canada...   \n",
       "2  b'Gorbachev accuses U.S. of making a \"serious ...   \n",
       "3             b\"Georgia's DDOS came from US sources\"   \n",
       "4  b'War in the Caucasus is as much the product o...   \n",
       "\n",
       "                                               Top19  \\\n",
       "0  b'This is a busy day:  The European Union has ...   \n",
       "1    b'China to overtake US as largest manufacturer'   \n",
       "2         b'Russia, Georgia, and NATO: Cold War Two'   \n",
       "3  b'Russian convoy heads into Georgia, violating...   \n",
       "4  b'\"Non-media\" photos of South Ossetia/Georgia ...   \n",
       "\n",
       "                                               Top20  \\\n",
       "0  b\"Georgia will withdraw 1,000 soldiers from Ir...   \n",
       "1                     b'War in South Ossetia [PICS]'   \n",
       "2  b'Remember that adorable 62-year-old who led y...   \n",
       "3  b'Israeli defence minister: US against strike ...   \n",
       "4  b'Georgian TV reporter shot by Russian sniper ...   \n",
       "\n",
       "                                               Top21  \\\n",
       "0  b'Why the Pentagon Thinks Attacking Iran is a ...   \n",
       "1  b'Israeli Physicians Group Condemns State Tort...   \n",
       "2          b'War in Georgia: The Israeli connection'   \n",
       "3                     b'Gorbachev: We Had No Choice'   \n",
       "4  b'Saudi Arabia: Mother moves to block child ma...   \n",
       "\n",
       "                                               Top22  \\\n",
       "0  b'Caucasus in crisis: Georgia invades South Os...   \n",
       "1  b' Russia has just beaten the United States ov...   \n",
       "2  b'All signs point to the US encouraging Georgi...   \n",
       "3  b'Witness: Russian forces head towards Tbilisi...   \n",
       "4   b'Taliban wages war on humanitarian aid workers'   \n",
       "\n",
       "                                               Top23  \\\n",
       "0  b'Indian shoe manufactory  - And again in a se...   \n",
       "1  b'Perhaps *the* question about the Georgia - R...   \n",
       "2  b'Christopher King argues that the US and NATO...   \n",
       "3  b' Quarter of Russians blame U.S. for conflict...   \n",
       "4  b'Russia: World  \"can forget about\" Georgia\\'s...   \n",
       "\n",
       "                                               Top24  \\\n",
       "0  b'Visitors Suffering from Mental Illnesses Ban...   \n",
       "1                 b'Russia is so much better at war'   \n",
       "2                        b'America: The New Mexico?'   \n",
       "3  b'Georgian president  says US military will ta...   \n",
       "4  b'Darfur rebels accuse Sudan of mounting major...   \n",
       "\n",
       "                                               Top25  \n",
       "0           b\"No Help for Mexico's Kidnapping Surge\"  \n",
       "1  b\"So this is what it's come to: trading sex fo...  \n",
       "2  b\"BBC NEWS | Asia-Pacific | Extinction 'by man...  \n",
       "3  b'2006: Nobel laureate Aleksander Solzhenitsyn...  \n",
       "4  b'Philippines : Peace Advocate say Muslims nee...  \n",
       "\n",
       "[5 rows x 27 columns]"
      ]
     },
     "execution_count": 6,
     "metadata": {},
     "output_type": "execute_result"
    }
   ],
   "source": [
    "df.head()"
   ]
  },
  {
   "cell_type": "code",
   "execution_count": 7,
   "metadata": {
    "execution": {
     "iopub.execute_input": "2021-08-12T05:12:31.002466Z",
     "iopub.status.busy": "2021-08-12T05:12:31.002070Z",
     "iopub.status.idle": "2021-08-12T05:12:31.016784Z",
     "shell.execute_reply": "2021-08-12T05:12:31.015826Z",
     "shell.execute_reply.started": "2021-08-12T05:12:31.002434Z"
    }
   },
   "outputs": [
    {
     "data": {
      "text/plain": [
       "Date     0\n",
       "Label    0\n",
       "Top1     0\n",
       "Top2     0\n",
       "Top3     0\n",
       "Top4     0\n",
       "Top5     0\n",
       "Top6     0\n",
       "Top7     0\n",
       "Top8     0\n",
       "Top9     0\n",
       "Top10    0\n",
       "Top11    0\n",
       "Top12    0\n",
       "Top13    0\n",
       "Top14    0\n",
       "Top15    0\n",
       "Top16    0\n",
       "Top17    0\n",
       "Top18    0\n",
       "Top19    0\n",
       "Top20    0\n",
       "Top21    0\n",
       "Top22    0\n",
       "Top23    1\n",
       "Top24    3\n",
       "Top25    3\n",
       "dtype: int64"
      ]
     },
     "execution_count": 7,
     "metadata": {},
     "output_type": "execute_result"
    }
   ],
   "source": [
    "df.isna().sum()"
   ]
  },
  {
   "cell_type": "code",
   "execution_count": 8,
   "metadata": {
    "execution": {
     "iopub.execute_input": "2021-08-12T05:12:33.249998Z",
     "iopub.status.busy": "2021-08-12T05:12:33.249584Z",
     "iopub.status.idle": "2021-08-12T05:12:33.282754Z",
     "shell.execute_reply": "2021-08-12T05:12:33.281826Z",
     "shell.execute_reply.started": "2021-08-12T05:12:33.249963Z"
    }
   },
   "outputs": [
    {
     "data": {
      "text/html": [
       "<div>\n",
       "<style scoped>\n",
       "    .dataframe tbody tr th:only-of-type {\n",
       "        vertical-align: middle;\n",
       "    }\n",
       "\n",
       "    .dataframe tbody tr th {\n",
       "        vertical-align: top;\n",
       "    }\n",
       "\n",
       "    .dataframe thead th {\n",
       "        text-align: right;\n",
       "    }\n",
       "</style>\n",
       "<table border=\"1\" class=\"dataframe\">\n",
       "  <thead>\n",
       "    <tr style=\"text-align: right;\">\n",
       "      <th></th>\n",
       "      <th>Date</th>\n",
       "      <th>Label</th>\n",
       "      <th>Top1</th>\n",
       "      <th>Top2</th>\n",
       "      <th>Top3</th>\n",
       "      <th>Top4</th>\n",
       "      <th>Top5</th>\n",
       "      <th>Top6</th>\n",
       "      <th>Top7</th>\n",
       "      <th>Top8</th>\n",
       "      <th>...</th>\n",
       "      <th>Top16</th>\n",
       "      <th>Top17</th>\n",
       "      <th>Top18</th>\n",
       "      <th>Top19</th>\n",
       "      <th>Top20</th>\n",
       "      <th>Top21</th>\n",
       "      <th>Top22</th>\n",
       "      <th>Top23</th>\n",
       "      <th>Top24</th>\n",
       "      <th>Top25</th>\n",
       "    </tr>\n",
       "  </thead>\n",
       "  <tbody>\n",
       "    <tr>\n",
       "      <th>277</th>\n",
       "      <td>2009-09-15</td>\n",
       "      <td>1</td>\n",
       "      <td>b'The Church of Scientology won\\'t be dissolve...</td>\n",
       "      <td>b'New virus from rats can kill 80 per cent of ...</td>\n",
       "      <td>b'The gruesome spectacle of dolphins being sla...</td>\n",
       "      <td>b'The End of Innocence in Afghanistan: \\'The G...</td>\n",
       "      <td>b'France approves Internet piracy bill'</td>\n",
       "      <td>b'The Rural Doctors Association says right now...</td>\n",
       "      <td>b'Al Jazeera English - Africa - Shabab to aven...</td>\n",
       "      <td>b\"How Sri Lanka governs through detentions - S...</td>\n",
       "      <td>...</td>\n",
       "      <td>b'In an equine echo of the controversy surroun...</td>\n",
       "      <td>b'UPDATE: 5-New York homes raided in terrorism...</td>\n",
       "      <td>b'Population Growth Impeding Progress on the M...</td>\n",
       "      <td>b'Global Population to Reach 7 Billion by 2011'</td>\n",
       "      <td>b'Government Funded Feminist Porn '</td>\n",
       "      <td>b'Can someone enlighten me re:Holy Land disput...</td>\n",
       "      <td>b'Human Rights Watch official suspended for co...</td>\n",
       "      <td>NaN</td>\n",
       "      <td>NaN</td>\n",
       "      <td>NaN</td>\n",
       "    </tr>\n",
       "    <tr>\n",
       "      <th>348</th>\n",
       "      <td>2009-12-24</td>\n",
       "      <td>1</td>\n",
       "      <td>b'Woman knocks down Pope Benedict at Christmas...</td>\n",
       "      <td>b'Ugandan President Museveni says he will bloc...</td>\n",
       "      <td>b\"Venezuela's Chavez threatens to kick out car...</td>\n",
       "      <td>b'Woman who knocked down pope had pasta in her...</td>\n",
       "      <td>b'450 people from 21 countries, including 30 f...</td>\n",
       "      <td>b'Chvez declares Angel Falls is no more: World...</td>\n",
       "      <td>b'Drug tests catch out 10 police (UK)'</td>\n",
       "      <td>b'Once the worlds fourth-largest lake, the Ara...</td>\n",
       "      <td>...</td>\n",
       "      <td>b'Pig farts spark Australia gas scare - I shit...</td>\n",
       "      <td>b'Bin Laden daughter flees to Saudi embassy in...</td>\n",
       "      <td>b'Traumatic Brain Injuries:  Growing evidence ...</td>\n",
       "      <td>b'The Pakistan Supreme Court has ordered the P...</td>\n",
       "      <td>b\"Here's a video the Taliban released this mor...</td>\n",
       "      <td>b'Fireworks set off aboard airliner'</td>\n",
       "      <td>b'Five VA men may face terrorism charges, Paki...</td>\n",
       "      <td>b\"Ayatollah Montazeri's Legacy:  In death he m...</td>\n",
       "      <td>NaN</td>\n",
       "      <td>NaN</td>\n",
       "    </tr>\n",
       "    <tr>\n",
       "      <th>681</th>\n",
       "      <td>2011-04-21</td>\n",
       "      <td>1</td>\n",
       "      <td>Director of \"Restrepo\" and Photographer Chris ...</td>\n",
       "      <td>Everyone within 20km of Fukushima will be forc...</td>\n",
       "      <td>Bahrain: Activist Zaynab Al-Khawaja's letter t...</td>\n",
       "      <td>More than 80,000 people are claiming incapacit...</td>\n",
       "      <td>Libya: 'mission creep' claims as UK sends in m...</td>\n",
       "      <td>Japan considers banning access to evacuation zone</td>\n",
       "      <td>Chinese oil giant Sinopec has stopped exportin...</td>\n",
       "      <td>6.0-magnitude earthquake strikes off east coas...</td>\n",
       "      <td>...</td>\n",
       "      <td>Russian migration official fired in racism row...</td>\n",
       "      <td>Small amounts of radioactive iodine found in b...</td>\n",
       "      <td>War photographer, Oscar-nominated film directo...</td>\n",
       "      <td>Effeminate boys are being sent to a special ca...</td>\n",
       "      <td>Japan Government Declares 12-Mile Area Around ...</td>\n",
       "      <td>TEPCO admitted Wednesday that nuclear fuel in ...</td>\n",
       "      <td>Fukushima evacuees face arrest if they return ...</td>\n",
       "      <td>Prince Charles wins some kind of a record</td>\n",
       "      <td>NaN</td>\n",
       "      <td>NaN</td>\n",
       "    </tr>\n",
       "  </tbody>\n",
       "</table>\n",
       "<p>3 rows × 27 columns</p>\n",
       "</div>"
      ],
      "text/plain": [
       "           Date  Label                                               Top1  \\\n",
       "277  2009-09-15      1  b'The Church of Scientology won\\'t be dissolve...   \n",
       "348  2009-12-24      1  b'Woman knocks down Pope Benedict at Christmas...   \n",
       "681  2011-04-21      1  Director of \"Restrepo\" and Photographer Chris ...   \n",
       "\n",
       "                                                  Top2  \\\n",
       "277  b'New virus from rats can kill 80 per cent of ...   \n",
       "348  b'Ugandan President Museveni says he will bloc...   \n",
       "681  Everyone within 20km of Fukushima will be forc...   \n",
       "\n",
       "                                                  Top3  \\\n",
       "277  b'The gruesome spectacle of dolphins being sla...   \n",
       "348  b\"Venezuela's Chavez threatens to kick out car...   \n",
       "681  Bahrain: Activist Zaynab Al-Khawaja's letter t...   \n",
       "\n",
       "                                                  Top4  \\\n",
       "277  b'The End of Innocence in Afghanistan: \\'The G...   \n",
       "348  b'Woman who knocked down pope had pasta in her...   \n",
       "681  More than 80,000 people are claiming incapacit...   \n",
       "\n",
       "                                                  Top5  \\\n",
       "277            b'France approves Internet piracy bill'   \n",
       "348  b'450 people from 21 countries, including 30 f...   \n",
       "681  Libya: 'mission creep' claims as UK sends in m...   \n",
       "\n",
       "                                                  Top6  \\\n",
       "277  b'The Rural Doctors Association says right now...   \n",
       "348  b'Chvez declares Angel Falls is no more: World...   \n",
       "681  Japan considers banning access to evacuation zone   \n",
       "\n",
       "                                                  Top7  \\\n",
       "277  b'Al Jazeera English - Africa - Shabab to aven...   \n",
       "348             b'Drug tests catch out 10 police (UK)'   \n",
       "681  Chinese oil giant Sinopec has stopped exportin...   \n",
       "\n",
       "                                                  Top8  ...  \\\n",
       "277  b\"How Sri Lanka governs through detentions - S...  ...   \n",
       "348  b'Once the worlds fourth-largest lake, the Ara...  ...   \n",
       "681  6.0-magnitude earthquake strikes off east coas...  ...   \n",
       "\n",
       "                                                 Top16  \\\n",
       "277  b'In an equine echo of the controversy surroun...   \n",
       "348  b'Pig farts spark Australia gas scare - I shit...   \n",
       "681  Russian migration official fired in racism row...   \n",
       "\n",
       "                                                 Top17  \\\n",
       "277  b'UPDATE: 5-New York homes raided in terrorism...   \n",
       "348  b'Bin Laden daughter flees to Saudi embassy in...   \n",
       "681  Small amounts of radioactive iodine found in b...   \n",
       "\n",
       "                                                 Top18  \\\n",
       "277  b'Population Growth Impeding Progress on the M...   \n",
       "348  b'Traumatic Brain Injuries:  Growing evidence ...   \n",
       "681  War photographer, Oscar-nominated film directo...   \n",
       "\n",
       "                                                 Top19  \\\n",
       "277    b'Global Population to Reach 7 Billion by 2011'   \n",
       "348  b'The Pakistan Supreme Court has ordered the P...   \n",
       "681  Effeminate boys are being sent to a special ca...   \n",
       "\n",
       "                                                 Top20  \\\n",
       "277                b'Government Funded Feminist Porn '   \n",
       "348  b\"Here's a video the Taliban released this mor...   \n",
       "681  Japan Government Declares 12-Mile Area Around ...   \n",
       "\n",
       "                                                 Top21  \\\n",
       "277  b'Can someone enlighten me re:Holy Land disput...   \n",
       "348               b'Fireworks set off aboard airliner'   \n",
       "681  TEPCO admitted Wednesday that nuclear fuel in ...   \n",
       "\n",
       "                                                 Top22  \\\n",
       "277  b'Human Rights Watch official suspended for co...   \n",
       "348  b'Five VA men may face terrorism charges, Paki...   \n",
       "681  Fukushima evacuees face arrest if they return ...   \n",
       "\n",
       "                                                 Top23 Top24 Top25  \n",
       "277                                                NaN   NaN   NaN  \n",
       "348  b\"Ayatollah Montazeri's Legacy:  In death he m...   NaN   NaN  \n",
       "681          Prince Charles wins some kind of a record   NaN   NaN  \n",
       "\n",
       "[3 rows x 27 columns]"
      ]
     },
     "execution_count": 8,
     "metadata": {},
     "output_type": "execute_result"
    }
   ],
   "source": [
    "df[df.isna()['Top25']]"
   ]
  },
  {
   "cell_type": "code",
   "execution_count": 9,
   "metadata": {
    "execution": {
     "iopub.execute_input": "2021-08-12T05:12:35.411957Z",
     "iopub.status.busy": "2021-08-12T05:12:35.411553Z",
     "iopub.status.idle": "2021-08-12T05:12:35.427171Z",
     "shell.execute_reply": "2021-08-12T05:12:35.426181Z",
     "shell.execute_reply.started": "2021-08-12T05:12:35.411924Z"
    }
   },
   "outputs": [],
   "source": [
    "df.fillna('market remains same', inplace = True)"
   ]
  },
  {
   "cell_type": "code",
   "execution_count": 10,
   "metadata": {
    "execution": {
     "iopub.execute_input": "2021-08-12T05:12:37.663078Z",
     "iopub.status.busy": "2021-08-12T05:12:37.662713Z",
     "iopub.status.idle": "2021-08-12T05:12:37.682440Z",
     "shell.execute_reply": "2021-08-12T05:12:37.681459Z",
     "shell.execute_reply.started": "2021-08-12T05:12:37.663046Z"
    }
   },
   "outputs": [
    {
     "data": {
      "text/plain": [
       "Date     0\n",
       "Label    0\n",
       "Top1     0\n",
       "Top2     0\n",
       "Top3     0\n",
       "Top4     0\n",
       "Top5     0\n",
       "Top6     0\n",
       "Top7     0\n",
       "Top8     0\n",
       "Top9     0\n",
       "Top10    0\n",
       "Top11    0\n",
       "Top12    0\n",
       "Top13    0\n",
       "Top14    0\n",
       "Top15    0\n",
       "Top16    0\n",
       "Top17    0\n",
       "Top18    0\n",
       "Top19    0\n",
       "Top20    0\n",
       "Top21    0\n",
       "Top22    0\n",
       "Top23    0\n",
       "Top24    0\n",
       "Top25    0\n",
       "dtype: int64"
      ]
     },
     "execution_count": 10,
     "metadata": {},
     "output_type": "execute_result"
    }
   ],
   "source": [
    "df.isna().sum()"
   ]
  },
  {
   "cell_type": "code",
   "execution_count": 11,
   "metadata": {
    "execution": {
     "iopub.execute_input": "2021-08-12T05:12:39.951265Z",
     "iopub.status.busy": "2021-08-12T05:12:39.950936Z",
     "iopub.status.idle": "2021-08-12T05:12:39.961946Z",
     "shell.execute_reply": "2021-08-12T05:12:39.961057Z",
     "shell.execute_reply.started": "2021-08-12T05:12:39.951234Z"
    }
   },
   "outputs": [],
   "source": [
    "train_df = df[df['Date']<'2014-12-31']\n",
    "test_df = df[df['Date']>'2014-12-31']"
   ]
  },
  {
   "cell_type": "code",
   "execution_count": 12,
   "metadata": {
    "execution": {
     "iopub.execute_input": "2021-08-12T05:12:40.362020Z",
     "iopub.status.busy": "2021-08-12T05:12:40.361669Z",
     "iopub.status.idle": "2021-08-12T05:12:40.368034Z",
     "shell.execute_reply": "2021-08-12T05:12:40.366887Z",
     "shell.execute_reply.started": "2021-08-12T05:12:40.361993Z"
    }
   },
   "outputs": [
    {
     "data": {
      "text/plain": [
       "((1610, 27), (378, 27))"
      ]
     },
     "execution_count": 12,
     "metadata": {},
     "output_type": "execute_result"
    }
   ],
   "source": [
    "train_df.shape, test_df.shape"
   ]
  },
  {
   "cell_type": "code",
   "execution_count": 14,
   "metadata": {
    "execution": {
     "iopub.execute_input": "2021-08-12T05:12:55.123473Z",
     "iopub.status.busy": "2021-08-12T05:12:55.123125Z",
     "iopub.status.idle": "2021-08-12T05:12:59.466162Z",
     "shell.execute_reply": "2021-08-12T05:12:59.465195Z",
     "shell.execute_reply.started": "2021-08-12T05:12:55.123434Z"
    }
   },
   "outputs": [],
   "source": [
    "import nltk\n",
    "import spacy\n",
    "import re\n",
    "from bs4 import BeautifulSoup\n",
    "import requests\n",
    "import unicodedata\n",
    "import contractions\n",
    "\n",
    "nlp = spacy.load('en_core_web_sm')"
   ]
  },
  {
   "cell_type": "code",
   "execution_count": 15,
   "metadata": {
    "execution": {
     "iopub.execute_input": "2021-08-12T05:12:59.468488Z",
     "iopub.status.busy": "2021-08-12T05:12:59.467929Z",
     "iopub.status.idle": "2021-08-12T05:12:59.483955Z",
     "shell.execute_reply": "2021-08-12T05:12:59.482954Z",
     "shell.execute_reply.started": "2021-08-12T05:12:59.468453Z"
    }
   },
   "outputs": [],
   "source": [
    "def remove_special_characters(text, remove_digits= True):\n",
    "    #text = text.replace('$', 'currency')\n",
    "    pattern = r'[^\\w]+' if not remove_digits else r'[^a-zA-Z]'\n",
    "    text = re.sub(pattern,\" \",text)\n",
    "    text = re.sub(r'\\s+',' ', text)\n",
    "    return text\n",
    "\n",
    "def remove_accented_characters(text):\n",
    "    text =  unicodedata.normalize('NFKD',text).encode('ascii','ignore').decode('utf-8','ignore')\n",
    "    return text\n",
    "\n",
    "def spacy_lemma(text):\n",
    "    text = nlp(text)\n",
    "    new_text = []\n",
    "    words = [word.lemma_ for word in text]\n",
    "    for small in words:\n",
    "        if small == '-PRON-':\n",
    "            pass\n",
    "        else:\n",
    "            new_text.append(small)\n",
    "\n",
    "    return ' '.join(new_text)\n",
    "\n",
    "def contractions_text(text):\n",
    "    return contractions.fix(text)\n",
    "\n",
    "def stop_words_removal(text, is_lower_case = False, stopwords = None):\n",
    "    if stopwords == None:\n",
    "        stopwords = nlp.Defaults.stop_words\n",
    "    \n",
    "    if not is_lower_case:\n",
    "        text = text.lower()\n",
    "    tokens = nltk.word_tokenize(text)\n",
    "    new_token = []\n",
    "    for i in tokens:\n",
    "        if len(i)<=1:\n",
    "            pass\n",
    "        else:\n",
    "            new_token.append(i)\n",
    "    \n",
    "    removed_text = [word for word in new_token if word not in stopwords]\n",
    "    \n",
    "    return ' '.join(removed_text)\n",
    "\n",
    "def join_news(text):\n",
    "    full_text = []\n",
    "    for ind in range(len(text)):\n",
    "        combine_text = []\n",
    "        for col in range(2,len(text.columns[2:])+2):\n",
    "            combine_text.append(text.iloc[ind,col])\n",
    "        full_text.append(' '.join(combine_text))\n",
    "    return full_text"
   ]
  },
  {
   "cell_type": "code",
   "execution_count": 16,
   "metadata": {
    "execution": {
     "iopub.execute_input": "2021-08-12T05:13:12.051452Z",
     "iopub.status.busy": "2021-08-12T05:13:12.051056Z",
     "iopub.status.idle": "2021-08-12T05:13:13.411303Z",
     "shell.execute_reply": "2021-08-12T05:13:13.410233Z",
     "shell.execute_reply.started": "2021-08-12T05:13:12.051420Z"
    }
   },
   "outputs": [],
   "source": [
    "train_data = join_news(train_df)\n",
    "test_data = join_news(test_df)"
   ]
  },
  {
   "cell_type": "code",
   "execution_count": 17,
   "metadata": {
    "execution": {
     "iopub.execute_input": "2021-08-12T05:13:17.008013Z",
     "iopub.status.busy": "2021-08-12T05:13:17.007657Z",
     "iopub.status.idle": "2021-08-12T05:13:17.013959Z",
     "shell.execute_reply": "2021-08-12T05:13:17.012881Z",
     "shell.execute_reply.started": "2021-08-12T05:13:17.007984Z"
    }
   },
   "outputs": [
    {
     "data": {
      "text/plain": [
       "'b\"Georgia \\'downs two Russian warplanes\\' as countries move to brink of war\" b\\'BREAKING: Musharraf to be impeached.\\' b\\'Russia Today: Columns of troops roll into South Ossetia; footage from fighting (YouTube)\\' b\\'Russian tanks are moving towards the capital of South Ossetia, which has reportedly been completely destroyed by Georgian artillery fire\\' b\"Afghan children raped with \\'impunity,\\' U.N. official says - this is sick, a three year old was raped and they do nothing\" b\\'150 Russian tanks have entered South Ossetia whilst Georgia shoots down two Russian jets.\\' b\"Breaking: Georgia invades South Ossetia, Russia warned it would intervene on SO\\'s side\" b\"The \\'enemy combatent\\' trials are nothing but a sham: Salim Haman has been sentenced to 5 1/2 years, but will be kept longer anyway just because they feel like it.\" b\\'Georgian troops retreat from S. Osettain capital, presumably leaving several hundred people killed. [VIDEO]\\' b\\'Did the U.S. Prep Georgia for War with Russia?\\' b\\'Rice Gives Green Light for Israel to Attack Iran: Says U.S. has no veto over Israeli military ops\\' b\\'Announcing:Class Action Lawsuit on Behalf of American Public Against the FBI\\' b\"So---Russia and Georgia are at war and the NYT\\'s top story is opening ceremonies of the Olympics?  What a fucking disgrace and yet further proof of the decline of journalism.\" b\"China tells Bush to stay out of other countries\\' affairs\" b\\'Did World War III start today?\\' b\\'Georgia Invades South Ossetia - if Russia gets involved, will NATO absorb Georgia and unleash a full scale war?\\' b\\'Al-Qaeda Faces Islamist Backlash\\' b\\'Condoleezza Rice: \"The US would not act to prevent an Israeli strike on Iran.\" Israeli Defense Minister Ehud Barak: \"Israel is prepared for uncompromising victory in the case of military hostilities.\"\\' b\\'This is a busy day:  The European Union has approved new sanctions against Iran in protest at its nuclear programme.\\' b\"Georgia will withdraw 1,000 soldiers from Iraq to help fight off Russian forces in Georgia\\'s breakaway region of South Ossetia\" b\\'Why the Pentagon Thinks Attacking Iran is a Bad Idea - US News &amp; World Report\\' b\\'Caucasus in crisis: Georgia invades South Ossetia\\' b\\'Indian shoe manufactory  - And again in a series of \"you do not like your work?\"\\' b\\'Visitors Suffering from Mental Illnesses Banned from Olympics\\' b\"No Help for Mexico\\'s Kidnapping Surge\"'"
      ]
     },
     "execution_count": 17,
     "metadata": {},
     "output_type": "execute_result"
    }
   ],
   "source": [
    "train_data[0]"
   ]
  },
  {
   "cell_type": "code",
   "execution_count": 18,
   "metadata": {
    "execution": {
     "iopub.execute_input": "2021-08-12T05:13:17.445317Z",
     "iopub.status.busy": "2021-08-12T05:13:17.444989Z",
     "iopub.status.idle": "2021-08-12T05:13:17.450357Z",
     "shell.execute_reply": "2021-08-12T05:13:17.449538Z",
     "shell.execute_reply.started": "2021-08-12T05:13:17.445286Z"
    }
   },
   "outputs": [
    {
     "data": {
      "text/plain": [
       "'Most cases of cancer are the result of sheer bad luck rather than unhealthy lifestyles, diet or even inherited genes, new research suggests. Random mutations that occur in DNA when cells divide are responsible for two thirds of adult cancers across a wide range of tissues. Iran dismissed United States efforts to fight Islamic State as a ploy to advance U.S. policies in the region: \"The reality is that the United States is not acting to eliminate Daesh. They are not even interested in weakening Daesh, they are only interested in managing it\" Poll: One in 8 Germans would join anti-Muslim marches UK royal family\\'s Prince Andrew named in US lawsuit over underage sex allegations Some 40 asylum-seekers refused to leave the bus when they arrived at their destination in rural northern Sweden, demanding that they be taken back to Malm or \"some big city\". Pakistani boat blows self up after India navy chase. All four people on board the vessel from near the Pakistani port city of Karachi are believed to have been killed in the dramatic episode in the Arabian Sea on New Year\\'s Eve, according to India\\'s defence ministry. Sweden hit by third mosque arson attack in a week 940 cars set alight during French New Year Salaries for top CEOs rose twice as fast as average Canadian since recession: study Norway violated equal-pay law, judge says: Judge finds consulate employee was unjustly paid $30,000 less than her male counterpart Imam wants radical recruiters of Muslim youth in Canada identified and dealt with Saudi Arabia beheaded 83 people in 2014, the most in years \\'A living hell\\' for slaves on remote South Korean islands - Slavery thrives on this chain of rural islands off South Korea\\'s rugged southwest coast, nurtured by a long history of exploitation and the demands of trying to squeeze a living from the sea. Worlds 400 richest get richer, adding $92bn in 2014 Rental Car Stereos Infringe Copyright, Music Rights Group Says Ukrainian minister threatens TV channel with closure for airing Russian entertainers Palestinian President Mahmoud Abbas has entered into his most serious confrontation yet with Israel by signing onto the International Criminal Court. His decision on Wednesday gives the court jurisdiction over crimes committed in Palestinian lands. Israeli security center publishes names of 50 killed terrorists \\'concealed by Hamas\\' The year 2014 was the deadliest year yet in Syria\\'s four-year conflict, with over 76,000 killed A Secret underground complex built by the Nazis that may have been used for the development of WMDs, including a nuclear bomb, has been uncovered in Austria. Restrictions on Web Freedom a Major Global Issue in 2015 Austrian journalist Erich Mchel delivered a presentation in Hamburg at the annual meeting of the Chaos Computer Club on Monday December 29, detailing the various locations where the US NSA has been actively collecting and processing electronic intelligence in Vienna. Thousands of Ukraine nationalists march in Kiev Chinas New Years Resolution: No More Harvesting Executed Prisoners Organs Authorities Pull Plug on Russia\\'s Last Politically Independent TV Station'"
      ]
     },
     "execution_count": 18,
     "metadata": {},
     "output_type": "execute_result"
    }
   ],
   "source": [
    "test_data[0]"
   ]
  },
  {
   "cell_type": "code",
   "execution_count": 19,
   "metadata": {
    "execution": {
     "iopub.execute_input": "2021-08-12T05:13:19.799836Z",
     "iopub.status.busy": "2021-08-12T05:13:19.799465Z",
     "iopub.status.idle": "2021-08-12T05:13:19.804237Z",
     "shell.execute_reply": "2021-08-12T05:13:19.803136Z",
     "shell.execute_reply.started": "2021-08-12T05:13:19.799805Z"
    }
   },
   "outputs": [],
   "source": [
    "import tqdm"
   ]
  },
  {
   "cell_type": "code",
   "execution_count": 20,
   "metadata": {
    "execution": {
     "iopub.execute_input": "2021-08-12T05:13:23.640554Z",
     "iopub.status.busy": "2021-08-12T05:13:23.640225Z",
     "iopub.status.idle": "2021-08-12T05:13:23.646831Z",
     "shell.execute_reply": "2021-08-12T05:13:23.645542Z",
     "shell.execute_reply.started": "2021-08-12T05:13:23.640522Z"
    }
   },
   "outputs": [],
   "source": [
    "def preprocessor_engine(text):\n",
    "    corpus =[]\n",
    "    for sent in tqdm.tqdm(text):\n",
    "        sent = remove_accented_characters(sent)\n",
    "        sent = contractions_text(sent)\n",
    "        sent = remove_special_characters(sent)\n",
    "        sent = spacy_lemma(sent)\n",
    "        sent = stop_words_removal(sent)\n",
    "        corpus.append(sent)\n",
    "    return corpus"
   ]
  },
  {
   "cell_type": "code",
   "execution_count": 21,
   "metadata": {
    "execution": {
     "iopub.execute_input": "2021-08-12T05:13:25.767730Z",
     "iopub.status.busy": "2021-08-12T05:13:25.767377Z",
     "iopub.status.idle": "2021-08-12T05:15:24.317976Z",
     "shell.execute_reply": "2021-08-12T05:15:24.316960Z",
     "shell.execute_reply.started": "2021-08-12T05:13:25.767700Z"
    }
   },
   "outputs": [
    {
     "name": "stderr",
     "output_type": "stream",
     "text": [
      "100%|██████████| 1610/1610 [01:58<00:00, 13.58it/s]\n"
     ]
    }
   ],
   "source": [
    "train_data_pro = preprocessor_engine(train_data)"
   ]
  },
  {
   "cell_type": "code",
   "execution_count": 22,
   "metadata": {
    "execution": {
     "iopub.execute_input": "2021-08-12T05:15:34.577864Z",
     "iopub.status.busy": "2021-08-12T05:15:34.577507Z",
     "iopub.status.idle": "2021-08-12T05:16:02.657660Z",
     "shell.execute_reply": "2021-08-12T05:16:02.656501Z",
     "shell.execute_reply.started": "2021-08-12T05:15:34.577833Z"
    }
   },
   "outputs": [
    {
     "name": "stderr",
     "output_type": "stream",
     "text": [
      "100%|██████████| 378/378 [00:28<00:00, 13.47it/s]\n"
     ]
    }
   ],
   "source": [
    "test_data_pro = preprocessor_engine(test_data)"
   ]
  },
  {
   "cell_type": "code",
   "execution_count": 24,
   "metadata": {
    "execution": {
     "iopub.execute_input": "2021-08-12T05:16:45.359596Z",
     "iopub.status.busy": "2021-08-12T05:16:45.359268Z",
     "iopub.status.idle": "2021-08-12T05:16:45.365183Z",
     "shell.execute_reply": "2021-08-12T05:16:45.364194Z",
     "shell.execute_reply.started": "2021-08-12T05:16:45.359566Z"
    }
   },
   "outputs": [
    {
     "data": {
      "text/plain": [
       "'georgia russian warplane country brink war break musharraf impeach russia today columns troop roll south ossetia footage fight youtube russian tank capital south ossetia reportedly completely destroy georgian artillery fire afghan child rape impunity official sick year old rape russian tank enter south ossetia whilst georgia shoot russian jet break georgia invade south ossetia russia warn intervene enemy combatent trial sham salim haman sentence year long feel like georgian troop retreat osettain capital presumably leave people kill video prep georgia war russia rice green light israel attack iran veto israeli military op announce class action lawsuit behalf american public fbi russia georgia war nyt story open ceremony olympics fucking disgrace proof decline journalism china tell bush stay country affair world war iii start today georgia invades south ossetia russia involve nato absorb georgia unleash scale war al qaeda faces islamist backlash condoleezza rice act prevent israeli strike iran israeli defense minister ehud barak israel prepared uncompromise victory case military hostility busy day european union approve new sanction iran protest nuclear programme georgia withdraw soldier iraq help fight russian force georgia breakaway region south ossetia pentagon think attacking iran bad idea news amp world report caucasus crisis georgia invade south ossetia indian shoe manufactory series like work visitor suffer mental illness ban olympics help mexico kidnapping surge'"
      ]
     },
     "execution_count": 24,
     "metadata": {},
     "output_type": "execute_result"
    }
   ],
   "source": [
    "train_data_pro[0]"
   ]
  },
  {
   "cell_type": "code",
   "execution_count": 25,
   "metadata": {
    "execution": {
     "iopub.execute_input": "2021-08-12T05:16:46.710573Z",
     "iopub.status.busy": "2021-08-12T05:16:46.710246Z",
     "iopub.status.idle": "2021-08-12T05:16:46.718051Z",
     "shell.execute_reply": "2021-08-12T05:16:46.717158Z",
     "shell.execute_reply.started": "2021-08-12T05:16:46.710542Z"
    }
   },
   "outputs": [
    {
     "data": {
      "text/plain": [
       "'case cancer result sheer bad luck unhealthy lifestyle diet inherit gene new research suggest random mutation occur dna cell divide responsible adult cancer wide range tissue iran dismiss united states effort fight islamic state ploy advance policy region reality united states act eliminate daesh interested weaken daesh interested manage poll germans join anti muslim marche uk royal family prince andrew lawsuit underage sex allegation asylum seeker refuse leave bus arrive destination rural northern sweden demand malm big city pakistani boat blow self india navy chase people board vessel near pakistani port city karachi believe kill dramatic episode arabian sea new year eve accord india defence ministry sweden hit mosque arson attack week car set alight french new year salaries ceo rise twice fast average canadian recession study norway violate equal pay law judge judge find consulate employee unjustly pay male counterpart imam want radical recruiter muslim youth canada identify deal saudi arabia behead people year live hell slave remote south korean island slavery thrive chain rural island south korea rugged southwest coast nurture long history exploitation demand try squeeze living sea world rich rich add bn rental car stereo infringe copyright music rights group says ukrainian minister threaten tv channel closure air russian entertainer palestinian president mahmoud abbas enter confrontation israel sign international criminal court decision wednesday court jurisdiction crime commit palestinian land israeli security center publish kill terrorist conceal hamas year deadly year syria year conflict kill secret underground complex build nazis use development wmds include nuclear bomb uncover austria restrictions web freedom major global issue austrian journalist erich mchel deliver presentation hamburg annual meeting chaos computer club monday december detail location nsa actively collect process electronic intelligence vienna thousands ukraine nationalist march kiev chinas new years resolution harvesting execute prisoner organs authority pull plug russia politically independent tv station'"
      ]
     },
     "execution_count": 25,
     "metadata": {},
     "output_type": "execute_result"
    }
   ],
   "source": [
    "test_data_pro[0]"
   ]
  },
  {
   "cell_type": "markdown",
   "metadata": {},
   "source": [
    "#### Tokenizer"
   ]
  },
  {
   "cell_type": "code",
   "execution_count": 26,
   "metadata": {
    "execution": {
     "iopub.execute_input": "2021-08-12T05:16:50.254302Z",
     "iopub.status.busy": "2021-08-12T05:16:50.253867Z",
     "iopub.status.idle": "2021-08-12T05:16:54.610026Z",
     "shell.execute_reply": "2021-08-12T05:16:54.609042Z",
     "shell.execute_reply.started": "2021-08-12T05:16:50.254263Z"
    }
   },
   "outputs": [],
   "source": [
    "import tensorflow as tf"
   ]
  },
  {
   "cell_type": "code",
   "execution_count": 27,
   "metadata": {
    "execution": {
     "iopub.execute_input": "2021-08-12T05:16:54.611807Z",
     "iopub.status.busy": "2021-08-12T05:16:54.611463Z",
     "iopub.status.idle": "2021-08-12T05:16:54.958288Z",
     "shell.execute_reply": "2021-08-12T05:16:54.957414Z",
     "shell.execute_reply.started": "2021-08-12T05:16:54.611771Z"
    }
   },
   "outputs": [],
   "source": [
    "tokenzer = tf.keras.preprocessing.text.Tokenizer(oov_token = '<UNK>')\n",
    "tokenzer.fit_on_texts(train_data_pro)"
   ]
  },
  {
   "cell_type": "code",
   "execution_count": 28,
   "metadata": {
    "execution": {
     "iopub.execute_input": "2021-08-12T05:16:54.960342Z",
     "iopub.status.busy": "2021-08-12T05:16:54.960041Z",
     "iopub.status.idle": "2021-08-12T05:16:55.219180Z",
     "shell.execute_reply": "2021-08-12T05:16:55.218236Z",
     "shell.execute_reply.started": "2021-08-12T05:16:54.960316Z"
    }
   },
   "outputs": [],
   "source": [
    "#Converting into number token\n",
    "train_sequences = tokenzer.texts_to_sequences(train_data_pro)\n",
    "test_sequences = tokenzer.texts_to_sequences(test_data_pro)"
   ]
  },
  {
   "cell_type": "code",
   "execution_count": 29,
   "metadata": {
    "execution": {
     "iopub.execute_input": "2021-08-12T05:16:55.221314Z",
     "iopub.status.busy": "2021-08-12T05:16:55.220919Z",
     "iopub.status.idle": "2021-08-12T05:16:55.227063Z",
     "shell.execute_reply": "2021-08-12T05:16:55.226105Z",
     "shell.execute_reply.started": "2021-08-12T05:16:55.221273Z"
    }
   },
   "outputs": [
    {
     "name": "stdout",
     "output_type": "stream",
     "text": [
      "Vocabulary size =25551\n",
      "Number of Documents=1610\n"
     ]
    }
   ],
   "source": [
    "print(\"Vocabulary size ={}\".format(len(tokenzer.word_index)))\n",
    "print(\"Number of Documents={}\".format(tokenzer.document_count))"
   ]
  },
  {
   "cell_type": "code",
   "execution_count": 30,
   "metadata": {
    "execution": {
     "iopub.execute_input": "2021-08-12T05:16:55.229022Z",
     "iopub.status.busy": "2021-08-12T05:16:55.228431Z",
     "iopub.status.idle": "2021-08-12T05:16:55.267868Z",
     "shell.execute_reply": "2021-08-12T05:16:55.266925Z",
     "shell.execute_reply.started": "2021-08-12T05:16:55.228981Z"
    }
   },
   "outputs": [
    {
     "data": {
      "text/plain": [
       "423"
      ]
     },
     "execution_count": 30,
     "metadata": {},
     "output_type": "execute_result"
    }
   ],
   "source": [
    "pd.Series(train_data_pro).apply(lambda x : len(x.split())).max()"
   ]
  },
  {
   "cell_type": "code",
   "execution_count": 31,
   "metadata": {
    "execution": {
     "iopub.execute_input": "2021-08-12T05:16:55.269493Z",
     "iopub.status.busy": "2021-08-12T05:16:55.269146Z",
     "iopub.status.idle": "2021-08-12T05:16:55.421366Z",
     "shell.execute_reply": "2021-08-12T05:16:55.420384Z",
     "shell.execute_reply.started": "2021-08-12T05:16:55.269458Z"
    }
   },
   "outputs": [],
   "source": [
    "MAX_SEQUENCE_LENGTH = 424\n",
    "\n",
    "train_pad_sequences = tf.keras.preprocessing.sequence.pad_sequences(train_sequences, maxlen = MAX_SEQUENCE_LENGTH, padding='post')\n",
    "test_pad_sequneces = tf.keras.preprocessing.sequence.pad_sequences(test_sequences, maxlen = MAX_SEQUENCE_LENGTH, padding='post')"
   ]
  },
  {
   "cell_type": "markdown",
   "metadata": {},
   "source": [
    "#### Modelling"
   ]
  },
  {
   "cell_type": "code",
   "execution_count": 103,
   "metadata": {
    "execution": {
     "iopub.execute_input": "2021-08-12T06:13:43.546881Z",
     "iopub.status.busy": "2021-08-12T06:13:43.546483Z",
     "iopub.status.idle": "2021-08-12T06:13:43.553141Z",
     "shell.execute_reply": "2021-08-12T06:13:43.551895Z",
     "shell.execute_reply.started": "2021-08-12T06:13:43.546848Z"
    }
   },
   "outputs": [],
   "source": [
    "from tensorflow.keras.models import Sequential\n",
    "from tensorflow.keras.layers import Dense, RNN, LSTM, GRU, Bidirectional, Embedding, Dropout\n",
    "from sklearn.metrics import accuracy_score, classification_report, confusion_matrix\n",
    "from tensorflow.keras.callbacks import EarlyStopping"
   ]
  },
  {
   "cell_type": "code",
   "execution_count": 33,
   "metadata": {
    "execution": {
     "iopub.execute_input": "2021-08-12T05:16:57.558801Z",
     "iopub.status.busy": "2021-08-12T05:16:57.558411Z",
     "iopub.status.idle": "2021-08-12T05:16:57.563674Z",
     "shell.execute_reply": "2021-08-12T05:16:57.562568Z",
     "shell.execute_reply.started": "2021-08-12T05:16:57.558766Z"
    }
   },
   "outputs": [],
   "source": [
    "y_train = train_df['Label']\n",
    "y_test = test_df['Label']"
   ]
  },
  {
   "cell_type": "code",
   "execution_count": 53,
   "metadata": {
    "execution": {
     "iopub.execute_input": "2021-08-12T05:31:11.633139Z",
     "iopub.status.busy": "2021-08-12T05:31:11.632805Z",
     "iopub.status.idle": "2021-08-12T05:31:11.638086Z",
     "shell.execute_reply": "2021-08-12T05:31:11.636913Z",
     "shell.execute_reply.started": "2021-08-12T05:31:11.633111Z"
    }
   },
   "outputs": [],
   "source": [
    "def metrics(y_true, y_pred):\n",
    "    print('Accuracy Score:', round(accuracy_score(y_true, y_pred),2))\n",
    "    print('\\nClassification Score:\\n', classification_report(y_true, y_pred))\n",
    "    print('\\nConfusion Matrix:\\n', confusion_matrix(y_true, y_pred))"
   ]
  },
  {
   "cell_type": "code",
   "execution_count": 79,
   "metadata": {
    "execution": {
     "iopub.execute_input": "2021-08-12T05:49:59.702972Z",
     "iopub.status.busy": "2021-08-12T05:49:59.702557Z",
     "iopub.status.idle": "2021-08-12T05:49:59.710382Z",
     "shell.execute_reply": "2021-08-12T05:49:59.709407Z",
     "shell.execute_reply.started": "2021-08-12T05:49:59.702932Z"
    }
   },
   "outputs": [],
   "source": [
    "def deep_model(layer_name, epochs=50):\n",
    "    SEED = 42\n",
    "    np.random.seed(SEED)\n",
    "    tf.random.set_seed(SEED)\n",
    "\n",
    "    EMBEDDING_DIM = 300 #Dimension for dense embedding for each token\n",
    "    VOCAB_SIZE = len(tokenzer.word_index)\n",
    "    model = Sequential()\n",
    "    model.add((Embedding(input_dim =VOCAB_SIZE+1,output_dim = EMBEDDING_DIM,input_length = MAX_SEQUENCE_LENGTH)))\n",
    "    model.add((layer_name(256)))\n",
    "    model.add((Dense(256,activation = 'relu')))\n",
    "    model.add(Dense(1,activation = 'sigmoid'))\n",
    "\n",
    "    model.compile(loss = 'binary_crossentropy',optimizer=\"adam\",metrics =['accuracy'])\n",
    "    model.summary()\n",
    "    fit_the_model(model, epochs=50)"
   ]
  },
  {
   "cell_type": "code",
   "execution_count": 80,
   "metadata": {
    "execution": {
     "iopub.execute_input": "2021-08-12T05:49:59.712711Z",
     "iopub.status.busy": "2021-08-12T05:49:59.712142Z",
     "iopub.status.idle": "2021-08-12T05:49:59.721460Z",
     "shell.execute_reply": "2021-08-12T05:49:59.720557Z",
     "shell.execute_reply.started": "2021-08-12T05:49:59.712670Z"
    }
   },
   "outputs": [],
   "source": [
    "def predictions(model):\n",
    "    train_pred = model.predict_classes(train_pad_sequences)\n",
    "    test_pred = model.predict_classes(test_pad_sequneces)\n",
    "    metrics(y_train, train_pred)\n",
    "    metrics(y_test, test_pred)\n",
    "\n",
    "def fit_the_model(model, epochs=50):\n",
    "    early_stop = EarlyStopping(monitor='val_loss', patience=5)\n",
    "    model.fit(train_pad_sequences, y_train, epochs=epochs, validation_data=(test_pad_sequneces, y_test), callbacks=[early_stop],verbose=0)\n",
    "    predictions(model)"
   ]
  },
  {
   "cell_type": "code",
   "execution_count": 77,
   "metadata": {
    "execution": {
     "iopub.execute_input": "2021-08-12T05:46:49.218290Z",
     "iopub.status.busy": "2021-08-12T05:46:49.218010Z",
     "iopub.status.idle": "2021-08-12T05:47:39.930429Z",
     "shell.execute_reply": "2021-08-12T05:47:39.929424Z",
     "shell.execute_reply.started": "2021-08-12T05:46:49.218263Z"
    }
   },
   "outputs": [
    {
     "name": "stdout",
     "output_type": "stream",
     "text": [
      "Model: \"sequential_6\"\n",
      "_________________________________________________________________\n",
      "Layer (type)                 Output Shape              Param #   \n",
      "=================================================================\n",
      "embedding_6 (Embedding)      (None, 424, 300)          7665600   \n",
      "_________________________________________________________________\n",
      "lstm_5 (LSTM)                (None, 256)               570368    \n",
      "_________________________________________________________________\n",
      "dense_12 (Dense)             (None, 256)               65792     \n",
      "_________________________________________________________________\n",
      "dense_13 (Dense)             (None, 1)                 257       \n",
      "=================================================================\n",
      "Total params: 8,302,017\n",
      "Trainable params: 8,302,017\n",
      "Non-trainable params: 0\n",
      "_________________________________________________________________\n",
      "Accuracy Score: 0.54\n",
      "\n",
      "Classification Score:\n",
      "               precision    recall  f1-score   support\n",
      "\n",
      "           0       0.00      0.00      0.00       737\n",
      "           1       0.54      1.00      0.70       873\n",
      "\n",
      "    accuracy                           0.54      1610\n",
      "   macro avg       0.27      0.50      0.35      1610\n",
      "weighted avg       0.29      0.54      0.38      1610\n",
      "\n",
      "\n",
      "Confusion Matrix:\n",
      " [[  0 737]\n",
      " [  0 873]]\n",
      "Accuracy Score: 0.51\n",
      "\n",
      "Classification Score:\n",
      "               precision    recall  f1-score   support\n",
      "\n",
      "           0       0.00      0.00      0.00       186\n",
      "           1       0.51      1.00      0.67       192\n",
      "\n",
      "    accuracy                           0.51       378\n",
      "   macro avg       0.25      0.50      0.34       378\n",
      "weighted avg       0.26      0.51      0.34       378\n",
      "\n",
      "\n",
      "Confusion Matrix:\n",
      " [[  0 186]\n",
      " [  0 192]]\n"
     ]
    }
   ],
   "source": [
    "deep_model(LSTM)"
   ]
  },
  {
   "cell_type": "code",
   "execution_count": 78,
   "metadata": {
    "execution": {
     "iopub.execute_input": "2021-08-12T05:49:11.808138Z",
     "iopub.status.busy": "2021-08-12T05:49:11.807651Z",
     "iopub.status.idle": "2021-08-12T05:49:59.700976Z",
     "shell.execute_reply": "2021-08-12T05:49:59.700037Z",
     "shell.execute_reply.started": "2021-08-12T05:49:11.808107Z"
    }
   },
   "outputs": [
    {
     "name": "stdout",
     "output_type": "stream",
     "text": [
      "Model: \"sequential_7\"\n",
      "_________________________________________________________________\n",
      "Layer (type)                 Output Shape              Param #   \n",
      "=================================================================\n",
      "embedding_7 (Embedding)      (None, 424, 300)          7665600   \n",
      "_________________________________________________________________\n",
      "gru_1 (GRU)                  (None, 256)               428544    \n",
      "_________________________________________________________________\n",
      "dense_14 (Dense)             (None, 256)               65792     \n",
      "_________________________________________________________________\n",
      "dense_15 (Dense)             (None, 1)                 257       \n",
      "=================================================================\n",
      "Total params: 8,160,193\n",
      "Trainable params: 8,160,193\n",
      "Non-trainable params: 0\n",
      "_________________________________________________________________\n",
      "Accuracy Score: 0.54\n",
      "\n",
      "Classification Score:\n",
      "               precision    recall  f1-score   support\n",
      "\n",
      "           0       0.00      0.00      0.00       737\n",
      "           1       0.54      1.00      0.70       873\n",
      "\n",
      "    accuracy                           0.54      1610\n",
      "   macro avg       0.27      0.50      0.35      1610\n",
      "weighted avg       0.29      0.54      0.38      1610\n",
      "\n",
      "\n",
      "Confusion Matrix:\n",
      " [[  0 737]\n",
      " [  0 873]]\n",
      "Accuracy Score: 0.51\n",
      "\n",
      "Classification Score:\n",
      "               precision    recall  f1-score   support\n",
      "\n",
      "           0       0.00      0.00      0.00       186\n",
      "           1       0.51      1.00      0.67       192\n",
      "\n",
      "    accuracy                           0.51       378\n",
      "   macro avg       0.25      0.50      0.34       378\n",
      "weighted avg       0.26      0.51      0.34       378\n",
      "\n",
      "\n",
      "Confusion Matrix:\n",
      " [[  0 186]\n",
      " [  0 192]]\n"
     ]
    }
   ],
   "source": [
    "deep_model(GRU)"
   ]
  },
  {
   "cell_type": "code",
   "execution_count": 91,
   "metadata": {
    "execution": {
     "iopub.execute_input": "2021-08-12T05:56:02.929288Z",
     "iopub.status.busy": "2021-08-12T05:56:02.928940Z",
     "iopub.status.idle": "2021-08-12T05:56:02.936758Z",
     "shell.execute_reply": "2021-08-12T05:56:02.935559Z",
     "shell.execute_reply.started": "2021-08-12T05:56:02.929257Z"
    }
   },
   "outputs": [],
   "source": [
    "def stack_model(layer_name, epochs=50):\n",
    "    SEED = 42\n",
    "    np.random.seed(SEED)\n",
    "    tf.random.set_seed(SEED)\n",
    "\n",
    "    EMBEDDING_DIM = 300 #Dimension for dense embedding for each token\n",
    "    VOCAB_SIZE = len(tokenzer.word_index)\n",
    "    model = Sequential()\n",
    "    model.add((Embedding(input_dim =VOCAB_SIZE+1,output_dim = EMBEDDING_DIM,input_length = MAX_SEQUENCE_LENGTH)))\n",
    "    model.add((layer_name(256, return_sequences=True)))\n",
    "    model.add((layer_name(128, return_sequences=False)))\n",
    "    model.add((Dense(256,activation = 'relu')))\n",
    "    model.add(Dense(2,activation = 'softmax'))\n",
    "\n",
    "    model.compile(loss = tf.keras.losses.SparseCategoricalCrossentropy(),optimizer=\"adam\",metrics =['accuracy'])\n",
    "    model.summary()\n",
    "    fit_the_model(model, epochs=50)"
   ]
  },
  {
   "cell_type": "code",
   "execution_count": 89,
   "metadata": {
    "execution": {
     "iopub.execute_input": "2021-08-12T05:54:54.937697Z",
     "iopub.status.busy": "2021-08-12T05:54:54.937317Z",
     "iopub.status.idle": "2021-08-12T05:54:54.945529Z",
     "shell.execute_reply": "2021-08-12T05:54:54.944601Z",
     "shell.execute_reply.started": "2021-08-12T05:54:54.937655Z"
    }
   },
   "outputs": [
    {
     "data": {
      "text/plain": [
       "1    873\n",
       "0    737\n",
       "Name: Label, dtype: int64"
      ]
     },
     "execution_count": 89,
     "metadata": {},
     "output_type": "execute_result"
    }
   ],
   "source": [
    "y_train.value_counts()"
   ]
  },
  {
   "cell_type": "code",
   "execution_count": 92,
   "metadata": {
    "execution": {
     "iopub.execute_input": "2021-08-12T05:56:05.556958Z",
     "iopub.status.busy": "2021-08-12T05:56:05.556608Z",
     "iopub.status.idle": "2021-08-12T05:57:09.485420Z",
     "shell.execute_reply": "2021-08-12T05:57:09.484629Z",
     "shell.execute_reply.started": "2021-08-12T05:56:05.556926Z"
    }
   },
   "outputs": [
    {
     "name": "stdout",
     "output_type": "stream",
     "text": [
      "Model: \"sequential_11\"\n",
      "_________________________________________________________________\n",
      "Layer (type)                 Output Shape              Param #   \n",
      "=================================================================\n",
      "embedding_11 (Embedding)     (None, 424, 300)          7665600   \n",
      "_________________________________________________________________\n",
      "lstm_10 (LSTM)               (None, 424, 256)          570368    \n",
      "_________________________________________________________________\n",
      "lstm_11 (LSTM)               (None, 128)               197120    \n",
      "_________________________________________________________________\n",
      "dense_20 (Dense)             (None, 256)               33024     \n",
      "_________________________________________________________________\n",
      "dense_21 (Dense)             (None, 2)                 514       \n",
      "=================================================================\n",
      "Total params: 8,466,626\n",
      "Trainable params: 8,466,626\n",
      "Non-trainable params: 0\n",
      "_________________________________________________________________\n",
      "Accuracy Score: 0.54\n",
      "\n",
      "Classification Score:\n",
      "               precision    recall  f1-score   support\n",
      "\n",
      "           0       0.00      0.00      0.00       737\n",
      "           1       0.54      1.00      0.70       873\n",
      "\n",
      "    accuracy                           0.54      1610\n",
      "   macro avg       0.27      0.50      0.35      1610\n",
      "weighted avg       0.29      0.54      0.38      1610\n",
      "\n",
      "\n",
      "Confusion Matrix:\n",
      " [[  0 737]\n",
      " [  0 873]]\n",
      "Accuracy Score: 0.51\n",
      "\n",
      "Classification Score:\n",
      "               precision    recall  f1-score   support\n",
      "\n",
      "           0       0.00      0.00      0.00       186\n",
      "           1       0.51      1.00      0.67       192\n",
      "\n",
      "    accuracy                           0.51       378\n",
      "   macro avg       0.25      0.50      0.34       378\n",
      "weighted avg       0.26      0.51      0.34       378\n",
      "\n",
      "\n",
      "Confusion Matrix:\n",
      " [[  0 186]\n",
      " [  0 192]]\n"
     ]
    }
   ],
   "source": [
    "stack_model(LSTM)"
   ]
  },
  {
   "cell_type": "code",
   "execution_count": 93,
   "metadata": {
    "execution": {
     "iopub.execute_input": "2021-08-12T05:59:28.450771Z",
     "iopub.status.busy": "2021-08-12T05:59:28.450394Z",
     "iopub.status.idle": "2021-08-12T06:01:09.564742Z",
     "shell.execute_reply": "2021-08-12T06:01:09.563750Z",
     "shell.execute_reply.started": "2021-08-12T05:59:28.450737Z"
    }
   },
   "outputs": [
    {
     "name": "stdout",
     "output_type": "stream",
     "text": [
      "Model: \"sequential_12\"\n",
      "_________________________________________________________________\n",
      "Layer (type)                 Output Shape              Param #   \n",
      "=================================================================\n",
      "embedding_12 (Embedding)     (None, 424, 300)          7665600   \n",
      "_________________________________________________________________\n",
      "gru_2 (GRU)                  (None, 424, 256)          428544    \n",
      "_________________________________________________________________\n",
      "gru_3 (GRU)                  (None, 128)               148224    \n",
      "_________________________________________________________________\n",
      "dense_22 (Dense)             (None, 256)               33024     \n",
      "_________________________________________________________________\n",
      "dense_23 (Dense)             (None, 2)                 514       \n",
      "=================================================================\n",
      "Total params: 8,275,906\n",
      "Trainable params: 8,275,906\n",
      "Non-trainable params: 0\n",
      "_________________________________________________________________\n",
      "Accuracy Score: 0.54\n",
      "\n",
      "Classification Score:\n",
      "               precision    recall  f1-score   support\n",
      "\n",
      "           0       0.00      0.00      0.00       737\n",
      "           1       0.54      1.00      0.70       873\n",
      "\n",
      "    accuracy                           0.54      1610\n",
      "   macro avg       0.27      0.50      0.35      1610\n",
      "weighted avg       0.29      0.54      0.38      1610\n",
      "\n",
      "\n",
      "Confusion Matrix:\n",
      " [[  0 737]\n",
      " [  0 873]]\n",
      "Accuracy Score: 0.51\n",
      "\n",
      "Classification Score:\n",
      "               precision    recall  f1-score   support\n",
      "\n",
      "           0       0.00      0.00      0.00       186\n",
      "           1       0.51      1.00      0.67       192\n",
      "\n",
      "    accuracy                           0.51       378\n",
      "   macro avg       0.25      0.50      0.34       378\n",
      "weighted avg       0.26      0.51      0.34       378\n",
      "\n",
      "\n",
      "Confusion Matrix:\n",
      " [[  0 186]\n",
      " [  0 192]]\n"
     ]
    }
   ],
   "source": [
    "stack_model(GRU)"
   ]
  },
  {
   "cell_type": "code",
   "execution_count": 116,
   "metadata": {
    "execution": {
     "iopub.execute_input": "2021-08-12T06:29:14.916507Z",
     "iopub.status.busy": "2021-08-12T06:29:14.916162Z",
     "iopub.status.idle": "2021-08-12T06:29:14.924805Z",
     "shell.execute_reply": "2021-08-12T06:29:14.923827Z",
     "shell.execute_reply.started": "2021-08-12T06:29:14.916477Z"
    }
   },
   "outputs": [],
   "source": [
    "def bidirect_model(layer_name, epochs=50, dropout=False):\n",
    "    SEED = 42\n",
    "    np.random.seed(SEED)\n",
    "    tf.random.set_seed(SEED)\n",
    "\n",
    "    EMBEDDING_DIM = 300 #Dimension for dense embedding for each token\n",
    "    VOCAB_SIZE = len(tokenzer.word_index)\n",
    "    model = Sequential()\n",
    "    model.add((Embedding(input_dim =VOCAB_SIZE+1,output_dim = EMBEDDING_DIM,input_length = MAX_SEQUENCE_LENGTH)))\n",
    "    \n",
    "    model.add(Bidirectional(layer_name(256, return_sequences=True)))\n",
    "    if dropout:\n",
    "        model.add(Dropout(0.2))\n",
    "    model.add(Bidirectional(layer_name(128, return_sequences=False)))\n",
    "    if dropout:\n",
    "        model.add(Dropout(0.2))\n",
    "    model.add((Dense(256,activation = 'relu')))\n",
    "    model.add(Dense(2,activation = 'softmax'))\n",
    "\n",
    "    model.compile(loss = tf.keras.losses.SparseCategoricalCrossentropy(),optimizer=\"adam\",metrics =['accuracy'])\n",
    "    model.summary()\n",
    "    fit_the_model(model, epochs=50)"
   ]
  },
  {
   "cell_type": "code",
   "execution_count": 115,
   "metadata": {
    "execution": {
     "iopub.execute_input": "2021-08-12T06:26:56.427877Z",
     "iopub.status.busy": "2021-08-12T06:26:56.427498Z",
     "iopub.status.idle": "2021-08-12T06:28:06.736066Z",
     "shell.execute_reply": "2021-08-12T06:28:06.735241Z",
     "shell.execute_reply.started": "2021-08-12T06:26:56.427844Z"
    }
   },
   "outputs": [
    {
     "name": "stdout",
     "output_type": "stream",
     "text": [
      "Model: \"sequential_23\"\n",
      "_________________________________________________________________\n",
      "Layer (type)                 Output Shape              Param #   \n",
      "=================================================================\n",
      "embedding_23 (Embedding)     (None, 424, 300)          7665600   \n",
      "_________________________________________________________________\n",
      "bidirectional_23 (Bidirectio (None, 424, 512)          1140736   \n",
      "_________________________________________________________________\n",
      "bidirectional_24 (Bidirectio (None, 256)               656384    \n",
      "_________________________________________________________________\n",
      "dense_40 (Dense)             (None, 256)               65792     \n",
      "_________________________________________________________________\n",
      "dense_41 (Dense)             (None, 2)                 514       \n",
      "=================================================================\n",
      "Total params: 9,529,026\n",
      "Trainable params: 9,529,026\n",
      "Non-trainable params: 0\n",
      "_________________________________________________________________\n",
      "Accuracy Score: 1.0\n",
      "\n",
      "Classification Score:\n",
      "               precision    recall  f1-score   support\n",
      "\n",
      "           0       1.00      1.00      1.00       737\n",
      "           1       1.00      1.00      1.00       873\n",
      "\n",
      "    accuracy                           1.00      1610\n",
      "   macro avg       1.00      1.00      1.00      1610\n",
      "weighted avg       1.00      1.00      1.00      1610\n",
      "\n",
      "\n",
      "Confusion Matrix:\n",
      " [[737   0]\n",
      " [  0 873]]\n",
      "Accuracy Score: 0.48\n",
      "\n",
      "Classification Score:\n",
      "               precision    recall  f1-score   support\n",
      "\n",
      "           0       0.47      0.48      0.48       186\n",
      "           1       0.49      0.48      0.48       192\n",
      "\n",
      "    accuracy                           0.48       378\n",
      "   macro avg       0.48      0.48      0.48       378\n",
      "weighted avg       0.48      0.48      0.48       378\n",
      "\n",
      "\n",
      "Confusion Matrix:\n",
      " [[ 90  96]\n",
      " [100  92]]\n"
     ]
    }
   ],
   "source": [
    "bidirect_model(LSTM)"
   ]
  },
  {
   "cell_type": "code",
   "execution_count": 117,
   "metadata": {
    "execution": {
     "iopub.execute_input": "2021-08-12T06:29:28.783310Z",
     "iopub.status.busy": "2021-08-12T06:29:28.782982Z",
     "iopub.status.idle": "2021-08-12T06:30:39.718572Z",
     "shell.execute_reply": "2021-08-12T06:30:39.717671Z",
     "shell.execute_reply.started": "2021-08-12T06:29:28.783279Z"
    }
   },
   "outputs": [
    {
     "name": "stdout",
     "output_type": "stream",
     "text": [
      "Model: \"sequential_24\"\n",
      "_________________________________________________________________\n",
      "Layer (type)                 Output Shape              Param #   \n",
      "=================================================================\n",
      "embedding_24 (Embedding)     (None, 424, 300)          7665600   \n",
      "_________________________________________________________________\n",
      "bidirectional_25 (Bidirectio (None, 424, 512)          1140736   \n",
      "_________________________________________________________________\n",
      "dropout_5 (Dropout)          (None, 424, 512)          0         \n",
      "_________________________________________________________________\n",
      "bidirectional_26 (Bidirectio (None, 256)               656384    \n",
      "_________________________________________________________________\n",
      "dropout_6 (Dropout)          (None, 256)               0         \n",
      "_________________________________________________________________\n",
      "dense_42 (Dense)             (None, 256)               65792     \n",
      "_________________________________________________________________\n",
      "dense_43 (Dense)             (None, 2)                 514       \n",
      "=================================================================\n",
      "Total params: 9,529,026\n",
      "Trainable params: 9,529,026\n",
      "Non-trainable params: 0\n",
      "_________________________________________________________________\n",
      "Accuracy Score: 1.0\n",
      "\n",
      "Classification Score:\n",
      "               precision    recall  f1-score   support\n",
      "\n",
      "           0       1.00      1.00      1.00       737\n",
      "           1       1.00      1.00      1.00       873\n",
      "\n",
      "    accuracy                           1.00      1610\n",
      "   macro avg       1.00      1.00      1.00      1610\n",
      "weighted avg       1.00      1.00      1.00      1610\n",
      "\n",
      "\n",
      "Confusion Matrix:\n",
      " [[737   0]\n",
      " [  0 873]]\n",
      "Accuracy Score: 0.49\n",
      "\n",
      "Classification Score:\n",
      "               precision    recall  f1-score   support\n",
      "\n",
      "           0       0.48      0.42      0.45       186\n",
      "           1       0.50      0.56      0.53       192\n",
      "\n",
      "    accuracy                           0.49       378\n",
      "   macro avg       0.49      0.49      0.49       378\n",
      "weighted avg       0.49      0.49      0.49       378\n",
      "\n",
      "\n",
      "Confusion Matrix:\n",
      " [[ 78 108]\n",
      " [ 85 107]]\n"
     ]
    }
   ],
   "source": [
    "#DropOut\n",
    "bidirect_model(LSTM, dropout=True)"
   ]
  },
  {
   "cell_type": "code",
   "execution_count": 118,
   "metadata": {
    "execution": {
     "iopub.execute_input": "2021-08-12T06:31:13.584974Z",
     "iopub.status.busy": "2021-08-12T06:31:13.584600Z",
     "iopub.status.idle": "2021-08-12T06:32:17.198362Z",
     "shell.execute_reply": "2021-08-12T06:32:17.197563Z",
     "shell.execute_reply.started": "2021-08-12T06:31:13.584944Z"
    }
   },
   "outputs": [
    {
     "name": "stdout",
     "output_type": "stream",
     "text": [
      "Model: \"sequential_25\"\n",
      "_________________________________________________________________\n",
      "Layer (type)                 Output Shape              Param #   \n",
      "=================================================================\n",
      "embedding_25 (Embedding)     (None, 424, 300)          7665600   \n",
      "_________________________________________________________________\n",
      "bidirectional_27 (Bidirectio (None, 424, 512)          857088    \n",
      "_________________________________________________________________\n",
      "bidirectional_28 (Bidirectio (None, 256)               493056    \n",
      "_________________________________________________________________\n",
      "dense_44 (Dense)             (None, 256)               65792     \n",
      "_________________________________________________________________\n",
      "dense_45 (Dense)             (None, 2)                 514       \n",
      "=================================================================\n",
      "Total params: 9,082,050\n",
      "Trainable params: 9,082,050\n",
      "Non-trainable params: 0\n",
      "_________________________________________________________________\n",
      "Accuracy Score: 1.0\n",
      "\n",
      "Classification Score:\n",
      "               precision    recall  f1-score   support\n",
      "\n",
      "           0       1.00      1.00      1.00       737\n",
      "           1       1.00      1.00      1.00       873\n",
      "\n",
      "    accuracy                           1.00      1610\n",
      "   macro avg       1.00      1.00      1.00      1610\n",
      "weighted avg       1.00      1.00      1.00      1610\n",
      "\n",
      "\n",
      "Confusion Matrix:\n",
      " [[737   0]\n",
      " [  0 873]]\n",
      "Accuracy Score: 0.49\n",
      "\n",
      "Classification Score:\n",
      "               precision    recall  f1-score   support\n",
      "\n",
      "           0       0.48      0.41      0.45       186\n",
      "           1       0.50      0.57      0.53       192\n",
      "\n",
      "    accuracy                           0.49       378\n",
      "   macro avg       0.49      0.49      0.49       378\n",
      "weighted avg       0.49      0.49      0.49       378\n",
      "\n",
      "\n",
      "Confusion Matrix:\n",
      " [[ 77 109]\n",
      " [ 83 109]]\n"
     ]
    }
   ],
   "source": [
    "bidirect_model(GRU)"
   ]
  },
  {
   "cell_type": "code",
   "execution_count": 119,
   "metadata": {
    "execution": {
     "iopub.execute_input": "2021-08-12T06:32:27.366087Z",
     "iopub.status.busy": "2021-08-12T06:32:27.365763Z",
     "iopub.status.idle": "2021-08-12T06:33:30.913683Z",
     "shell.execute_reply": "2021-08-12T06:33:30.912793Z",
     "shell.execute_reply.started": "2021-08-12T06:32:27.366058Z"
    }
   },
   "outputs": [
    {
     "name": "stdout",
     "output_type": "stream",
     "text": [
      "Model: \"sequential_26\"\n",
      "_________________________________________________________________\n",
      "Layer (type)                 Output Shape              Param #   \n",
      "=================================================================\n",
      "embedding_26 (Embedding)     (None, 424, 300)          7665600   \n",
      "_________________________________________________________________\n",
      "bidirectional_29 (Bidirectio (None, 424, 512)          857088    \n",
      "_________________________________________________________________\n",
      "dropout_7 (Dropout)          (None, 424, 512)          0         \n",
      "_________________________________________________________________\n",
      "bidirectional_30 (Bidirectio (None, 256)               493056    \n",
      "_________________________________________________________________\n",
      "dropout_8 (Dropout)          (None, 256)               0         \n",
      "_________________________________________________________________\n",
      "dense_46 (Dense)             (None, 256)               65792     \n",
      "_________________________________________________________________\n",
      "dense_47 (Dense)             (None, 2)                 514       \n",
      "=================================================================\n",
      "Total params: 9,082,050\n",
      "Trainable params: 9,082,050\n",
      "Non-trainable params: 0\n",
      "_________________________________________________________________\n",
      "Accuracy Score: 1.0\n",
      "\n",
      "Classification Score:\n",
      "               precision    recall  f1-score   support\n",
      "\n",
      "           0       1.00      1.00      1.00       737\n",
      "           1       1.00      1.00      1.00       873\n",
      "\n",
      "    accuracy                           1.00      1610\n",
      "   macro avg       1.00      1.00      1.00      1610\n",
      "weighted avg       1.00      1.00      1.00      1610\n",
      "\n",
      "\n",
      "Confusion Matrix:\n",
      " [[737   0]\n",
      " [  0 873]]\n",
      "Accuracy Score: 0.5\n",
      "\n",
      "Classification Score:\n",
      "               precision    recall  f1-score   support\n",
      "\n",
      "           0       0.49      0.40      0.44       186\n",
      "           1       0.51      0.60      0.55       192\n",
      "\n",
      "    accuracy                           0.50       378\n",
      "   macro avg       0.50      0.50      0.50       378\n",
      "weighted avg       0.50      0.50      0.50       378\n",
      "\n",
      "\n",
      "Confusion Matrix:\n",
      " [[ 75 111]\n",
      " [ 77 115]]\n"
     ]
    }
   ],
   "source": [
    "#GRU\n",
    "bidirect_model(GRU, dropout=True)"
   ]
  }
 ],
 "metadata": {
  "kernelspec": {
   "display_name": "Python 3",
   "language": "python",
   "name": "python3"
  },
  "language_info": {
   "codemirror_mode": {
    "name": "ipython",
    "version": 3
   },
   "file_extension": ".py",
   "mimetype": "text/x-python",
   "name": "python",
   "nbconvert_exporter": "python",
   "pygments_lexer": "ipython3",
   "version": "3.7.10"
  }
 },
 "nbformat": 4,
 "nbformat_minor": 4
}
