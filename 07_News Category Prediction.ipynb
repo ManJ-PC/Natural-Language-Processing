{
 "cells": [
  {
   "cell_type": "markdown",
   "metadata": {},
   "source": [
    "#### News Category Prediction"
   ]
  },
  {
   "cell_type": "markdown",
   "metadata": {},
   "source": [
    "Dataset Link https://machinehack.com/hackathons/predict_the_news_category_hackathon/overview"
   ]
  },
  {
   "cell_type": "markdown",
   "metadata": {},
   "source": [
    "#### Importing Necessary Libraries "
   ]
  },
  {
   "cell_type": "code",
   "execution_count": null,
   "metadata": {
    "id": "sT1bnh3RI4fq"
   },
   "outputs": [],
   "source": [
    "import pandas as pd\n",
    "import numpy as np\n",
    "import tensorflow as tf"
   ]
  },
  {
   "cell_type": "code",
   "execution_count": null,
   "metadata": {
    "id": "WBDM8mykJBiH"
   },
   "outputs": [],
   "source": [
    "train_df = pd.read_excel('/content/drive/MyDrive/Datasets/News Category/Data_Train.xlsx')\n",
    "test_df = pd.read_excel('/content/drive/MyDrive/Datasets/News Category/Data_Test.xlsx')\n",
    "sample_df = pd.read_excel('/content/drive/MyDrive/Datasets/News Category/Sample_submission.xlsx')"
   ]
  },
  {
   "cell_type": "code",
   "execution_count": null,
   "metadata": {
    "colab": {
     "base_uri": "https://localhost:8080/",
     "height": 419
    },
    "id": "LWNxyAVWKVmm",
    "outputId": "db0925e3-c003-4b4c-9dd1-6e586df12aff"
   },
   "outputs": [
    {
     "data": {
      "text/html": [
       "<div>\n",
       "<style scoped>\n",
       "    .dataframe tbody tr th:only-of-type {\n",
       "        vertical-align: middle;\n",
       "    }\n",
       "\n",
       "    .dataframe tbody tr th {\n",
       "        vertical-align: top;\n",
       "    }\n",
       "\n",
       "    .dataframe thead th {\n",
       "        text-align: right;\n",
       "    }\n",
       "</style>\n",
       "<table border=\"1\" class=\"dataframe\">\n",
       "  <thead>\n",
       "    <tr style=\"text-align: right;\">\n",
       "      <th></th>\n",
       "      <th>SECTION</th>\n",
       "    </tr>\n",
       "  </thead>\n",
       "  <tbody>\n",
       "    <tr>\n",
       "      <th>0</th>\n",
       "      <td>3</td>\n",
       "    </tr>\n",
       "    <tr>\n",
       "      <th>1</th>\n",
       "      <td>3</td>\n",
       "    </tr>\n",
       "    <tr>\n",
       "      <th>2</th>\n",
       "      <td>3</td>\n",
       "    </tr>\n",
       "    <tr>\n",
       "      <th>3</th>\n",
       "      <td>3</td>\n",
       "    </tr>\n",
       "    <tr>\n",
       "      <th>4</th>\n",
       "      <td>3</td>\n",
       "    </tr>\n",
       "    <tr>\n",
       "      <th>...</th>\n",
       "      <td>...</td>\n",
       "    </tr>\n",
       "    <tr>\n",
       "      <th>2743</th>\n",
       "      <td>2</td>\n",
       "    </tr>\n",
       "    <tr>\n",
       "      <th>2744</th>\n",
       "      <td>2</td>\n",
       "    </tr>\n",
       "    <tr>\n",
       "      <th>2745</th>\n",
       "      <td>2</td>\n",
       "    </tr>\n",
       "    <tr>\n",
       "      <th>2746</th>\n",
       "      <td>2</td>\n",
       "    </tr>\n",
       "    <tr>\n",
       "      <th>2747</th>\n",
       "      <td>2</td>\n",
       "    </tr>\n",
       "  </tbody>\n",
       "</table>\n",
       "<p>2748 rows × 1 columns</p>\n",
       "</div>"
      ],
      "text/plain": [
       "      SECTION\n",
       "0           3\n",
       "1           3\n",
       "2           3\n",
       "3           3\n",
       "4           3\n",
       "...       ...\n",
       "2743        2\n",
       "2744        2\n",
       "2745        2\n",
       "2746        2\n",
       "2747        2\n",
       "\n",
       "[2748 rows x 1 columns]"
      ]
     },
     "execution_count": 44,
     "metadata": {
      "tags": []
     },
     "output_type": "execute_result"
    }
   ],
   "source": [
    "sample_df"
   ]
  },
  {
   "cell_type": "code",
   "execution_count": null,
   "metadata": {
    "colab": {
     "base_uri": "https://localhost:8080/",
     "height": 204
    },
    "id": "FaLuDOTnKZ4S",
    "outputId": "a64302ae-e77c-483b-8b6a-253af2986b4b"
   },
   "outputs": [
    {
     "data": {
      "text/html": [
       "<div>\n",
       "<style scoped>\n",
       "    .dataframe tbody tr th:only-of-type {\n",
       "        vertical-align: middle;\n",
       "    }\n",
       "\n",
       "    .dataframe tbody tr th {\n",
       "        vertical-align: top;\n",
       "    }\n",
       "\n",
       "    .dataframe thead th {\n",
       "        text-align: right;\n",
       "    }\n",
       "</style>\n",
       "<table border=\"1\" class=\"dataframe\">\n",
       "  <thead>\n",
       "    <tr style=\"text-align: right;\">\n",
       "      <th></th>\n",
       "      <th>STORY</th>\n",
       "    </tr>\n",
       "  </thead>\n",
       "  <tbody>\n",
       "    <tr>\n",
       "      <th>0</th>\n",
       "      <td>2019 will see gadgets like gaming smartphones ...</td>\n",
       "    </tr>\n",
       "    <tr>\n",
       "      <th>1</th>\n",
       "      <td>It has also unleashed a wave of changes in the...</td>\n",
       "    </tr>\n",
       "    <tr>\n",
       "      <th>2</th>\n",
       "      <td>It can be confusing to pick the right smartpho...</td>\n",
       "    </tr>\n",
       "    <tr>\n",
       "      <th>3</th>\n",
       "      <td>The mobile application is integrated with a da...</td>\n",
       "    </tr>\n",
       "    <tr>\n",
       "      <th>4</th>\n",
       "      <td>We have rounded up some of the gadgets that sh...</td>\n",
       "    </tr>\n",
       "  </tbody>\n",
       "</table>\n",
       "</div>"
      ],
      "text/plain": [
       "                                               STORY\n",
       "0  2019 will see gadgets like gaming smartphones ...\n",
       "1  It has also unleashed a wave of changes in the...\n",
       "2  It can be confusing to pick the right smartpho...\n",
       "3  The mobile application is integrated with a da...\n",
       "4  We have rounded up some of the gadgets that sh..."
      ]
     },
     "execution_count": 5,
     "metadata": {
      "tags": []
     },
     "output_type": "execute_result"
    }
   ],
   "source": [
    "test_df.head()"
   ]
  },
  {
   "cell_type": "code",
   "execution_count": null,
   "metadata": {
    "colab": {
     "base_uri": "https://localhost:8080/"
    },
    "id": "ZcgSTwN6LT0p",
    "outputId": "8e38d80e-1fba-4594-f07e-0ef8890a35c9"
   },
   "outputs": [
    {
     "name": "stdout",
     "output_type": "stream",
     "text": [
      "[nltk_data] Downloading package punkt to /root/nltk_data...\n",
      "[nltk_data]   Unzipping tokenizers/punkt.zip.\n"
     ]
    },
    {
     "data": {
      "text/plain": [
       "True"
      ]
     },
     "execution_count": 8,
     "metadata": {
      "tags": []
     },
     "output_type": "execute_result"
    }
   ],
   "source": [
    "import tqdm\n",
    "from preprocess_engine_kaggle import preprocessor_engine\n",
    "import nltk\n",
    "nltk.download('punkt')"
   ]
  },
  {
   "cell_type": "code",
   "execution_count": null,
   "metadata": {
    "id": "7A3Mb7_qK1xv"
   },
   "outputs": [],
   "source": [
    "def corpus_pre_processor(corpus):\n",
    "    norm_corpus = []\n",
    "    for doc in tqdm.tqdm(corpus):\n",
    "        #print(type(doc))\n",
    "        norm_corpus.append(preprocessor_engine(doc, html_strip=False, accent_characters=False, fix_contract=True, remove_stop_words=True , remove_digits=True, lower=False))\n",
    "        \n",
    "    return norm_corpus"
   ]
  },
  {
   "cell_type": "code",
   "execution_count": null,
   "metadata": {
    "colab": {
     "base_uri": "https://localhost:8080/"
    },
    "id": "wUrmk6v8LkOm",
    "outputId": "c99c80e8-1d36-4b38-9ea0-56fe41b9307e"
   },
   "outputs": [
    {
     "name": "stderr",
     "output_type": "stream",
     "text": [
      "100%|██████████| 7628/7628 [03:05<00:00, 41.06it/s]\n"
     ]
    }
   ],
   "source": [
    "train_data = corpus_pre_processor(train_df['STORY'])"
   ]
  },
  {
   "cell_type": "code",
   "execution_count": null,
   "metadata": {
    "colab": {
     "base_uri": "https://localhost:8080/"
    },
    "id": "hU_DltbZL5eq",
    "outputId": "daba7be4-6035-4958-847b-f855e1f78f1f"
   },
   "outputs": [
    {
     "name": "stderr",
     "output_type": "stream",
     "text": [
      "100%|██████████| 2748/2748 [01:04<00:00, 42.38it/s]\n"
     ]
    }
   ],
   "source": [
    "test_data = corpus_pre_processor(test_df['STORY'])"
   ]
  },
  {
   "cell_type": "code",
   "execution_count": null,
   "metadata": {
    "colab": {
     "base_uri": "https://localhost:8080/",
     "height": 120
    },
    "id": "39VApvn8M-3u",
    "outputId": "e0093b9b-40e1-4c32-872d-e1c7081e319e"
   },
   "outputs": [
    {
     "data": {
      "application/vnd.google.colaboratory.intrinsic+json": {
       "type": "string"
      },
      "text/plain": [
       "'But the most painful was the huge reversal in fee income, unheard of among private sector lenders. Essentially, it means that Yes Bank took it for granted that fees on structured loan deals will be paid and accounted for upfront on its books. As borrowers turned defaulters, the fees tied to these loan deals fell off the cracks. Gill has now vowed to shift to a safer accounting practice of amortizing fee income rather than booking these upfront.\\n\\n\\nGill’s move to mend past ways means that there will be no nasty surprises in the future. This is good news considering that investors love a clean image and loathe uncertainties.\\n\\n\\nBut there is no gain without pain and the promise of a strong and stable balance sheet comes with some sacrifices as well. Investors will have to give up the hopes of phenomenal growth, a promise made by Kapoor.'"
      ]
     },
     "execution_count": 12,
     "metadata": {
      "tags": []
     },
     "output_type": "execute_result"
    }
   ],
   "source": [
    "#Original Data\n",
    "train_df.iloc[0,0]"
   ]
  },
  {
   "cell_type": "code",
   "execution_count": null,
   "metadata": {
    "colab": {
     "base_uri": "https://localhost:8080/",
     "height": 86
    },
    "id": "ktu8m5oXLun0",
    "outputId": "7b71b428-ec93-4f11-d6ca-72500bb26de0"
   },
   "outputs": [
    {
     "data": {
      "application/vnd.google.colaboratory.intrinsic+json": {
       "type": "string"
      },
      "text/plain": [
       "'painful huge reversal fee income unheard private sector lender essentially mean yes bank grant fee structured loan deal pay account upfront book borrower turn defaulter fee tie loan deal fall crack gill vow shift safe accounting practice amortize fee income book upfront gill s mend past way mean nasty surprise future good news consider investor love clean image loathe uncertainty gain pain promise strong stable balance sheet come sacrifice investor hope phenomenal growth promise kapoor'"
      ]
     },
     "execution_count": 13,
     "metadata": {
      "tags": []
     },
     "output_type": "execute_result"
    }
   ],
   "source": [
    "#Preprocessed Data\n",
    "train_data[0]"
   ]
  },
  {
   "cell_type": "code",
   "execution_count": null,
   "metadata": {
    "colab": {
     "base_uri": "https://localhost:8080/"
    },
    "id": "F6-tj8_FM8qq",
    "outputId": "18c944dc-962b-49d6-bf4b-ccc2b486f74c"
   },
   "outputs": [
    {
     "data": {
      "text/plain": [
       "1    2772\n",
       "2    1924\n",
       "0    1686\n",
       "3    1246\n",
       "Name: SECTION, dtype: int64"
      ]
     },
     "execution_count": 14,
     "metadata": {
      "tags": []
     },
     "output_type": "execute_result"
    }
   ],
   "source": [
    "#Section's value counts\n",
    "train_df['SECTION'].value_counts()"
   ]
  },
  {
   "cell_type": "code",
   "execution_count": null,
   "metadata": {
    "id": "1xchpKIuNokg"
   },
   "outputs": [],
   "source": [
    "tokenzer = tf.keras.preprocessing.text.Tokenizer(oov_token = '<UNK>')\n",
    "tokenzer.fit_on_texts(train_data)"
   ]
  },
  {
   "cell_type": "code",
   "execution_count": null,
   "metadata": {
    "id": "nNFVN7N7Nqzk"
   },
   "outputs": [],
   "source": [
    "train_sequences = tokenzer.texts_to_sequences(train_data)\n",
    "test_sequences = tokenzer.texts_to_sequences(test_data)"
   ]
  },
  {
   "cell_type": "code",
   "execution_count": null,
   "metadata": {
    "colab": {
     "base_uri": "https://localhost:8080/"
    },
    "id": "j7Qn9Ay1NsZ0",
    "outputId": "e3e3725d-48fd-4c04-ae2f-d56253cbe79d"
   },
   "outputs": [
    {
     "name": "stdout",
     "output_type": "stream",
     "text": [
      "Vocabulary size =25395\n",
      "Number of Documents=7628\n"
     ]
    }
   ],
   "source": [
    "print(\"Vocabulary size ={}\".format(len(tokenzer.word_index)))\n",
    "print(\"Number of Documents={}\".format(tokenzer.document_count))"
   ]
  },
  {
   "cell_type": "code",
   "execution_count": null,
   "metadata": {
    "colab": {
     "base_uri": "https://localhost:8080/"
    },
    "id": "j6Ylvp0jNwdB",
    "outputId": "7db8bad8-ccd9-4d4e-ed86-b495fe0e442c"
   },
   "outputs": [
    {
     "data": {
      "text/plain": [
       "546"
      ]
     },
     "execution_count": 19,
     "metadata": {
      "tags": []
     },
     "output_type": "execute_result"
    }
   ],
   "source": [
    "pd.Series(train_data).apply(lambda x : len(x.split())).max()"
   ]
  },
  {
   "cell_type": "code",
   "execution_count": null,
   "metadata": {
    "id": "Jf4SmziEN1Mn"
   },
   "outputs": [],
   "source": [
    "MAX_SEQUENCE_LENGTH = 547\n",
    "\n",
    "train_pad_sequences = tf.keras.preprocessing.sequence.pad_sequences(train_sequences, maxlen = MAX_SEQUENCE_LENGTH, padding='post')\n",
    "test_pad_sequneces = tf.keras.preprocessing.sequence.pad_sequences(test_sequences, maxlen = MAX_SEQUENCE_LENGTH, padding='post')"
   ]
  },
  {
   "cell_type": "code",
   "execution_count": null,
   "metadata": {
    "id": "Y4eOK5LNN-ym"
   },
   "outputs": [],
   "source": [
    "from tensorflow.keras.models import Sequential\n",
    "from tensorflow.keras.layers import Dense, RNN, LSTM, GRU, Bidirectional, Embedding\n",
    "from tensorflow.keras.callbacks import EarlyStopping\n",
    "from google.colab import files"
   ]
  },
  {
   "cell_type": "code",
   "execution_count": null,
   "metadata": {
    "colab": {
     "base_uri": "https://localhost:8080/"
    },
    "id": "WX2_xiEVOEVe",
    "outputId": "c15bc9ee-0a88-4542-835f-b62ffeac8ddd"
   },
   "outputs": [
    {
     "data": {
      "text/plain": [
       "4"
      ]
     },
     "execution_count": 22,
     "metadata": {
      "tags": []
     },
     "output_type": "execute_result"
    }
   ],
   "source": [
    "y = train_df['SECTION']\n",
    "y.nunique()"
   ]
  },
  {
   "cell_type": "code",
   "execution_count": null,
   "metadata": {
    "id": "AQUewWVJOHIo"
   },
   "outputs": [],
   "source": [
    "def deep_model(layer_name, filename=None, epochs=50, final_pred = True):\n",
    "    SEED = 42\n",
    "    np.random.seed(SEED)\n",
    "    tf.random.set_seed(SEED)\n",
    "\n",
    "    EMBEDDING_DIM = 300 #Dimension for dense embedding for each token\n",
    "    VOCAB_SIZE = len(tokenzer.word_index)\n",
    "    model = Sequential()\n",
    "    model.add((Embedding(input_dim =VOCAB_SIZE+1,output_dim = EMBEDDING_DIM,input_length = MAX_SEQUENCE_LENGTH)))\n",
    "    model.add((layer_name(32)))\n",
    "    model.add((Dense(32,activation = 'relu')))\n",
    "    model.add(Dense(4,activation = 'softmax'))\n",
    "\n",
    "    model.compile(loss = tf.keras.losses.SparseCategoricalCrossentropy(),optimizer=\"adam\",metrics =['accuracy'])\n",
    "    model.summary()\n",
    "    fit_the_model(model, filename=filename, epochs=epochs, verbose=1, final_pred = final_pred)"
   ]
  },
  {
   "cell_type": "code",
   "execution_count": null,
   "metadata": {
    "id": "xKE7CW2KOgdK"
   },
   "outputs": [],
   "source": [
    "def predictions(model, file_name):\n",
    "    test_pred = model.predict_classes(test_pad_sequneces)\n",
    "    sample_df['SECTION'] = test_pred\n",
    "    print(file_name)\n",
    "    sample_df.to_csv(f'{file_name}pred.csv', index = True)\n",
    "    files.download(f'{file_name}pred.csv') \n",
    "\n",
    "def fit_the_model(model, filename, epochs=50, verbose=1, final_pred = True):\n",
    "    early_stop = EarlyStopping(monitor='val_loss', patience=5)\n",
    "    model.fit(train_pad_sequences, y, epochs=epochs, validation_split=0.1, callbacks=[early_stop],verbose=verbose)\n",
    "    if final_pred:\n",
    "      predictions(model, filename)\n",
    "    else:\n",
    "      pass"
   ]
  },
  {
   "cell_type": "code",
   "execution_count": null,
   "metadata": {
    "colab": {
     "base_uri": "https://localhost:8080/",
     "height": 717
    },
    "id": "fdqUeukWPNVI",
    "outputId": "0208d819-38b8-4261-e2b3-1b4d7b16fb74"
   },
   "outputs": [
    {
     "name": "stdout",
     "output_type": "stream",
     "text": [
      "Model: \"sequential_3\"\n",
      "_________________________________________________________________\n",
      "Layer (type)                 Output Shape              Param #   \n",
      "=================================================================\n",
      "embedding_3 (Embedding)      (None, 547, 300)          7618800   \n",
      "_________________________________________________________________\n",
      "lstm_3 (LSTM)                (None, 128)               219648    \n",
      "_________________________________________________________________\n",
      "dense_6 (Dense)              (None, 256)               33024     \n",
      "_________________________________________________________________\n",
      "dense_7 (Dense)              (None, 4)                 1028      \n",
      "=================================================================\n",
      "Total params: 7,872,500\n",
      "Trainable params: 7,872,500\n",
      "Non-trainable params: 0\n",
      "_________________________________________________________________\n",
      "Epoch 1/50\n",
      "215/215 [==============================] - 51s 227ms/step - loss: 1.3485 - accuracy: 0.3645 - val_loss: 1.3568 - val_accuracy: 0.3539\n",
      "Epoch 2/50\n",
      "215/215 [==============================] - 48s 222ms/step - loss: 1.3466 - accuracy: 0.3645 - val_loss: 1.3546 - val_accuracy: 0.3539\n",
      "Epoch 3/50\n",
      "215/215 [==============================] - 47s 219ms/step - loss: 1.3455 - accuracy: 0.3645 - val_loss: 1.3592 - val_accuracy: 0.3539\n",
      "Epoch 4/50\n",
      "215/215 [==============================] - 48s 222ms/step - loss: 1.3449 - accuracy: 0.3645 - val_loss: 1.3550 - val_accuracy: 0.3539\n",
      "Epoch 5/50\n",
      "215/215 [==============================] - 48s 222ms/step - loss: 1.3456 - accuracy: 0.3645 - val_loss: 1.3545 - val_accuracy: 0.3539\n",
      "Epoch 6/50\n",
      "215/215 [==============================] - 47s 220ms/step - loss: 1.3447 - accuracy: 0.3645 - val_loss: 1.3541 - val_accuracy: 0.3539\n",
      "Epoch 7/50\n",
      "215/215 [==============================] - 47s 220ms/step - loss: 1.3453 - accuracy: 0.3645 - val_loss: 1.3549 - val_accuracy: 0.3539\n",
      "Epoch 8/50\n",
      "215/215 [==============================] - 47s 217ms/step - loss: 1.3447 - accuracy: 0.3645 - val_loss: 1.3557 - val_accuracy: 0.3539\n",
      "Epoch 9/50\n",
      "215/215 [==============================] - 47s 218ms/step - loss: 1.3446 - accuracy: 0.3645 - val_loss: 1.3542 - val_accuracy: 0.3539\n",
      "Epoch 10/50\n",
      "215/215 [==============================] - 46s 216ms/step - loss: 1.3455 - accuracy: 0.3645 - val_loss: 1.3546 - val_accuracy: 0.3539\n",
      "Epoch 11/50\n",
      "215/215 [==============================] - 46s 215ms/step - loss: 1.3448 - accuracy: 0.3645 - val_loss: 1.3543 - val_accuracy: 0.3539\n"
     ]
    },
    {
     "name": "stderr",
     "output_type": "stream",
     "text": [
      "/usr/local/lib/python3.7/dist-packages/tensorflow/python/keras/engine/sequential.py:455: UserWarning: `model.predict_classes()` is deprecated and will be removed after 2021-01-01. Please use instead:* `np.argmax(model.predict(x), axis=-1)`,   if your model does multi-class classification   (e.g. if it uses a `softmax` last-layer activation).* `(model.predict(x) > 0.5).astype(\"int32\")`,   if your model does binary classification   (e.g. if it uses a `sigmoid` last-layer activation).\n",
      "  warnings.warn('`model.predict_classes()` is deprecated and '\n"
     ]
    },
    {
     "data": {
      "application/javascript": [
       "\n",
       "    async function download(id, filename, size) {\n",
       "      if (!google.colab.kernel.accessAllowed) {\n",
       "        return;\n",
       "      }\n",
       "      const div = document.createElement('div');\n",
       "      const label = document.createElement('label');\n",
       "      label.textContent = `Downloading \"${filename}\": `;\n",
       "      div.appendChild(label);\n",
       "      const progress = document.createElement('progress');\n",
       "      progress.max = size;\n",
       "      div.appendChild(progress);\n",
       "      document.body.appendChild(div);\n",
       "\n",
       "      const buffers = [];\n",
       "      let downloaded = 0;\n",
       "\n",
       "      const channel = await google.colab.kernel.comms.open(id);\n",
       "      // Send a message to notify the kernel that we're ready.\n",
       "      channel.send({})\n",
       "\n",
       "      for await (const message of channel.messages) {\n",
       "        // Send a message to notify the kernel that we're ready.\n",
       "        channel.send({})\n",
       "        if (message.buffers) {\n",
       "          for (const buffer of message.buffers) {\n",
       "            buffers.push(buffer);\n",
       "            downloaded += buffer.byteLength;\n",
       "            progress.value = downloaded;\n",
       "          }\n",
       "        }\n",
       "      }\n",
       "      const blob = new Blob(buffers, {type: 'application/binary'});\n",
       "      const a = document.createElement('a');\n",
       "      a.href = window.URL.createObjectURL(blob);\n",
       "      a.download = filename;\n",
       "      div.appendChild(a);\n",
       "      a.click();\n",
       "      div.remove();\n",
       "    }\n",
       "  "
      ],
      "text/plain": [
       "<IPython.core.display.Javascript object>"
      ]
     },
     "metadata": {
      "tags": []
     },
     "output_type": "display_data"
    },
    {
     "data": {
      "application/javascript": [
       "download(\"download_f7948db6-7e00-4b07-8ba1-450cab564790\", \"LSTMpred.csv\", 11006)"
      ],
      "text/plain": [
       "<IPython.core.display.Javascript object>"
      ]
     },
     "metadata": {
      "tags": []
     },
     "output_type": "display_data"
    }
   ],
   "source": [
    "deep_model(LSTM, filename=\"LSTM\")"
   ]
  },
  {
   "cell_type": "code",
   "execution_count": null,
   "metadata": {
    "colab": {
     "base_uri": "https://localhost:8080/",
     "height": 717
    },
    "id": "lRjwnh7cPagQ",
    "outputId": "b3615ef2-fd7b-4ce5-e1b3-039aa4df4342"
   },
   "outputs": [
    {
     "name": "stdout",
     "output_type": "stream",
     "text": [
      "Model: \"sequential_5\"\n",
      "_________________________________________________________________\n",
      "Layer (type)                 Output Shape              Param #   \n",
      "=================================================================\n",
      "embedding_5 (Embedding)      (None, 547, 300)          7618800   \n",
      "_________________________________________________________________\n",
      "gru_1 (GRU)                  (None, 128)               165120    \n",
      "_________________________________________________________________\n",
      "dense_10 (Dense)             (None, 256)               33024     \n",
      "_________________________________________________________________\n",
      "dense_11 (Dense)             (None, 4)                 1028      \n",
      "=================================================================\n",
      "Total params: 7,817,972\n",
      "Trainable params: 7,817,972\n",
      "Non-trainable params: 0\n",
      "_________________________________________________________________\n",
      "Epoch 1/50\n",
      "215/215 [==============================] - 52s 223ms/step - loss: 1.3482 - accuracy: 0.3630 - val_loss: 1.3572 - val_accuracy: 0.3539\n",
      "Epoch 2/50\n",
      "215/215 [==============================] - 47s 218ms/step - loss: 1.3468 - accuracy: 0.3645 - val_loss: 1.3547 - val_accuracy: 0.3539\n",
      "Epoch 3/50\n",
      "215/215 [==============================] - 47s 218ms/step - loss: 1.3456 - accuracy: 0.3645 - val_loss: 1.3597 - val_accuracy: 0.3539\n",
      "Epoch 4/50\n",
      "215/215 [==============================] - 47s 218ms/step - loss: 1.3450 - accuracy: 0.3645 - val_loss: 1.3553 - val_accuracy: 0.3539\n",
      "Epoch 5/50\n",
      "215/215 [==============================] - 47s 218ms/step - loss: 1.3459 - accuracy: 0.3645 - val_loss: 1.3545 - val_accuracy: 0.3539\n",
      "Epoch 6/50\n",
      "215/215 [==============================] - 47s 218ms/step - loss: 1.3448 - accuracy: 0.3645 - val_loss: 1.3542 - val_accuracy: 0.3539\n",
      "Epoch 7/50\n",
      "215/215 [==============================] - 47s 219ms/step - loss: 1.3453 - accuracy: 0.3645 - val_loss: 1.3552 - val_accuracy: 0.3539\n",
      "Epoch 8/50\n",
      "215/215 [==============================] - 47s 217ms/step - loss: 1.3448 - accuracy: 0.3645 - val_loss: 1.3555 - val_accuracy: 0.3539\n",
      "Epoch 9/50\n",
      "215/215 [==============================] - 46s 216ms/step - loss: 1.3446 - accuracy: 0.3645 - val_loss: 1.3542 - val_accuracy: 0.3539\n",
      "Epoch 10/50\n",
      "215/215 [==============================] - 47s 219ms/step - loss: 1.3454 - accuracy: 0.3645 - val_loss: 1.3551 - val_accuracy: 0.3539\n",
      "Epoch 11/50\n",
      "215/215 [==============================] - 47s 220ms/step - loss: 1.3446 - accuracy: 0.3645 - val_loss: 1.3544 - val_accuracy: 0.3539\n"
     ]
    },
    {
     "name": "stderr",
     "output_type": "stream",
     "text": [
      "/usr/local/lib/python3.7/dist-packages/tensorflow/python/keras/engine/sequential.py:455: UserWarning: `model.predict_classes()` is deprecated and will be removed after 2021-01-01. Please use instead:* `np.argmax(model.predict(x), axis=-1)`,   if your model does multi-class classification   (e.g. if it uses a `softmax` last-layer activation).* `(model.predict(x) > 0.5).astype(\"int32\")`,   if your model does binary classification   (e.g. if it uses a `sigmoid` last-layer activation).\n",
      "  warnings.warn('`model.predict_classes()` is deprecated and '\n"
     ]
    },
    {
     "data": {
      "application/javascript": [
       "\n",
       "    async function download(id, filename, size) {\n",
       "      if (!google.colab.kernel.accessAllowed) {\n",
       "        return;\n",
       "      }\n",
       "      const div = document.createElement('div');\n",
       "      const label = document.createElement('label');\n",
       "      label.textContent = `Downloading \"${filename}\": `;\n",
       "      div.appendChild(label);\n",
       "      const progress = document.createElement('progress');\n",
       "      progress.max = size;\n",
       "      div.appendChild(progress);\n",
       "      document.body.appendChild(div);\n",
       "\n",
       "      const buffers = [];\n",
       "      let downloaded = 0;\n",
       "\n",
       "      const channel = await google.colab.kernel.comms.open(id);\n",
       "      // Send a message to notify the kernel that we're ready.\n",
       "      channel.send({})\n",
       "\n",
       "      for await (const message of channel.messages) {\n",
       "        // Send a message to notify the kernel that we're ready.\n",
       "        channel.send({})\n",
       "        if (message.buffers) {\n",
       "          for (const buffer of message.buffers) {\n",
       "            buffers.push(buffer);\n",
       "            downloaded += buffer.byteLength;\n",
       "            progress.value = downloaded;\n",
       "          }\n",
       "        }\n",
       "      }\n",
       "      const blob = new Blob(buffers, {type: 'application/binary'});\n",
       "      const a = document.createElement('a');\n",
       "      a.href = window.URL.createObjectURL(blob);\n",
       "      a.download = filename;\n",
       "      div.appendChild(a);\n",
       "      a.click();\n",
       "      div.remove();\n",
       "    }\n",
       "  "
      ],
      "text/plain": [
       "<IPython.core.display.Javascript object>"
      ]
     },
     "metadata": {
      "tags": []
     },
     "output_type": "display_data"
    },
    {
     "data": {
      "application/javascript": [
       "download(\"download_57bf4618-9817-4e53-9428-9a8004a34424\", \"GRU pred.csv\", 11006)"
      ],
      "text/plain": [
       "<IPython.core.display.Javascript object>"
      ]
     },
     "metadata": {
      "tags": []
     },
     "output_type": "display_data"
    }
   ],
   "source": [
    "deep_model(GRU, filename=\"GRU \")"
   ]
  },
  {
   "cell_type": "code",
   "execution_count": null,
   "metadata": {
    "id": "aIbRbv43UtCo"
   },
   "outputs": [],
   "source": [
    "def stack_model(layer_name, filename, epochs=50):\n",
    "    SEED = 42\n",
    "    np.random.seed(SEED)\n",
    "    tf.random.set_seed(SEED)\n",
    "\n",
    "    EMBEDDING_DIM = 300 #Dimension for dense embedding for each token\n",
    "    VOCAB_SIZE = len(tokenzer.word_index)\n",
    "    model = Sequential()\n",
    "    model.add((Embedding(input_dim =VOCAB_SIZE+1,output_dim = EMBEDDING_DIM,input_length = MAX_SEQUENCE_LENGTH)))\n",
    "    model.add((layer_name(256, return_sequences = True)))\n",
    "    model.add((layer_name(128, return_sequences = False)))\n",
    "    model.add((Dense(128,activation = 'relu')))\n",
    "    model.add(Dense(4,activation = 'softmax'))\n",
    "\n",
    "    model.compile(loss = tf.keras.losses.SparseCategoricalCrossentropy(),optimizer=\"adam\",metrics =['accuracy'])\n",
    "    model.summary()\n",
    "    fit_the_model(model, filename, epochs=50, verbose=1)"
   ]
  },
  {
   "cell_type": "code",
   "execution_count": null,
   "metadata": {
    "colab": {
     "base_uri": "https://localhost:8080/",
     "height": 751
    },
    "id": "sHexFWWaXtqt",
    "outputId": "29712e67-341d-4147-8c10-8573a704b6d1"
   },
   "outputs": [
    {
     "name": "stdout",
     "output_type": "stream",
     "text": [
      "Model: \"sequential_6\"\n",
      "_________________________________________________________________\n",
      "Layer (type)                 Output Shape              Param #   \n",
      "=================================================================\n",
      "embedding_6 (Embedding)      (None, 547, 300)          7618800   \n",
      "_________________________________________________________________\n",
      "lstm_4 (LSTM)                (None, 547, 256)          570368    \n",
      "_________________________________________________________________\n",
      "lstm_5 (LSTM)                (None, 128)               197120    \n",
      "_________________________________________________________________\n",
      "dense_12 (Dense)             (None, 128)               16512     \n",
      "_________________________________________________________________\n",
      "dense_13 (Dense)             (None, 4)                 516       \n",
      "=================================================================\n",
      "Total params: 8,403,316\n",
      "Trainable params: 8,403,316\n",
      "Non-trainable params: 0\n",
      "_________________________________________________________________\n",
      "Epoch 1/50\n",
      "215/215 [==============================] - 77s 339ms/step - loss: 1.3500 - accuracy: 0.3626 - val_loss: 1.3567 - val_accuracy: 0.3539\n",
      "Epoch 2/50\n",
      "215/215 [==============================] - 72s 336ms/step - loss: 1.3465 - accuracy: 0.3645 - val_loss: 1.3544 - val_accuracy: 0.3539\n",
      "Epoch 3/50\n",
      "215/215 [==============================] - 72s 334ms/step - loss: 1.3455 - accuracy: 0.3645 - val_loss: 1.3599 - val_accuracy: 0.3539\n",
      "Epoch 4/50\n",
      "215/215 [==============================] - 72s 334ms/step - loss: 1.3449 - accuracy: 0.3645 - val_loss: 1.3546 - val_accuracy: 0.3539\n",
      "Epoch 5/50\n",
      "215/215 [==============================] - 72s 335ms/step - loss: 1.3456 - accuracy: 0.3645 - val_loss: 1.3545 - val_accuracy: 0.3539\n",
      "Epoch 6/50\n",
      "215/215 [==============================] - 72s 334ms/step - loss: 1.3447 - accuracy: 0.3645 - val_loss: 1.3541 - val_accuracy: 0.3539\n",
      "Epoch 7/50\n",
      "215/215 [==============================] - 72s 333ms/step - loss: 1.3452 - accuracy: 0.3645 - val_loss: 1.3561 - val_accuracy: 0.3539\n",
      "Epoch 8/50\n",
      "215/215 [==============================] - 72s 334ms/step - loss: 1.3448 - accuracy: 0.3645 - val_loss: 1.3555 - val_accuracy: 0.3539\n",
      "Epoch 9/50\n",
      "215/215 [==============================] - 72s 334ms/step - loss: 1.3446 - accuracy: 0.3645 - val_loss: 1.3542 - val_accuracy: 0.3539\n",
      "Epoch 10/50\n",
      "215/215 [==============================] - 72s 334ms/step - loss: 1.3451 - accuracy: 0.3645 - val_loss: 1.3548 - val_accuracy: 0.3539\n",
      "Epoch 11/50\n",
      "215/215 [==============================] - 72s 333ms/step - loss: 1.3446 - accuracy: 0.3645 - val_loss: 1.3542 - val_accuracy: 0.3539\n"
     ]
    },
    {
     "name": "stderr",
     "output_type": "stream",
     "text": [
      "/usr/local/lib/python3.7/dist-packages/tensorflow/python/keras/engine/sequential.py:455: UserWarning: `model.predict_classes()` is deprecated and will be removed after 2021-01-01. Please use instead:* `np.argmax(model.predict(x), axis=-1)`,   if your model does multi-class classification   (e.g. if it uses a `softmax` last-layer activation).* `(model.predict(x) > 0.5).astype(\"int32\")`,   if your model does binary classification   (e.g. if it uses a `sigmoid` last-layer activation).\n",
      "  warnings.warn('`model.predict_classes()` is deprecated and '\n"
     ]
    },
    {
     "data": {
      "application/javascript": [
       "\n",
       "    async function download(id, filename, size) {\n",
       "      if (!google.colab.kernel.accessAllowed) {\n",
       "        return;\n",
       "      }\n",
       "      const div = document.createElement('div');\n",
       "      const label = document.createElement('label');\n",
       "      label.textContent = `Downloading \"${filename}\": `;\n",
       "      div.appendChild(label);\n",
       "      const progress = document.createElement('progress');\n",
       "      progress.max = size;\n",
       "      div.appendChild(progress);\n",
       "      document.body.appendChild(div);\n",
       "\n",
       "      const buffers = [];\n",
       "      let downloaded = 0;\n",
       "\n",
       "      const channel = await google.colab.kernel.comms.open(id);\n",
       "      // Send a message to notify the kernel that we're ready.\n",
       "      channel.send({})\n",
       "\n",
       "      for await (const message of channel.messages) {\n",
       "        // Send a message to notify the kernel that we're ready.\n",
       "        channel.send({})\n",
       "        if (message.buffers) {\n",
       "          for (const buffer of message.buffers) {\n",
       "            buffers.push(buffer);\n",
       "            downloaded += buffer.byteLength;\n",
       "            progress.value = downloaded;\n",
       "          }\n",
       "        }\n",
       "      }\n",
       "      const blob = new Blob(buffers, {type: 'application/binary'});\n",
       "      const a = document.createElement('a');\n",
       "      a.href = window.URL.createObjectURL(blob);\n",
       "      a.download = filename;\n",
       "      div.appendChild(a);\n",
       "      a.click();\n",
       "      div.remove();\n",
       "    }\n",
       "  "
      ],
      "text/plain": [
       "<IPython.core.display.Javascript object>"
      ]
     },
     "metadata": {
      "tags": []
     },
     "output_type": "display_data"
    },
    {
     "data": {
      "application/javascript": [
       "download(\"download_5f883503-f13c-4e27-8a59-f7d30e001414\", \"LSTM_Stack pred.csv\", 11006)"
      ],
      "text/plain": [
       "<IPython.core.display.Javascript object>"
      ]
     },
     "metadata": {
      "tags": []
     },
     "output_type": "display_data"
    }
   ],
   "source": [
    "stack_model(LSTM, filename=\"LSTM_Stack \")"
   ]
  },
  {
   "cell_type": "code",
   "execution_count": null,
   "metadata": {
    "colab": {
     "base_uri": "https://localhost:8080/",
     "height": 955
    },
    "id": "8Ecxf4n_X1Aq",
    "outputId": "5ac30b4b-84aa-4c72-d9a0-765114abc764"
   },
   "outputs": [
    {
     "name": "stdout",
     "output_type": "stream",
     "text": [
      "Model: \"sequential_7\"\n",
      "_________________________________________________________________\n",
      "Layer (type)                 Output Shape              Param #   \n",
      "=================================================================\n",
      "embedding_7 (Embedding)      (None, 547, 300)          7618800   \n",
      "_________________________________________________________________\n",
      "gru_2 (GRU)                  (None, 547, 256)          428544    \n",
      "_________________________________________________________________\n",
      "gru_3 (GRU)                  (None, 128)               148224    \n",
      "_________________________________________________________________\n",
      "dense_14 (Dense)             (None, 128)               16512     \n",
      "_________________________________________________________________\n",
      "dense_15 (Dense)             (None, 4)                 516       \n",
      "=================================================================\n",
      "Total params: 8,212,596\n",
      "Trainable params: 8,212,596\n",
      "Non-trainable params: 0\n",
      "_________________________________________________________________\n",
      "Epoch 1/50\n",
      "215/215 [==============================] - 72s 315ms/step - loss: 1.3503 - accuracy: 0.3630 - val_loss: 1.3571 - val_accuracy: 0.3539\n",
      "Epoch 2/50\n",
      "215/215 [==============================] - 67s 310ms/step - loss: 1.3467 - accuracy: 0.3645 - val_loss: 1.3546 - val_accuracy: 0.3539\n",
      "Epoch 3/50\n",
      "215/215 [==============================] - 67s 310ms/step - loss: 1.3456 - accuracy: 0.3645 - val_loss: 1.3593 - val_accuracy: 0.3539\n",
      "Epoch 4/50\n",
      "215/215 [==============================] - 67s 311ms/step - loss: 1.3451 - accuracy: 0.3645 - val_loss: 1.3555 - val_accuracy: 0.3539\n",
      "Epoch 5/50\n",
      "215/215 [==============================] - 67s 311ms/step - loss: 1.3460 - accuracy: 0.3645 - val_loss: 1.3552 - val_accuracy: 0.3539\n",
      "Epoch 6/50\n",
      "215/215 [==============================] - 67s 311ms/step - loss: 1.3450 - accuracy: 0.3645 - val_loss: 1.3542 - val_accuracy: 0.3539\n",
      "Epoch 7/50\n",
      "215/215 [==============================] - 67s 310ms/step - loss: 1.3452 - accuracy: 0.3645 - val_loss: 1.3553 - val_accuracy: 0.3539\n",
      "Epoch 8/50\n",
      "215/215 [==============================] - 67s 310ms/step - loss: 1.3451 - accuracy: 0.3645 - val_loss: 1.3554 - val_accuracy: 0.3539\n",
      "Epoch 9/50\n",
      "215/215 [==============================] - 67s 310ms/step - loss: 1.3447 - accuracy: 0.3645 - val_loss: 1.3542 - val_accuracy: 0.3539\n",
      "Epoch 10/50\n",
      "215/215 [==============================] - 66s 309ms/step - loss: 1.3455 - accuracy: 0.3645 - val_loss: 1.3547 - val_accuracy: 0.3539\n",
      "Epoch 11/50\n",
      "215/215 [==============================] - 67s 310ms/step - loss: 1.3447 - accuracy: 0.3645 - val_loss: 1.3545 - val_accuracy: 0.3539\n",
      "Epoch 12/50\n",
      "215/215 [==============================] - 67s 313ms/step - loss: 1.3447 - accuracy: 0.3645 - val_loss: 1.3538 - val_accuracy: 0.3539\n",
      "Epoch 13/50\n",
      "215/215 [==============================] - 67s 311ms/step - loss: 1.3445 - accuracy: 0.3645 - val_loss: 1.3824 - val_accuracy: 0.3539\n",
      "Epoch 14/50\n",
      "215/215 [==============================] - 67s 310ms/step - loss: 1.3446 - accuracy: 0.3645 - val_loss: 1.3586 - val_accuracy: 0.3539\n",
      "Epoch 15/50\n",
      "215/215 [==============================] - 66s 309ms/step - loss: 1.3449 - accuracy: 0.3645 - val_loss: 1.3545 - val_accuracy: 0.3539\n",
      "Epoch 16/50\n",
      "215/215 [==============================] - 67s 310ms/step - loss: 1.3443 - accuracy: 0.3645 - val_loss: 1.3557 - val_accuracy: 0.3539\n",
      "Epoch 17/50\n",
      "215/215 [==============================] - 67s 311ms/step - loss: 1.3445 - accuracy: 0.3645 - val_loss: 1.3549 - val_accuracy: 0.3539\n"
     ]
    },
    {
     "name": "stderr",
     "output_type": "stream",
     "text": [
      "/usr/local/lib/python3.7/dist-packages/tensorflow/python/keras/engine/sequential.py:455: UserWarning: `model.predict_classes()` is deprecated and will be removed after 2021-01-01. Please use instead:* `np.argmax(model.predict(x), axis=-1)`,   if your model does multi-class classification   (e.g. if it uses a `softmax` last-layer activation).* `(model.predict(x) > 0.5).astype(\"int32\")`,   if your model does binary classification   (e.g. if it uses a `sigmoid` last-layer activation).\n",
      "  warnings.warn('`model.predict_classes()` is deprecated and '\n"
     ]
    },
    {
     "data": {
      "application/javascript": [
       "\n",
       "    async function download(id, filename, size) {\n",
       "      if (!google.colab.kernel.accessAllowed) {\n",
       "        return;\n",
       "      }\n",
       "      const div = document.createElement('div');\n",
       "      const label = document.createElement('label');\n",
       "      label.textContent = `Downloading \"${filename}\": `;\n",
       "      div.appendChild(label);\n",
       "      const progress = document.createElement('progress');\n",
       "      progress.max = size;\n",
       "      div.appendChild(progress);\n",
       "      document.body.appendChild(div);\n",
       "\n",
       "      const buffers = [];\n",
       "      let downloaded = 0;\n",
       "\n",
       "      const channel = await google.colab.kernel.comms.open(id);\n",
       "      // Send a message to notify the kernel that we're ready.\n",
       "      channel.send({})\n",
       "\n",
       "      for await (const message of channel.messages) {\n",
       "        // Send a message to notify the kernel that we're ready.\n",
       "        channel.send({})\n",
       "        if (message.buffers) {\n",
       "          for (const buffer of message.buffers) {\n",
       "            buffers.push(buffer);\n",
       "            downloaded += buffer.byteLength;\n",
       "            progress.value = downloaded;\n",
       "          }\n",
       "        }\n",
       "      }\n",
       "      const blob = new Blob(buffers, {type: 'application/binary'});\n",
       "      const a = document.createElement('a');\n",
       "      a.href = window.URL.createObjectURL(blob);\n",
       "      a.download = filename;\n",
       "      div.appendChild(a);\n",
       "      a.click();\n",
       "      div.remove();\n",
       "    }\n",
       "  "
      ],
      "text/plain": [
       "<IPython.core.display.Javascript object>"
      ]
     },
     "metadata": {
      "tags": []
     },
     "output_type": "display_data"
    },
    {
     "data": {
      "application/javascript": [
       "download(\"download_74d660b2-6e7f-45ae-840e-aa8dab46ca0a\", \"GRU_Stack pred.csv\", 11006)"
      ],
      "text/plain": [
       "<IPython.core.display.Javascript object>"
      ]
     },
     "metadata": {
      "tags": []
     },
     "output_type": "display_data"
    }
   ],
   "source": [
    "stack_model(GRU, filename=\"GRU_Stack \")"
   ]
  },
  {
   "cell_type": "code",
   "execution_count": null,
   "metadata": {
    "id": "suVDPq7xnaJ4"
   },
   "outputs": [],
   "source": [
    "def bidirect_model(layer_name, filename, epochs=50, final_pred = True):\n",
    "    #SEED = 42\n",
    "    #np.random.seed(SEED)\n",
    "    #tf.random.set_seed(SEED)\n",
    "\n",
    "    EMBEDDING_DIM = 300 #Dimension for dense embedding for each token\n",
    "    VOCAB_SIZE = len(tokenzer.word_index)\n",
    "    model = Sequential()\n",
    "    model.add((Embedding(input_dim =VOCAB_SIZE+1,output_dim = EMBEDDING_DIM,input_length = MAX_SEQUENCE_LENGTH)))\n",
    "    model.add(Bidirectional(layer_name(256, return_sequences= True)))\n",
    "    model.add(Bidirectional(layer_name(128, return_sequences= True)))\n",
    "    model.add(Bidirectional(layer_name(128, return_sequences= False)))\n",
    "    model.add((Dense(256,activation = 'relu')))\n",
    "    model.add(Dense(4,activation = 'softmax'))\n",
    "\n",
    "    model.compile(loss = tf.keras.losses.SparseCategoricalCrossentropy(),optimizer=\"adam\",metrics =['accuracy'])\n",
    "    model.summary()\n",
    "    fit_the_model(model, filename=filename, epochs=epochs, verbose=1, final_pred = final_pred)"
   ]
  },
  {
   "cell_type": "code",
   "execution_count": null,
   "metadata": {
    "colab": {
     "base_uri": "https://localhost:8080/",
     "height": 615
    },
    "id": "xCYaZE96t4zA",
    "outputId": "32d02f64-9925-4ab7-ff8f-f7361e8457b0"
   },
   "outputs": [
    {
     "name": "stdout",
     "output_type": "stream",
     "text": [
      "Model: \"sequential_4\"\n",
      "_________________________________________________________________\n",
      "Layer (type)                 Output Shape              Param #   \n",
      "=================================================================\n",
      "embedding_4 (Embedding)      (None, 547, 300)          7618800   \n",
      "_________________________________________________________________\n",
      "bidirectional_2 (Bidirection (None, 547, 512)          1140736   \n",
      "_________________________________________________________________\n",
      "bidirectional_3 (Bidirection (None, 256)               656384    \n",
      "_________________________________________________________________\n",
      "dense_6 (Dense)              (None, 256)               65792     \n",
      "_________________________________________________________________\n",
      "dense_7 (Dense)              (None, 4)                 1028      \n",
      "=================================================================\n",
      "Total params: 9,482,740\n",
      "Trainable params: 9,482,740\n",
      "Non-trainable params: 0\n",
      "_________________________________________________________________\n",
      "Epoch 1/50\n",
      "215/215 [==============================] - 138s 610ms/step - loss: 0.3624 - accuracy: 0.8679 - val_loss: 0.1584 - val_accuracy: 0.9581\n",
      "Epoch 2/50\n",
      "215/215 [==============================] - 130s 605ms/step - loss: 0.0687 - accuracy: 0.9815 - val_loss: 0.1303 - val_accuracy: 0.9607\n",
      "Epoch 3/50\n",
      "215/215 [==============================] - 130s 605ms/step - loss: 0.0274 - accuracy: 0.9927 - val_loss: 0.1833 - val_accuracy: 0.9515\n",
      "Epoch 4/50\n",
      "215/215 [==============================] - 129s 601ms/step - loss: 0.0195 - accuracy: 0.9939 - val_loss: 0.1479 - val_accuracy: 0.9581\n",
      "Epoch 5/50\n",
      "215/215 [==============================] - 129s 600ms/step - loss: 0.0215 - accuracy: 0.9924 - val_loss: 0.2502 - val_accuracy: 0.9436\n",
      "Epoch 6/50\n",
      "215/215 [==============================] - 129s 601ms/step - loss: 0.0371 - accuracy: 0.9881 - val_loss: 0.2186 - val_accuracy: 0.9450\n",
      "Epoch 7/50\n",
      "215/215 [==============================] - 130s 603ms/step - loss: 0.0107 - accuracy: 0.9959 - val_loss: 0.1578 - val_accuracy: 0.9646\n"
     ]
    },
    {
     "name": "stderr",
     "output_type": "stream",
     "text": [
      "/usr/local/lib/python3.7/dist-packages/tensorflow/python/keras/engine/sequential.py:455: UserWarning: `model.predict_classes()` is deprecated and will be removed after 2021-01-01. Please use instead:* `np.argmax(model.predict(x), axis=-1)`,   if your model does multi-class classification   (e.g. if it uses a `softmax` last-layer activation).* `(model.predict(x) > 0.5).astype(\"int32\")`,   if your model does binary classification   (e.g. if it uses a `sigmoid` last-layer activation).\n",
      "  warnings.warn('`model.predict_classes()` is deprecated and '\n"
     ]
    },
    {
     "data": {
      "application/javascript": [
       "\n",
       "    async function download(id, filename, size) {\n",
       "      if (!google.colab.kernel.accessAllowed) {\n",
       "        return;\n",
       "      }\n",
       "      const div = document.createElement('div');\n",
       "      const label = document.createElement('label');\n",
       "      label.textContent = `Downloading \"${filename}\": `;\n",
       "      div.appendChild(label);\n",
       "      const progress = document.createElement('progress');\n",
       "      progress.max = size;\n",
       "      div.appendChild(progress);\n",
       "      document.body.appendChild(div);\n",
       "\n",
       "      const buffers = [];\n",
       "      let downloaded = 0;\n",
       "\n",
       "      const channel = await google.colab.kernel.comms.open(id);\n",
       "      // Send a message to notify the kernel that we're ready.\n",
       "      channel.send({})\n",
       "\n",
       "      for await (const message of channel.messages) {\n",
       "        // Send a message to notify the kernel that we're ready.\n",
       "        channel.send({})\n",
       "        if (message.buffers) {\n",
       "          for (const buffer of message.buffers) {\n",
       "            buffers.push(buffer);\n",
       "            downloaded += buffer.byteLength;\n",
       "            progress.value = downloaded;\n",
       "          }\n",
       "        }\n",
       "      }\n",
       "      const blob = new Blob(buffers, {type: 'application/binary'});\n",
       "      const a = document.createElement('a');\n",
       "      a.href = window.URL.createObjectURL(blob);\n",
       "      a.download = filename;\n",
       "      div.appendChild(a);\n",
       "      a.click();\n",
       "      div.remove();\n",
       "    }\n",
       "  "
      ],
      "text/plain": [
       "<IPython.core.display.Javascript object>"
      ]
     },
     "metadata": {
      "tags": []
     },
     "output_type": "display_data"
    },
    {
     "data": {
      "application/javascript": [
       "download(\"download_cca225e6-1b99-4226-9e03-1d0d4c5077ef\", \"Nonepred.csv\", 11006)"
      ],
      "text/plain": [
       "<IPython.core.display.Javascript object>"
      ]
     },
     "metadata": {
      "tags": []
     },
     "output_type": "display_data"
    }
   ],
   "source": [
    "bidirect_model(LSTM, filename=\"Bi_direct_LSTM \")"
   ]
  },
  {
   "cell_type": "code",
   "execution_count": null,
   "metadata": {
    "colab": {
     "base_uri": "https://localhost:8080/",
     "height": 632
    },
    "id": "w3Pmu4wsuKlO",
    "outputId": "a3ee7fc1-c981-484d-a40a-ba98f3aa8121"
   },
   "outputs": [
    {
     "name": "stdout",
     "output_type": "stream",
     "text": [
      "Model: \"sequential_15\"\n",
      "_________________________________________________________________\n",
      "Layer (type)                 Output Shape              Param #   \n",
      "=================================================================\n",
      "embedding_15 (Embedding)     (None, 547, 300)          7618800   \n",
      "_________________________________________________________________\n",
      "bidirectional_12 (Bidirectio (None, 547, 512)          857088    \n",
      "_________________________________________________________________\n",
      "bidirectional_13 (Bidirectio (None, 256)               493056    \n",
      "_________________________________________________________________\n",
      "dense_28 (Dense)             (None, 256)               65792     \n",
      "_________________________________________________________________\n",
      "dense_29 (Dense)             (None, 4)                 1028      \n",
      "=================================================================\n",
      "Total params: 9,035,764\n",
      "Trainable params: 9,035,764\n",
      "Non-trainable params: 0\n",
      "_________________________________________________________________\n",
      "Epoch 1/50\n",
      "215/215 [==============================] - 126s 554ms/step - loss: 0.3843 - accuracy: 0.8521 - val_loss: 0.1535 - val_accuracy: 0.9476\n",
      "Epoch 2/50\n",
      "215/215 [==============================] - 118s 550ms/step - loss: 0.0485 - accuracy: 0.9859 - val_loss: 0.1419 - val_accuracy: 0.9646\n",
      "Epoch 3/50\n",
      "215/215 [==============================] - 117s 546ms/step - loss: 0.0393 - accuracy: 0.9892 - val_loss: 0.1875 - val_accuracy: 0.9502\n",
      "Epoch 4/50\n",
      "215/215 [==============================] - 118s 549ms/step - loss: 0.0174 - accuracy: 0.9936 - val_loss: 0.1559 - val_accuracy: 0.9541\n",
      "Epoch 5/50\n",
      "215/215 [==============================] - 119s 552ms/step - loss: 0.0108 - accuracy: 0.9965 - val_loss: 0.1468 - val_accuracy: 0.9738\n",
      "Epoch 6/50\n",
      "215/215 [==============================] - 119s 553ms/step - loss: 0.0242 - accuracy: 0.9920 - val_loss: 0.2449 - val_accuracy: 0.9436\n",
      "Epoch 7/50\n",
      "215/215 [==============================] - 120s 557ms/step - loss: 0.0165 - accuracy: 0.9949 - val_loss: 0.2110 - val_accuracy: 0.9463\n"
     ]
    },
    {
     "name": "stderr",
     "output_type": "stream",
     "text": [
      "/usr/local/lib/python3.7/dist-packages/tensorflow/python/keras/engine/sequential.py:455: UserWarning: `model.predict_classes()` is deprecated and will be removed after 2021-01-01. Please use instead:* `np.argmax(model.predict(x), axis=-1)`,   if your model does multi-class classification   (e.g. if it uses a `softmax` last-layer activation).* `(model.predict(x) > 0.5).astype(\"int32\")`,   if your model does binary classification   (e.g. if it uses a `sigmoid` last-layer activation).\n",
      "  warnings.warn('`model.predict_classes()` is deprecated and '\n"
     ]
    },
    {
     "name": "stdout",
     "output_type": "stream",
     "text": [
      "Bi_direct_GRU \n"
     ]
    },
    {
     "data": {
      "application/javascript": [
       "\n",
       "    async function download(id, filename, size) {\n",
       "      if (!google.colab.kernel.accessAllowed) {\n",
       "        return;\n",
       "      }\n",
       "      const div = document.createElement('div');\n",
       "      const label = document.createElement('label');\n",
       "      label.textContent = `Downloading \"${filename}\": `;\n",
       "      div.appendChild(label);\n",
       "      const progress = document.createElement('progress');\n",
       "      progress.max = size;\n",
       "      div.appendChild(progress);\n",
       "      document.body.appendChild(div);\n",
       "\n",
       "      const buffers = [];\n",
       "      let downloaded = 0;\n",
       "\n",
       "      const channel = await google.colab.kernel.comms.open(id);\n",
       "      // Send a message to notify the kernel that we're ready.\n",
       "      channel.send({})\n",
       "\n",
       "      for await (const message of channel.messages) {\n",
       "        // Send a message to notify the kernel that we're ready.\n",
       "        channel.send({})\n",
       "        if (message.buffers) {\n",
       "          for (const buffer of message.buffers) {\n",
       "            buffers.push(buffer);\n",
       "            downloaded += buffer.byteLength;\n",
       "            progress.value = downloaded;\n",
       "          }\n",
       "        }\n",
       "      }\n",
       "      const blob = new Blob(buffers, {type: 'application/binary'});\n",
       "      const a = document.createElement('a');\n",
       "      a.href = window.URL.createObjectURL(blob);\n",
       "      a.download = filename;\n",
       "      div.appendChild(a);\n",
       "      a.click();\n",
       "      div.remove();\n",
       "    }\n",
       "  "
      ],
      "text/plain": [
       "<IPython.core.display.Javascript object>"
      ]
     },
     "metadata": {
      "tags": []
     },
     "output_type": "display_data"
    },
    {
     "data": {
      "application/javascript": [
       "download(\"download_763fca19-bb74-4c65-a7b0-e4f2fad231f4\", \"Bi_direct_GRU pred.csv\", 18135)"
      ],
      "text/plain": [
       "<IPython.core.display.Javascript object>"
      ]
     },
     "metadata": {
      "tags": []
     },
     "output_type": "display_data"
    }
   ],
   "source": [
    "bidirect_model(GRU, filename=\"Bi_direct_GRU \")"
   ]
  },
  {
   "cell_type": "code",
   "execution_count": null,
   "metadata": {
    "colab": {
     "base_uri": "https://localhost:8080/",
     "height": 666
    },
    "id": "FgJUbZa03Wqh",
    "outputId": "3c2c260a-3fc5-49f6-8edd-20943720321d"
   },
   "outputs": [
    {
     "name": "stdout",
     "output_type": "stream",
     "text": [
      "Model: \"sequential_17\"\n",
      "_________________________________________________________________\n",
      "Layer (type)                 Output Shape              Param #   \n",
      "=================================================================\n",
      "embedding_17 (Embedding)     (None, 547, 300)          7618800   \n",
      "_________________________________________________________________\n",
      "bidirectional_17 (Bidirectio (None, 547, 512)          857088    \n",
      "_________________________________________________________________\n",
      "bidirectional_18 (Bidirectio (None, 547, 256)          493056    \n",
      "_________________________________________________________________\n",
      "bidirectional_19 (Bidirectio (None, 256)               296448    \n",
      "_________________________________________________________________\n",
      "dense_32 (Dense)             (None, 256)               65792     \n",
      "_________________________________________________________________\n",
      "dense_33 (Dense)             (None, 4)                 1028      \n",
      "=================================================================\n",
      "Total params: 9,332,212\n",
      "Trainable params: 9,332,212\n",
      "Non-trainable params: 0\n",
      "_________________________________________________________________\n",
      "Epoch 1/50\n",
      "215/215 [==============================] - 173s 758ms/step - loss: 0.3874 - accuracy: 0.8514 - val_loss: 0.1510 - val_accuracy: 0.9450\n",
      "Epoch 2/50\n",
      "215/215 [==============================] - 161s 749ms/step - loss: 0.0610 - accuracy: 0.9828 - val_loss: 0.1201 - val_accuracy: 0.9581\n",
      "Epoch 3/50\n",
      "215/215 [==============================] - 160s 745ms/step - loss: 0.0253 - accuracy: 0.9932 - val_loss: 0.1778 - val_accuracy: 0.9515\n",
      "Epoch 4/50\n",
      "215/215 [==============================] - 160s 744ms/step - loss: 0.0212 - accuracy: 0.9936 - val_loss: 0.2247 - val_accuracy: 0.9502\n",
      "Epoch 5/50\n",
      "215/215 [==============================] - 160s 746ms/step - loss: 0.0145 - accuracy: 0.9961 - val_loss: 0.1528 - val_accuracy: 0.9659\n",
      "Epoch 6/50\n",
      "215/215 [==============================] - 160s 745ms/step - loss: 0.0080 - accuracy: 0.9972 - val_loss: 0.1550 - val_accuracy: 0.9581\n",
      "Epoch 7/50\n",
      "215/215 [==============================] - 160s 742ms/step - loss: 0.0057 - accuracy: 0.9972 - val_loss: 0.1552 - val_accuracy: 0.9659\n"
     ]
    },
    {
     "name": "stderr",
     "output_type": "stream",
     "text": [
      "/usr/local/lib/python3.7/dist-packages/tensorflow/python/keras/engine/sequential.py:455: UserWarning: `model.predict_classes()` is deprecated and will be removed after 2021-01-01. Please use instead:* `np.argmax(model.predict(x), axis=-1)`,   if your model does multi-class classification   (e.g. if it uses a `softmax` last-layer activation).* `(model.predict(x) > 0.5).astype(\"int32\")`,   if your model does binary classification   (e.g. if it uses a `sigmoid` last-layer activation).\n",
      "  warnings.warn('`model.predict_classes()` is deprecated and '\n"
     ]
    },
    {
     "name": "stdout",
     "output_type": "stream",
     "text": [
      "Bi_direct_GRU_3 \n"
     ]
    },
    {
     "data": {
      "application/javascript": [
       "\n",
       "    async function download(id, filename, size) {\n",
       "      if (!google.colab.kernel.accessAllowed) {\n",
       "        return;\n",
       "      }\n",
       "      const div = document.createElement('div');\n",
       "      const label = document.createElement('label');\n",
       "      label.textContent = `Downloading \"${filename}\": `;\n",
       "      div.appendChild(label);\n",
       "      const progress = document.createElement('progress');\n",
       "      progress.max = size;\n",
       "      div.appendChild(progress);\n",
       "      document.body.appendChild(div);\n",
       "\n",
       "      const buffers = [];\n",
       "      let downloaded = 0;\n",
       "\n",
       "      const channel = await google.colab.kernel.comms.open(id);\n",
       "      // Send a message to notify the kernel that we're ready.\n",
       "      channel.send({})\n",
       "\n",
       "      for await (const message of channel.messages) {\n",
       "        // Send a message to notify the kernel that we're ready.\n",
       "        channel.send({})\n",
       "        if (message.buffers) {\n",
       "          for (const buffer of message.buffers) {\n",
       "            buffers.push(buffer);\n",
       "            downloaded += buffer.byteLength;\n",
       "            progress.value = downloaded;\n",
       "          }\n",
       "        }\n",
       "      }\n",
       "      const blob = new Blob(buffers, {type: 'application/binary'});\n",
       "      const a = document.createElement('a');\n",
       "      a.href = window.URL.createObjectURL(blob);\n",
       "      a.download = filename;\n",
       "      div.appendChild(a);\n",
       "      a.click();\n",
       "      div.remove();\n",
       "    }\n",
       "  "
      ],
      "text/plain": [
       "<IPython.core.display.Javascript object>"
      ]
     },
     "metadata": {
      "tags": []
     },
     "output_type": "display_data"
    },
    {
     "data": {
      "application/javascript": [
       "download(\"download_64002a99-78fc-4522-9eff-d09b28f349f6\", \"Bi_direct_GRU_3 pred.csv\", 18135)"
      ],
      "text/plain": [
       "<IPython.core.display.Javascript object>"
      ]
     },
     "metadata": {
      "tags": []
     },
     "output_type": "display_data"
    }
   ],
   "source": [
    "bidirect_model(GRU, filename=\"Bi_direct_GRU_3 \")"
   ]
  },
  {
   "cell_type": "code",
   "execution_count": null,
   "metadata": {
    "colab": {
     "base_uri": "https://localhost:8080/",
     "height": 632
    },
    "id": "1HyUHupQV00Q",
    "outputId": "43beac71-6f5b-44d1-961f-82f66830d12f"
   },
   "outputs": [
    {
     "name": "stdout",
     "output_type": "stream",
     "text": [
      "Model: \"sequential_18\"\n",
      "_________________________________________________________________\n",
      "Layer (type)                 Output Shape              Param #   \n",
      "=================================================================\n",
      "embedding_18 (Embedding)     (None, 547, 300)          7618800   \n",
      "_________________________________________________________________\n",
      "bidirectional_20 (Bidirectio (None, 547, 512)          857088    \n",
      "_________________________________________________________________\n",
      "bidirectional_21 (Bidirectio (None, 547, 256)          493056    \n",
      "_________________________________________________________________\n",
      "bidirectional_22 (Bidirectio (None, 256)               296448    \n",
      "_________________________________________________________________\n",
      "dense_34 (Dense)             (None, 256)               65792     \n",
      "_________________________________________________________________\n",
      "dense_35 (Dense)             (None, 4)                 1028      \n",
      "=================================================================\n",
      "Total params: 9,332,212\n",
      "Trainable params: 9,332,212\n",
      "Non-trainable params: 0\n",
      "_________________________________________________________________\n",
      "Epoch 1/50\n",
      "215/215 [==============================] - 172s 751ms/step - loss: 0.3726 - accuracy: 0.8580 - val_loss: 0.1552 - val_accuracy: 0.9567\n",
      "Epoch 2/50\n",
      "215/215 [==============================] - 159s 738ms/step - loss: 0.0539 - accuracy: 0.9830 - val_loss: 0.1589 - val_accuracy: 0.9607\n",
      "Epoch 3/50\n",
      "215/215 [==============================] - 159s 738ms/step - loss: 0.0304 - accuracy: 0.9916 - val_loss: 0.1863 - val_accuracy: 0.9489\n",
      "Epoch 4/50\n",
      "215/215 [==============================] - 158s 735ms/step - loss: 0.0172 - accuracy: 0.9942 - val_loss: 0.1800 - val_accuracy: 0.9554\n",
      "Epoch 5/50\n",
      "215/215 [==============================] - 158s 736ms/step - loss: 0.0161 - accuracy: 0.9949 - val_loss: 0.2249 - val_accuracy: 0.9567\n",
      "Epoch 6/50\n",
      "215/215 [==============================] - 158s 736ms/step - loss: 0.0193 - accuracy: 0.9952 - val_loss: 0.2177 - val_accuracy: 0.9502\n"
     ]
    },
    {
     "name": "stderr",
     "output_type": "stream",
     "text": [
      "/usr/local/lib/python3.7/dist-packages/tensorflow/python/keras/engine/sequential.py:455: UserWarning: `model.predict_classes()` is deprecated and will be removed after 2021-01-01. Please use instead:* `np.argmax(model.predict(x), axis=-1)`,   if your model does multi-class classification   (e.g. if it uses a `softmax` last-layer activation).* `(model.predict(x) > 0.5).astype(\"int32\")`,   if your model does binary classification   (e.g. if it uses a `sigmoid` last-layer activation).\n",
      "  warnings.warn('`model.predict_classes()` is deprecated and '\n"
     ]
    },
    {
     "name": "stdout",
     "output_type": "stream",
     "text": [
      "Bi_direct_GRU_wi \n"
     ]
    },
    {
     "data": {
      "application/javascript": [
       "\n",
       "    async function download(id, filename, size) {\n",
       "      if (!google.colab.kernel.accessAllowed) {\n",
       "        return;\n",
       "      }\n",
       "      const div = document.createElement('div');\n",
       "      const label = document.createElement('label');\n",
       "      label.textContent = `Downloading \"${filename}\": `;\n",
       "      div.appendChild(label);\n",
       "      const progress = document.createElement('progress');\n",
       "      progress.max = size;\n",
       "      div.appendChild(progress);\n",
       "      document.body.appendChild(div);\n",
       "\n",
       "      const buffers = [];\n",
       "      let downloaded = 0;\n",
       "\n",
       "      const channel = await google.colab.kernel.comms.open(id);\n",
       "      // Send a message to notify the kernel that we're ready.\n",
       "      channel.send({})\n",
       "\n",
       "      for await (const message of channel.messages) {\n",
       "        // Send a message to notify the kernel that we're ready.\n",
       "        channel.send({})\n",
       "        if (message.buffers) {\n",
       "          for (const buffer of message.buffers) {\n",
       "            buffers.push(buffer);\n",
       "            downloaded += buffer.byteLength;\n",
       "            progress.value = downloaded;\n",
       "          }\n",
       "        }\n",
       "      }\n",
       "      const blob = new Blob(buffers, {type: 'application/binary'});\n",
       "      const a = document.createElement('a');\n",
       "      a.href = window.URL.createObjectURL(blob);\n",
       "      a.download = filename;\n",
       "      div.appendChild(a);\n",
       "      a.click();\n",
       "      div.remove();\n",
       "    }\n",
       "  "
      ],
      "text/plain": [
       "<IPython.core.display.Javascript object>"
      ]
     },
     "metadata": {
      "tags": []
     },
     "output_type": "display_data"
    },
    {
     "data": {
      "application/javascript": [
       "download(\"download_8c7304d8-4d06-4871-940d-9e5e1cf25ef8\", \"Bi_direct_GRU_wi pred.csv\", 18135)"
      ],
      "text/plain": [
       "<IPython.core.display.Javascript object>"
      ]
     },
     "metadata": {
      "tags": []
     },
     "output_type": "display_data"
    }
   ],
   "source": [
    "bidirect_model(GRU, filename=\"Bi_direct_GRU_wi \")"
   ]
  }
 ],
 "metadata": {
  "colab": {
   "name": "Machine Hack News Category.ipynb",
   "provenance": []
  },
  "kernelspec": {
   "display_name": "Python 3",
   "language": "python",
   "name": "python3"
  },
  "language_info": {
   "codemirror_mode": {
    "name": "ipython",
    "version": 3
   },
   "file_extension": ".py",
   "mimetype": "text/x-python",
   "name": "python",
   "nbconvert_exporter": "python",
   "pygments_lexer": "ipython3",
   "version": "3.7.10"
  }
 },
 "nbformat": 4,
 "nbformat_minor": 1
}
